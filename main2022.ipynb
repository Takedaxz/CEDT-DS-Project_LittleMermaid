{
 "cells": [
  {
   "cell_type": "code",
   "execution_count": 1,
   "metadata": {},
   "outputs": [],
   "source": [
    "import numpy as np\n",
    "import pandas as pd"
   ]
  },
  {
   "cell_type": "code",
   "execution_count": 2,
   "metadata": {},
   "outputs": [],
   "source": [
    "df2022 = pd.read_csv('ExtractedData/2022.csv')"
   ]
  },
  {
   "cell_type": "code",
   "execution_count": 3,
   "metadata": {},
   "outputs": [
    {
     "data": {
      "text/html": [
       "<div>\n",
       "<style scoped>\n",
       "    .dataframe tbody tr th:only-of-type {\n",
       "        vertical-align: middle;\n",
       "    }\n",
       "\n",
       "    .dataframe tbody tr th {\n",
       "        vertical-align: top;\n",
       "    }\n",
       "\n",
       "    .dataframe thead th {\n",
       "        text-align: right;\n",
       "    }\n",
       "</style>\n",
       "<table border=\"1\" class=\"dataframe\">\n",
       "  <thead>\n",
       "    <tr style=\"text-align: right;\">\n",
       "      <th></th>\n",
       "      <th>Title</th>\n",
       "      <th>Abstract</th>\n",
       "      <th>Author</th>\n",
       "      <th>Subject_Area</th>\n",
       "      <th>Publication_Date</th>\n",
       "      <th>Affiliations_ID</th>\n",
       "      <th>References</th>\n",
       "      <th>Keywords</th>\n",
       "      <th>Filename</th>\n",
       "    </tr>\n",
       "  </thead>\n",
       "  <tbody>\n",
       "    <tr>\n",
       "      <th>0</th>\n",
       "      <td>Reduction of algal wall-growth biofilm for the...</td>\n",
       "      <td>© 2022 Elsevier B.V.During the cultivation of ...</td>\n",
       "      <td>Plengsakul J.; Powtongsook S.; Nootong K.</td>\n",
       "      <td>1305; 1502; 2305; 2204</td>\n",
       "      <td>2022-12-31</td>\n",
       "      <td>60011947; 60028190</td>\n",
       "      <td>A comprehensive review on cultivation and harv...</td>\n",
       "      <td>Biofilm; Chlorococcum; Microalgae; Photobiorea...</td>\n",
       "      <td>202200000</td>\n",
       "    </tr>\n",
       "    <tr>\n",
       "      <th>1</th>\n",
       "      <td>Dietary anthocyanins inhibit insulin fibril fo...</td>\n",
       "      <td>© 2022 Elsevier B.V.Insulin fibril formation d...</td>\n",
       "      <td>Channuwong P.; Salae K.; Chongruchiroj S.; Che...</td>\n",
       "      <td>1315; 1303; 1312</td>\n",
       "      <td>2022-12-31</td>\n",
       "      <td>60012718; 60006514; 60028190</td>\n",
       "      <td>Insulin: a small protein with a long journey; ...</td>\n",
       "      <td>Anthocyanins; Cyanidin; Cytotoxicity; Insulin ...</td>\n",
       "      <td>202200001</td>\n",
       "    </tr>\n",
       "    <tr>\n",
       "      <th>2</th>\n",
       "      <td>Metformin delivery via iontophoresis based on ...</td>\n",
       "      <td>© 2022Transdermal drug delivery system (TDDS) ...</td>\n",
       "      <td>Saramas T.; Sakunpongpitiporn P.; Rotjanasuwor...</td>\n",
       "      <td>1315; 1303; 1312</td>\n",
       "      <td>2022-12-31</td>\n",
       "      <td>60030267; 60199582; 60028190</td>\n",
       "      <td>A preclinical overview of metformin for the tr...</td>\n",
       "      <td>Metformin; Transdermal drug delivery; κ-Carrag...</td>\n",
       "      <td>202200002</td>\n",
       "    </tr>\n",
       "    <tr>\n",
       "      <th>3</th>\n",
       "      <td>Experimental investigations of CO2 absorption ...</td>\n",
       "      <td>© 2022 Elsevier LtdThis research presented the...</td>\n",
       "      <td>Li T.; Yang C.; Tantikhajorngosol P.; Sema T.;...</td>\n",
       "      <td>1600; 1500; 2209</td>\n",
       "      <td>2022-12-31</td>\n",
       "      <td>60189785; 60028190</td>\n",
       "      <td>Kinetics of the reactive absorption of carbon ...</td>\n",
       "      <td>Amine blends; Catalytic CO2 desorption; CO2 ab...</td>\n",
       "      <td>202200003</td>\n",
       "    </tr>\n",
       "    <tr>\n",
       "      <th>4</th>\n",
       "      <td>High-throughput screening of highly active and...</td>\n",
       "      <td>© 2022Efficient nitrogen reduction reaction (N...</td>\n",
       "      <td>Yue Y.; Chen Y.; Zhang X.; Qin J.; Zhang X.; L...</td>\n",
       "      <td>3104; 3110; 2508</td>\n",
       "      <td>2022-12-30</td>\n",
       "      <td>60091507; 60018465</td>\n",
       "      <td>IRON'S STAR RISING; An Earth-system perspectiv...</td>\n",
       "      <td>Electrocatalysis; High-throughput screening; N...</td>\n",
       "      <td>202200004</td>\n",
       "    </tr>\n",
       "  </tbody>\n",
       "</table>\n",
       "</div>"
      ],
      "text/plain": [
       "                                               Title  \\\n",
       "0  Reduction of algal wall-growth biofilm for the...   \n",
       "1  Dietary anthocyanins inhibit insulin fibril fo...   \n",
       "2  Metformin delivery via iontophoresis based on ...   \n",
       "3  Experimental investigations of CO2 absorption ...   \n",
       "4  High-throughput screening of highly active and...   \n",
       "\n",
       "                                            Abstract  \\\n",
       "0  © 2022 Elsevier B.V.During the cultivation of ...   \n",
       "1  © 2022 Elsevier B.V.Insulin fibril formation d...   \n",
       "2  © 2022Transdermal drug delivery system (TDDS) ...   \n",
       "3  © 2022 Elsevier LtdThis research presented the...   \n",
       "4  © 2022Efficient nitrogen reduction reaction (N...   \n",
       "\n",
       "                                              Author            Subject_Area  \\\n",
       "0          Plengsakul J.; Powtongsook S.; Nootong K.  1305; 1502; 2305; 2204   \n",
       "1  Channuwong P.; Salae K.; Chongruchiroj S.; Che...        1315; 1303; 1312   \n",
       "2  Saramas T.; Sakunpongpitiporn P.; Rotjanasuwor...        1315; 1303; 1312   \n",
       "3  Li T.; Yang C.; Tantikhajorngosol P.; Sema T.;...        1600; 1500; 2209   \n",
       "4  Yue Y.; Chen Y.; Zhang X.; Qin J.; Zhang X.; L...        3104; 3110; 2508   \n",
       "\n",
       "  Publication_Date               Affiliations_ID  \\\n",
       "0       2022-12-31            60011947; 60028190   \n",
       "1       2022-12-31  60012718; 60006514; 60028190   \n",
       "2       2022-12-31  60030267; 60199582; 60028190   \n",
       "3       2022-12-31            60189785; 60028190   \n",
       "4       2022-12-30            60091507; 60018465   \n",
       "\n",
       "                                          References  \\\n",
       "0  A comprehensive review on cultivation and harv...   \n",
       "1  Insulin: a small protein with a long journey; ...   \n",
       "2  A preclinical overview of metformin for the tr...   \n",
       "3  Kinetics of the reactive absorption of carbon ...   \n",
       "4  IRON'S STAR RISING; An Earth-system perspectiv...   \n",
       "\n",
       "                                            Keywords   Filename  \n",
       "0  Biofilm; Chlorococcum; Microalgae; Photobiorea...  202200000  \n",
       "1  Anthocyanins; Cyanidin; Cytotoxicity; Insulin ...  202200001  \n",
       "2  Metformin; Transdermal drug delivery; κ-Carrag...  202200002  \n",
       "3  Amine blends; Catalytic CO2 desorption; CO2 ab...  202200003  \n",
       "4  Electrocatalysis; High-throughput screening; N...  202200004  "
      ]
     },
     "execution_count": 3,
     "metadata": {},
     "output_type": "execute_result"
    }
   ],
   "source": [
    "df2022.head()"
   ]
  },
  {
   "cell_type": "code",
   "execution_count": 4,
   "metadata": {},
   "outputs": [],
   "source": [
    "df2022['Publication_Date']=pd.to_datetime(df2022['Publication_Date'])"
   ]
  },
  {
   "cell_type": "code",
   "execution_count": 5,
   "metadata": {},
   "outputs": [
    {
     "name": "stdout",
     "output_type": "stream",
     "text": [
      "        0      1      2      3      4     5     6     7     8     9     10  \\\n",
      "0     1305   1502   2305   2204   None  None  None  None  None  None  None   \n",
      "1     1315   1303   1312   None   None  None  None  None  None  None  None   \n",
      "2     1315   1303   1312   None   None  None  None  None  None  None  None   \n",
      "3     1600   1500   2209   None   None  None  None  None  None  None  None   \n",
      "4     3104   3110   2508   None   None  None  None  None  None  None  None   \n",
      "...    ...    ...    ...    ...    ...   ...   ...   ...   ...   ...   ...   \n",
      "4239  1402   2003   2002   None   None  None  None  None  None  None  None   \n",
      "4240  2735   2734   None   None   None  None  None  None  None  None  None   \n",
      "4241  1500   2103   1909   2102   2210  None  None  None  None  None  None   \n",
      "4242  1712   1708   1706   1704   None  None  None  None  None  None  None   \n",
      "4243  2215   1408   1405   None   None  None  None  None  None  None  None   \n",
      "\n",
      "        11  \n",
      "0     None  \n",
      "1     None  \n",
      "2     None  \n",
      "3     None  \n",
      "4     None  \n",
      "...    ...  \n",
      "4239  None  \n",
      "4240  None  \n",
      "4241  None  \n",
      "4242  None  \n",
      "4243  None  \n",
      "\n",
      "[4244 rows x 12 columns]\n"
     ]
    }
   ],
   "source": [
    "# Get the number of rows and columns in the dataset \n",
    "df_2022_subject_areas = df2022['Subject_Area'].str.split(';', expand=True)\n",
    "print(df_2022_subject_areas)"
   ]
  },
  {
   "cell_type": "code",
   "execution_count": 6,
   "metadata": {},
   "outputs": [
    {
     "name": "stdout",
     "output_type": "stream",
     "text": [
      "1000    309\n",
      "1706    187\n",
      "2725    185\n",
      "1600    175\n",
      "2105    170\n",
      "       ... \n",
      "2910      1\n",
      "2914      1\n",
      "1913      1\n",
      "1204      1\n",
      "2921      1\n",
      "Name: count, Length: 310, dtype: int64\n"
     ]
    }
   ],
   "source": [
    "# Get the number of rows and columns\n",
    "subject_area_counts = df_2022_subject_areas.stack().str.strip().value_counts()\n",
    "print(subject_area_counts)"
   ]
  },
  {
   "cell_type": "code",
   "execution_count": 7,
   "metadata": {},
   "outputs": [
    {
     "name": "stdout",
     "output_type": "stream",
     "text": [
      "    Subject_Area  Count\n",
      "0           1000    309\n",
      "1           1706    187\n",
      "2           2725    185\n",
      "3           1600    175\n",
      "4           2105    170\n",
      "..           ...    ...\n",
      "302         1410      1\n",
      "300         3201      1\n",
      "299         3610      1\n",
      "298         3502      1\n",
      "309         2921      1\n",
      "\n",
      "[310 rows x 2 columns]\n"
     ]
    }
   ],
   "source": [
    "# Create a DataFrame from the value counts\n",
    "result = pd.DataFrame({\n",
    "    'Subject_Area': subject_area_counts.index,\n",
    "    'Count': subject_area_counts.values\n",
    "})\n",
    "\n",
    "# Sort the DataFrame by count in descending order\n",
    "subject_area_counts_result = result.sort_values('Count', ascending=False)\n",
    "\n",
    "print(subject_area_counts_result)"
   ]
  },
  {
   "cell_type": "code",
   "execution_count": 8,
   "metadata": {},
   "outputs": [
    {
     "data": {
      "text/plain": [
       "(53, 9)"
      ]
     },
     "execution_count": 8,
     "metadata": {},
     "output_type": "execute_result"
    }
   ],
   "source": [
    "df2022_with_subject_area_3106=df2022[df2022['Subject_Area'].str.contains('3106', na=False)]\n",
    "df2022_with_subject_area_3106.shape"
   ]
  },
  {
   "cell_type": "code",
   "execution_count": 9,
   "metadata": {},
   "outputs": [
    {
     "data": {
      "text/html": [
       "<div>\n",
       "<style scoped>\n",
       "    .dataframe tbody tr th:only-of-type {\n",
       "        vertical-align: middle;\n",
       "    }\n",
       "\n",
       "    .dataframe tbody tr th {\n",
       "        vertical-align: top;\n",
       "    }\n",
       "\n",
       "    .dataframe thead th {\n",
       "        text-align: right;\n",
       "    }\n",
       "</style>\n",
       "<table border=\"1\" class=\"dataframe\">\n",
       "  <thead>\n",
       "    <tr style=\"text-align: right;\">\n",
       "      <th></th>\n",
       "      <th>Title</th>\n",
       "      <th>Abstract</th>\n",
       "      <th>Author</th>\n",
       "      <th>Subject_Area</th>\n",
       "      <th>Publication_Date</th>\n",
       "      <th>Affiliations_ID</th>\n",
       "      <th>References</th>\n",
       "      <th>Keywords</th>\n",
       "      <th>Filename</th>\n",
       "    </tr>\n",
       "  </thead>\n",
       "  <tbody>\n",
       "    <tr>\n",
       "      <th>39</th>\n",
       "      <td>Search for new particles in an extended Higgs ...</td>\n",
       "      <td>© 2022 The Author(s)A search for a massive res...</td>\n",
       "      <td>Tumasyan A.; Adam W.; Andrejkovic J.W.; Bergau...</td>\n",
       "      <td>3106</td>\n",
       "      <td>2022-12-10</td>\n",
       "      <td>60009254; 60013959; 60024069; 60029284; 600004...</td>\n",
       "      <td>Observation of a new boson at a mass of 125 Ge...</td>\n",
       "      <td>2HDM; BSM; CMS; Higgs</td>\n",
       "      <td>202200039</td>\n",
       "    </tr>\n",
       "    <tr>\n",
       "      <th>41</th>\n",
       "      <td>More on gravitational waves from double monodr...</td>\n",
       "      <td>© 2022 The Author(s)We further analyze phenome...</td>\n",
       "      <td>Abishev M.; Abylayeva A.; Addazi A.; Aldaberge...</td>\n",
       "      <td>3106</td>\n",
       "      <td>2022-12-10</td>\n",
       "      <td>60071853; 60071847; 60016340; 60016521; 60028190</td>\n",
       "      <td>Quantum gravity phenomenology at the dawn of t...</td>\n",
       "      <td>NaN</td>\n",
       "      <td>202200041</td>\n",
       "    </tr>\n",
       "    <tr>\n",
       "      <th>44</th>\n",
       "      <td>Nuclear modification of Y states in pPb collis...</td>\n",
       "      <td>© 2022 The Author(s)Production cross sections ...</td>\n",
       "      <td>Tumasyan A.; Adam W.; Ambrogi F.; Bergauer T.;...</td>\n",
       "      <td>3106</td>\n",
       "      <td>2022-12-10</td>\n",
       "      <td>60009254; 60013959; 60024069; 60029284; 600004...</td>\n",
       "      <td>J/ψ suppression by quark-gluon plasma formatio...</td>\n",
       "      <td>Bottomonium; CMS; Heavy ion collisions; Quark-...</td>\n",
       "      <td>202200044</td>\n",
       "    </tr>\n",
       "    <tr>\n",
       "      <th>191</th>\n",
       "      <td>Erratum to: Searches for long-lived charged pa...</td>\n",
       "      <td>NaN</td>\n",
       "      <td>Chatrchyan S.; Khachatryan V.; Sirunyan A.M.; ...</td>\n",
       "      <td>3106</td>\n",
       "      <td>2022-12-01</td>\n",
       "      <td>60009254; 60023578; 60013959; 60029284; 600004...</td>\n",
       "      <td>Signals for heavy exotics at hadron colliders ...</td>\n",
       "      <td>NaN</td>\n",
       "      <td>202200191</td>\n",
       "    </tr>\n",
       "    <tr>\n",
       "      <th>547</th>\n",
       "      <td>Dual CFT on a dyonic Kerr-Sen black hole and i...</td>\n",
       "      <td>© 2022 authors.We demonstrate strong evidence ...</td>\n",
       "      <td>Sakti M.F.A.R.; Burikham P.</td>\n",
       "      <td>3106</td>\n",
       "      <td>2022-11-15</td>\n",
       "      <td>60028190</td>\n",
       "      <td>Microscopic origin of the Bekenstein-Hawking e...</td>\n",
       "      <td>NaN</td>\n",
       "      <td>202200547</td>\n",
       "    </tr>\n",
       "  </tbody>\n",
       "</table>\n",
       "</div>"
      ],
      "text/plain": [
       "                                                 Title  \\\n",
       "39   Search for new particles in an extended Higgs ...   \n",
       "41   More on gravitational waves from double monodr...   \n",
       "44   Nuclear modification of Y states in pPb collis...   \n",
       "191  Erratum to: Searches for long-lived charged pa...   \n",
       "547  Dual CFT on a dyonic Kerr-Sen black hole and i...   \n",
       "\n",
       "                                              Abstract  \\\n",
       "39   © 2022 The Author(s)A search for a massive res...   \n",
       "41   © 2022 The Author(s)We further analyze phenome...   \n",
       "44   © 2022 The Author(s)Production cross sections ...   \n",
       "191                                                NaN   \n",
       "547  © 2022 authors.We demonstrate strong evidence ...   \n",
       "\n",
       "                                                Author Subject_Area  \\\n",
       "39   Tumasyan A.; Adam W.; Andrejkovic J.W.; Bergau...         3106   \n",
       "41   Abishev M.; Abylayeva A.; Addazi A.; Aldaberge...         3106   \n",
       "44   Tumasyan A.; Adam W.; Ambrogi F.; Bergauer T.;...         3106   \n",
       "191  Chatrchyan S.; Khachatryan V.; Sirunyan A.M.; ...         3106   \n",
       "547                        Sakti M.F.A.R.; Burikham P.         3106   \n",
       "\n",
       "    Publication_Date                                    Affiliations_ID  \\\n",
       "39        2022-12-10  60009254; 60013959; 60024069; 60029284; 600004...   \n",
       "41        2022-12-10   60071853; 60071847; 60016340; 60016521; 60028190   \n",
       "44        2022-12-10  60009254; 60013959; 60024069; 60029284; 600004...   \n",
       "191       2022-12-01  60009254; 60023578; 60013959; 60029284; 600004...   \n",
       "547       2022-11-15                                           60028190   \n",
       "\n",
       "                                            References  \\\n",
       "39   Observation of a new boson at a mass of 125 Ge...   \n",
       "41   Quantum gravity phenomenology at the dawn of t...   \n",
       "44   J/ψ suppression by quark-gluon plasma formatio...   \n",
       "191  Signals for heavy exotics at hadron colliders ...   \n",
       "547  Microscopic origin of the Bekenstein-Hawking e...   \n",
       "\n",
       "                                              Keywords   Filename  \n",
       "39                               2HDM; BSM; CMS; Higgs  202200039  \n",
       "41                                                 NaN  202200041  \n",
       "44   Bottomonium; CMS; Heavy ion collisions; Quark-...  202200044  \n",
       "191                                                NaN  202200191  \n",
       "547                                                NaN  202200547  "
      ]
     },
     "execution_count": 9,
     "metadata": {},
     "output_type": "execute_result"
    }
   ],
   "source": [
    "df2022_with_subject_area_3106.head()"
   ]
  },
  {
   "cell_type": "code",
   "execution_count": 10,
   "metadata": {},
   "outputs": [
    {
     "data": {
      "text/html": [
       "<div>\n",
       "<style scoped>\n",
       "    .dataframe tbody tr th:only-of-type {\n",
       "        vertical-align: middle;\n",
       "    }\n",
       "\n",
       "    .dataframe tbody tr th {\n",
       "        vertical-align: top;\n",
       "    }\n",
       "\n",
       "    .dataframe thead th {\n",
       "        text-align: right;\n",
       "    }\n",
       "</style>\n",
       "<table border=\"1\" class=\"dataframe\">\n",
       "  <thead>\n",
       "    <tr style=\"text-align: right;\">\n",
       "      <th></th>\n",
       "      <th>Title</th>\n",
       "      <th>Abstract</th>\n",
       "      <th>Author</th>\n",
       "      <th>Subject_Area</th>\n",
       "      <th>Publication_Date</th>\n",
       "      <th>Affiliations_ID</th>\n",
       "      <th>References</th>\n",
       "      <th>Keywords</th>\n",
       "      <th>Filename</th>\n",
       "    </tr>\n",
       "  </thead>\n",
       "  <tbody>\n",
       "    <tr>\n",
       "      <th>4124</th>\n",
       "      <td>Highly promising recycled low-density polyethy...</td>\n",
       "      <td>© 2021 Atomic Energy Society of Japan. All rig...</td>\n",
       "      <td>Ratnitsai V.; Wongjaikham W.; Wongsawaeng D.; ...</td>\n",
       "      <td>3106; 2104</td>\n",
       "      <td>2022-01-01</td>\n",
       "      <td>60272060; 60028190</td>\n",
       "      <td>Current status of technology for collection of...</td>\n",
       "      <td>Amidoxime; recycled LDPE sheets; seawater; ura...</td>\n",
       "      <td>202204124</td>\n",
       "    </tr>\n",
       "    <tr>\n",
       "      <th>3988</th>\n",
       "      <td>Measurement of double-parton scattering in inc...</td>\n",
       "      <td>© 2022, The Author(s).A measurement of inclusi...</td>\n",
       "      <td>Tumasyan A.; Adam W.; Andrejkovic J.W.; Bergau...</td>\n",
       "      <td>3106</td>\n",
       "      <td>2022-01-01</td>\n",
       "      <td>60009254; 60014966; 60013959; 60104485; 600235...</td>\n",
       "      <td>Measurement of the ratio of inclusive jet cros...</td>\n",
       "      <td>Hadron-Hadron Scattering; Jets; QCD</td>\n",
       "      <td>202203988</td>\n",
       "    </tr>\n",
       "    <tr>\n",
       "      <th>3941</th>\n",
       "      <td>Study of quark and gluon jet substructure in Z...</td>\n",
       "      <td>© 2022, The Author(s).Measurements of jet subs...</td>\n",
       "      <td>Tumasyan A.; Adam W.; Andrejkovic J.W.; Bergau...</td>\n",
       "      <td>3106</td>\n",
       "      <td>2022-01-01</td>\n",
       "      <td>60009254; 60013959; 60104485; 60023579; 600240...</td>\n",
       "      <td>Towards jetography; Jet substructure at the La...</td>\n",
       "      <td>Hadron-Hadron Scattering; Jet Physics</td>\n",
       "      <td>202203941</td>\n",
       "    </tr>\n",
       "    <tr>\n",
       "      <th>2946</th>\n",
       "      <td>Conformal manifolds and 3d mirrors of (Dn , Dm...</td>\n",
       "      <td>© 2022, The Author(s).The Argyres-Douglas (AD)...</td>\n",
       "      <td>Carta F.; Giacomelli S.; Mekareeya N.; Mininno A.</td>\n",
       "      <td>3106</td>\n",
       "      <td>2022-02-01</td>\n",
       "      <td>60032795; 60022175; 60114755; 60028229; 600123...</td>\n",
       "      <td>Electric-magnetic duality, monopole condensati...</td>\n",
       "      <td>Extended Supersymmetry; Supersymmetric Gauge T...</td>\n",
       "      <td>202202946</td>\n",
       "    </tr>\n",
       "    <tr>\n",
       "      <th>2910</th>\n",
       "      <td>Inclusive and differential cross section measu...</td>\n",
       "      <td>© 2022, The Author(s).Inclusive and differenti...</td>\n",
       "      <td>Tumasyan A.; Adam W.; Andrejkovic J.W.; Bergau...</td>\n",
       "      <td>3106</td>\n",
       "      <td>2022-02-01</td>\n",
       "      <td>60009254; 60014966; 60013959; 60104485; 600235...</td>\n",
       "      <td>Observation of single top quark production in ...</td>\n",
       "      <td>Hadron-Hadron Scattering; Top Physics</td>\n",
       "      <td>202202910</td>\n",
       "    </tr>\n",
       "    <tr>\n",
       "      <th>2908</th>\n",
       "      <td>Measurement and QCD analysis of double-differe...</td>\n",
       "      <td>© 2022, The Author(s).A measurement of the inc...</td>\n",
       "      <td>Tumasyan A.; Adam W.; Andrejkovic J.W.; Bergau...</td>\n",
       "      <td>3106</td>\n",
       "      <td>2022-02-01</td>\n",
       "      <td>60009254; 60014966; 60013959; 60104485; 600235...</td>\n",
       "      <td>Measurement of inclusive jet and dijet cross s...</td>\n",
       "      <td>Hadron-Hadron Scattering; Jet Physics</td>\n",
       "      <td>202202908</td>\n",
       "    </tr>\n",
       "    <tr>\n",
       "      <th>2902</th>\n",
       "      <td>Search for heavy resonances decaying to WW, WZ...</td>\n",
       "      <td>© 2022 CERN.A search for new heavy resonances ...</td>\n",
       "      <td>Tumasyan A.; Adam W.; Andrejkovic J.W.; Bergau...</td>\n",
       "      <td>3106</td>\n",
       "      <td>2022-02-01</td>\n",
       "      <td>60009254; 60013959; 60104485; 60023579; 600240...</td>\n",
       "      <td>Partial symmetries of weak interactions; Elect...</td>\n",
       "      <td>NaN</td>\n",
       "      <td>202202902</td>\n",
       "    </tr>\n",
       "    <tr>\n",
       "      <th>2895</th>\n",
       "      <td>Search for flavor-changing neutral current int...</td>\n",
       "      <td>© 2022, The Author(s).A search for flavor-chan...</td>\n",
       "      <td>Tumasyan A.; Adam W.; Andrejkovic J.W.; Bergau...</td>\n",
       "      <td>3106</td>\n",
       "      <td>2022-02-01</td>\n",
       "      <td>60009254; 60013959; 60104485; 60023579; 600240...</td>\n",
       "      <td>Observation of a new particle in the search fo...</td>\n",
       "      <td>B Physics; Flavour Changing Neutral Currents; ...</td>\n",
       "      <td>202202895</td>\n",
       "    </tr>\n",
       "    <tr>\n",
       "      <th>2868</th>\n",
       "      <td>Fragmentation of jets containing a prompt J/ψ ...</td>\n",
       "      <td>© 2021 The Author(s)Jets containing a prompt J...</td>\n",
       "      <td>Tumasyan A.; Adam W.; Bergauer T.; Dragicevic ...</td>\n",
       "      <td>3106</td>\n",
       "      <td>2022-02-10</td>\n",
       "      <td>60009254; 60013959; 60024069; 60029284; 600004...</td>\n",
       "      <td>J/ψ suppression by quark-gluon plasma formatio...</td>\n",
       "      <td>CMS; Heavy ions; Jets; Quarkonia</td>\n",
       "      <td>202202868</td>\n",
       "    </tr>\n",
       "    <tr>\n",
       "      <th>2678</th>\n",
       "      <td>Measurement of W±γ differential cross sections...</td>\n",
       "      <td>© 2022 CERN.Differential cross section measure...</td>\n",
       "      <td>Tumasyan A.; Adam W.; Ambrogi F.; Bergauer T.;...</td>\n",
       "      <td>3106</td>\n",
       "      <td>2022-03-01</td>\n",
       "      <td>60009254; 60023578; 60013959; 60104485; 600235...</td>\n",
       "      <td>Measurement of (Equation presented) and (Equat...</td>\n",
       "      <td>NaN</td>\n",
       "      <td>202202678</td>\n",
       "    </tr>\n",
       "    <tr>\n",
       "      <th>2675</th>\n",
       "      <td>Study of dijet events with large rapidity sepa...</td>\n",
       "      <td>© 2022, The Author(s).The cross sections for i...</td>\n",
       "      <td>Tumasyan A.; Adam W.; Andrejkovic J.W.; Bergau...</td>\n",
       "      <td>3106</td>\n",
       "      <td>2022-03-01</td>\n",
       "      <td>60009254; 60013959; 60104485; 60023579; 600240...</td>\n",
       "      <td>Deep inelastic ep scattering in perturbation t...</td>\n",
       "      <td>Hadron-Hadron Scattering; Jet Physics</td>\n",
       "      <td>202202675</td>\n",
       "    </tr>\n",
       "    <tr>\n",
       "      <th>2686</th>\n",
       "      <td>Primordial gravitational waves from excited st...</td>\n",
       "      <td>© 2022, The Author(s).We show that a scalar ex...</td>\n",
       "      <td>Fumagalli J.; Palma G.A.; Renaux-Petel S.; Syp...</td>\n",
       "      <td>3106</td>\n",
       "      <td>2022-03-01</td>\n",
       "      <td>60032795; 60015201; 60274668; 60122504; 600281...</td>\n",
       "      <td>LIGO Scientific and Virgo collaborations, Obse...</td>\n",
       "      <td>Cosmology of Theories BSM; Early Universe Part...</td>\n",
       "      <td>202202686</td>\n",
       "    </tr>\n",
       "    <tr>\n",
       "      <th>2689</th>\n",
       "      <td>Search for long-lived particles produced in as...</td>\n",
       "      <td>© 2022, The Author(s).A search for long-lived ...</td>\n",
       "      <td>Tumasyan A.; Adam W.; Andrejkovic J.W.; Bergau...</td>\n",
       "      <td>3106</td>\n",
       "      <td>2022-03-01</td>\n",
       "      <td>60009254; 60013959; 60104485; 60023579; 600240...</td>\n",
       "      <td>Mini-split; Theories with gauge mediated super...</td>\n",
       "      <td>Beyond Standard Model; Hadron-Hadron Scatterin...</td>\n",
       "      <td>202202689</td>\n",
       "    </tr>\n",
       "    <tr>\n",
       "      <th>2679</th>\n",
       "      <td>Erratum: Search for heavy Higgs bosons decayin...</td>\n",
       "      <td>© The Author(s).In figure 7 of the original pu...</td>\n",
       "      <td>Sirunyan A.M.; Tumasyan A.; Adam W.; Ambrogi F...</td>\n",
       "      <td>3106</td>\n",
       "      <td>2022-03-01</td>\n",
       "      <td>60009254; 60023578; 60021910; 60013959; 601044...</td>\n",
       "      <td>NaN</td>\n",
       "      <td>NaN</td>\n",
       "      <td>202202679</td>\n",
       "    </tr>\n",
       "    <tr>\n",
       "      <th>2628</th>\n",
       "      <td>Search for Wγ resonances in proton-proton coll...</td>\n",
       "      <td>© 2022 The Author(s)A search for Wγ resonances...</td>\n",
       "      <td>Tumasyan A.; Adam W.; Andrejkovic J.W.; Bergau...</td>\n",
       "      <td>3106</td>\n",
       "      <td>2022-03-10</td>\n",
       "      <td>60009254; 60014966; 60013959; 60024069; 600292...</td>\n",
       "      <td>Observation of a new particle in the search fo...</td>\n",
       "      <td>BSM particles; CMS; Wgamma resonances</td>\n",
       "      <td>202202628</td>\n",
       "    </tr>\n",
       "    <tr>\n",
       "      <th>2423</th>\n",
       "      <td>Search for long-lived particles decaying into ...</td>\n",
       "      <td>© 2022, The Author(s).A search for long-lived ...</td>\n",
       "      <td>Tumasyan A.; Adam W.; Andrejkovic J.W.; Bergau...</td>\n",
       "      <td>3106</td>\n",
       "      <td>2022-04-01</td>\n",
       "      <td>60009254; 60013959; 60104485; 60023579; 600240...</td>\n",
       "      <td>Dark matter candidates from particle physics a...</td>\n",
       "      <td>Beyond Standard Model; Dark Matter; Hadron-Had...</td>\n",
       "      <td>202202423</td>\n",
       "    </tr>\n",
       "    <tr>\n",
       "      <th>2421</th>\n",
       "      <td>Search for heavy resonances decaying to ZZ or ...</td>\n",
       "      <td>© 2022, The Author(s).A search has been perfor...</td>\n",
       "      <td>Tumasyan A.; Adam W.; Andrejkovic J.W.; Bergau...</td>\n",
       "      <td>3106</td>\n",
       "      <td>2022-04-01</td>\n",
       "      <td>60009254; 60013959; 60104485; 60023579; 600240...</td>\n",
       "      <td>Warped gravitons at the LHC and beyond; A larg...</td>\n",
       "      <td>Beyond Standard Model; Hadron-Hadron Scattering</td>\n",
       "      <td>202202421</td>\n",
       "    </tr>\n",
       "    <tr>\n",
       "      <th>2401</th>\n",
       "      <td>Zero-form and one-form symmetries of the ABJ a...</td>\n",
       "      <td>© 2022, The Author(s).The zero-form and one-fo...</td>\n",
       "      <td>Beratto E.; Mekareeya N.; Sacchi M.</td>\n",
       "      <td>3106</td>\n",
       "      <td>2022-04-01</td>\n",
       "      <td>60026851; 60114755; 60012306; 60028190</td>\n",
       "      <td>N = 6 superconformal Chern-Simons-matter theor...</td>\n",
       "      <td>Duality in Gauge Field Theories; Extended Supe...</td>\n",
       "      <td>202202401</td>\n",
       "    </tr>\n",
       "    <tr>\n",
       "      <th>2387</th>\n",
       "      <td>Search for a right-handed W boson and a heavy ...</td>\n",
       "      <td>© 2022, The Author(s).A search is presented fo...</td>\n",
       "      <td>Tumasyan A.; Adam W.; Andrejkovic J.W.; Bergau...</td>\n",
       "      <td>3106</td>\n",
       "      <td>2022-04-01</td>\n",
       "      <td>60009254; 60013959; 60104485; 60023579; 600240...</td>\n",
       "      <td>Lepton number as the fourth color; A natural l...</td>\n",
       "      <td>Exotics; Hadron-Hadron Scattering</td>\n",
       "      <td>202202387</td>\n",
       "    </tr>\n",
       "    <tr>\n",
       "      <th>2386</th>\n",
       "      <td>Precision measurement of the W boson decay bra...</td>\n",
       "      <td>© 2022 CERN.The leptonic and inclusive hadroni...</td>\n",
       "      <td>Tumasyan A.; Adam W.; Andrejkovic J.W.; Bergau...</td>\n",
       "      <td>3106</td>\n",
       "      <td>2022-04-01</td>\n",
       "      <td>60009254; 60013959; 60104485; 60023579; 600240...</td>\n",
       "      <td>Evidence for an Excess of (Equation presented)...</td>\n",
       "      <td>NaN</td>\n",
       "      <td>202202386</td>\n",
       "    </tr>\n",
       "    <tr>\n",
       "      <th>2384</th>\n",
       "      <td>Search for a heavy resonance decaying into a t...</td>\n",
       "      <td>© 2022, The Author(s).A search for a heavy res...</td>\n",
       "      <td>Tumasyan A.; Adam W.; Andrejkovic J.W.; Bergau...</td>\n",
       "      <td>3106</td>\n",
       "      <td>2022-04-01</td>\n",
       "      <td>60009254; 60013959; 60104485; 60023579; 600240...</td>\n",
       "      <td>Composite models for quarks and leptons; Excit...</td>\n",
       "      <td>Beyond Standard Model; Hadron-Hadron Scattering</td>\n",
       "      <td>202202384</td>\n",
       "    </tr>\n",
       "    <tr>\n",
       "      <th>2381</th>\n",
       "      <td>Measurement of the inclusive t t ¯ production ...</td>\n",
       "      <td>© 2022, The Author(s).The top quark pair produ...</td>\n",
       "      <td>Tumasyan A.; Adam W.; Andrejkovic J.W.; Bergau...</td>\n",
       "      <td>3106</td>\n",
       "      <td>2022-04-01</td>\n",
       "      <td>60009254; 60013959; 60104485; 60023579; 600240...</td>\n",
       "      <td>Measurement of double-differential cross secti...</td>\n",
       "      <td>Hadron-Hadron Scattering; Top Physics</td>\n",
       "      <td>202202381</td>\n",
       "    </tr>\n",
       "    <tr>\n",
       "      <th>2377</th>\n",
       "      <td>Search for supersymmetry in final states with ...</td>\n",
       "      <td>© 2022, The Author(s).A search for supersymmet...</td>\n",
       "      <td>Tumasyan A.; Adam W.; Andrejkovic J.W.; Bergau...</td>\n",
       "      <td>3106</td>\n",
       "      <td>2022-04-01</td>\n",
       "      <td>60009254; 60013959; 60104485; 60023579; 600240...</td>\n",
       "      <td>Supergauge transformations in four-dimensions;...</td>\n",
       "      <td>Hadron-Hadron Scattering; Supersymmetry</td>\n",
       "      <td>202202377</td>\n",
       "    </tr>\n",
       "    <tr>\n",
       "      <th>2370</th>\n",
       "      <td>Search for electroweak production of charginos...</td>\n",
       "      <td>© 2022, The Author(s).A direct search for elec...</td>\n",
       "      <td>Tumasyan A.; Adam W.; Andrejkovic J.W.; Bergau...</td>\n",
       "      <td>3106</td>\n",
       "      <td>2022-04-01</td>\n",
       "      <td>60009254; 60013959; 60104485; 60023579; 600240...</td>\n",
       "      <td>Dual theory for free fermions; A Lagrangian mo...</td>\n",
       "      <td>Hadron-Hadron Scattering; Supersymmetry</td>\n",
       "      <td>202202370</td>\n",
       "    </tr>\n",
       "    <tr>\n",
       "      <th>2155</th>\n",
       "      <td>Search for invisible decays of the Higgs boson...</td>\n",
       "      <td>© 2022 CERN.A search for invisible decays of t...</td>\n",
       "      <td>Tumasyan A.; Adam W.; Andrejkovic J.W.; Bergau...</td>\n",
       "      <td>3106</td>\n",
       "      <td>2022-05-01</td>\n",
       "      <td>60108578; 60009254; 60013959; 60104485; 600235...</td>\n",
       "      <td>Broken Symmetry and the Mass of Gauge Vector M...</td>\n",
       "      <td>NaN</td>\n",
       "      <td>202202155</td>\n",
       "    </tr>\n",
       "    <tr>\n",
       "      <th>2196</th>\n",
       "      <td>Measurement of the inclusive and differential ...</td>\n",
       "      <td>© 2022, The Author(s).The production cross sec...</td>\n",
       "      <td>Tumasyan A.; Adam W.; Andrejkovic J.W.; Bergau...</td>\n",
       "      <td>3106</td>\n",
       "      <td>2022-05-01</td>\n",
       "      <td>60009254; 60013959; 60104485; 60023579; 600240...</td>\n",
       "      <td>CDF collaboration, Evidence for t t ¯ γ Produc...</td>\n",
       "      <td>Hadron-Hadron Scattering; Top Physics</td>\n",
       "      <td>202202196</td>\n",
       "    </tr>\n",
       "    <tr>\n",
       "      <th>2150</th>\n",
       "      <td>Search for single production of a vector-like ...</td>\n",
       "      <td>© 2022, The Author(s).A search is presented fo...</td>\n",
       "      <td>Tumasyan A.; Adam W.; Andrejkovic J.W.; Bergau...</td>\n",
       "      <td>3106</td>\n",
       "      <td>2022-05-01</td>\n",
       "      <td>60009254; 60013959; 60104485; 60023579; 600240...</td>\n",
       "      <td>Handbook of vectorlike quarks: mixing and sing...</td>\n",
       "      <td>Beyond Standard Model; Hadron-Hadron Scatterin...</td>\n",
       "      <td>202202150</td>\n",
       "    </tr>\n",
       "    <tr>\n",
       "      <th>2127</th>\n",
       "      <td>Search for higgsinos decaying to two Higgs bos...</td>\n",
       "      <td>© 2022, The Author(s).Results are presented fr...</td>\n",
       "      <td>Tumasyan A.; Adam W.; Andrejkovic J.W.; Bergau...</td>\n",
       "      <td>3106</td>\n",
       "      <td>2022-05-01</td>\n",
       "      <td>60009254; 60013959; 60104485; 60023579; 600240...</td>\n",
       "      <td>Observation of a new particle in the search fo...</td>\n",
       "      <td>Hadron-Hadron Scattering; Higgs Physics; Super...</td>\n",
       "      <td>202202127</td>\n",
       "    </tr>\n",
       "    <tr>\n",
       "      <th>2126</th>\n",
       "      <td>Search for heavy resonances decaying to a pair...</td>\n",
       "      <td>© 2022, The Author(s).A search for new heavy r...</td>\n",
       "      <td>Tumasyan A.; Adam W.; Andrejkovic J.W.; Bergau...</td>\n",
       "      <td>3106</td>\n",
       "      <td>2022-05-01</td>\n",
       "      <td>60009254; 60013959; 60104485; 60023579; 600240...</td>\n",
       "      <td>Observation of a new particle in the search fo...</td>\n",
       "      <td>Beyond Standard Model; Hadron-Hadron Scatterin...</td>\n",
       "      <td>202202126</td>\n",
       "    </tr>\n",
       "    <tr>\n",
       "      <th>2146</th>\n",
       "      <td>Measurement of the production cross section fo...</td>\n",
       "      <td>© 2022 CERN.The measurement of the cross secti...</td>\n",
       "      <td>Tumasyan A.; Adam W.; Andrejkovic J.W.; Bergau...</td>\n",
       "      <td>3106</td>\n",
       "      <td>2022-05-01</td>\n",
       "      <td>60009254; 60013959; 60024069; 60029284; 600004...</td>\n",
       "      <td>A review of the intrinsic heavy quark content ...</td>\n",
       "      <td>NaN</td>\n",
       "      <td>202202146</td>\n",
       "    </tr>\n",
       "    <tr>\n",
       "      <th>1938</th>\n",
       "      <td>Dynamical consequences of 1-form symmetries an...</td>\n",
       "      <td>© 2022, The Author(s).Higher-form symmetries h...</td>\n",
       "      <td>Carta F.; Giacomelli S.; Mekareeya N.; Mininno A.</td>\n",
       "      <td>3106</td>\n",
       "      <td>2022-06-01</td>\n",
       "      <td>60022175; 60114755; 60028229; 60012306; 60028190</td>\n",
       "      <td>New phenomena in SU(3) supersymmetric gauge th...</td>\n",
       "      <td>Discrete Symmetries; Extended Supersymmetry; F...</td>\n",
       "      <td>202201938</td>\n",
       "    </tr>\n",
       "    <tr>\n",
       "      <th>1932</th>\n",
       "      <td>Analysis of the CP structure of the Yukawa cou...</td>\n",
       "      <td>© 2022, The Author(s).The first measurement of...</td>\n",
       "      <td>Tumasyan A.; Adam W.; Andrejkovic J.W.; Bergau...</td>\n",
       "      <td>3106</td>\n",
       "      <td>2022-06-01</td>\n",
       "      <td>60009254; 60013959; 60104485; 60023579; 600240...</td>\n",
       "      <td>Broken Symmetry and the Mass of Gauge Vector M...</td>\n",
       "      <td>Hadron-Hadron Scattering; Higgs Physics; Tau P...</td>\n",
       "      <td>202201932</td>\n",
       "    </tr>\n",
       "    <tr>\n",
       "      <th>1899</th>\n",
       "      <td>Search for resonant production of strongly cou...</td>\n",
       "      <td>© 2022, The Author(s).The first collider searc...</td>\n",
       "      <td>Tumasyan A.; Adam W.; Andrejkovic J.W.; Bergau...</td>\n",
       "      <td>3106</td>\n",
       "      <td>2022-06-01</td>\n",
       "      <td>60108578; 60009254; 60013959; 60104485; 600235...</td>\n",
       "      <td>Rotational properties of 21 SC galaxies with a...</td>\n",
       "      <td>Beyond Standard Model; Dark Matter; Hadron-Had...</td>\n",
       "      <td>202201899</td>\n",
       "    </tr>\n",
       "    <tr>\n",
       "      <th>1893</th>\n",
       "      <td>Inclusive nonresonant multilepton probes of ne...</td>\n",
       "      <td>© 2022 CERN, for the CMS Collaboration. Publis...</td>\n",
       "      <td>Tumasyan A.; Adam W.; Andrejkovic J.W.; Bergau...</td>\n",
       "      <td>3106</td>\n",
       "      <td>2022-06-01</td>\n",
       "      <td>60009254; 60013959; 60024069; 60029284; 600004...</td>\n",
       "      <td>(Equation presented) at a rate of one out of (...</td>\n",
       "      <td>NaN</td>\n",
       "      <td>202201893</td>\n",
       "    </tr>\n",
       "    <tr>\n",
       "      <th>1888</th>\n",
       "      <td>Damping signatures at JUNO, a medium-baseline ...</td>\n",
       "      <td>© 2022, The Author(s).We study damping signatu...</td>\n",
       "      <td>Wang J.; Liao J.; Wang W.; Abusleme A.; Adam T...</td>\n",
       "      <td>3106</td>\n",
       "      <td>2022-06-01</td>\n",
       "      <td>60110942; 60012630; 60014966; 60019616; 601146...</td>\n",
       "      <td>Inverse beta processes and nonconservation of ...</td>\n",
       "      <td>NaN</td>\n",
       "      <td>202201888</td>\n",
       "    </tr>\n",
       "    <tr>\n",
       "      <th>1882</th>\n",
       "      <td>Search for charged-lepton flavor violation in ...</td>\n",
       "      <td>© 2022, The Author(s).Results are presented fr...</td>\n",
       "      <td>Tumasyan A.; Adam W.; Andrejkovic J.W.; Bergau...</td>\n",
       "      <td>3106</td>\n",
       "      <td>2022-06-01</td>\n",
       "      <td>60009254; 60013959; 60104485; 60023579; 600240...</td>\n",
       "      <td>Updated bounds on sum of neutrino masses in va...</td>\n",
       "      <td>Hadron-Hadron Scattering; Top Physics</td>\n",
       "      <td>202201882</td>\n",
       "    </tr>\n",
       "    <tr>\n",
       "      <th>1864</th>\n",
       "      <td>Observation of Bs 0 mesons and measurement of ...</td>\n",
       "      <td>© 2022 The Author(s)The Bs 0 and B+ production...</td>\n",
       "      <td>Tumasyan A.; Adam W.; Ambrogi F.; Bergauer T.;...</td>\n",
       "      <td>3106</td>\n",
       "      <td>2022-06-10</td>\n",
       "      <td>60009254; 60013959; 60024069; 60029284; 600004...</td>\n",
       "      <td>Superdense matter: neutrons or asymptotically ...</td>\n",
       "      <td>B mesons; CMS; Hadronization; Heavy flavor; Qu...</td>\n",
       "      <td>202201864</td>\n",
       "    </tr>\n",
       "    <tr>\n",
       "      <th>1643</th>\n",
       "      <td>Search for long-lived heavy neutral leptons wi...</td>\n",
       "      <td>© 2022, The Author(s).A search for heavy neutr...</td>\n",
       "      <td>Tumasyan A.; Adam W.; Andrejkovic J.W.; Bergau...</td>\n",
       "      <td>3106</td>\n",
       "      <td>2022-07-01</td>\n",
       "      <td>60009254; 60013959; 60104485; 60023579; 600240...</td>\n",
       "      <td>Neutrino oscillations: From a historical persp...</td>\n",
       "      <td>Beyond Standard Model; Hadron-Hadron Scattering</td>\n",
       "      <td>202201643</td>\n",
       "    </tr>\n",
       "    <tr>\n",
       "      <th>1647</th>\n",
       "      <td>Search for heavy resonances decaying to Z (ν ν...</td>\n",
       "      <td>© 2022 CERN. A search is presented for heavy b...</td>\n",
       "      <td>Tumasyan A.; Adam W.; Andrejkovic J.W.; Bergau...</td>\n",
       "      <td>3106</td>\n",
       "      <td>2022-07-01</td>\n",
       "      <td>60009254; 60013959; 60104485; 60071636; 600235...</td>\n",
       "      <td>Large Mass Hierarchy from a Small Extra Dimens...</td>\n",
       "      <td>NaN</td>\n",
       "      <td>202201647</td>\n",
       "    </tr>\n",
       "    <tr>\n",
       "      <th>1654</th>\n",
       "      <td>Search for resonances decaying to three W boso...</td>\n",
       "      <td>© 2022 CERN.A search for Kaluza-Klein excited ...</td>\n",
       "      <td>Tumasyan A.; Adam W.; Andrejkovic J.W.; Bergau...</td>\n",
       "      <td>3106</td>\n",
       "      <td>2022-07-01</td>\n",
       "      <td>60009254; 60013959; 60104485; 60071636; 600235...</td>\n",
       "      <td>Identification of heavy, energetic, hadronical...</td>\n",
       "      <td>NaN</td>\n",
       "      <td>202201654</td>\n",
       "    </tr>\n",
       "    <tr>\n",
       "      <th>1689</th>\n",
       "      <td>Search for new physics in the lepton plus miss...</td>\n",
       "      <td>© 2022, The Author(s).A search for physics bey...</td>\n",
       "      <td>Tumasyan A.; Adam W.; Andrejkovic J.W.; Bergau...</td>\n",
       "      <td>3106</td>\n",
       "      <td>2022-07-01</td>\n",
       "      <td>60009254; 60013959; 60104485; 60023579; 600240...</td>\n",
       "      <td>Review of particle physics; A natural left-rig...</td>\n",
       "      <td>Beyond Standard Model; Hadron-Hadron Scattering</td>\n",
       "      <td>202201689</td>\n",
       "    </tr>\n",
       "    <tr>\n",
       "      <th>1648</th>\n",
       "      <td>Measurement of the inclusive and differential ...</td>\n",
       "      <td>© 2022, The Author(s).The associated productio...</td>\n",
       "      <td>Tumasyan A.; Adam W.; Andrejkovic J.W.; Bergau...</td>\n",
       "      <td>3106</td>\n",
       "      <td>2022-07-01</td>\n",
       "      <td>60009254; 60013959; 60104485; 60023579; 600240...</td>\n",
       "      <td>Production of W’s with large transverse moment...</td>\n",
       "      <td>Hadron-Hadron Scattering; Particle Correlation...</td>\n",
       "      <td>202201648</td>\n",
       "    </tr>\n",
       "    <tr>\n",
       "      <th>1442</th>\n",
       "      <td>Nonlinear (chiral) p-form electrodynamics</td>\n",
       "      <td>© 2022, The Author(s).In our previous article ...</td>\n",
       "      <td>Avetisyan Z.; Evnin O.; Mkrtchyan K.</td>\n",
       "      <td>3106</td>\n",
       "      <td>2022-08-01</td>\n",
       "      <td>60026810; 60025383; 60015150; 60033316; 60028190</td>\n",
       "      <td>Quantised singularities in the electromagnetic...</td>\n",
       "      <td>Duality in Gauge Field Theories; M-Theory; Sup...</td>\n",
       "      <td>202201442</td>\n",
       "    </tr>\n",
       "    <tr>\n",
       "      <th>1441</th>\n",
       "      <td>Measurement of the Drell-Yan forward-backward ...</td>\n",
       "      <td>© 2022, The Author(s).A measurement of the for...</td>\n",
       "      <td>Tumasyan A.; Adam W.; Andrejkovic J.W.; Bergau...</td>\n",
       "      <td>3106</td>\n",
       "      <td>2022-08-01</td>\n",
       "      <td>60108578; 60009254; 60013959; 60104485; 600235...</td>\n",
       "      <td>Extra gauge bosons in E 6; Off peak lepton asy...</td>\n",
       "      <td>Hadron-Hadron Scattering; Lepton Production; V...</td>\n",
       "      <td>202201441</td>\n",
       "    </tr>\n",
       "    <tr>\n",
       "      <th>1168</th>\n",
       "      <td>earch for a W′ boson decaying to a vector-like...</td>\n",
       "      <td>© 2022, The Author(s).A search is presented fo...</td>\n",
       "      <td>Tumasyan A.; Adam W.; Andrejkovic J.W.; Bergau...</td>\n",
       "      <td>3106</td>\n",
       "      <td>2022-09-01</td>\n",
       "      <td>60009254; 60013959; 60104485; 60023579; 600240...</td>\n",
       "      <td>Little Higgs review; Left-Right Gauge Symmetry...</td>\n",
       "      <td>Beyond Standard Model; Hadron-Hadron Scatterin...</td>\n",
       "      <td>202201168</td>\n",
       "    </tr>\n",
       "    <tr>\n",
       "      <th>1082</th>\n",
       "      <td>Search for high-mass resonances decaying to a ...</td>\n",
       "      <td>© 2022 The Author(s)A search is reported for h...</td>\n",
       "      <td>Tumasyan A.; Adam W.; Andrejkovic J.W.; Bergau...</td>\n",
       "      <td>3106</td>\n",
       "      <td>2022-09-10</td>\n",
       "      <td>60009254; 60013959; 60024069; 60029284; 600004...</td>\n",
       "      <td>Dark matter and the early universe: a review; ...</td>\n",
       "      <td>CMS; Exotica; Resonance; Search; Trijet</td>\n",
       "      <td>202201082</td>\n",
       "    </tr>\n",
       "    <tr>\n",
       "      <th>1081</th>\n",
       "      <td>Gamma/hadron separation with the HAWC observatory</td>\n",
       "      <td>© 2022The High Altitude Water Cherenkov (HAWC)...</td>\n",
       "      <td>Alfaro R.; Alvarez C.; Álvarez J.D.; Angeles C...</td>\n",
       "      <td>3106; 3105</td>\n",
       "      <td>2022-09-11</td>\n",
       "      <td>60085982; 60002644; 60019176; 60027652; 600117...</td>\n",
       "      <td>Extensive Air Showers: High Energy Phenomena a...</td>\n",
       "      <td>Crab Nebula; G/H separation; High energy; Mach...</td>\n",
       "      <td>202201081</td>\n",
       "    </tr>\n",
       "    <tr>\n",
       "      <th>561</th>\n",
       "      <td>Evidence for WW/WZ vector boson scattering in ...</td>\n",
       "      <td>© 2022 The Author(s)Evidence is reported for e...</td>\n",
       "      <td>Tumasyan A.; Adam W.; Andrejkovic J.W.; Bergau...</td>\n",
       "      <td>3106</td>\n",
       "      <td>2022-11-10</td>\n",
       "      <td>60009254; 60013959; 60024069; 60029284; 600004...</td>\n",
       "      <td>Observation of a new particle in the search fo...</td>\n",
       "      <td>CMS; Vector boson scattering</td>\n",
       "      <td>202200561</td>\n",
       "    </tr>\n",
       "    <tr>\n",
       "      <th>547</th>\n",
       "      <td>Dual CFT on a dyonic Kerr-Sen black hole and i...</td>\n",
       "      <td>© 2022 authors.We demonstrate strong evidence ...</td>\n",
       "      <td>Sakti M.F.A.R.; Burikham P.</td>\n",
       "      <td>3106</td>\n",
       "      <td>2022-11-15</td>\n",
       "      <td>60028190</td>\n",
       "      <td>Microscopic origin of the Bekenstein-Hawking e...</td>\n",
       "      <td>NaN</td>\n",
       "      <td>202200547</td>\n",
       "    </tr>\n",
       "    <tr>\n",
       "      <th>191</th>\n",
       "      <td>Erratum to: Searches for long-lived charged pa...</td>\n",
       "      <td>NaN</td>\n",
       "      <td>Chatrchyan S.; Khachatryan V.; Sirunyan A.M.; ...</td>\n",
       "      <td>3106</td>\n",
       "      <td>2022-12-01</td>\n",
       "      <td>60009254; 60023578; 60013959; 60029284; 600004...</td>\n",
       "      <td>Signals for heavy exotics at hadron colliders ...</td>\n",
       "      <td>NaN</td>\n",
       "      <td>202200191</td>\n",
       "    </tr>\n",
       "    <tr>\n",
       "      <th>44</th>\n",
       "      <td>Nuclear modification of Y states in pPb collis...</td>\n",
       "      <td>© 2022 The Author(s)Production cross sections ...</td>\n",
       "      <td>Tumasyan A.; Adam W.; Ambrogi F.; Bergauer T.;...</td>\n",
       "      <td>3106</td>\n",
       "      <td>2022-12-10</td>\n",
       "      <td>60009254; 60013959; 60024069; 60029284; 600004...</td>\n",
       "      <td>J/ψ suppression by quark-gluon plasma formatio...</td>\n",
       "      <td>Bottomonium; CMS; Heavy ion collisions; Quark-...</td>\n",
       "      <td>202200044</td>\n",
       "    </tr>\n",
       "    <tr>\n",
       "      <th>41</th>\n",
       "      <td>More on gravitational waves from double monodr...</td>\n",
       "      <td>© 2022 The Author(s)We further analyze phenome...</td>\n",
       "      <td>Abishev M.; Abylayeva A.; Addazi A.; Aldaberge...</td>\n",
       "      <td>3106</td>\n",
       "      <td>2022-12-10</td>\n",
       "      <td>60071853; 60071847; 60016340; 60016521; 60028190</td>\n",
       "      <td>Quantum gravity phenomenology at the dawn of t...</td>\n",
       "      <td>NaN</td>\n",
       "      <td>202200041</td>\n",
       "    </tr>\n",
       "    <tr>\n",
       "      <th>39</th>\n",
       "      <td>Search for new particles in an extended Higgs ...</td>\n",
       "      <td>© 2022 The Author(s)A search for a massive res...</td>\n",
       "      <td>Tumasyan A.; Adam W.; Andrejkovic J.W.; Bergau...</td>\n",
       "      <td>3106</td>\n",
       "      <td>2022-12-10</td>\n",
       "      <td>60009254; 60013959; 60024069; 60029284; 600004...</td>\n",
       "      <td>Observation of a new boson at a mass of 125 Ge...</td>\n",
       "      <td>2HDM; BSM; CMS; Higgs</td>\n",
       "      <td>202200039</td>\n",
       "    </tr>\n",
       "  </tbody>\n",
       "</table>\n",
       "</div>"
      ],
      "text/plain": [
       "                                                  Title  \\\n",
       "4124  Highly promising recycled low-density polyethy...   \n",
       "3988  Measurement of double-parton scattering in inc...   \n",
       "3941  Study of quark and gluon jet substructure in Z...   \n",
       "2946  Conformal manifolds and 3d mirrors of (Dn , Dm...   \n",
       "2910  Inclusive and differential cross section measu...   \n",
       "2908  Measurement and QCD analysis of double-differe...   \n",
       "2902  Search for heavy resonances decaying to WW, WZ...   \n",
       "2895  Search for flavor-changing neutral current int...   \n",
       "2868  Fragmentation of jets containing a prompt J/ψ ...   \n",
       "2678  Measurement of W±γ differential cross sections...   \n",
       "2675  Study of dijet events with large rapidity sepa...   \n",
       "2686  Primordial gravitational waves from excited st...   \n",
       "2689  Search for long-lived particles produced in as...   \n",
       "2679  Erratum: Search for heavy Higgs bosons decayin...   \n",
       "2628  Search for Wγ resonances in proton-proton coll...   \n",
       "2423  Search for long-lived particles decaying into ...   \n",
       "2421  Search for heavy resonances decaying to ZZ or ...   \n",
       "2401  Zero-form and one-form symmetries of the ABJ a...   \n",
       "2387  Search for a right-handed W boson and a heavy ...   \n",
       "2386  Precision measurement of the W boson decay bra...   \n",
       "2384  Search for a heavy resonance decaying into a t...   \n",
       "2381  Measurement of the inclusive t t ¯ production ...   \n",
       "2377  Search for supersymmetry in final states with ...   \n",
       "2370  Search for electroweak production of charginos...   \n",
       "2155  Search for invisible decays of the Higgs boson...   \n",
       "2196  Measurement of the inclusive and differential ...   \n",
       "2150  Search for single production of a vector-like ...   \n",
       "2127  Search for higgsinos decaying to two Higgs bos...   \n",
       "2126  Search for heavy resonances decaying to a pair...   \n",
       "2146  Measurement of the production cross section fo...   \n",
       "1938  Dynamical consequences of 1-form symmetries an...   \n",
       "1932  Analysis of the CP structure of the Yukawa cou...   \n",
       "1899  Search for resonant production of strongly cou...   \n",
       "1893  Inclusive nonresonant multilepton probes of ne...   \n",
       "1888  Damping signatures at JUNO, a medium-baseline ...   \n",
       "1882  Search for charged-lepton flavor violation in ...   \n",
       "1864  Observation of Bs 0 mesons and measurement of ...   \n",
       "1643  Search for long-lived heavy neutral leptons wi...   \n",
       "1647  Search for heavy resonances decaying to Z (ν ν...   \n",
       "1654  Search for resonances decaying to three W boso...   \n",
       "1689  Search for new physics in the lepton plus miss...   \n",
       "1648  Measurement of the inclusive and differential ...   \n",
       "1442          Nonlinear (chiral) p-form electrodynamics   \n",
       "1441  Measurement of the Drell-Yan forward-backward ...   \n",
       "1168  earch for a W′ boson decaying to a vector-like...   \n",
       "1082  Search for high-mass resonances decaying to a ...   \n",
       "1081  Gamma/hadron separation with the HAWC observatory   \n",
       "561   Evidence for WW/WZ vector boson scattering in ...   \n",
       "547   Dual CFT on a dyonic Kerr-Sen black hole and i...   \n",
       "191   Erratum to: Searches for long-lived charged pa...   \n",
       "44    Nuclear modification of Y states in pPb collis...   \n",
       "41    More on gravitational waves from double monodr...   \n",
       "39    Search for new particles in an extended Higgs ...   \n",
       "\n",
       "                                               Abstract  \\\n",
       "4124  © 2021 Atomic Energy Society of Japan. All rig...   \n",
       "3988  © 2022, The Author(s).A measurement of inclusi...   \n",
       "3941  © 2022, The Author(s).Measurements of jet subs...   \n",
       "2946  © 2022, The Author(s).The Argyres-Douglas (AD)...   \n",
       "2910  © 2022, The Author(s).Inclusive and differenti...   \n",
       "2908  © 2022, The Author(s).A measurement of the inc...   \n",
       "2902  © 2022 CERN.A search for new heavy resonances ...   \n",
       "2895  © 2022, The Author(s).A search for flavor-chan...   \n",
       "2868  © 2021 The Author(s)Jets containing a prompt J...   \n",
       "2678  © 2022 CERN.Differential cross section measure...   \n",
       "2675  © 2022, The Author(s).The cross sections for i...   \n",
       "2686  © 2022, The Author(s).We show that a scalar ex...   \n",
       "2689  © 2022, The Author(s).A search for long-lived ...   \n",
       "2679  © The Author(s).In figure 7 of the original pu...   \n",
       "2628  © 2022 The Author(s)A search for Wγ resonances...   \n",
       "2423  © 2022, The Author(s).A search for long-lived ...   \n",
       "2421  © 2022, The Author(s).A search has been perfor...   \n",
       "2401  © 2022, The Author(s).The zero-form and one-fo...   \n",
       "2387  © 2022, The Author(s).A search is presented fo...   \n",
       "2386  © 2022 CERN.The leptonic and inclusive hadroni...   \n",
       "2384  © 2022, The Author(s).A search for a heavy res...   \n",
       "2381  © 2022, The Author(s).The top quark pair produ...   \n",
       "2377  © 2022, The Author(s).A search for supersymmet...   \n",
       "2370  © 2022, The Author(s).A direct search for elec...   \n",
       "2155  © 2022 CERN.A search for invisible decays of t...   \n",
       "2196  © 2022, The Author(s).The production cross sec...   \n",
       "2150  © 2022, The Author(s).A search is presented fo...   \n",
       "2127  © 2022, The Author(s).Results are presented fr...   \n",
       "2126  © 2022, The Author(s).A search for new heavy r...   \n",
       "2146  © 2022 CERN.The measurement of the cross secti...   \n",
       "1938  © 2022, The Author(s).Higher-form symmetries h...   \n",
       "1932  © 2022, The Author(s).The first measurement of...   \n",
       "1899  © 2022, The Author(s).The first collider searc...   \n",
       "1893  © 2022 CERN, for the CMS Collaboration. Publis...   \n",
       "1888  © 2022, The Author(s).We study damping signatu...   \n",
       "1882  © 2022, The Author(s).Results are presented fr...   \n",
       "1864  © 2022 The Author(s)The Bs 0 and B+ production...   \n",
       "1643  © 2022, The Author(s).A search for heavy neutr...   \n",
       "1647  © 2022 CERN. A search is presented for heavy b...   \n",
       "1654  © 2022 CERN.A search for Kaluza-Klein excited ...   \n",
       "1689  © 2022, The Author(s).A search for physics bey...   \n",
       "1648  © 2022, The Author(s).The associated productio...   \n",
       "1442  © 2022, The Author(s).In our previous article ...   \n",
       "1441  © 2022, The Author(s).A measurement of the for...   \n",
       "1168  © 2022, The Author(s).A search is presented fo...   \n",
       "1082  © 2022 The Author(s)A search is reported for h...   \n",
       "1081  © 2022The High Altitude Water Cherenkov (HAWC)...   \n",
       "561   © 2022 The Author(s)Evidence is reported for e...   \n",
       "547   © 2022 authors.We demonstrate strong evidence ...   \n",
       "191                                                 NaN   \n",
       "44    © 2022 The Author(s)Production cross sections ...   \n",
       "41    © 2022 The Author(s)We further analyze phenome...   \n",
       "39    © 2022 The Author(s)A search for a massive res...   \n",
       "\n",
       "                                                 Author Subject_Area  \\\n",
       "4124  Ratnitsai V.; Wongjaikham W.; Wongsawaeng D.; ...   3106; 2104   \n",
       "3988  Tumasyan A.; Adam W.; Andrejkovic J.W.; Bergau...         3106   \n",
       "3941  Tumasyan A.; Adam W.; Andrejkovic J.W.; Bergau...         3106   \n",
       "2946  Carta F.; Giacomelli S.; Mekareeya N.; Mininno A.         3106   \n",
       "2910  Tumasyan A.; Adam W.; Andrejkovic J.W.; Bergau...         3106   \n",
       "2908  Tumasyan A.; Adam W.; Andrejkovic J.W.; Bergau...         3106   \n",
       "2902  Tumasyan A.; Adam W.; Andrejkovic J.W.; Bergau...         3106   \n",
       "2895  Tumasyan A.; Adam W.; Andrejkovic J.W.; Bergau...         3106   \n",
       "2868  Tumasyan A.; Adam W.; Bergauer T.; Dragicevic ...         3106   \n",
       "2678  Tumasyan A.; Adam W.; Ambrogi F.; Bergauer T.;...         3106   \n",
       "2675  Tumasyan A.; Adam W.; Andrejkovic J.W.; Bergau...         3106   \n",
       "2686  Fumagalli J.; Palma G.A.; Renaux-Petel S.; Syp...         3106   \n",
       "2689  Tumasyan A.; Adam W.; Andrejkovic J.W.; Bergau...         3106   \n",
       "2679  Sirunyan A.M.; Tumasyan A.; Adam W.; Ambrogi F...         3106   \n",
       "2628  Tumasyan A.; Adam W.; Andrejkovic J.W.; Bergau...         3106   \n",
       "2423  Tumasyan A.; Adam W.; Andrejkovic J.W.; Bergau...         3106   \n",
       "2421  Tumasyan A.; Adam W.; Andrejkovic J.W.; Bergau...         3106   \n",
       "2401                Beratto E.; Mekareeya N.; Sacchi M.         3106   \n",
       "2387  Tumasyan A.; Adam W.; Andrejkovic J.W.; Bergau...         3106   \n",
       "2386  Tumasyan A.; Adam W.; Andrejkovic J.W.; Bergau...         3106   \n",
       "2384  Tumasyan A.; Adam W.; Andrejkovic J.W.; Bergau...         3106   \n",
       "2381  Tumasyan A.; Adam W.; Andrejkovic J.W.; Bergau...         3106   \n",
       "2377  Tumasyan A.; Adam W.; Andrejkovic J.W.; Bergau...         3106   \n",
       "2370  Tumasyan A.; Adam W.; Andrejkovic J.W.; Bergau...         3106   \n",
       "2155  Tumasyan A.; Adam W.; Andrejkovic J.W.; Bergau...         3106   \n",
       "2196  Tumasyan A.; Adam W.; Andrejkovic J.W.; Bergau...         3106   \n",
       "2150  Tumasyan A.; Adam W.; Andrejkovic J.W.; Bergau...         3106   \n",
       "2127  Tumasyan A.; Adam W.; Andrejkovic J.W.; Bergau...         3106   \n",
       "2126  Tumasyan A.; Adam W.; Andrejkovic J.W.; Bergau...         3106   \n",
       "2146  Tumasyan A.; Adam W.; Andrejkovic J.W.; Bergau...         3106   \n",
       "1938  Carta F.; Giacomelli S.; Mekareeya N.; Mininno A.         3106   \n",
       "1932  Tumasyan A.; Adam W.; Andrejkovic J.W.; Bergau...         3106   \n",
       "1899  Tumasyan A.; Adam W.; Andrejkovic J.W.; Bergau...         3106   \n",
       "1893  Tumasyan A.; Adam W.; Andrejkovic J.W.; Bergau...         3106   \n",
       "1888  Wang J.; Liao J.; Wang W.; Abusleme A.; Adam T...         3106   \n",
       "1882  Tumasyan A.; Adam W.; Andrejkovic J.W.; Bergau...         3106   \n",
       "1864  Tumasyan A.; Adam W.; Ambrogi F.; Bergauer T.;...         3106   \n",
       "1643  Tumasyan A.; Adam W.; Andrejkovic J.W.; Bergau...         3106   \n",
       "1647  Tumasyan A.; Adam W.; Andrejkovic J.W.; Bergau...         3106   \n",
       "1654  Tumasyan A.; Adam W.; Andrejkovic J.W.; Bergau...         3106   \n",
       "1689  Tumasyan A.; Adam W.; Andrejkovic J.W.; Bergau...         3106   \n",
       "1648  Tumasyan A.; Adam W.; Andrejkovic J.W.; Bergau...         3106   \n",
       "1442               Avetisyan Z.; Evnin O.; Mkrtchyan K.         3106   \n",
       "1441  Tumasyan A.; Adam W.; Andrejkovic J.W.; Bergau...         3106   \n",
       "1168  Tumasyan A.; Adam W.; Andrejkovic J.W.; Bergau...         3106   \n",
       "1082  Tumasyan A.; Adam W.; Andrejkovic J.W.; Bergau...         3106   \n",
       "1081  Alfaro R.; Alvarez C.; Álvarez J.D.; Angeles C...   3106; 3105   \n",
       "561   Tumasyan A.; Adam W.; Andrejkovic J.W.; Bergau...         3106   \n",
       "547                         Sakti M.F.A.R.; Burikham P.         3106   \n",
       "191   Chatrchyan S.; Khachatryan V.; Sirunyan A.M.; ...         3106   \n",
       "44    Tumasyan A.; Adam W.; Ambrogi F.; Bergauer T.;...         3106   \n",
       "41    Abishev M.; Abylayeva A.; Addazi A.; Aldaberge...         3106   \n",
       "39    Tumasyan A.; Adam W.; Andrejkovic J.W.; Bergau...         3106   \n",
       "\n",
       "     Publication_Date                                    Affiliations_ID  \\\n",
       "4124       2022-01-01                                 60272060; 60028190   \n",
       "3988       2022-01-01  60009254; 60014966; 60013959; 60104485; 600235...   \n",
       "3941       2022-01-01  60009254; 60013959; 60104485; 60023579; 600240...   \n",
       "2946       2022-02-01  60032795; 60022175; 60114755; 60028229; 600123...   \n",
       "2910       2022-02-01  60009254; 60014966; 60013959; 60104485; 600235...   \n",
       "2908       2022-02-01  60009254; 60014966; 60013959; 60104485; 600235...   \n",
       "2902       2022-02-01  60009254; 60013959; 60104485; 60023579; 600240...   \n",
       "2895       2022-02-01  60009254; 60013959; 60104485; 60023579; 600240...   \n",
       "2868       2022-02-10  60009254; 60013959; 60024069; 60029284; 600004...   \n",
       "2678       2022-03-01  60009254; 60023578; 60013959; 60104485; 600235...   \n",
       "2675       2022-03-01  60009254; 60013959; 60104485; 60023579; 600240...   \n",
       "2686       2022-03-01  60032795; 60015201; 60274668; 60122504; 600281...   \n",
       "2689       2022-03-01  60009254; 60013959; 60104485; 60023579; 600240...   \n",
       "2679       2022-03-01  60009254; 60023578; 60021910; 60013959; 601044...   \n",
       "2628       2022-03-10  60009254; 60014966; 60013959; 60024069; 600292...   \n",
       "2423       2022-04-01  60009254; 60013959; 60104485; 60023579; 600240...   \n",
       "2421       2022-04-01  60009254; 60013959; 60104485; 60023579; 600240...   \n",
       "2401       2022-04-01             60026851; 60114755; 60012306; 60028190   \n",
       "2387       2022-04-01  60009254; 60013959; 60104485; 60023579; 600240...   \n",
       "2386       2022-04-01  60009254; 60013959; 60104485; 60023579; 600240...   \n",
       "2384       2022-04-01  60009254; 60013959; 60104485; 60023579; 600240...   \n",
       "2381       2022-04-01  60009254; 60013959; 60104485; 60023579; 600240...   \n",
       "2377       2022-04-01  60009254; 60013959; 60104485; 60023579; 600240...   \n",
       "2370       2022-04-01  60009254; 60013959; 60104485; 60023579; 600240...   \n",
       "2155       2022-05-01  60108578; 60009254; 60013959; 60104485; 600235...   \n",
       "2196       2022-05-01  60009254; 60013959; 60104485; 60023579; 600240...   \n",
       "2150       2022-05-01  60009254; 60013959; 60104485; 60023579; 600240...   \n",
       "2127       2022-05-01  60009254; 60013959; 60104485; 60023579; 600240...   \n",
       "2126       2022-05-01  60009254; 60013959; 60104485; 60023579; 600240...   \n",
       "2146       2022-05-01  60009254; 60013959; 60024069; 60029284; 600004...   \n",
       "1938       2022-06-01   60022175; 60114755; 60028229; 60012306; 60028190   \n",
       "1932       2022-06-01  60009254; 60013959; 60104485; 60023579; 600240...   \n",
       "1899       2022-06-01  60108578; 60009254; 60013959; 60104485; 600235...   \n",
       "1893       2022-06-01  60009254; 60013959; 60024069; 60029284; 600004...   \n",
       "1888       2022-06-01  60110942; 60012630; 60014966; 60019616; 601146...   \n",
       "1882       2022-06-01  60009254; 60013959; 60104485; 60023579; 600240...   \n",
       "1864       2022-06-10  60009254; 60013959; 60024069; 60029284; 600004...   \n",
       "1643       2022-07-01  60009254; 60013959; 60104485; 60023579; 600240...   \n",
       "1647       2022-07-01  60009254; 60013959; 60104485; 60071636; 600235...   \n",
       "1654       2022-07-01  60009254; 60013959; 60104485; 60071636; 600235...   \n",
       "1689       2022-07-01  60009254; 60013959; 60104485; 60023579; 600240...   \n",
       "1648       2022-07-01  60009254; 60013959; 60104485; 60023579; 600240...   \n",
       "1442       2022-08-01   60026810; 60025383; 60015150; 60033316; 60028190   \n",
       "1441       2022-08-01  60108578; 60009254; 60013959; 60104485; 600235...   \n",
       "1168       2022-09-01  60009254; 60013959; 60104485; 60023579; 600240...   \n",
       "1082       2022-09-10  60009254; 60013959; 60024069; 60029284; 600004...   \n",
       "1081       2022-09-11  60085982; 60002644; 60019176; 60027652; 600117...   \n",
       "561        2022-11-10  60009254; 60013959; 60024069; 60029284; 600004...   \n",
       "547        2022-11-15                                           60028190   \n",
       "191        2022-12-01  60009254; 60023578; 60013959; 60029284; 600004...   \n",
       "44         2022-12-10  60009254; 60013959; 60024069; 60029284; 600004...   \n",
       "41         2022-12-10   60071853; 60071847; 60016340; 60016521; 60028190   \n",
       "39         2022-12-10  60009254; 60013959; 60024069; 60029284; 600004...   \n",
       "\n",
       "                                             References  \\\n",
       "4124  Current status of technology for collection of...   \n",
       "3988  Measurement of the ratio of inclusive jet cros...   \n",
       "3941  Towards jetography; Jet substructure at the La...   \n",
       "2946  Electric-magnetic duality, monopole condensati...   \n",
       "2910  Observation of single top quark production in ...   \n",
       "2908  Measurement of inclusive jet and dijet cross s...   \n",
       "2902  Partial symmetries of weak interactions; Elect...   \n",
       "2895  Observation of a new particle in the search fo...   \n",
       "2868  J/ψ suppression by quark-gluon plasma formatio...   \n",
       "2678  Measurement of (Equation presented) and (Equat...   \n",
       "2675  Deep inelastic ep scattering in perturbation t...   \n",
       "2686  LIGO Scientific and Virgo collaborations, Obse...   \n",
       "2689  Mini-split; Theories with gauge mediated super...   \n",
       "2679                                                NaN   \n",
       "2628  Observation of a new particle in the search fo...   \n",
       "2423  Dark matter candidates from particle physics a...   \n",
       "2421  Warped gravitons at the LHC and beyond; A larg...   \n",
       "2401  N = 6 superconformal Chern-Simons-matter theor...   \n",
       "2387  Lepton number as the fourth color; A natural l...   \n",
       "2386  Evidence for an Excess of (Equation presented)...   \n",
       "2384  Composite models for quarks and leptons; Excit...   \n",
       "2381  Measurement of double-differential cross secti...   \n",
       "2377  Supergauge transformations in four-dimensions;...   \n",
       "2370  Dual theory for free fermions; A Lagrangian mo...   \n",
       "2155  Broken Symmetry and the Mass of Gauge Vector M...   \n",
       "2196  CDF collaboration, Evidence for t t ¯ γ Produc...   \n",
       "2150  Handbook of vectorlike quarks: mixing and sing...   \n",
       "2127  Observation of a new particle in the search fo...   \n",
       "2126  Observation of a new particle in the search fo...   \n",
       "2146  A review of the intrinsic heavy quark content ...   \n",
       "1938  New phenomena in SU(3) supersymmetric gauge th...   \n",
       "1932  Broken Symmetry and the Mass of Gauge Vector M...   \n",
       "1899  Rotational properties of 21 SC galaxies with a...   \n",
       "1893  (Equation presented) at a rate of one out of (...   \n",
       "1888  Inverse beta processes and nonconservation of ...   \n",
       "1882  Updated bounds on sum of neutrino masses in va...   \n",
       "1864  Superdense matter: neutrons or asymptotically ...   \n",
       "1643  Neutrino oscillations: From a historical persp...   \n",
       "1647  Large Mass Hierarchy from a Small Extra Dimens...   \n",
       "1654  Identification of heavy, energetic, hadronical...   \n",
       "1689  Review of particle physics; A natural left-rig...   \n",
       "1648  Production of W’s with large transverse moment...   \n",
       "1442  Quantised singularities in the electromagnetic...   \n",
       "1441  Extra gauge bosons in E 6; Off peak lepton asy...   \n",
       "1168  Little Higgs review; Left-Right Gauge Symmetry...   \n",
       "1082  Dark matter and the early universe: a review; ...   \n",
       "1081  Extensive Air Showers: High Energy Phenomena a...   \n",
       "561   Observation of a new particle in the search fo...   \n",
       "547   Microscopic origin of the Bekenstein-Hawking e...   \n",
       "191   Signals for heavy exotics at hadron colliders ...   \n",
       "44    J/ψ suppression by quark-gluon plasma formatio...   \n",
       "41    Quantum gravity phenomenology at the dawn of t...   \n",
       "39    Observation of a new boson at a mass of 125 Ge...   \n",
       "\n",
       "                                               Keywords   Filename  \n",
       "4124  Amidoxime; recycled LDPE sheets; seawater; ura...  202204124  \n",
       "3988                Hadron-Hadron Scattering; Jets; QCD  202203988  \n",
       "3941              Hadron-Hadron Scattering; Jet Physics  202203941  \n",
       "2946  Extended Supersymmetry; Supersymmetric Gauge T...  202202946  \n",
       "2910              Hadron-Hadron Scattering; Top Physics  202202910  \n",
       "2908              Hadron-Hadron Scattering; Jet Physics  202202908  \n",
       "2902                                                NaN  202202902  \n",
       "2895  B Physics; Flavour Changing Neutral Currents; ...  202202895  \n",
       "2868                   CMS; Heavy ions; Jets; Quarkonia  202202868  \n",
       "2678                                                NaN  202202678  \n",
       "2675              Hadron-Hadron Scattering; Jet Physics  202202675  \n",
       "2686  Cosmology of Theories BSM; Early Universe Part...  202202686  \n",
       "2689  Beyond Standard Model; Hadron-Hadron Scatterin...  202202689  \n",
       "2679                                                NaN  202202679  \n",
       "2628              BSM particles; CMS; Wgamma resonances  202202628  \n",
       "2423  Beyond Standard Model; Dark Matter; Hadron-Had...  202202423  \n",
       "2421    Beyond Standard Model; Hadron-Hadron Scattering  202202421  \n",
       "2401  Duality in Gauge Field Theories; Extended Supe...  202202401  \n",
       "2387                  Exotics; Hadron-Hadron Scattering  202202387  \n",
       "2386                                                NaN  202202386  \n",
       "2384    Beyond Standard Model; Hadron-Hadron Scattering  202202384  \n",
       "2381              Hadron-Hadron Scattering; Top Physics  202202381  \n",
       "2377            Hadron-Hadron Scattering; Supersymmetry  202202377  \n",
       "2370            Hadron-Hadron Scattering; Supersymmetry  202202370  \n",
       "2155                                                NaN  202202155  \n",
       "2196              Hadron-Hadron Scattering; Top Physics  202202196  \n",
       "2150  Beyond Standard Model; Hadron-Hadron Scatterin...  202202150  \n",
       "2127  Hadron-Hadron Scattering; Higgs Physics; Super...  202202127  \n",
       "2126  Beyond Standard Model; Hadron-Hadron Scatterin...  202202126  \n",
       "2146                                                NaN  202202146  \n",
       "1938  Discrete Symmetries; Extended Supersymmetry; F...  202201938  \n",
       "1932  Hadron-Hadron Scattering; Higgs Physics; Tau P...  202201932  \n",
       "1899  Beyond Standard Model; Dark Matter; Hadron-Had...  202201899  \n",
       "1893                                                NaN  202201893  \n",
       "1888                                                NaN  202201888  \n",
       "1882              Hadron-Hadron Scattering; Top Physics  202201882  \n",
       "1864  B mesons; CMS; Hadronization; Heavy flavor; Qu...  202201864  \n",
       "1643    Beyond Standard Model; Hadron-Hadron Scattering  202201643  \n",
       "1647                                                NaN  202201647  \n",
       "1654                                                NaN  202201654  \n",
       "1689    Beyond Standard Model; Hadron-Hadron Scattering  202201689  \n",
       "1648  Hadron-Hadron Scattering; Particle Correlation...  202201648  \n",
       "1442  Duality in Gauge Field Theories; M-Theory; Sup...  202201442  \n",
       "1441  Hadron-Hadron Scattering; Lepton Production; V...  202201441  \n",
       "1168  Beyond Standard Model; Hadron-Hadron Scatterin...  202201168  \n",
       "1082            CMS; Exotica; Resonance; Search; Trijet  202201082  \n",
       "1081  Crab Nebula; G/H separation; High energy; Mach...  202201081  \n",
       "561                        CMS; Vector boson scattering  202200561  \n",
       "547                                                 NaN  202200547  \n",
       "191                                                 NaN  202200191  \n",
       "44    Bottomonium; CMS; Heavy ion collisions; Quark-...  202200044  \n",
       "41                                                  NaN  202200041  \n",
       "39                                2HDM; BSM; CMS; Higgs  202200039  "
      ]
     },
     "execution_count": 10,
     "metadata": {},
     "output_type": "execute_result"
    }
   ],
   "source": [
    "df2022_with_subject_area_3106.sort_values('Publication_Date', ascending=True)"
   ]
  },
  {
   "cell_type": "code",
   "execution_count": 11,
   "metadata": {},
   "outputs": [
    {
     "name": "stdout",
     "output_type": "stream",
     "text": [
      "                           0                            1   \\\n",
      "0                     Biofilm                 Chlorococcum   \n",
      "1                Anthocyanins                     Cyanidin   \n",
      "2                   Metformin    Transdermal drug delivery   \n",
      "3                Amine blends     Catalytic CO2 desorption   \n",
      "4            Electrocatalysis    High-throughput screening   \n",
      "...                       ...                          ...   \n",
      "4239  institutional investors   international institutions   \n",
      "4240                  autopsy              Perinatal death   \n",
      "4241             ash analysis                BGO detectors   \n",
      "4242           Multi-criteria            rating conversion   \n",
      "4243    construction industry                    Knowledge   \n",
      "\n",
      "                                2                                    3   \\\n",
      "0                       Microalgae                      Photobioreactor   \n",
      "1                     Cytotoxicity                      Insulin fibrils   \n",
      "2                    κ-Carrageenan                                 None   \n",
      "3                   CO2 absorption                          CO2 capture   \n",
      "4      Nitrogen reduction reaction                Single-atom catalysts   \n",
      "...                            ...                                  ...   \n",
      "4239              Retail investors                      style investing   \n",
      "4240                      placenta                             Thailand   \n",
      "4241                          coal   Dual-Energy Gamma-Ray Transmission   \n",
      "4242                recommendation                                 None   \n",
      "4243    knowledge enabling factors                 knowledge management   \n",
      "\n",
      "                               4                     5     6     7     8   \\\n",
      "0                      Surfactant                  None  None  None  None   \n",
      "1                        Malvidin                  None  None  None  None   \n",
      "2                            None                  None  None  None  None   \n",
      "3      Equilibrium CO2 solubility                  None  None  None  None   \n",
      "4               Tungsten diboride                  None  None  None  None   \n",
      "...                           ...                   ...   ...   ...   ...   \n",
      "4239              trade execution                  None  None  None  None   \n",
      "4240                         None                  None  None  None  None   \n",
      "4241                         None                  None  None  None  None   \n",
      "4242                         None                  None  None  None  None   \n",
      "4243   organizational performance   project-based firms  None  None  None   \n",
      "\n",
      "        9     10    11    12    13    14    15    16  \n",
      "0     None  None  None  None  None  None  None  None  \n",
      "1     None  None  None  None  None  None  None  None  \n",
      "2     None  None  None  None  None  None  None  None  \n",
      "3     None  None  None  None  None  None  None  None  \n",
      "4     None  None  None  None  None  None  None  None  \n",
      "...    ...   ...   ...   ...   ...   ...   ...   ...  \n",
      "4239  None  None  None  None  None  None  None  None  \n",
      "4240  None  None  None  None  None  None  None  None  \n",
      "4241  None  None  None  None  None  None  None  None  \n",
      "4242  None  None  None  None  None  None  None  None  \n",
      "4243  None  None  None  None  None  None  None  None  \n",
      "\n",
      "[4244 rows x 17 columns]\n"
     ]
    }
   ],
   "source": [
    "df_2022_keywords = df2022['Keywords'].str.split(';', expand=True)\n",
    "print(df_2022_keywords)"
   ]
  },
  {
   "cell_type": "code",
   "execution_count": 12,
   "metadata": {},
   "outputs": [
    {
     "name": "stdout",
     "output_type": "stream",
     "text": [
      "thailand            160\n",
      "covid-19            117\n",
      "machine learning     43\n",
      "sars-cov-2           40\n",
      "inflammation         39\n",
      "                   ... \n",
      "rt-lamp               2\n",
      "free radicals         2\n",
      "morpho-anatomy        2\n",
      "reproducibility       2\n",
      "nonhomogeneity        2\n",
      "Name: count, Length: 2023, dtype: int64\n"
     ]
    }
   ],
   "source": [
    "# df_2018_keywords.dropna(inplace=True)\n",
    "keywords_counts = df_2022_keywords.stack().str.strip()\n",
    "keywords_counts = keywords_counts.str.lower().value_counts()\n",
    "keywords_counts = keywords_counts[keywords_counts > 1]\n",
    "print(keywords_counts)"
   ]
  },
  {
   "cell_type": "code",
   "execution_count": 13,
   "metadata": {},
   "outputs": [
    {
     "name": "stdout",
     "output_type": "stream",
     "text": [
      "                     Keywords  Count\n",
      "0                    thailand    160\n",
      "1                    covid-19    117\n",
      "2            machine learning     43\n",
      "3                  sars-cov-2     40\n",
      "4                inflammation     39\n",
      "5               deep learning     29\n",
      "6    hadron-hadron scattering     26\n",
      "7                distribution     26\n",
      "8            oxidative stress     23\n",
      "9                  depression     23\n",
      "10                middle east     23\n",
      "11          species diversity     22\n",
      "12                   children     22\n",
      "13                        hiv     19\n",
      "14                  mortality     19\n",
      "15                 psychiatry     18\n",
      "16               epidemiology     17\n",
      "17                   chitosan     17\n",
      "18                 biomarkers     17\n",
      "19                antioxidant     17\n",
      "20               neuro-immune     16\n",
      "21                      fauna     16\n",
      "22                  apoptosis     16\n",
      "23               cytotoxicity     16\n",
      "24                    vaccine     15\n",
      "25      mechanical properties     15\n",
      "30                    obesity     14\n",
      "33                       thai     14\n",
      "32              mental health     14\n",
      "31                adolescents     14\n",
      "27                    bangkok     14\n",
      "29        peritoneal dialysis     14\n",
      "26                       asia     14\n",
      "28                        dog     14\n",
      "34             immunogenicity     13\n",
      "35                      aging     13\n",
      "36                        cat     13\n",
      "37  artificial neural network     13\n",
      "38                    elderly     13\n",
      "39            quality of life     13\n",
      "40    artificial intelligence     13\n",
      "41                lung cancer     13\n",
      "46                  cytokines     12\n",
      "48                       host     12\n",
      "47              meta-analysis     12\n",
      "42       corporate governance     12\n",
      "45                     cancer     12\n",
      "44                  treatment     12\n",
      "43                 proteomics     12\n",
      "54                 morphology     11\n",
      "58               antioxidants     11\n",
      "57                    biofilm     11\n",
      "56        acute kidney injury     11\n",
      "55                  biomarker     11\n",
      "51               social media     11\n",
      "53          systematic review     11\n",
      "49   antimicrobial resistance     11\n",
      "50              schizophrenia     11\n",
      "52               risk factors     11\n"
     ]
    }
   ],
   "source": [
    "result = pd.DataFrame({\n",
    "    'Keywords': keywords_counts.index,\n",
    "    'Count': keywords_counts.values\n",
    "})\n",
    "\n",
    "# Sort the DataFrame by count in descending order\n",
    "keywords_counts_result = result.sort_values('Count', ascending=False)\n",
    "\n",
    "keywords_counts_result = keywords_counts_result[keywords_counts_result['Count'] > 10]\n",
    "print(keywords_counts_result)"
   ]
  },
  {
   "cell_type": "code",
   "execution_count": 14,
   "metadata": {},
   "outputs": [
    {
     "data": {
      "text/html": [
       "        <script type=\"text/javascript\">\n",
       "        window.PlotlyConfig = {MathJaxConfig: 'local'};\n",
       "        if (window.MathJax && window.MathJax.Hub && window.MathJax.Hub.Config) {window.MathJax.Hub.Config({SVG: {font: \"STIX-Web\"}});}\n",
       "        if (typeof require !== 'undefined') {\n",
       "        require.undef(\"plotly\");\n",
       "        requirejs.config({\n",
       "            paths: {\n",
       "                'plotly': ['https://cdn.plot.ly/plotly-2.35.2.min']\n",
       "            }\n",
       "        });\n",
       "        require(['plotly'], function(Plotly) {\n",
       "            window._Plotly = Plotly;\n",
       "        });\n",
       "        }\n",
       "        </script>\n",
       "        "
      ]
     },
     "metadata": {},
     "output_type": "display_data"
    },
    {
     "data": {
      "application/vnd.plotly.v1+json": {
       "config": {
        "linkText": "Export to plot.ly",
        "plotlyServerURL": "https://plot.ly",
        "showLink": true
       },
       "data": [
        {
         "marker": {
          "color": "rgba(255, 153, 51, 0.6)",
          "line": {
           "color": "rgba(255, 153, 51, 1.0)",
           "width": 1
          }
         },
         "name": "Count",
         "orientation": "v",
         "text": "",
         "type": "bar",
         "x": [
          "thailand",
          "covid-19",
          "machine learning",
          "sars-cov-2",
          "inflammation",
          "deep learning",
          "hadron-hadron scattering",
          "distribution",
          "oxidative stress",
          "depression",
          "middle east",
          "species diversity",
          "children",
          "hiv",
          "mortality",
          "psychiatry",
          "epidemiology",
          "chitosan",
          "biomarkers",
          "antioxidant",
          "neuro-immune",
          "fauna",
          "apoptosis",
          "cytotoxicity",
          "vaccine",
          "mechanical properties",
          "obesity",
          "thai",
          "mental health",
          "adolescents",
          "bangkok",
          "peritoneal dialysis",
          "asia",
          "dog",
          "immunogenicity",
          "aging",
          "cat",
          "artificial neural network",
          "elderly",
          "quality of life",
          "artificial intelligence",
          "lung cancer",
          "cytokines",
          "host",
          "meta-analysis",
          "corporate governance",
          "cancer",
          "treatment",
          "proteomics",
          "morphology",
          "antioxidants",
          "biofilm",
          "acute kidney injury",
          "biomarker",
          "social media",
          "systematic review",
          "antimicrobial resistance",
          "schizophrenia",
          "risk factors"
         ],
         "y": [
          160,
          117,
          43,
          40,
          39,
          29,
          26,
          26,
          23,
          23,
          23,
          22,
          22,
          19,
          19,
          18,
          17,
          17,
          17,
          17,
          16,
          16,
          16,
          16,
          15,
          15,
          14,
          14,
          14,
          14,
          14,
          14,
          14,
          14,
          13,
          13,
          13,
          13,
          13,
          13,
          13,
          13,
          12,
          12,
          12,
          12,
          12,
          12,
          12,
          11,
          11,
          11,
          11,
          11,
          11,
          11,
          11,
          11,
          11
         ]
        }
       ],
       "layout": {
        "legend": {
         "bgcolor": "#F5F6F9",
         "font": {
          "color": "#4D5663"
         }
        },
        "paper_bgcolor": "#F5F6F9",
        "plot_bgcolor": "#F5F6F9",
        "template": {
         "data": {
          "bar": [
           {
            "error_x": {
             "color": "#2a3f5f"
            },
            "error_y": {
             "color": "#2a3f5f"
            },
            "marker": {
             "line": {
              "color": "#E5ECF6",
              "width": 0.5
             },
             "pattern": {
              "fillmode": "overlay",
              "size": 10,
              "solidity": 0.2
             }
            },
            "type": "bar"
           }
          ],
          "barpolar": [
           {
            "marker": {
             "line": {
              "color": "#E5ECF6",
              "width": 0.5
             },
             "pattern": {
              "fillmode": "overlay",
              "size": 10,
              "solidity": 0.2
             }
            },
            "type": "barpolar"
           }
          ],
          "carpet": [
           {
            "aaxis": {
             "endlinecolor": "#2a3f5f",
             "gridcolor": "white",
             "linecolor": "white",
             "minorgridcolor": "white",
             "startlinecolor": "#2a3f5f"
            },
            "baxis": {
             "endlinecolor": "#2a3f5f",
             "gridcolor": "white",
             "linecolor": "white",
             "minorgridcolor": "white",
             "startlinecolor": "#2a3f5f"
            },
            "type": "carpet"
           }
          ],
          "choropleth": [
           {
            "colorbar": {
             "outlinewidth": 0,
             "ticks": ""
            },
            "type": "choropleth"
           }
          ],
          "contour": [
           {
            "colorbar": {
             "outlinewidth": 0,
             "ticks": ""
            },
            "colorscale": [
             [
              0,
              "#0d0887"
             ],
             [
              0.1111111111111111,
              "#46039f"
             ],
             [
              0.2222222222222222,
              "#7201a8"
             ],
             [
              0.3333333333333333,
              "#9c179e"
             ],
             [
              0.4444444444444444,
              "#bd3786"
             ],
             [
              0.5555555555555556,
              "#d8576b"
             ],
             [
              0.6666666666666666,
              "#ed7953"
             ],
             [
              0.7777777777777778,
              "#fb9f3a"
             ],
             [
              0.8888888888888888,
              "#fdca26"
             ],
             [
              1,
              "#f0f921"
             ]
            ],
            "type": "contour"
           }
          ],
          "contourcarpet": [
           {
            "colorbar": {
             "outlinewidth": 0,
             "ticks": ""
            },
            "type": "contourcarpet"
           }
          ],
          "heatmap": [
           {
            "colorbar": {
             "outlinewidth": 0,
             "ticks": ""
            },
            "colorscale": [
             [
              0,
              "#0d0887"
             ],
             [
              0.1111111111111111,
              "#46039f"
             ],
             [
              0.2222222222222222,
              "#7201a8"
             ],
             [
              0.3333333333333333,
              "#9c179e"
             ],
             [
              0.4444444444444444,
              "#bd3786"
             ],
             [
              0.5555555555555556,
              "#d8576b"
             ],
             [
              0.6666666666666666,
              "#ed7953"
             ],
             [
              0.7777777777777778,
              "#fb9f3a"
             ],
             [
              0.8888888888888888,
              "#fdca26"
             ],
             [
              1,
              "#f0f921"
             ]
            ],
            "type": "heatmap"
           }
          ],
          "heatmapgl": [
           {
            "colorbar": {
             "outlinewidth": 0,
             "ticks": ""
            },
            "colorscale": [
             [
              0,
              "#0d0887"
             ],
             [
              0.1111111111111111,
              "#46039f"
             ],
             [
              0.2222222222222222,
              "#7201a8"
             ],
             [
              0.3333333333333333,
              "#9c179e"
             ],
             [
              0.4444444444444444,
              "#bd3786"
             ],
             [
              0.5555555555555556,
              "#d8576b"
             ],
             [
              0.6666666666666666,
              "#ed7953"
             ],
             [
              0.7777777777777778,
              "#fb9f3a"
             ],
             [
              0.8888888888888888,
              "#fdca26"
             ],
             [
              1,
              "#f0f921"
             ]
            ],
            "type": "heatmapgl"
           }
          ],
          "histogram": [
           {
            "marker": {
             "pattern": {
              "fillmode": "overlay",
              "size": 10,
              "solidity": 0.2
             }
            },
            "type": "histogram"
           }
          ],
          "histogram2d": [
           {
            "colorbar": {
             "outlinewidth": 0,
             "ticks": ""
            },
            "colorscale": [
             [
              0,
              "#0d0887"
             ],
             [
              0.1111111111111111,
              "#46039f"
             ],
             [
              0.2222222222222222,
              "#7201a8"
             ],
             [
              0.3333333333333333,
              "#9c179e"
             ],
             [
              0.4444444444444444,
              "#bd3786"
             ],
             [
              0.5555555555555556,
              "#d8576b"
             ],
             [
              0.6666666666666666,
              "#ed7953"
             ],
             [
              0.7777777777777778,
              "#fb9f3a"
             ],
             [
              0.8888888888888888,
              "#fdca26"
             ],
             [
              1,
              "#f0f921"
             ]
            ],
            "type": "histogram2d"
           }
          ],
          "histogram2dcontour": [
           {
            "colorbar": {
             "outlinewidth": 0,
             "ticks": ""
            },
            "colorscale": [
             [
              0,
              "#0d0887"
             ],
             [
              0.1111111111111111,
              "#46039f"
             ],
             [
              0.2222222222222222,
              "#7201a8"
             ],
             [
              0.3333333333333333,
              "#9c179e"
             ],
             [
              0.4444444444444444,
              "#bd3786"
             ],
             [
              0.5555555555555556,
              "#d8576b"
             ],
             [
              0.6666666666666666,
              "#ed7953"
             ],
             [
              0.7777777777777778,
              "#fb9f3a"
             ],
             [
              0.8888888888888888,
              "#fdca26"
             ],
             [
              1,
              "#f0f921"
             ]
            ],
            "type": "histogram2dcontour"
           }
          ],
          "mesh3d": [
           {
            "colorbar": {
             "outlinewidth": 0,
             "ticks": ""
            },
            "type": "mesh3d"
           }
          ],
          "parcoords": [
           {
            "line": {
             "colorbar": {
              "outlinewidth": 0,
              "ticks": ""
             }
            },
            "type": "parcoords"
           }
          ],
          "pie": [
           {
            "automargin": true,
            "type": "pie"
           }
          ],
          "scatter": [
           {
            "fillpattern": {
             "fillmode": "overlay",
             "size": 10,
             "solidity": 0.2
            },
            "type": "scatter"
           }
          ],
          "scatter3d": [
           {
            "line": {
             "colorbar": {
              "outlinewidth": 0,
              "ticks": ""
             }
            },
            "marker": {
             "colorbar": {
              "outlinewidth": 0,
              "ticks": ""
             }
            },
            "type": "scatter3d"
           }
          ],
          "scattercarpet": [
           {
            "marker": {
             "colorbar": {
              "outlinewidth": 0,
              "ticks": ""
             }
            },
            "type": "scattercarpet"
           }
          ],
          "scattergeo": [
           {
            "marker": {
             "colorbar": {
              "outlinewidth": 0,
              "ticks": ""
             }
            },
            "type": "scattergeo"
           }
          ],
          "scattergl": [
           {
            "marker": {
             "colorbar": {
              "outlinewidth": 0,
              "ticks": ""
             }
            },
            "type": "scattergl"
           }
          ],
          "scattermapbox": [
           {
            "marker": {
             "colorbar": {
              "outlinewidth": 0,
              "ticks": ""
             }
            },
            "type": "scattermapbox"
           }
          ],
          "scatterpolar": [
           {
            "marker": {
             "colorbar": {
              "outlinewidth": 0,
              "ticks": ""
             }
            },
            "type": "scatterpolar"
           }
          ],
          "scatterpolargl": [
           {
            "marker": {
             "colorbar": {
              "outlinewidth": 0,
              "ticks": ""
             }
            },
            "type": "scatterpolargl"
           }
          ],
          "scatterternary": [
           {
            "marker": {
             "colorbar": {
              "outlinewidth": 0,
              "ticks": ""
             }
            },
            "type": "scatterternary"
           }
          ],
          "surface": [
           {
            "colorbar": {
             "outlinewidth": 0,
             "ticks": ""
            },
            "colorscale": [
             [
              0,
              "#0d0887"
             ],
             [
              0.1111111111111111,
              "#46039f"
             ],
             [
              0.2222222222222222,
              "#7201a8"
             ],
             [
              0.3333333333333333,
              "#9c179e"
             ],
             [
              0.4444444444444444,
              "#bd3786"
             ],
             [
              0.5555555555555556,
              "#d8576b"
             ],
             [
              0.6666666666666666,
              "#ed7953"
             ],
             [
              0.7777777777777778,
              "#fb9f3a"
             ],
             [
              0.8888888888888888,
              "#fdca26"
             ],
             [
              1,
              "#f0f921"
             ]
            ],
            "type": "surface"
           }
          ],
          "table": [
           {
            "cells": {
             "fill": {
              "color": "#EBF0F8"
             },
             "line": {
              "color": "white"
             }
            },
            "header": {
             "fill": {
              "color": "#C8D4E3"
             },
             "line": {
              "color": "white"
             }
            },
            "type": "table"
           }
          ]
         },
         "layout": {
          "annotationdefaults": {
           "arrowcolor": "#2a3f5f",
           "arrowhead": 0,
           "arrowwidth": 1
          },
          "autotypenumbers": "strict",
          "coloraxis": {
           "colorbar": {
            "outlinewidth": 0,
            "ticks": ""
           }
          },
          "colorscale": {
           "diverging": [
            [
             0,
             "#8e0152"
            ],
            [
             0.1,
             "#c51b7d"
            ],
            [
             0.2,
             "#de77ae"
            ],
            [
             0.3,
             "#f1b6da"
            ],
            [
             0.4,
             "#fde0ef"
            ],
            [
             0.5,
             "#f7f7f7"
            ],
            [
             0.6,
             "#e6f5d0"
            ],
            [
             0.7,
             "#b8e186"
            ],
            [
             0.8,
             "#7fbc41"
            ],
            [
             0.9,
             "#4d9221"
            ],
            [
             1,
             "#276419"
            ]
           ],
           "sequential": [
            [
             0,
             "#0d0887"
            ],
            [
             0.1111111111111111,
             "#46039f"
            ],
            [
             0.2222222222222222,
             "#7201a8"
            ],
            [
             0.3333333333333333,
             "#9c179e"
            ],
            [
             0.4444444444444444,
             "#bd3786"
            ],
            [
             0.5555555555555556,
             "#d8576b"
            ],
            [
             0.6666666666666666,
             "#ed7953"
            ],
            [
             0.7777777777777778,
             "#fb9f3a"
            ],
            [
             0.8888888888888888,
             "#fdca26"
            ],
            [
             1,
             "#f0f921"
            ]
           ],
           "sequentialminus": [
            [
             0,
             "#0d0887"
            ],
            [
             0.1111111111111111,
             "#46039f"
            ],
            [
             0.2222222222222222,
             "#7201a8"
            ],
            [
             0.3333333333333333,
             "#9c179e"
            ],
            [
             0.4444444444444444,
             "#bd3786"
            ],
            [
             0.5555555555555556,
             "#d8576b"
            ],
            [
             0.6666666666666666,
             "#ed7953"
            ],
            [
             0.7777777777777778,
             "#fb9f3a"
            ],
            [
             0.8888888888888888,
             "#fdca26"
            ],
            [
             1,
             "#f0f921"
            ]
           ]
          },
          "colorway": [
           "#636efa",
           "#EF553B",
           "#00cc96",
           "#ab63fa",
           "#FFA15A",
           "#19d3f3",
           "#FF6692",
           "#B6E880",
           "#FF97FF",
           "#FECB52"
          ],
          "font": {
           "color": "#2a3f5f"
          },
          "geo": {
           "bgcolor": "white",
           "lakecolor": "white",
           "landcolor": "#E5ECF6",
           "showlakes": true,
           "showland": true,
           "subunitcolor": "white"
          },
          "hoverlabel": {
           "align": "left"
          },
          "hovermode": "closest",
          "mapbox": {
           "style": "light"
          },
          "paper_bgcolor": "white",
          "plot_bgcolor": "#E5ECF6",
          "polar": {
           "angularaxis": {
            "gridcolor": "white",
            "linecolor": "white",
            "ticks": ""
           },
           "bgcolor": "#E5ECF6",
           "radialaxis": {
            "gridcolor": "white",
            "linecolor": "white",
            "ticks": ""
           }
          },
          "scene": {
           "xaxis": {
            "backgroundcolor": "#E5ECF6",
            "gridcolor": "white",
            "gridwidth": 2,
            "linecolor": "white",
            "showbackground": true,
            "ticks": "",
            "zerolinecolor": "white"
           },
           "yaxis": {
            "backgroundcolor": "#E5ECF6",
            "gridcolor": "white",
            "gridwidth": 2,
            "linecolor": "white",
            "showbackground": true,
            "ticks": "",
            "zerolinecolor": "white"
           },
           "zaxis": {
            "backgroundcolor": "#E5ECF6",
            "gridcolor": "white",
            "gridwidth": 2,
            "linecolor": "white",
            "showbackground": true,
            "ticks": "",
            "zerolinecolor": "white"
           }
          },
          "shapedefaults": {
           "line": {
            "color": "#2a3f5f"
           }
          },
          "ternary": {
           "aaxis": {
            "gridcolor": "white",
            "linecolor": "white",
            "ticks": ""
           },
           "baxis": {
            "gridcolor": "white",
            "linecolor": "white",
            "ticks": ""
           },
           "bgcolor": "#E5ECF6",
           "caxis": {
            "gridcolor": "white",
            "linecolor": "white",
            "ticks": ""
           }
          },
          "title": {
           "x": 0.05
          },
          "xaxis": {
           "automargin": true,
           "gridcolor": "white",
           "linecolor": "white",
           "ticks": "",
           "title": {
            "standoff": 15
           },
           "zerolinecolor": "white",
           "zerolinewidth": 2
          },
          "yaxis": {
           "automargin": true,
           "gridcolor": "white",
           "linecolor": "white",
           "ticks": "",
           "title": {
            "standoff": 15
           },
           "zerolinecolor": "white",
           "zerolinewidth": 2
          }
         }
        },
        "title": {
         "font": {
          "color": "#4D5663"
         },
         "text": "Keywords Counts in 2022"
        },
        "xaxis": {
         "gridcolor": "#E1E5ED",
         "showgrid": true,
         "tickfont": {
          "color": "#4D5663"
         },
         "title": {
          "font": {
           "color": "#4D5663"
          },
          "text": "Keywords"
         },
         "zerolinecolor": "#E1E5ED"
        },
        "yaxis": {
         "gridcolor": "#E1E5ED",
         "showgrid": true,
         "tickfont": {
          "color": "#4D5663"
         },
         "title": {
          "font": {
           "color": "#4D5663"
          },
          "text": "Count"
         },
         "zerolinecolor": "#E1E5ED"
        }
       }
      },
      "text/html": [
       "<div>                            <div id=\"296714e1-4af9-4d6c-9108-a974b645a60e\" class=\"plotly-graph-div\" style=\"height:525px; width:100%;\"></div>            <script type=\"text/javascript\">                require([\"plotly\"], function(Plotly) {                    window.PLOTLYENV=window.PLOTLYENV || {};\n",
       "                    window.PLOTLYENV.BASE_URL='https://plot.ly';                                    if (document.getElementById(\"296714e1-4af9-4d6c-9108-a974b645a60e\")) {                    Plotly.newPlot(                        \"296714e1-4af9-4d6c-9108-a974b645a60e\",                        [{\"marker\":{\"color\":\"rgba(255, 153, 51, 0.6)\",\"line\":{\"color\":\"rgba(255, 153, 51, 1.0)\",\"width\":1}},\"name\":\"Count\",\"orientation\":\"v\",\"text\":\"\",\"x\":[\"thailand\",\"covid-19\",\"machine learning\",\"sars-cov-2\",\"inflammation\",\"deep learning\",\"hadron-hadron scattering\",\"distribution\",\"oxidative stress\",\"depression\",\"middle east\",\"species diversity\",\"children\",\"hiv\",\"mortality\",\"psychiatry\",\"epidemiology\",\"chitosan\",\"biomarkers\",\"antioxidant\",\"neuro-immune\",\"fauna\",\"apoptosis\",\"cytotoxicity\",\"vaccine\",\"mechanical properties\",\"obesity\",\"thai\",\"mental health\",\"adolescents\",\"bangkok\",\"peritoneal dialysis\",\"asia\",\"dog\",\"immunogenicity\",\"aging\",\"cat\",\"artificial neural network\",\"elderly\",\"quality of life\",\"artificial intelligence\",\"lung cancer\",\"cytokines\",\"host\",\"meta-analysis\",\"corporate governance\",\"cancer\",\"treatment\",\"proteomics\",\"morphology\",\"antioxidants\",\"biofilm\",\"acute kidney injury\",\"biomarker\",\"social media\",\"systematic review\",\"antimicrobial resistance\",\"schizophrenia\",\"risk factors\"],\"y\":[160,117,43,40,39,29,26,26,23,23,23,22,22,19,19,18,17,17,17,17,16,16,16,16,15,15,14,14,14,14,14,14,14,14,13,13,13,13,13,13,13,13,12,12,12,12,12,12,12,11,11,11,11,11,11,11,11,11,11],\"type\":\"bar\"}],                        {\"legend\":{\"bgcolor\":\"#F5F6F9\",\"font\":{\"color\":\"#4D5663\"}},\"paper_bgcolor\":\"#F5F6F9\",\"plot_bgcolor\":\"#F5F6F9\",\"template\":{\"data\":{\"barpolar\":[{\"marker\":{\"line\":{\"color\":\"#E5ECF6\",\"width\":0.5},\"pattern\":{\"fillmode\":\"overlay\",\"size\":10,\"solidity\":0.2}},\"type\":\"barpolar\"}],\"bar\":[{\"error_x\":{\"color\":\"#2a3f5f\"},\"error_y\":{\"color\":\"#2a3f5f\"},\"marker\":{\"line\":{\"color\":\"#E5ECF6\",\"width\":0.5},\"pattern\":{\"fillmode\":\"overlay\",\"size\":10,\"solidity\":0.2}},\"type\":\"bar\"}],\"carpet\":[{\"aaxis\":{\"endlinecolor\":\"#2a3f5f\",\"gridcolor\":\"white\",\"linecolor\":\"white\",\"minorgridcolor\":\"white\",\"startlinecolor\":\"#2a3f5f\"},\"baxis\":{\"endlinecolor\":\"#2a3f5f\",\"gridcolor\":\"white\",\"linecolor\":\"white\",\"minorgridcolor\":\"white\",\"startlinecolor\":\"#2a3f5f\"},\"type\":\"carpet\"}],\"choropleth\":[{\"colorbar\":{\"outlinewidth\":0,\"ticks\":\"\"},\"type\":\"choropleth\"}],\"contourcarpet\":[{\"colorbar\":{\"outlinewidth\":0,\"ticks\":\"\"},\"type\":\"contourcarpet\"}],\"contour\":[{\"colorbar\":{\"outlinewidth\":0,\"ticks\":\"\"},\"colorscale\":[[0.0,\"#0d0887\"],[0.1111111111111111,\"#46039f\"],[0.2222222222222222,\"#7201a8\"],[0.3333333333333333,\"#9c179e\"],[0.4444444444444444,\"#bd3786\"],[0.5555555555555556,\"#d8576b\"],[0.6666666666666666,\"#ed7953\"],[0.7777777777777778,\"#fb9f3a\"],[0.8888888888888888,\"#fdca26\"],[1.0,\"#f0f921\"]],\"type\":\"contour\"}],\"heatmapgl\":[{\"colorbar\":{\"outlinewidth\":0,\"ticks\":\"\"},\"colorscale\":[[0.0,\"#0d0887\"],[0.1111111111111111,\"#46039f\"],[0.2222222222222222,\"#7201a8\"],[0.3333333333333333,\"#9c179e\"],[0.4444444444444444,\"#bd3786\"],[0.5555555555555556,\"#d8576b\"],[0.6666666666666666,\"#ed7953\"],[0.7777777777777778,\"#fb9f3a\"],[0.8888888888888888,\"#fdca26\"],[1.0,\"#f0f921\"]],\"type\":\"heatmapgl\"}],\"heatmap\":[{\"colorbar\":{\"outlinewidth\":0,\"ticks\":\"\"},\"colorscale\":[[0.0,\"#0d0887\"],[0.1111111111111111,\"#46039f\"],[0.2222222222222222,\"#7201a8\"],[0.3333333333333333,\"#9c179e\"],[0.4444444444444444,\"#bd3786\"],[0.5555555555555556,\"#d8576b\"],[0.6666666666666666,\"#ed7953\"],[0.7777777777777778,\"#fb9f3a\"],[0.8888888888888888,\"#fdca26\"],[1.0,\"#f0f921\"]],\"type\":\"heatmap\"}],\"histogram2dcontour\":[{\"colorbar\":{\"outlinewidth\":0,\"ticks\":\"\"},\"colorscale\":[[0.0,\"#0d0887\"],[0.1111111111111111,\"#46039f\"],[0.2222222222222222,\"#7201a8\"],[0.3333333333333333,\"#9c179e\"],[0.4444444444444444,\"#bd3786\"],[0.5555555555555556,\"#d8576b\"],[0.6666666666666666,\"#ed7953\"],[0.7777777777777778,\"#fb9f3a\"],[0.8888888888888888,\"#fdca26\"],[1.0,\"#f0f921\"]],\"type\":\"histogram2dcontour\"}],\"histogram2d\":[{\"colorbar\":{\"outlinewidth\":0,\"ticks\":\"\"},\"colorscale\":[[0.0,\"#0d0887\"],[0.1111111111111111,\"#46039f\"],[0.2222222222222222,\"#7201a8\"],[0.3333333333333333,\"#9c179e\"],[0.4444444444444444,\"#bd3786\"],[0.5555555555555556,\"#d8576b\"],[0.6666666666666666,\"#ed7953\"],[0.7777777777777778,\"#fb9f3a\"],[0.8888888888888888,\"#fdca26\"],[1.0,\"#f0f921\"]],\"type\":\"histogram2d\"}],\"histogram\":[{\"marker\":{\"pattern\":{\"fillmode\":\"overlay\",\"size\":10,\"solidity\":0.2}},\"type\":\"histogram\"}],\"mesh3d\":[{\"colorbar\":{\"outlinewidth\":0,\"ticks\":\"\"},\"type\":\"mesh3d\"}],\"parcoords\":[{\"line\":{\"colorbar\":{\"outlinewidth\":0,\"ticks\":\"\"}},\"type\":\"parcoords\"}],\"pie\":[{\"automargin\":true,\"type\":\"pie\"}],\"scatter3d\":[{\"line\":{\"colorbar\":{\"outlinewidth\":0,\"ticks\":\"\"}},\"marker\":{\"colorbar\":{\"outlinewidth\":0,\"ticks\":\"\"}},\"type\":\"scatter3d\"}],\"scattercarpet\":[{\"marker\":{\"colorbar\":{\"outlinewidth\":0,\"ticks\":\"\"}},\"type\":\"scattercarpet\"}],\"scattergeo\":[{\"marker\":{\"colorbar\":{\"outlinewidth\":0,\"ticks\":\"\"}},\"type\":\"scattergeo\"}],\"scattergl\":[{\"marker\":{\"colorbar\":{\"outlinewidth\":0,\"ticks\":\"\"}},\"type\":\"scattergl\"}],\"scattermapbox\":[{\"marker\":{\"colorbar\":{\"outlinewidth\":0,\"ticks\":\"\"}},\"type\":\"scattermapbox\"}],\"scatterpolargl\":[{\"marker\":{\"colorbar\":{\"outlinewidth\":0,\"ticks\":\"\"}},\"type\":\"scatterpolargl\"}],\"scatterpolar\":[{\"marker\":{\"colorbar\":{\"outlinewidth\":0,\"ticks\":\"\"}},\"type\":\"scatterpolar\"}],\"scatter\":[{\"fillpattern\":{\"fillmode\":\"overlay\",\"size\":10,\"solidity\":0.2},\"type\":\"scatter\"}],\"scatterternary\":[{\"marker\":{\"colorbar\":{\"outlinewidth\":0,\"ticks\":\"\"}},\"type\":\"scatterternary\"}],\"surface\":[{\"colorbar\":{\"outlinewidth\":0,\"ticks\":\"\"},\"colorscale\":[[0.0,\"#0d0887\"],[0.1111111111111111,\"#46039f\"],[0.2222222222222222,\"#7201a8\"],[0.3333333333333333,\"#9c179e\"],[0.4444444444444444,\"#bd3786\"],[0.5555555555555556,\"#d8576b\"],[0.6666666666666666,\"#ed7953\"],[0.7777777777777778,\"#fb9f3a\"],[0.8888888888888888,\"#fdca26\"],[1.0,\"#f0f921\"]],\"type\":\"surface\"}],\"table\":[{\"cells\":{\"fill\":{\"color\":\"#EBF0F8\"},\"line\":{\"color\":\"white\"}},\"header\":{\"fill\":{\"color\":\"#C8D4E3\"},\"line\":{\"color\":\"white\"}},\"type\":\"table\"}]},\"layout\":{\"annotationdefaults\":{\"arrowcolor\":\"#2a3f5f\",\"arrowhead\":0,\"arrowwidth\":1},\"autotypenumbers\":\"strict\",\"coloraxis\":{\"colorbar\":{\"outlinewidth\":0,\"ticks\":\"\"}},\"colorscale\":{\"diverging\":[[0,\"#8e0152\"],[0.1,\"#c51b7d\"],[0.2,\"#de77ae\"],[0.3,\"#f1b6da\"],[0.4,\"#fde0ef\"],[0.5,\"#f7f7f7\"],[0.6,\"#e6f5d0\"],[0.7,\"#b8e186\"],[0.8,\"#7fbc41\"],[0.9,\"#4d9221\"],[1,\"#276419\"]],\"sequential\":[[0.0,\"#0d0887\"],[0.1111111111111111,\"#46039f\"],[0.2222222222222222,\"#7201a8\"],[0.3333333333333333,\"#9c179e\"],[0.4444444444444444,\"#bd3786\"],[0.5555555555555556,\"#d8576b\"],[0.6666666666666666,\"#ed7953\"],[0.7777777777777778,\"#fb9f3a\"],[0.8888888888888888,\"#fdca26\"],[1.0,\"#f0f921\"]],\"sequentialminus\":[[0.0,\"#0d0887\"],[0.1111111111111111,\"#46039f\"],[0.2222222222222222,\"#7201a8\"],[0.3333333333333333,\"#9c179e\"],[0.4444444444444444,\"#bd3786\"],[0.5555555555555556,\"#d8576b\"],[0.6666666666666666,\"#ed7953\"],[0.7777777777777778,\"#fb9f3a\"],[0.8888888888888888,\"#fdca26\"],[1.0,\"#f0f921\"]]},\"colorway\":[\"#636efa\",\"#EF553B\",\"#00cc96\",\"#ab63fa\",\"#FFA15A\",\"#19d3f3\",\"#FF6692\",\"#B6E880\",\"#FF97FF\",\"#FECB52\"],\"font\":{\"color\":\"#2a3f5f\"},\"geo\":{\"bgcolor\":\"white\",\"lakecolor\":\"white\",\"landcolor\":\"#E5ECF6\",\"showlakes\":true,\"showland\":true,\"subunitcolor\":\"white\"},\"hoverlabel\":{\"align\":\"left\"},\"hovermode\":\"closest\",\"mapbox\":{\"style\":\"light\"},\"paper_bgcolor\":\"white\",\"plot_bgcolor\":\"#E5ECF6\",\"polar\":{\"angularaxis\":{\"gridcolor\":\"white\",\"linecolor\":\"white\",\"ticks\":\"\"},\"bgcolor\":\"#E5ECF6\",\"radialaxis\":{\"gridcolor\":\"white\",\"linecolor\":\"white\",\"ticks\":\"\"}},\"scene\":{\"xaxis\":{\"backgroundcolor\":\"#E5ECF6\",\"gridcolor\":\"white\",\"gridwidth\":2,\"linecolor\":\"white\",\"showbackground\":true,\"ticks\":\"\",\"zerolinecolor\":\"white\"},\"yaxis\":{\"backgroundcolor\":\"#E5ECF6\",\"gridcolor\":\"white\",\"gridwidth\":2,\"linecolor\":\"white\",\"showbackground\":true,\"ticks\":\"\",\"zerolinecolor\":\"white\"},\"zaxis\":{\"backgroundcolor\":\"#E5ECF6\",\"gridcolor\":\"white\",\"gridwidth\":2,\"linecolor\":\"white\",\"showbackground\":true,\"ticks\":\"\",\"zerolinecolor\":\"white\"}},\"shapedefaults\":{\"line\":{\"color\":\"#2a3f5f\"}},\"ternary\":{\"aaxis\":{\"gridcolor\":\"white\",\"linecolor\":\"white\",\"ticks\":\"\"},\"baxis\":{\"gridcolor\":\"white\",\"linecolor\":\"white\",\"ticks\":\"\"},\"bgcolor\":\"#E5ECF6\",\"caxis\":{\"gridcolor\":\"white\",\"linecolor\":\"white\",\"ticks\":\"\"}},\"title\":{\"x\":0.05},\"xaxis\":{\"automargin\":true,\"gridcolor\":\"white\",\"linecolor\":\"white\",\"ticks\":\"\",\"title\":{\"standoff\":15},\"zerolinecolor\":\"white\",\"zerolinewidth\":2},\"yaxis\":{\"automargin\":true,\"gridcolor\":\"white\",\"linecolor\":\"white\",\"ticks\":\"\",\"title\":{\"standoff\":15},\"zerolinecolor\":\"white\",\"zerolinewidth\":2}}},\"title\":{\"font\":{\"color\":\"#4D5663\"},\"text\":\"Keywords Counts in 2022\"},\"xaxis\":{\"gridcolor\":\"#E1E5ED\",\"showgrid\":true,\"tickfont\":{\"color\":\"#4D5663\"},\"title\":{\"font\":{\"color\":\"#4D5663\"},\"text\":\"Keywords\"},\"zerolinecolor\":\"#E1E5ED\"},\"yaxis\":{\"gridcolor\":\"#E1E5ED\",\"showgrid\":true,\"tickfont\":{\"color\":\"#4D5663\"},\"title\":{\"font\":{\"color\":\"#4D5663\"},\"text\":\"Count\"},\"zerolinecolor\":\"#E1E5ED\"}},                        {\"showLink\": true, \"linkText\": \"Export to plot.ly\", \"plotlyServerURL\": \"https://plot.ly\", \"responsive\": true}                    ).then(function(){\n",
       "                            \n",
       "var gd = document.getElementById('296714e1-4af9-4d6c-9108-a974b645a60e');\n",
       "var x = new MutationObserver(function (mutations, observer) {{\n",
       "        var display = window.getComputedStyle(gd).display;\n",
       "        if (!display || display === 'none') {{\n",
       "            console.log([gd, 'removed!']);\n",
       "            Plotly.purge(gd);\n",
       "            observer.disconnect();\n",
       "        }}\n",
       "}});\n",
       "\n",
       "// Listen for the removal of the full notebook cells\n",
       "var notebookContainer = gd.closest('#notebook-container');\n",
       "if (notebookContainer) {{\n",
       "    x.observe(notebookContainer, {childList: true});\n",
       "}}\n",
       "\n",
       "// Listen for the clearing of the current output cell\n",
       "var outputEl = gd.closest('.output');\n",
       "if (outputEl) {{\n",
       "    x.observe(outputEl, {childList: true});\n",
       "}}\n",
       "\n",
       "                        })                };                });            </script>        </div>"
      ]
     },
     "metadata": {},
     "output_type": "display_data"
    }
   ],
   "source": [
    "import cufflinks as cf\n",
    "cf.go_offline()\n",
    "cf.set_config_file(offline=False, world_readable=True)\n",
    "\n",
    "keywords_counts_result.iplot(kind='bar', x='Keywords', y='Count', xTitle='Keywords', yTitle='Count', title='Keywords Counts in 2022')\n"
   ]
  },
  {
   "cell_type": "code",
   "execution_count": 15,
   "metadata": {},
   "outputs": [],
   "source": [
    "keywords_counts_result.rename(columns={'Count': '2022_Count'}, inplace=True)\n",
    "keywords_counts_result.to_csv('ExtractedData/2022_keywords_counts.csv', index=False)"
   ]
  }
 ],
 "metadata": {
  "kernelspec": {
   "display_name": "base",
   "language": "python",
   "name": "python3"
  },
  "language_info": {
   "codemirror_mode": {
    "name": "ipython",
    "version": 3
   },
   "file_extension": ".py",
   "mimetype": "text/x-python",
   "name": "python",
   "nbconvert_exporter": "python",
   "pygments_lexer": "ipython3",
   "version": "3.11.5"
  }
 },
 "nbformat": 4,
 "nbformat_minor": 2
}
