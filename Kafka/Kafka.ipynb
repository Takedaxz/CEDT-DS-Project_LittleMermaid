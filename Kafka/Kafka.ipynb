{
 "cells": [
  {
   "cell_type": "code",
   "execution_count": 4,
   "metadata": {},
   "outputs": [
    {
     "name": "stdout",
     "output_type": "stream",
     "text": [
      "Processing file: ../ExtractedData/2018.csv\n",
      "Processing file: ../ExtractedData/2019.csv\n",
      "Processing file: ../ExtractedData/2020.csv\n",
      "Processing file: ../ExtractedData/2021.csv\n",
      "Processing file: ../ExtractedData/2022.csv\n",
      "Processing file: ../ExtractedData/2023.csv\n",
      "Processing file: ../scopusNewData/scopus_papers_2018_full_details.csv\n",
      "Processing file: ../scopusNewData/scopus_papers_2019_full_details.csv\n",
      "Processing file: ../scopusNewData/scopus_papers_2020_full_details.csv\n",
      "Processing file: ../scopusNewData/scopus_papers_2021_full_details.csv\n",
      "Processing file: ../scopusNewData/scopus_papers_2022_full_details.csv\n",
      "Processing file: ../scopusNewData/scopus_papers_2023_full_details.csv\n",
      "Processing file: ../scopusNewData/scopus_papers_2024_full_details.csv\n"
     ]
    }
   ],
   "source": [
    "import csv\n",
    "import os\n",
    "from kafka import KafkaProducer\n",
    "\n",
    "# กำหนด Kafka Broker และ Topic\n",
    "KAFKA_BROKER = '127.0.0.1:9092'\n",
    "TOPIC_NAME = 'csv_topic'\n",
    "\n",
    "# สร้าง Kafka Producer\n",
    "producer = KafkaProducer(bootstrap_servers=[KAFKA_BROKER])\n",
    "\n",
    "# กำหนดขีดจำกัดของขนาดฟิลด์ที่ csv จะอ่านได้\n",
    "csv.field_size_limit(1000 * 1024 * 1024) \n",
    "\n",
    "def process_csv(file_path):\n",
    "    print(f\"Processing file: {file_path}\")\n",
    "    with open(file_path, 'r') as csvfile:\n",
    "        reader = csv.DictReader(csvfile)\n",
    "        for row in reader:\n",
    "            key = row.get('Title', 'default_key')  # ใช้คอลัมน์ 'Title' เป็น key หรือกำหนดค่า default\n",
    "            value = '฿'.join([str(row[col]) for col in reader.fieldnames])  # แปลงข้อมูลทั้งหมดเป็น string\n",
    "\n",
    "            # ส่งข้อมูลไปยัง Kafka\n",
    "            producer.send(\n",
    "                TOPIC_NAME,\n",
    "                key=str(key).encode('utf-8'),\n",
    "                value=value.encode('utf-8')\n",
    "            )\n",
    "\n",
    "# รายชื่อไฟล์ CSV ที่ต้องการประมวลผล\n",
    "csv_files = ['../ExtractedData/2018.csv','../ExtractedData/2019.csv','../ExtractedData/2020.csv','../ExtractedData/2021.csv','../ExtractedData/2022.csv','../ExtractedData/2023.csv',\n",
    "             '../scopusNewData/scopus_papers_2018_full_details.csv','../scopusNewData/scopus_papers_2019_full_details.csv','../scopusNewData/scopus_papers_2020_full_details.csv',\n",
    "             '../scopusNewData/scopus_papers_2021_full_details.csv', '../scopusNewData/scopus_papers_2022_full_details.csv', '../scopusNewData/scopus_papers_2023_full_details.csv',\n",
    "             '../scopusNewData/scopus_papers_2024_full_details.csv']\n",
    "\n",
    "# ตรวจสอบว่าไฟล์มีอยู่จริงและประมวลผลแต่ละไฟล์\n",
    "for csv_file in csv_files:\n",
    "    if os.path.exists(csv_file):\n",
    "        process_csv(csv_file)\n",
    "    else:\n",
    "        print(f\"File not found: {csv_file}\")\n"
   ]
  },
  {
   "cell_type": "code",
   "execution_count": 5,
   "metadata": {},
   "outputs": [
    {
     "name": "stdout",
     "output_type": "stream",
     "text": [
      "Starting consumer...\n",
      "Consumed message with key: Embracing innovation and collaboration: A message from the new Editor-in-Chief, value: Embracing innovation and collaboration: A message from the new Editor-in-Chief฿฿Li, Min฿Journal฿Cancer Letters฿2024-12-28฿University of Oklahoma College of Medicine฿\n"
     ]
    }
   ],
   "source": [
    "from kafka import KafkaConsumer\n",
    "\n",
    "# กำหนด Kafka Broker และ Topic\n",
    "KAFKA_BROKER = '127.0.0.1:9092'\n",
    "TOPIC_NAME = 'csv_topic'\n",
    "\n",
    "# กำหนด key ที่ต้องการกรองใน Consumer\n",
    "TARGET_KEY = 'Embracing innovation and collaboration: A message from the new Editor-in-Chief'  # ตัวอย่าง key ที่ต้องการกรอง\n",
    "\n",
    "# สร้าง Kafka Consumer\n",
    "consumer = KafkaConsumer(\n",
    "    TOPIC_NAME,\n",
    "    bootstrap_servers=[KAFKA_BROKER],\n",
    "    group_id='csv_consumer_group',\n",
    "    auto_offset_reset='earliest',  # อ่านข้อความตั้งแต่แรก\n",
    "    value_deserializer=lambda x: x.decode('utf-8'),\n",
    "    key_deserializer=lambda x: x.decode('utf-8')\n",
    ")\n",
    "\n",
    "\n",
    "def consume_messages():\n",
    "    print(\"Starting consumer...\")\n",
    "\n",
    "    for message in consumer:\n",
    "        # อ่าน key และ value จาก Kafka message\n",
    "        key = message.key\n",
    "        value = message.value\n",
    "\n",
    "        # กรองข้อมูลตาม key ที่ต้องการ\n",
    "        if key == TARGET_KEY:\n",
    "            print(f\"Consumed message with key: {key}, value: {value}\")\n",
    "            break\n",
    "\n",
    "\n",
    "\n",
    "# เริ่มต้น Kafka Consumer\n",
    "consume_messages()\n"
   ]
  }
 ],
 "metadata": {
  "kernelspec": {
   "display_name": "denv2",
   "language": "python",
   "name": "python3"
  },
  "language_info": {
   "codemirror_mode": {
    "name": "ipython",
    "version": 3
   },
   "file_extension": ".py",
   "mimetype": "text/x-python",
   "name": "python",
   "nbconvert_exporter": "python",
   "pygments_lexer": "ipython3",
   "version": "3.10.15"
  }
 },
 "nbformat": 4,
 "nbformat_minor": 2
}
