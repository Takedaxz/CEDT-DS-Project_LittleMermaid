{
 "cells": [
  {
   "cell_type": "markdown",
   "metadata": {},
   "source": [
    "<h1>Arxiv</h1>\n",
    "<h3>Document: https://lukasschwab.me/arxiv.py/arxiv.html``</h3>"
   ]
  },
  {
   "cell_type": "code",
   "execution_count": 14,
   "metadata": {},
   "outputs": [
    {
     "name": "stderr",
     "output_type": "stream",
     "text": [
      "INFO:arxiv:Requesting page (first: True, try: 0): https://export.arxiv.org/api/query?search_query=thailand&id_list=&sortBy=submittedDate&sortOrder=descending&start=0&max_results=100\n",
      "DEBUG:urllib3.connectionpool:Starting new HTTPS connection (1): export.arxiv.org:443\n",
      "DEBUG:urllib3.connectionpool:https://export.arxiv.org:443 \"GET /api/query?search_query=thailand&id_list=&sortBy=submittedDate&sortOrder=descending&start=0&max_results=100 HTTP/11\" 200 None\n",
      "INFO:arxiv:Got first page: 100 of 273 total results\n"
     ]
    },
    {
     "data": {
      "text/html": [
       "<div>\n",
       "<style scoped>\n",
       "    .dataframe tbody tr th:only-of-type {\n",
       "        vertical-align: middle;\n",
       "    }\n",
       "\n",
       "    .dataframe tbody tr th {\n",
       "        vertical-align: top;\n",
       "    }\n",
       "\n",
       "    .dataframe thead th {\n",
       "        text-align: right;\n",
       "    }\n",
       "</style>\n",
       "<table border=\"1\" class=\"dataframe\">\n",
       "  <thead>\n",
       "    <tr style=\"text-align: right;\">\n",
       "      <th></th>\n",
       "      <th>title</th>\n",
       "      <th>abstract</th>\n",
       "      <th>author</th>\n",
       "    </tr>\n",
       "  </thead>\n",
       "  <tbody>\n",
       "    <tr>\n",
       "      <th>0</th>\n",
       "      <td>Thai Financial Domain Adaptation of THaLLE -- ...</td>\n",
       "      <td>Large Language Models (LLMs) excel in general ...</td>\n",
       "      <td>[KBTG Labs, Atthakorn Petchsod, Pornchanan Bal...</td>\n",
       "    </tr>\n",
       "    <tr>\n",
       "      <th>1</th>\n",
       "      <td>TomoATT: An open-source package for Eikonal eq...</td>\n",
       "      <td>TomoATT is an open-source software package, ai...</td>\n",
       "      <td>[Jing Chen, Masaru Nagaso, Mijian Xu, Ping Tong]</td>\n",
       "    </tr>\n",
       "    <tr>\n",
       "      <th>2</th>\n",
       "      <td>One-Stage-TFS: Thai One-Stage Fingerspelling D...</td>\n",
       "      <td>The Thai One-Stage Fingerspelling (One-Stage-T...</td>\n",
       "      <td>[Siriwiwat Lata, Sirawan Phiphitphatphaisit, E...</td>\n",
       "    </tr>\n",
       "    <tr>\n",
       "      <th>3</th>\n",
       "      <td>EcoCropsAID: Economic Crops Aerial Image Datas...</td>\n",
       "      <td>The EcoCropsAID dataset is a comprehensive col...</td>\n",
       "      <td>[Sangdaow Noppitak, Emmanuel Okafor, Olarik Su...</td>\n",
       "    </tr>\n",
       "    <tr>\n",
       "      <th>4</th>\n",
       "      <td>AIWR: Aerial Image Water Resource Dataset for ...</td>\n",
       "      <td>Effective water resource management is crucial...</td>\n",
       "      <td>[Sangdaow Noppitak, Emmanuel Okafor, Olarik Su...</td>\n",
       "    </tr>\n",
       "  </tbody>\n",
       "</table>\n",
       "</div>"
      ],
      "text/plain": [
       "                                               title  \\\n",
       "0  Thai Financial Domain Adaptation of THaLLE -- ...   \n",
       "1  TomoATT: An open-source package for Eikonal eq...   \n",
       "2  One-Stage-TFS: Thai One-Stage Fingerspelling D...   \n",
       "3  EcoCropsAID: Economic Crops Aerial Image Datas...   \n",
       "4  AIWR: Aerial Image Water Resource Dataset for ...   \n",
       "\n",
       "                                            abstract  \\\n",
       "0  Large Language Models (LLMs) excel in general ...   \n",
       "1  TomoATT is an open-source software package, ai...   \n",
       "2  The Thai One-Stage Fingerspelling (One-Stage-T...   \n",
       "3  The EcoCropsAID dataset is a comprehensive col...   \n",
       "4  Effective water resource management is crucial...   \n",
       "\n",
       "                                              author  \n",
       "0  [KBTG Labs, Atthakorn Petchsod, Pornchanan Bal...  \n",
       "1   [Jing Chen, Masaru Nagaso, Mijian Xu, Ping Tong]  \n",
       "2  [Siriwiwat Lata, Sirawan Phiphitphatphaisit, E...  \n",
       "3  [Sangdaow Noppitak, Emmanuel Okafor, Olarik Su...  \n",
       "4  [Sangdaow Noppitak, Emmanuel Okafor, Olarik Su...  "
      ]
     },
     "execution_count": 14,
     "metadata": {},
     "output_type": "execute_result"
    }
   ],
   "source": [
    "import arxiv\n",
    "import pandas as pd\n",
    "\n",
    "# Construct the default API client.\n",
    "client = arxiv.Client()\n",
    "\n",
    "# Search for the 100 most recent articles matching the keyword \"quantum.\"\n",
    "search = arxiv.Search(\n",
    "  query = \"thailand\",\n",
    "  max_results = 100,\n",
    "  sort_by = arxiv.SortCriterion.SubmittedDate\n",
    ")\n",
    "\n",
    "results = client.results(search)\n",
    "author=[]\n",
    "abstract=[]\n",
    "title=[]\n",
    "# `results` is a generator; you can iterate over its elements one by one...\n",
    "for r in client.results(search):\n",
    "  title.append(r.title)\n",
    "  abstract.append(r.summary)\n",
    "  author.append(r.authors)\n",
    "\n",
    "df=pd.DataFrame({'title':title,'abstract':abstract,'author':author})\n",
    "df.head()\n"
   ]
  },
  {
   "cell_type": "code",
   "execution_count": 2,
   "metadata": {},
   "outputs": [
    {
     "name": "stdout",
     "output_type": "stream",
     "text": [
      "['Thai Financial Domain Adaptation of THaLLE -- Technical Report', 'TomoATT: An open-source package for Eikonal equation-based adjoint-state traveltime tomography for seismic velocity and azimuthal anisotropy', 'One-Stage-TFS: Thai One-Stage Fingerspelling Dataset for Fingerspelling Recognition Frameworks', 'EcoCropsAID: Economic Crops Aerial Image Dataset for Land Use Classification', 'AIWR: Aerial Image Water Resource Dataset for Segmentation Analysis', 'IoT-Based Water Quality Monitoring System in Philippine Off-Grid Communities', 'Design and Feasibility of a Community Motorcycle Ambulance System in the Philippines', 'Exploring 5G Network Performance: Comparison of Inner and Outer City Areas in Phetchaburi Province', 'Integrating PETs into Software Applications: A Game-Based Learning Approach', 'Study of the $μ$ Cet Binary with Speckle Interferometric, Photometric and Spectroscopic Techniques']\n"
     ]
    }
   ],
   "source": [
    "# ...or exhaust it into a list. Careful: this is slow for large results sets.\n",
    "all_results = list(results)\n",
    "print([r.title for r in all_results])"
   ]
  },
  {
   "cell_type": "code",
   "execution_count": 3,
   "metadata": {},
   "outputs": [
    {
     "name": "stdout",
     "output_type": "stream",
     "text": [
      "http://arxiv.org/abs/cond-mat/0603029v1\n"
     ]
    }
   ],
   "source": [
    "# For advanced query syntax documentation, see the arXiv API User Manual:\n",
    "# https://arxiv.org/help/api/user-manual#query_details\n",
    "search = arxiv.Search(query = \"au:del_maestro AND ti:checkerboard\")\n",
    "first_result = next(client.results(search))\n",
    "print(first_result)"
   ]
  },
  {
   "cell_type": "code",
   "execution_count": 4,
   "metadata": {},
   "outputs": [
    {
     "name": "stdout",
     "output_type": "stream",
     "text": [
      "From stripe to checkerboard order on the square lattice in the presence of quenched disorder\n"
     ]
    }
   ],
   "source": [
    "# Search for the paper with ID \"1605.08386v1\"\n",
    "search_by_id = arxiv.Search(id_list=[\"1605.08386v1\"])\n",
    "# Reuse client to fetch the paper, then print its title.\n",
    "first_result = next(client.results(search))\n",
    "print(first_result.title)"
   ]
  },
  {
   "cell_type": "markdown",
   "metadata": {},
   "source": [
    "<h2>Fetching results with a custom client</h2>"
   ]
  },
  {
   "cell_type": "code",
   "execution_count": null,
   "metadata": {},
   "outputs": [],
   "source": [
    "big_slow_client = arxiv.Client(\n",
    "  page_size = 1000,\n",
    "  delay_seconds = 10.0,\n",
    "  num_retries = 5\n",
    ")\n",
    "\n",
    "# Prints 1000 titles before needing to make another request.\n",
    "for result in big_slow_client.results(arxiv.Search(query=\"quantum\")):\n",
    "  print(result.title)"
   ]
  },
  {
   "cell_type": "markdown",
   "metadata": {},
   "source": [
    "<h2>Logging</h2>"
   ]
  },
  {
   "cell_type": "code",
   "execution_count": 6,
   "metadata": {},
   "outputs": [
    {
     "name": "stderr",
     "output_type": "stream",
     "text": [
      "INFO:arxiv:Requesting page (first: True, try: 0): https://export.arxiv.org/api/query?search_query=&id_list=1605.08386v1&sortBy=relevance&sortOrder=descending&start=0&max_results=100\n",
      "DEBUG:urllib3.connectionpool:Starting new HTTPS connection (1): export.arxiv.org:443\n",
      "DEBUG:urllib3.connectionpool:https://export.arxiv.org:443 \"GET /api/query?search_query=&id_list=1605.08386v1&sortBy=relevance&sortOrder=descending&start=0&max_results=100 HTTP/11\" 200 978\n",
      "INFO:arxiv:Got first page: 1 of 1 total results\n"
     ]
    }
   ],
   "source": [
    "import logging\n",
    "logging.basicConfig(level=logging.DEBUG)\n",
    "client = arxiv.Client()\n",
    "paper = next(client.results(arxiv.Search(id_list=[\"1605.08386v1\"])))"
   ]
  }
 ],
 "metadata": {
  "kernelspec": {
   "display_name": "base",
   "language": "python",
   "name": "python3"
  },
  "language_info": {
   "codemirror_mode": {
    "name": "ipython",
    "version": 3
   },
   "file_extension": ".py",
   "mimetype": "text/x-python",
   "name": "python",
   "nbconvert_exporter": "python",
   "pygments_lexer": "ipython3",
   "version": "3.11.10"
  }
 },
 "nbformat": 4,
 "nbformat_minor": 2
}
