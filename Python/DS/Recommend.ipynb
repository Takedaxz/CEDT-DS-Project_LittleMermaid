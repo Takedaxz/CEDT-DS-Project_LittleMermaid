{
 "cells": [
  {
   "cell_type": "code",
   "execution_count": 129,
   "metadata": {},
   "outputs": [],
   "source": [
    "import pandas as pd\n",
    "import numpy as np\n",
    "from sklearn.feature_extraction.text import TfidfVectorizer\n",
    "from sklearn.metrics.pairwise import cosine_similarity\n",
    "from nltk.corpus import stopwords\n",
    "from nltk.tokenize import word_tokenize\n",
    "from nltk.stem import WordNetLemmatizer\n",
    "import nltk"
   ]
  },
  {
   "cell_type": "code",
   "execution_count": 130,
   "metadata": {},
   "outputs": [],
   "source": [
    "year = '2018'\n",
    "data_path = f'/Users/naphat-c/Documents/naphat/Data/project/CEDT-DS-Project_LittleMermaid/ExtractedData/{year}.csv'\n",
    "df = pd.read_csv(data_path)"
   ]
  },
  {
   "cell_type": "code",
   "execution_count": 131,
   "metadata": {},
   "outputs": [
    {
     "data": {
      "text/html": [
       "<div>\n",
       "<style scoped>\n",
       "    .dataframe tbody tr th:only-of-type {\n",
       "        vertical-align: middle;\n",
       "    }\n",
       "\n",
       "    .dataframe tbody tr th {\n",
       "        vertical-align: top;\n",
       "    }\n",
       "\n",
       "    .dataframe thead th {\n",
       "        text-align: right;\n",
       "    }\n",
       "</style>\n",
       "<table border=\"1\" class=\"dataframe\">\n",
       "  <thead>\n",
       "    <tr style=\"text-align: right;\">\n",
       "      <th></th>\n",
       "      <th>Title</th>\n",
       "      <th>Abstract</th>\n",
       "      <th>Author</th>\n",
       "      <th>Aggregation_Type</th>\n",
       "      <th>Publisher</th>\n",
       "      <th>Publication_Date</th>\n",
       "      <th>Institutions</th>\n",
       "      <th>Keywords</th>\n",
       "      <th>Filename</th>\n",
       "    </tr>\n",
       "  </thead>\n",
       "  <tbody>\n",
       "    <tr>\n",
       "      <th>0</th>\n",
       "      <td>Public health and international epidemiology f...</td>\n",
       "      <td>NaN</td>\n",
       "      <td>Pongpirul K.; Lungren M.P.</td>\n",
       "      <td>Book</td>\n",
       "      <td>Springer International Publishing</td>\n",
       "      <td>2018-12-31</td>\n",
       "      <td>Chulalongkorn University; Johns Hopkins Bloomb...</td>\n",
       "      <td>NaN</td>\n",
       "      <td>201800000</td>\n",
       "    </tr>\n",
       "    <tr>\n",
       "      <th>1</th>\n",
       "      <td>Flexible Printed Active Antenna for Digital Te...</td>\n",
       "      <td>© 2018 The Institute of Electronics, Informati...</td>\n",
       "      <td>Pratumsiri T.; Janpugdee P.</td>\n",
       "      <td>Conference Proceeding</td>\n",
       "      <td>Institute of Electrical and Electronics Engine...</td>\n",
       "      <td>2018-12-31</td>\n",
       "      <td>Chulalongkorn University</td>\n",
       "      <td>NaN</td>\n",
       "      <td>201800001</td>\n",
       "    </tr>\n",
       "    <tr>\n",
       "      <th>2</th>\n",
       "      <td>Parametric study of hydrogen production via so...</td>\n",
       "      <td>© 2018 Elsevier LtdComputational fluid dynamic...</td>\n",
       "      <td>Phuakpunk K.; Chalermsinsuwan B.; Putivisutisa...</td>\n",
       "      <td>Journal</td>\n",
       "      <td>Elsevier Ltd</td>\n",
       "      <td>2018-12-31</td>\n",
       "      <td>Chulalongkorn University; Chulalongkorn Univer...</td>\n",
       "      <td>Circulating fluidized bed; Computational fluid...</td>\n",
       "      <td>201800002</td>\n",
       "    </tr>\n",
       "    <tr>\n",
       "      <th>3</th>\n",
       "      <td>Superhydrophobic coating from fluoroalkylsilan...</td>\n",
       "      <td>© 2018 Elsevier B.V. A superhydrophobic/supero...</td>\n",
       "      <td>Saengkaew J.; Le D.; Samart C.; Sawada H.; Nis...</td>\n",
       "      <td>Journal</td>\n",
       "      <td>Elsevier B.V.</td>\n",
       "      <td>2018-12-31</td>\n",
       "      <td>Thammasat University; Hirosaki University; Nat...</td>\n",
       "      <td>Encapsulation; Fluoroalkylsilane; Natural rubb...</td>\n",
       "      <td>201800003</td>\n",
       "    </tr>\n",
       "    <tr>\n",
       "      <th>4</th>\n",
       "      <td>Electrochemical impedance-based DNA sensor usi...</td>\n",
       "      <td>© 2018 Elsevier B.V. A label-free electrochemi...</td>\n",
       "      <td>Teengam P.; Siangproh W.; Tuantranont A.; Vila...</td>\n",
       "      <td>Journal</td>\n",
       "      <td>Elsevier B.V.</td>\n",
       "      <td>2018-12-31</td>\n",
       "      <td>Chulalongkorn University; Srinakharinwirot Uni...</td>\n",
       "      <td>acpcPNA; Electrochemical impedance spectroscop...</td>\n",
       "      <td>201800004</td>\n",
       "    </tr>\n",
       "  </tbody>\n",
       "</table>\n",
       "</div>"
      ],
      "text/plain": [
       "                                               Title  \\\n",
       "0  Public health and international epidemiology f...   \n",
       "1  Flexible Printed Active Antenna for Digital Te...   \n",
       "2  Parametric study of hydrogen production via so...   \n",
       "3  Superhydrophobic coating from fluoroalkylsilan...   \n",
       "4  Electrochemical impedance-based DNA sensor usi...   \n",
       "\n",
       "                                            Abstract  \\\n",
       "0                                                NaN   \n",
       "1  © 2018 The Institute of Electronics, Informati...   \n",
       "2  © 2018 Elsevier LtdComputational fluid dynamic...   \n",
       "3  © 2018 Elsevier B.V. A superhydrophobic/supero...   \n",
       "4  © 2018 Elsevier B.V. A label-free electrochemi...   \n",
       "\n",
       "                                              Author       Aggregation_Type  \\\n",
       "0                         Pongpirul K.; Lungren M.P.                   Book   \n",
       "1                        Pratumsiri T.; Janpugdee P.  Conference Proceeding   \n",
       "2  Phuakpunk K.; Chalermsinsuwan B.; Putivisutisa...                Journal   \n",
       "3  Saengkaew J.; Le D.; Samart C.; Sawada H.; Nis...                Journal   \n",
       "4  Teengam P.; Siangproh W.; Tuantranont A.; Vila...                Journal   \n",
       "\n",
       "                                           Publisher Publication_Date  \\\n",
       "0                  Springer International Publishing       2018-12-31   \n",
       "1  Institute of Electrical and Electronics Engine...       2018-12-31   \n",
       "2                                       Elsevier Ltd       2018-12-31   \n",
       "3                                      Elsevier B.V.       2018-12-31   \n",
       "4                                      Elsevier B.V.       2018-12-31   \n",
       "\n",
       "                                        Institutions  \\\n",
       "0  Chulalongkorn University; Johns Hopkins Bloomb...   \n",
       "1                           Chulalongkorn University   \n",
       "2  Chulalongkorn University; Chulalongkorn Univer...   \n",
       "3  Thammasat University; Hirosaki University; Nat...   \n",
       "4  Chulalongkorn University; Srinakharinwirot Uni...   \n",
       "\n",
       "                                            Keywords   Filename  \n",
       "0                                                NaN  201800000  \n",
       "1                                                NaN  201800001  \n",
       "2  Circulating fluidized bed; Computational fluid...  201800002  \n",
       "3  Encapsulation; Fluoroalkylsilane; Natural rubb...  201800003  \n",
       "4  acpcPNA; Electrochemical impedance spectroscop...  201800004  "
      ]
     },
     "execution_count": 131,
     "metadata": {},
     "output_type": "execute_result"
    }
   ],
   "source": [
    "df.head()"
   ]
  },
  {
   "cell_type": "code",
   "execution_count": 132,
   "metadata": {},
   "outputs": [
    {
     "name": "stderr",
     "output_type": "stream",
     "text": [
      "[nltk_data] Downloading package stopwords to\n",
      "[nltk_data]     /Users/naphat-c/nltk_data...\n",
      "[nltk_data]   Package stopwords is already up-to-date!\n",
      "[nltk_data] Downloading package punkt_tab to\n",
      "[nltk_data]     /Users/naphat-c/nltk_data...\n",
      "[nltk_data]   Package punkt_tab is already up-to-date!\n"
     ]
    }
   ],
   "source": [
    "nltk.download('stopwords')\n",
    "nltk.download('punkt_tab')\n",
    "stop_words = set(stopwords.words('english'))"
   ]
  },
  {
   "cell_type": "code",
   "execution_count": 133,
   "metadata": {},
   "outputs": [
    {
     "data": {
      "text/html": [
       "<div>\n",
       "<style scoped>\n",
       "    .dataframe tbody tr th:only-of-type {\n",
       "        vertical-align: middle;\n",
       "    }\n",
       "\n",
       "    .dataframe tbody tr th {\n",
       "        vertical-align: top;\n",
       "    }\n",
       "\n",
       "    .dataframe thead th {\n",
       "        text-align: right;\n",
       "    }\n",
       "</style>\n",
       "<table border=\"1\" class=\"dataframe\">\n",
       "  <thead>\n",
       "    <tr style=\"text-align: right;\">\n",
       "      <th></th>\n",
       "      <th>Abstract</th>\n",
       "      <th>Processed_Abstract</th>\n",
       "    </tr>\n",
       "  </thead>\n",
       "  <tbody>\n",
       "    <tr>\n",
       "      <th>0</th>\n",
       "      <td></td>\n",
       "      <td></td>\n",
       "    </tr>\n",
       "    <tr>\n",
       "      <th>1</th>\n",
       "      <td>© 2018 The Institute of Electronics, Informati...</td>\n",
       "      <td>2018 institute electronics information communi...</td>\n",
       "    </tr>\n",
       "    <tr>\n",
       "      <th>2</th>\n",
       "      <td>© 2018 Elsevier LtdComputational fluid dynamic...</td>\n",
       "      <td>2018 elsevier ltdcomputational fluid dynamics ...</td>\n",
       "    </tr>\n",
       "    <tr>\n",
       "      <th>3</th>\n",
       "      <td>© 2018 Elsevier B.V. A superhydrophobic/supero...</td>\n",
       "      <td>2018 elsevier mesh successfully prepared simpl...</td>\n",
       "    </tr>\n",
       "    <tr>\n",
       "      <th>4</th>\n",
       "      <td>© 2018 Elsevier B.V. A label-free electrochemi...</td>\n",
       "      <td>2018 elsevier electrochemical dna sensor based...</td>\n",
       "    </tr>\n",
       "  </tbody>\n",
       "</table>\n",
       "</div>"
      ],
      "text/plain": [
       "                                            Abstract  \\\n",
       "0                                                      \n",
       "1  © 2018 The Institute of Electronics, Informati...   \n",
       "2  © 2018 Elsevier LtdComputational fluid dynamic...   \n",
       "3  © 2018 Elsevier B.V. A superhydrophobic/supero...   \n",
       "4  © 2018 Elsevier B.V. A label-free electrochemi...   \n",
       "\n",
       "                                  Processed_Abstract  \n",
       "0                                                     \n",
       "1  2018 institute electronics information communi...  \n",
       "2  2018 elsevier ltdcomputational fluid dynamics ...  \n",
       "3  2018 elsevier mesh successfully prepared simpl...  \n",
       "4  2018 elsevier electrochemical dna sensor based...  "
      ]
     },
     "execution_count": 133,
     "metadata": {},
     "output_type": "execute_result"
    }
   ],
   "source": [
    "# Define preprocessing function\n",
    "def preprocess_text(text):\n",
    "    tokens = nltk.word_tokenize(text.lower())  # Tokenization & Lowercase\n",
    "    tokens = [word for word in tokens if word.isalnum()]  # Keep only alphanumeric\n",
    "    tokens = [word for word in tokens if word not in stop_words]  # Remove stopwords\n",
    "    return ' '.join(tokens)\n",
    "\n",
    "df['Abstract'] = df['Abstract'].fillna('') \n",
    "df['Processed_Abstract'] = df['Abstract'].apply(preprocess_text)\n",
    "\n",
    "df[['Abstract', 'Processed_Abstract']].head()\n"
   ]
  },
  {
   "cell_type": "code",
   "execution_count": 134,
   "metadata": {},
   "outputs": [
    {
     "name": "stdout",
     "output_type": "stream",
     "text": [
      "Combined TF-IDF Matrix Shape: (2792, 31504)\n"
     ]
    }
   ],
   "source": [
    "# TF-IDF\n",
    "vectorizer = TfidfVectorizer()\n",
    "combined_vectors = vectorizer.fit_transform(df['Abstract'] + \" \" + df['Title'])  # Combine Abstract and Title for vectorization\n",
    "\n",
    "print(f\"Combined TF-IDF Matrix Shape: {combined_vectors.shape}\")\n",
    "\n"
   ]
  },
  {
   "cell_type": "code",
   "execution_count": 135,
   "metadata": {},
   "outputs": [
    {
     "name": "stdout",
     "output_type": "stream",
     "text": [
      "Processed Input: al\n"
     ]
    }
   ],
   "source": [
    "inputdata = input(\"Enter your abstract text: \")\n",
    "\n",
    "# Preprocess the input\n",
    "processed_input = preprocess_text(inputdata)\n",
    "\n",
    "# Vectorize the input\n",
    "input_vector = vectorizer.transform([processed_input])\n",
    "\n",
    "# Display processed input\n",
    "print(f\"Processed Input: {processed_input}\")\n"
   ]
  },
  {
   "cell_type": "code",
   "execution_count": 136,
   "metadata": {},
   "outputs": [
    {
     "name": "stdout",
     "output_type": "stream",
     "text": [
      "Top 10 Recommended Titles:\n",
      "1. Reply to Chen et al\n",
      "2. A novel paper-based colorimetry device for the determination of the albumin to creatinine ratio\n",
      "3. The masseteric nerve: An anatomical study in Thai population with an emphasis on its use in facial reanimation\n",
      "4. Enhanced Stability and Propene Yield in Propane Dehydrogenation on PtIn/Mg(Al)O Catalysts with Various In Loadings\n",
      "5. Accuracy of axial length measurements obtained by optical biometry and acoustic biometry in rhegmatogenous retinal detachment: A prospective study\n",
      "6. Characterization of different Si-and Al-based catalysts with pd modification and their use for catalytic dehydration of ethanol\n",
      "7. Production of open-cell Al composite foams by direct casting with silica-gel beads\n",
      "8. Preparation of aluminum doped zinc oxide targets and RF magnetron sputter thin films with various aluminum doping concentrations\n",
      "9. AFOMP policy number 6: code of ethics for medical physicists in AFOMP Countries\n",
      "10. Developement of Composite Armors Using Natural Rubber Reinforced with Steel Wire Mesh for Ballistic Resistance\n"
     ]
    }
   ],
   "source": [
    "similarities = cosine_similarity(input_vector, combined_vectors).flatten()\n",
    "\n",
    "top_indices = similarities.argsort()[-10:][::-1]\n",
    "recommended_titles = df.iloc[top_indices][['Title']]\n",
    "\n",
    "# show top 10\n",
    "n=1\n",
    "print(\"Top 10 Recommended Titles:\")\n",
    "for i, row in recommended_titles.iterrows():\n",
    "    print(f\"{n}. {row['Title']}\")\n",
    "    n+=1\n"
   ]
  }
 ],
 "metadata": {
  "kernelspec": {
   "display_name": "dsde-cedt",
   "language": "python",
   "name": "python3"
  },
  "language_info": {
   "codemirror_mode": {
    "name": "ipython",
    "version": 3
   },
   "file_extension": ".py",
   "mimetype": "text/x-python",
   "name": "python",
   "nbconvert_exporter": "python",
   "pygments_lexer": "ipython3",
   "version": "3.11.10"
  }
 },
 "nbformat": 4,
 "nbformat_minor": 2
}
