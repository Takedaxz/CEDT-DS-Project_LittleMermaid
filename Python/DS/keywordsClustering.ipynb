{
 "cells": [
  {
   "cell_type": "code",
   "execution_count": 7,
   "metadata": {},
   "outputs": [
    {
     "name": "stdout",
     "output_type": "stream",
     "text": [
      "engineering\n"
     ]
    }
   ],
   "source": [
    "from nltk.corpus import stopwords\n",
    "from nltk.stem import WordNetLemmatizer\n",
    "from spellchecker import SpellChecker\n",
    "\n",
    "# Initialize tools\n",
    "spell = SpellChecker()\n",
    "lemmatizer = WordNetLemmatizer()\n",
    "stop_words = set(stopwords.words('english'))\n",
    "\n",
    "# Example keywords\n",
    "keywords = [\"engineerig\", None, \"machine leaarning\", \"\", \"Artificial Intelegnce\"]\n",
    "\n",
    "def preprocess_keyword(keyword):\n",
    "    # Handle None or empty values\n",
    "    if not keyword or not isinstance(keyword, str):\n",
    "        return \"\"\n",
    "    \n",
    "    # Correct spelling\n",
    "    keyword = spell.correction(keyword)\n",
    "    \n",
    "    # Remove stop words and lemmatize\n",
    "    keyword = \" \".join([lemmatizer.lemmatize(word) for word in keyword.split() if word not in stop_words])\n",
    "    return keyword.lower()\n",
    "\n",
    "# Process the keywords\n",
    "print(preprocess_keyword(keywords[0]))\n"
   ]
  }
 ],
 "metadata": {
  "kernelspec": {
   "display_name": "base",
   "language": "python",
   "name": "python3"
  },
  "language_info": {
   "codemirror_mode": {
    "name": "ipython",
    "version": 3
   },
   "file_extension": ".py",
   "mimetype": "text/x-python",
   "name": "python",
   "nbconvert_exporter": "python",
   "pygments_lexer": "ipython3",
   "version": "3.11.10"
  }
 },
 "nbformat": 4,
 "nbformat_minor": 2
}
