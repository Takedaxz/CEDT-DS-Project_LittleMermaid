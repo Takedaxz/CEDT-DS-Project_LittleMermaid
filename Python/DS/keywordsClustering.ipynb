{
 "cells": [
  {
   "cell_type": "code",
   "execution_count": 2,
   "metadata": {},
   "outputs": [
    {
     "ename": "ModuleNotFoundError",
     "evalue": "No module named 'spellchecker'",
     "output_type": "error",
     "traceback": [
      "\u001b[0;31m---------------------------------------------------------------------------\u001b[0m",
      "\u001b[0;31mModuleNotFoundError\u001b[0m                       Traceback (most recent call last)",
      "Cell \u001b[0;32mIn[2], line 3\u001b[0m\n\u001b[1;32m      1\u001b[0m \u001b[38;5;28;01mfrom\u001b[39;00m \u001b[38;5;21;01mnltk\u001b[39;00m\u001b[38;5;21;01m.\u001b[39;00m\u001b[38;5;21;01mcorpus\u001b[39;00m \u001b[38;5;28;01mimport\u001b[39;00m stopwords\n\u001b[1;32m      2\u001b[0m \u001b[38;5;28;01mfrom\u001b[39;00m \u001b[38;5;21;01mnltk\u001b[39;00m\u001b[38;5;21;01m.\u001b[39;00m\u001b[38;5;21;01mstem\u001b[39;00m \u001b[38;5;28;01mimport\u001b[39;00m WordNetLemmatizer\n\u001b[0;32m----> 3\u001b[0m \u001b[38;5;28;01mfrom\u001b[39;00m \u001b[38;5;21;01mspellchecker\u001b[39;00m \u001b[38;5;28;01mimport\u001b[39;00m SpellChecker\n\u001b[1;32m      5\u001b[0m \u001b[38;5;66;03m# Initialize tools\u001b[39;00m\n\u001b[1;32m      6\u001b[0m spell \u001b[38;5;241m=\u001b[39m SpellChecker()\n",
      "\u001b[0;31mModuleNotFoundError\u001b[0m: No module named 'spellchecker'"
     ]
    }
   ],
   "source": [
    "from nltk.corpus import stopwords\n",
    "from nltk.stem import WordNetLemmatizer\n",
    "from spellchecker import SpellChecker\n",
    "\n",
    "# Initialize tools\n",
    "spell = SpellChecker()\n",
    "lemmatizer = WordNetLemmatizer()\n",
    "stop_words = set(stopwords.words('english'))\n",
    "\n",
    "# Example keywords\n",
    "keywords = [\"engineerig\", None, \"machine leaarning\", \"\", \"Artificial Intelegnce\"]\n",
    "\n",
    "def preprocess_keyword(keyword):\n",
    "    # Handle None or empty values\n",
    "    if not keyword or not isinstance(keyword, str):\n",
    "        return \"\"\n",
    "    \n",
    "    # Correct spelling\n",
    "    keyword = spell.correction(keyword)\n",
    "    \n",
    "    # Remove stop words and lemmatize\n",
    "    keyword = \" \".join([lemmatizer.lemmatize(word) for word in keyword.split() if word not in stop_words])\n",
    "    return keyword.lower()\n",
    "\n",
    "# Process the keywords\n",
    "print(preprocess_keyword(keywords[0]))\n"
   ]
  }
 ],
 "metadata": {
  "kernelspec": {
   "display_name": "dsde-cedt",
   "language": "python",
   "name": "python3"
  },
  "language_info": {
   "codemirror_mode": {
    "name": "ipython",
    "version": 3
   },
   "file_extension": ".py",
   "mimetype": "text/x-python",
   "name": "python",
   "nbconvert_exporter": "python",
   "pygments_lexer": "ipython3",
   "version": "3.11.10"
  }
 },
 "nbformat": 4,
 "nbformat_minor": 2
}
