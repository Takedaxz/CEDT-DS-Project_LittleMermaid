{
 "cells": [
  {
   "cell_type": "code",
   "execution_count": 12,
   "metadata": {},
   "outputs": [],
   "source": [
    "import numpy as np\n",
    "import pandas as pd"
   ]
  },
  {
   "cell_type": "code",
   "execution_count": 13,
   "metadata": {},
   "outputs": [],
   "source": [
    "df2023 = pd.read_csv('ExtractedData/2023.csv')"
   ]
  },
  {
   "cell_type": "code",
   "execution_count": 14,
   "metadata": {},
   "outputs": [
    {
     "data": {
      "text/html": [
       "<div>\n",
       "<style scoped>\n",
       "    .dataframe tbody tr th:only-of-type {\n",
       "        vertical-align: middle;\n",
       "    }\n",
       "\n",
       "    .dataframe tbody tr th {\n",
       "        vertical-align: top;\n",
       "    }\n",
       "\n",
       "    .dataframe thead th {\n",
       "        text-align: right;\n",
       "    }\n",
       "</style>\n",
       "<table border=\"1\" class=\"dataframe\">\n",
       "  <thead>\n",
       "    <tr style=\"text-align: right;\">\n",
       "      <th></th>\n",
       "      <th>Title</th>\n",
       "      <th>Abstract</th>\n",
       "      <th>Author</th>\n",
       "      <th>Subject_Area</th>\n",
       "      <th>Publication_Date</th>\n",
       "      <th>Affiliations_ID</th>\n",
       "      <th>References</th>\n",
       "      <th>Keywords</th>\n",
       "      <th>Filename</th>\n",
       "    </tr>\n",
       "  </thead>\n",
       "  <tbody>\n",
       "    <tr>\n",
       "      <th>0</th>\n",
       "      <td>Graphene oxide-alginate hydrogel-based indicat...</td>\n",
       "      <td>© 2023 Elsevier B.V.Pyrocatechol violet/copper...</td>\n",
       "      <td>Boobphahom S.; Rodthongkum N.</td>\n",
       "      <td>1315; 1303; 1312</td>\n",
       "      <td>2023-12-31</td>\n",
       "      <td>60091507; 60009499; 60028190</td>\n",
       "      <td>Colorimetric sensor for cysteine in human urin...</td>\n",
       "      <td>Alzheimer's disease; Hydrogel colorimetric sen...</td>\n",
       "      <td>202300000</td>\n",
       "    </tr>\n",
       "    <tr>\n",
       "      <th>1</th>\n",
       "      <td>Rare coordination behavior of triethanolamine ...</td>\n",
       "      <td>© 2023 Elsevier B.V.Herein, unusual and rare c...</td>\n",
       "      <td>Chauhan C.; Kumar R.; Saini A.; Kumar R.; Kuma...</td>\n",
       "      <td>1602; 1607; 1605; 1604</td>\n",
       "      <td>2023-12-15</td>\n",
       "      <td>106239665; 60109780; 60013164; 60028190; 60000690</td>\n",
       "      <td>Modern Inorganic Synthetic Chemistry; Infrared...</td>\n",
       "      <td>Copper(II); Hirshfeld calculations; Molecular ...</td>\n",
       "      <td>202300001</td>\n",
       "    </tr>\n",
       "    <tr>\n",
       "      <th>2</th>\n",
       "      <td>Total ammonia nitrogen removal and microbial c...</td>\n",
       "      <td>© 2023 Elsevier B.V.This study assessed the ch...</td>\n",
       "      <td>Satanwat P.; Tapaneeyaworawong P.; Wechprasit ...</td>\n",
       "      <td>1104</td>\n",
       "      <td>2023-12-15</td>\n",
       "      <td>60012718; 60011947; 60028190</td>\n",
       "      <td>Marine actinomycetes as bioremediators in Pena...</td>\n",
       "      <td>Ammonia removal; Carrying capacity; Microbiome...</td>\n",
       "      <td>202300002</td>\n",
       "    </tr>\n",
       "    <tr>\n",
       "      <th>3</th>\n",
       "      <td>Effects of microaeration and sludge recirculat...</td>\n",
       "      <td>© 2023 Elsevier B.V.A novel anaerobic baffled ...</td>\n",
       "      <td>Buakaew T.; Ratanatamskul C.</td>\n",
       "      <td>2305; 2304; 2311; 2310</td>\n",
       "      <td>2023-12-10</td>\n",
       "      <td>60028190</td>\n",
       "      <td>A new method for rapid determination of carboh...</td>\n",
       "      <td>Anaerobic baffled biofilm–MBR (AnBB-MBR); Memb...</td>\n",
       "      <td>202300003</td>\n",
       "    </tr>\n",
       "    <tr>\n",
       "      <th>4</th>\n",
       "      <td>Bioaccumulation of heavy metals in commerciall...</td>\n",
       "      <td>© 2023 Elsevier B.V.Safety of aquatic products...</td>\n",
       "      <td>Patchaiyappan A.; Arulkumar A.; Shynshiang K.;...</td>\n",
       "      <td>1105; 1104; 2303; 1103</td>\n",
       "      <td>2023-12-10</td>\n",
       "      <td>60031544; 60002765; 129966801; 60020933; 60013...</td>\n",
       "      <td>Assessment of heavy metal concentrations in th...</td>\n",
       "      <td>Contamination; Health risk assessment; Heavy m...</td>\n",
       "      <td>202300004</td>\n",
       "    </tr>\n",
       "  </tbody>\n",
       "</table>\n",
       "</div>"
      ],
      "text/plain": [
       "                                               Title  \\\n",
       "0  Graphene oxide-alginate hydrogel-based indicat...   \n",
       "1  Rare coordination behavior of triethanolamine ...   \n",
       "2  Total ammonia nitrogen removal and microbial c...   \n",
       "3  Effects of microaeration and sludge recirculat...   \n",
       "4  Bioaccumulation of heavy metals in commerciall...   \n",
       "\n",
       "                                            Abstract  \\\n",
       "0  © 2023 Elsevier B.V.Pyrocatechol violet/copper...   \n",
       "1  © 2023 Elsevier B.V.Herein, unusual and rare c...   \n",
       "2  © 2023 Elsevier B.V.This study assessed the ch...   \n",
       "3  © 2023 Elsevier B.V.A novel anaerobic baffled ...   \n",
       "4  © 2023 Elsevier B.V.Safety of aquatic products...   \n",
       "\n",
       "                                              Author            Subject_Area  \\\n",
       "0                      Boobphahom S.; Rodthongkum N.        1315; 1303; 1312   \n",
       "1  Chauhan C.; Kumar R.; Saini A.; Kumar R.; Kuma...  1602; 1607; 1605; 1604   \n",
       "2  Satanwat P.; Tapaneeyaworawong P.; Wechprasit ...                    1104   \n",
       "3                       Buakaew T.; Ratanatamskul C.  2305; 2304; 2311; 2310   \n",
       "4  Patchaiyappan A.; Arulkumar A.; Shynshiang K.;...  1105; 1104; 2303; 1103   \n",
       "\n",
       "  Publication_Date                                    Affiliations_ID  \\\n",
       "0       2023-12-31                       60091507; 60009499; 60028190   \n",
       "1       2023-12-15  106239665; 60109780; 60013164; 60028190; 60000690   \n",
       "2       2023-12-15                       60012718; 60011947; 60028190   \n",
       "3       2023-12-10                                           60028190   \n",
       "4       2023-12-10  60031544; 60002765; 129966801; 60020933; 60013...   \n",
       "\n",
       "                                          References  \\\n",
       "0  Colorimetric sensor for cysteine in human urin...   \n",
       "1  Modern Inorganic Synthetic Chemistry; Infrared...   \n",
       "2  Marine actinomycetes as bioremediators in Pena...   \n",
       "3  A new method for rapid determination of carboh...   \n",
       "4  Assessment of heavy metal concentrations in th...   \n",
       "\n",
       "                                            Keywords   Filename  \n",
       "0  Alzheimer's disease; Hydrogel colorimetric sen...  202300000  \n",
       "1  Copper(II); Hirshfeld calculations; Molecular ...  202300001  \n",
       "2  Ammonia removal; Carrying capacity; Microbiome...  202300002  \n",
       "3  Anaerobic baffled biofilm–MBR (AnBB-MBR); Memb...  202300003  \n",
       "4  Contamination; Health risk assessment; Heavy m...  202300004  "
      ]
     },
     "execution_count": 14,
     "metadata": {},
     "output_type": "execute_result"
    }
   ],
   "source": [
    "df2023.head()"
   ]
  },
  {
   "cell_type": "code",
   "execution_count": 15,
   "metadata": {},
   "outputs": [],
   "source": [
    "df2023['Publication_Date']=pd.to_datetime(df2023['Publication_Date'])"
   ]
  },
  {
   "cell_type": "code",
   "execution_count": 16,
   "metadata": {},
   "outputs": [
    {
     "name": "stdout",
     "output_type": "stream",
     "text": [
      "        0      1      2      3     4     5     6     7     8     9     10  \\\n",
      "0     1315   1303   1312   None  None  None  None  None  None  None  None   \n",
      "1     1602   1607   1605   1604  None  None  None  None  None  None  None   \n",
      "2     1104   None   None   None  None  None  None  None  None  None  None   \n",
      "3     2305   2304   2311   2310  None  None  None  None  None  None  None   \n",
      "4     1105   1104   2303   1103  None  None  None  None  None  None  None   \n",
      "...    ...    ...    ...    ...   ...   ...   ...   ...   ...   ...   ...   \n",
      "2885  1503   1600   None   None  None  None  None  None  None  None  None   \n",
      "2886  1602   None   None   None  None  None  None  None  None  None  None   \n",
      "2887  3304   None   None   None  None  None  None  None  None  None  None   \n",
      "2888  2303   1104   None   None  None  None  None  None  None  None  None   \n",
      "2889  3305   3303   3320   None  None  None  None  None  None  None  None   \n",
      "\n",
      "        11  \n",
      "0     None  \n",
      "1     None  \n",
      "2     None  \n",
      "3     None  \n",
      "4     None  \n",
      "...    ...  \n",
      "2885  None  \n",
      "2886  None  \n",
      "2887  None  \n",
      "2888  None  \n",
      "2889  None  \n",
      "\n",
      "[2890 rows x 12 columns]\n"
     ]
    }
   ],
   "source": [
    "# Get the number of rows and columns in the dataset \n",
    "df_2023_subject_areas = df2023['Subject_Area'].str.split(';', expand=True)\n",
    "print(df_2023_subject_areas)"
   ]
  },
  {
   "cell_type": "code",
   "execution_count": 17,
   "metadata": {},
   "outputs": [
    {
     "name": "stdout",
     "output_type": "stream",
     "text": [
      "1000    191\n",
      "1600    132\n",
      "1706    119\n",
      "2500    118\n",
      "1500    114\n",
      "       ... \n",
      "2914      1\n",
      "2917      1\n",
      "1302      1\n",
      "3102      1\n",
      "2919      1\n",
      "Name: count, Length: 302, dtype: int64\n"
     ]
    }
   ],
   "source": [
    "# Get the number of rows and columns\n",
    "subject_area_counts = df_2023_subject_areas.stack().str.strip().value_counts()\n",
    "print(subject_area_counts)"
   ]
  },
  {
   "cell_type": "code",
   "execution_count": 18,
   "metadata": {},
   "outputs": [
    {
     "name": "stdout",
     "output_type": "stream",
     "text": [
      "    Subject_Area  Count\n",
      "0           1000    191\n",
      "1           1600    132\n",
      "2           1706    119\n",
      "3           2500    118\n",
      "4           1500    114\n",
      "..           ...    ...\n",
      "289         2922      1\n",
      "288         2602      1\n",
      "287         2714      1\n",
      "286         2906      1\n",
      "301         2919      1\n",
      "\n",
      "[302 rows x 2 columns]\n"
     ]
    }
   ],
   "source": [
    "# Create a DataFrame from the value counts\n",
    "result = pd.DataFrame({\n",
    "    'Subject_Area': subject_area_counts.index,\n",
    "    'Count': subject_area_counts.values\n",
    "})\n",
    "\n",
    "# Sort the DataFrame by count in descending order\n",
    "subject_area_counts_result = result.sort_values('Count', ascending=False)\n",
    "\n",
    "print(subject_area_counts_result)"
   ]
  },
  {
   "cell_type": "code",
   "execution_count": 19,
   "metadata": {},
   "outputs": [
    {
     "data": {
      "text/plain": [
       "(27, 9)"
      ]
     },
     "execution_count": 19,
     "metadata": {},
     "output_type": "execute_result"
    }
   ],
   "source": [
    "df2023_with_subject_area_3106=df2023[df2023['Subject_Area'].str.contains('3106', na=False)]\n",
    "df2023_with_subject_area_3106.shape"
   ]
  },
  {
   "cell_type": "code",
   "execution_count": 20,
   "metadata": {},
   "outputs": [
    {
     "data": {
      "text/html": [
       "<div>\n",
       "<style scoped>\n",
       "    .dataframe tbody tr th:only-of-type {\n",
       "        vertical-align: middle;\n",
       "    }\n",
       "\n",
       "    .dataframe tbody tr th {\n",
       "        vertical-align: top;\n",
       "    }\n",
       "\n",
       "    .dataframe thead th {\n",
       "        text-align: right;\n",
       "    }\n",
       "</style>\n",
       "<table border=\"1\" class=\"dataframe\">\n",
       "  <thead>\n",
       "    <tr style=\"text-align: right;\">\n",
       "      <th></th>\n",
       "      <th>Title</th>\n",
       "      <th>Abstract</th>\n",
       "      <th>Author</th>\n",
       "      <th>Subject_Area</th>\n",
       "      <th>Publication_Date</th>\n",
       "      <th>Affiliations_ID</th>\n",
       "      <th>References</th>\n",
       "      <th>Keywords</th>\n",
       "      <th>Filename</th>\n",
       "    </tr>\n",
       "  </thead>\n",
       "  <tbody>\n",
       "    <tr>\n",
       "      <th>292</th>\n",
       "      <td>Two-particle azimuthal correlations in γp inte...</td>\n",
       "      <td>© 2023 The Author(s)The first measurements of ...</td>\n",
       "      <td>Tumasyan A.; Adam W.; Bergauer T.; Dragicevic ...</td>\n",
       "      <td>3106</td>\n",
       "      <td>2023-09-10</td>\n",
       "      <td>60009254; 60013959; 60029284; 60000481; 600281...</td>\n",
       "      <td>Observation of long-range, near-side angular c...</td>\n",
       "      <td>CMS; Collectivity; Photon-proton</td>\n",
       "      <td>202300292</td>\n",
       "    </tr>\n",
       "    <tr>\n",
       "      <th>293</th>\n",
       "      <td>Search for new heavy resonances decaying to WW...</td>\n",
       "      <td>© 2023 The Author(s)A search for new heavy res...</td>\n",
       "      <td>Tumasyan A.; Adam W.; Andrejkovic J.W.; Bergau...</td>\n",
       "      <td>3106</td>\n",
       "      <td>2023-09-10</td>\n",
       "      <td>60009254; 60013959; 60029284; 60000481; 600281...</td>\n",
       "      <td>A large mass hierarchy from a small extra dime...</td>\n",
       "      <td>CMS; Diboson resonances; Substructure</td>\n",
       "      <td>202300293</td>\n",
       "    </tr>\n",
       "    <tr>\n",
       "      <th>294</th>\n",
       "      <td>Search for medium effects using jets from bott...</td>\n",
       "      <td>© 2023 The Author(s)The first study of the sha...</td>\n",
       "      <td>Tumasyan A.; Adam W.; Andrejkovic J.W.; Bergau...</td>\n",
       "      <td>3106</td>\n",
       "      <td>2023-09-10</td>\n",
       "      <td>60009254; 60013959; 60029284; 60000481; 600281...</td>\n",
       "      <td>Quark gluon plasma and color glass condensate ...</td>\n",
       "      <td>b jets; Beauty quark; CMS; Heavy ion; Jet quen...</td>\n",
       "      <td>202300294</td>\n",
       "    </tr>\n",
       "    <tr>\n",
       "      <th>296</th>\n",
       "      <td>Evidence for four-top quark production in prot...</td>\n",
       "      <td>© 2023 The Author(s)The production of four top...</td>\n",
       "      <td>Tumasyan A.; Adam W.; Andrejkovic J.W.; Bergau...</td>\n",
       "      <td>3106</td>\n",
       "      <td>2023-09-10</td>\n",
       "      <td>60009254; 60013959; 60029284; 60000481; 600281...</td>\n",
       "      <td>The automated computation of tree-level and ne...</td>\n",
       "      <td>CMS; Top quark</td>\n",
       "      <td>202300296</td>\n",
       "    </tr>\n",
       "    <tr>\n",
       "      <th>302</th>\n",
       "      <td>Chern-Simons-Trinion theories: One-form symmet...</td>\n",
       "      <td>© 2023, The Author(s).We study 3d theories con...</td>\n",
       "      <td>Comi R.; Harding W.; Mekareeya N.</td>\n",
       "      <td>3106</td>\n",
       "      <td>2023-09-01</td>\n",
       "      <td>60028190; 60012306; 60114687</td>\n",
       "      <td>Notes on superconformal Chern-Simons-Matter th...</td>\n",
       "      <td>Anomalies in Field and String Theories; Chern-...</td>\n",
       "      <td>202300302</td>\n",
       "    </tr>\n",
       "  </tbody>\n",
       "</table>\n",
       "</div>"
      ],
      "text/plain": [
       "                                                 Title  \\\n",
       "292  Two-particle azimuthal correlations in γp inte...   \n",
       "293  Search for new heavy resonances decaying to WW...   \n",
       "294  Search for medium effects using jets from bott...   \n",
       "296  Evidence for four-top quark production in prot...   \n",
       "302  Chern-Simons-Trinion theories: One-form symmet...   \n",
       "\n",
       "                                              Abstract  \\\n",
       "292  © 2023 The Author(s)The first measurements of ...   \n",
       "293  © 2023 The Author(s)A search for new heavy res...   \n",
       "294  © 2023 The Author(s)The first study of the sha...   \n",
       "296  © 2023 The Author(s)The production of four top...   \n",
       "302  © 2023, The Author(s).We study 3d theories con...   \n",
       "\n",
       "                                                Author Subject_Area  \\\n",
       "292  Tumasyan A.; Adam W.; Bergauer T.; Dragicevic ...         3106   \n",
       "293  Tumasyan A.; Adam W.; Andrejkovic J.W.; Bergau...         3106   \n",
       "294  Tumasyan A.; Adam W.; Andrejkovic J.W.; Bergau...         3106   \n",
       "296  Tumasyan A.; Adam W.; Andrejkovic J.W.; Bergau...         3106   \n",
       "302                  Comi R.; Harding W.; Mekareeya N.         3106   \n",
       "\n",
       "    Publication_Date                                    Affiliations_ID  \\\n",
       "292       2023-09-10  60009254; 60013959; 60029284; 60000481; 600281...   \n",
       "293       2023-09-10  60009254; 60013959; 60029284; 60000481; 600281...   \n",
       "294       2023-09-10  60009254; 60013959; 60029284; 60000481; 600281...   \n",
       "296       2023-09-10  60009254; 60013959; 60029284; 60000481; 600281...   \n",
       "302       2023-09-01                       60028190; 60012306; 60114687   \n",
       "\n",
       "                                            References  \\\n",
       "292  Observation of long-range, near-side angular c...   \n",
       "293  A large mass hierarchy from a small extra dime...   \n",
       "294  Quark gluon plasma and color glass condensate ...   \n",
       "296  The automated computation of tree-level and ne...   \n",
       "302  Notes on superconformal Chern-Simons-Matter th...   \n",
       "\n",
       "                                              Keywords   Filename  \n",
       "292                   CMS; Collectivity; Photon-proton  202300292  \n",
       "293              CMS; Diboson resonances; Substructure  202300293  \n",
       "294  b jets; Beauty quark; CMS; Heavy ion; Jet quen...  202300294  \n",
       "296                                     CMS; Top quark  202300296  \n",
       "302  Anomalies in Field and String Theories; Chern-...  202300302  "
      ]
     },
     "execution_count": 20,
     "metadata": {},
     "output_type": "execute_result"
    }
   ],
   "source": [
    "df2023_with_subject_area_3106.head()"
   ]
  },
  {
   "cell_type": "code",
   "execution_count": 21,
   "metadata": {},
   "outputs": [
    {
     "data": {
      "text/html": [
       "<div>\n",
       "<style scoped>\n",
       "    .dataframe tbody tr th:only-of-type {\n",
       "        vertical-align: middle;\n",
       "    }\n",
       "\n",
       "    .dataframe tbody tr th {\n",
       "        vertical-align: top;\n",
       "    }\n",
       "\n",
       "    .dataframe thead th {\n",
       "        text-align: right;\n",
       "    }\n",
       "</style>\n",
       "<table border=\"1\" class=\"dataframe\">\n",
       "  <thead>\n",
       "    <tr style=\"text-align: right;\">\n",
       "      <th></th>\n",
       "      <th>Title</th>\n",
       "      <th>Abstract</th>\n",
       "      <th>Author</th>\n",
       "      <th>Subject_Area</th>\n",
       "      <th>Publication_Date</th>\n",
       "      <th>Affiliations_ID</th>\n",
       "      <th>References</th>\n",
       "      <th>Keywords</th>\n",
       "      <th>Filename</th>\n",
       "    </tr>\n",
       "  </thead>\n",
       "  <tbody>\n",
       "    <tr>\n",
       "      <th>2680</th>\n",
       "      <td>Mixed anomalies, two-groups, non-invertible sy...</td>\n",
       "      <td>© 2023, The Author(s).Mixed anomalies, higher ...</td>\n",
       "      <td>Mekareeya N.; Sacchi M.</td>\n",
       "      <td>3106</td>\n",
       "      <td>2023-01-01</td>\n",
       "      <td>60026851; 60028190; 60114687</td>\n",
       "      <td>Coupling a QFT to a TQFT and duality; Generali...</td>\n",
       "      <td>Anomalies in Field and String Theories; Chern-...</td>\n",
       "      <td>202302680</td>\n",
       "    </tr>\n",
       "    <tr>\n",
       "      <th>2098</th>\n",
       "      <td>Simulation using representative data selection...</td>\n",
       "      <td>© 2023 Atomic Energy Society of Japan. All rig...</td>\n",
       "      <td>Khunsrimek N.; Vechgama W.; Silva K.; Rassame ...</td>\n",
       "      <td>3106; 2104</td>\n",
       "      <td>2023-01-01</td>\n",
       "      <td>60013983; 112865691; 60250877; 60028190</td>\n",
       "      <td>Atmospheric transport of 131I and 137Cs from F...</td>\n",
       "      <td>atmospheric dispersion; meteorological data se...</td>\n",
       "      <td>202302098</td>\n",
       "    </tr>\n",
       "    <tr>\n",
       "      <th>1835</th>\n",
       "      <td>Normal and quasinormal modes of holographic mu...</td>\n",
       "      <td>© 2023 American Physical Society.The quadrupol...</td>\n",
       "      <td>Ponglertsakul S.; Burikham P.; Pinkanjanarod S.</td>\n",
       "      <td>3106</td>\n",
       "      <td>2023-01-15</td>\n",
       "      <td>60021944; 60018809; 60028190</td>\n",
       "      <td>NaN</td>\n",
       "      <td>NaN</td>\n",
       "      <td>202301835</td>\n",
       "    </tr>\n",
       "    <tr>\n",
       "      <th>1397</th>\n",
       "      <td>Dark matter as a Weyl geometric effect</td>\n",
       "      <td>© 2023 American Physical Society.We investigat...</td>\n",
       "      <td>Burikham P.; Harko T.; Pimsamarn K.; Shahidi S.</td>\n",
       "      <td>3106</td>\n",
       "      <td>2023-03-15</td>\n",
       "      <td>122396823; 60021944; 60006163; 60028190; 60007...</td>\n",
       "      <td>NaN</td>\n",
       "      <td>NaN</td>\n",
       "      <td>202301397</td>\n",
       "    </tr>\n",
       "    <tr>\n",
       "      <th>881</th>\n",
       "      <td>A tale of 2-groups: Dp(USp(2N)) theories</td>\n",
       "      <td>© 2023, The Author(s).A 1-form symmetry and a ...</td>\n",
       "      <td>Carta F.; Giacomelli S.; Mekareeya N.; Mininno A.</td>\n",
       "      <td>3106</td>\n",
       "      <td>2023-06-01</td>\n",
       "      <td>60114687; 60022175; 60028229; 60012306; 602102...</td>\n",
       "      <td>Coupling a QFT to a TQFT and Duality; Generali...</td>\n",
       "      <td>Extended Supersymmetry; Global Symmetries; Sup...</td>\n",
       "      <td>202300881</td>\n",
       "    </tr>\n",
       "    <tr>\n",
       "      <th>843</th>\n",
       "      <td>Search for long-lived particles decaying to a ...</td>\n",
       "      <td>© 2023, The Author(s).An inclusive search for ...</td>\n",
       "      <td>Tumasyan A.; Adam W.; Andrejkovic J.W.; Bergau...</td>\n",
       "      <td>3106</td>\n",
       "      <td>2023-06-01</td>\n",
       "      <td>60108578; 60009254; 60013959; 60104485; 600292...</td>\n",
       "      <td>Phenomenology of hidden valleys at hadron coll...</td>\n",
       "      <td>Exotics; Hadron-Hadron Scattering; Lifetime</td>\n",
       "      <td>202300843</td>\n",
       "    </tr>\n",
       "    <tr>\n",
       "      <th>840</th>\n",
       "      <td>Search for CP violation using (Formula present...</td>\n",
       "      <td>© 2023, The Author(s).Results are presented on...</td>\n",
       "      <td>Tumasyan A.; Adam W.; Andrejkovic J.W.; Bergau...</td>\n",
       "      <td>3106</td>\n",
       "      <td>2023-06-01</td>\n",
       "      <td>60108578; 60009254; 60013959; 60104485; 600292...</td>\n",
       "      <td>CP violation in the renormalizable theory of w...</td>\n",
       "      <td>CP Violation; Hadron-Hadron Scattering; Top Ph...</td>\n",
       "      <td>202300840</td>\n",
       "    </tr>\n",
       "    <tr>\n",
       "      <th>836</th>\n",
       "      <td>Search for top squarks in the four-body decay ...</td>\n",
       "      <td>© 2023, The Author(s).A search for the pair pr...</td>\n",
       "      <td>Tumasyan A.; Adam W.; Andrejkovic J.W.; Bergau...</td>\n",
       "      <td>3106</td>\n",
       "      <td>2023-06-01</td>\n",
       "      <td>60108578; 60009254; 60013959; 60104485; 600292...</td>\n",
       "      <td>A supersymmetry primer; Supergauge transformat...</td>\n",
       "      <td>Hadron-Hadron Scattering; Supersymmetry; Top S...</td>\n",
       "      <td>202300836</td>\n",
       "    </tr>\n",
       "    <tr>\n",
       "      <th>835</th>\n",
       "      <td>Search for heavy resonances and quantum black ...</td>\n",
       "      <td>© 2023, The Author(s).A search is reported for...</td>\n",
       "      <td>Tumasyan A.; Adam W.; Andrejkovic J.W.; Bergau...</td>\n",
       "      <td>3106</td>\n",
       "      <td>2023-06-01</td>\n",
       "      <td>60009254; 60013959; 60104485; 60029284; 600004...</td>\n",
       "      <td>Phenomenology of the production, decay, and de...</td>\n",
       "      <td>Beyond Standard Model; Hadron-Hadron Scattering</td>\n",
       "      <td>202300835</td>\n",
       "    </tr>\n",
       "    <tr>\n",
       "      <th>834</th>\n",
       "      <td>Search for nonresonant Higgs boson pair produc...</td>\n",
       "      <td>© 2023, The Author(s).The first search for non...</td>\n",
       "      <td>Tumasyan A.; Adam W.; Andrejkovic J.W.; Bergau...</td>\n",
       "      <td>3106</td>\n",
       "      <td>2023-06-01</td>\n",
       "      <td>60108578; 60009254; 60013959; 60104485; 600292...</td>\n",
       "      <td>Observation of a new particle in the search fo...</td>\n",
       "      <td>Hadron-Hadron Scattering; Higgs Physics</td>\n",
       "      <td>202300834</td>\n",
       "    </tr>\n",
       "    <tr>\n",
       "      <th>818</th>\n",
       "      <td>Observation of electroweak W+W− pair productio...</td>\n",
       "      <td>© 2022 The Author(s)An observation is reported...</td>\n",
       "      <td>Tumasyan A.; Adam W.; Andrejkovic J.W.; Bergau...</td>\n",
       "      <td>3106</td>\n",
       "      <td>2023-06-10</td>\n",
       "      <td>60009254; 60013959; 60029284; 60000481; 600281...</td>\n",
       "      <td>Longitudinal WW scattering in light of the “Hi...</td>\n",
       "      <td>CMS; VBS; W pairs</td>\n",
       "      <td>202300818</td>\n",
       "    </tr>\n",
       "    <tr>\n",
       "      <th>753</th>\n",
       "      <td>The High-Altitude Water Cherenkov (HAWC) obser...</td>\n",
       "      <td>© 2023 Elsevier B.V.The High-Altitude Water Ch...</td>\n",
       "      <td>Abeysekara A.U.; Albert A.; Alfaro R.; Alvarez...</td>\n",
       "      <td>3106; 3105</td>\n",
       "      <td>2023-07-01</td>\n",
       "      <td>60002644; 60019176; 60011779; 60113231; 600172...</td>\n",
       "      <td>Introduction to Particle and Astroparticle Phy...</td>\n",
       "      <td>Astrophysics; High energy physics — experiment...</td>\n",
       "      <td>202300753</td>\n",
       "    </tr>\n",
       "    <tr>\n",
       "      <th>673</th>\n",
       "      <td>Comments on Non-invertible Symmetries in Argyr...</td>\n",
       "      <td>© 2023, The Author(s).We demonstrate the prese...</td>\n",
       "      <td>Carta F.; Giacomelli S.; Mekareeya N.; Mininno A.</td>\n",
       "      <td>3106</td>\n",
       "      <td>2023-07-01</td>\n",
       "      <td>60114687; 60022175; 60028229; 60012306; 60028190</td>\n",
       "      <td>Generalized Global Symmetries; Coupling a QFTt...</td>\n",
       "      <td>Extended Supersymmetry; Global Symmetries; Sup...</td>\n",
       "      <td>202300673</td>\n",
       "    </tr>\n",
       "    <tr>\n",
       "      <th>655</th>\n",
       "      <td>Search for CP violation in t t ¯ H and tH prod...</td>\n",
       "      <td>© 2023, The Author(s).The charge-parity (CP) s...</td>\n",
       "      <td>Tumasyan A.; Adam W.; Andrejkovic J.W.; Bergau...</td>\n",
       "      <td>3106</td>\n",
       "      <td>2023-07-01</td>\n",
       "      <td>60108578; 60009254; 60013959; 60104485; 600292...</td>\n",
       "      <td>Observation of a new particle in the search fo...</td>\n",
       "      <td>CP Violation; Hadron-Hadron Scattering; Higgs ...</td>\n",
       "      <td>202300655</td>\n",
       "    </tr>\n",
       "    <tr>\n",
       "      <th>653</th>\n",
       "      <td>Search for CP violating top quark couplings in...</td>\n",
       "      <td>© 2023, The Author(s).Results are presented fr...</td>\n",
       "      <td>Tumasyan A.; Adam W.; Bergauer T.; Dragicevic ...</td>\n",
       "      <td>3106</td>\n",
       "      <td>2023-07-01</td>\n",
       "      <td>60009254; 60013959; 60104485; 60029284; 600004...</td>\n",
       "      <td>Evidence for the 2π decay of the K 2 0 meson; ...</td>\n",
       "      <td>CP Violation; Hadron-Hadron Scattering; Top Ph...</td>\n",
       "      <td>202300653</td>\n",
       "    </tr>\n",
       "    <tr>\n",
       "      <th>616</th>\n",
       "      <td>Search for electroweak production of charginos...</td>\n",
       "      <td>© 2022 The Author(s)This Letter presents a sea...</td>\n",
       "      <td>Tumasyan A.; Adam W.; Andrejkovic J.W.; Bergau...</td>\n",
       "      <td>3106</td>\n",
       "      <td>2023-07-10</td>\n",
       "      <td>60009254; 60013959; 60029284; 60000481; 600281...</td>\n",
       "      <td>Dual theory for free fermions; Extension of th...</td>\n",
       "      <td>CMS; Electroweakino; Gaugino; Supersymmetry</td>\n",
       "      <td>202300616</td>\n",
       "    </tr>\n",
       "    <tr>\n",
       "      <th>615</th>\n",
       "      <td>Search for nonresonant Higgs boson pair produc...</td>\n",
       "      <td>© 2022 The Author(s)A search for the nonresona...</td>\n",
       "      <td>Tumasyan A.; Adam W.; Andrejkovic J.W.; Bergau...</td>\n",
       "      <td>3106</td>\n",
       "      <td>2023-07-10</td>\n",
       "      <td>60009254; 60013959; 60029284; 60000481; 600281...</td>\n",
       "      <td>Observation of a new particle in the search fo...</td>\n",
       "      <td>Bbtautau; CMS; HH; Higgs; Self-coupling; VBF</td>\n",
       "      <td>202300615</td>\n",
       "    </tr>\n",
       "    <tr>\n",
       "      <th>614</th>\n",
       "      <td>Search for a massive scalar resonance decaying...</td>\n",
       "      <td>© 2022 The Author(s)We search for new massive ...</td>\n",
       "      <td>Tumasyan A.; Adam W.; Andrejkovic J.W.; Bergau...</td>\n",
       "      <td>3106</td>\n",
       "      <td>2023-07-10</td>\n",
       "      <td>60009254; 60013959; 60029284; 60000481; 600281...</td>\n",
       "      <td>Observation of a new particle in the search fo...</td>\n",
       "      <td>Boosted jets; CMS; Higgs; LHC; NMSSM; Scalar</td>\n",
       "      <td>202300614</td>\n",
       "    </tr>\n",
       "    <tr>\n",
       "      <th>612</th>\n",
       "      <td>Measurement of the Bs0→μ+μ− decay properties a...</td>\n",
       "      <td>© 2023 The Author(s)Measurements are presented...</td>\n",
       "      <td>Tumasyan A.; Adam W.; Andrejkovic J.W.; Bergau...</td>\n",
       "      <td>3106</td>\n",
       "      <td>2023-07-10</td>\n",
       "      <td>60009254; 60013959; 60029284; 60000481; 600281...</td>\n",
       "      <td>Unitary symmetry and leptonic decays; CP-viola...</td>\n",
       "      <td>BPH; CMS; Flavor physics; Rare decays</td>\n",
       "      <td>202300612</td>\n",
       "    </tr>\n",
       "    <tr>\n",
       "      <th>611</th>\n",
       "      <td>Precision measurement of the Z boson invisible...</td>\n",
       "      <td>© 2022 The Author(s)A precise measurement of t...</td>\n",
       "      <td>Tumasyan A.; Adam W.; Andrejkovic J.W.; Bergau...</td>\n",
       "      <td>3106</td>\n",
       "      <td>2023-07-10</td>\n",
       "      <td>60009254; 60013959; 60029284; 60000481; 600281...</td>\n",
       "      <td>Search for new particles in events with energe...</td>\n",
       "      <td>CMS; Z boson</td>\n",
       "      <td>202300611</td>\n",
       "    </tr>\n",
       "    <tr>\n",
       "      <th>610</th>\n",
       "      <td>Search for Higgs boson decays into Z and J/ψ a...</td>\n",
       "      <td>© 2022 The Author(s)Decays of the Higgs boson ...</td>\n",
       "      <td>Tumasyan A.; Adam W.; Andrejkovic J.W.; Bergau...</td>\n",
       "      <td>3106</td>\n",
       "      <td>2023-07-10</td>\n",
       "      <td>60009254; 60013959; 60029284; 60000481; 600281...</td>\n",
       "      <td>Observation of a new particle in the search fo...</td>\n",
       "      <td>CMS; Higgs boson; Rare decays; Standard model ...</td>\n",
       "      <td>202300610</td>\n",
       "    </tr>\n",
       "    <tr>\n",
       "      <th>440</th>\n",
       "      <td>Search for a heavy composite Majorana neutrino...</td>\n",
       "      <td>© 2023 The Author(s)Results are presented of a...</td>\n",
       "      <td>Tumasyan A.; Adam W.; Andrejkovic J.W.; Bergau...</td>\n",
       "      <td>3106</td>\n",
       "      <td>2023-08-10</td>\n",
       "      <td>60009254; 60013959; 60029284; 60000481; 600281...</td>\n",
       "      <td>Are quarks composite?; Supersymmetry at the pr...</td>\n",
       "      <td>CMS; Composite fermions; Heavy leptons; LHC</td>\n",
       "      <td>202300440</td>\n",
       "    </tr>\n",
       "    <tr>\n",
       "      <th>302</th>\n",
       "      <td>Chern-Simons-Trinion theories: One-form symmet...</td>\n",
       "      <td>© 2023, The Author(s).We study 3d theories con...</td>\n",
       "      <td>Comi R.; Harding W.; Mekareeya N.</td>\n",
       "      <td>3106</td>\n",
       "      <td>2023-09-01</td>\n",
       "      <td>60028190; 60012306; 60114687</td>\n",
       "      <td>Notes on superconformal Chern-Simons-Matter th...</td>\n",
       "      <td>Anomalies in Field and String Theories; Chern-...</td>\n",
       "      <td>202300302</td>\n",
       "    </tr>\n",
       "    <tr>\n",
       "      <th>296</th>\n",
       "      <td>Evidence for four-top quark production in prot...</td>\n",
       "      <td>© 2023 The Author(s)The production of four top...</td>\n",
       "      <td>Tumasyan A.; Adam W.; Andrejkovic J.W.; Bergau...</td>\n",
       "      <td>3106</td>\n",
       "      <td>2023-09-10</td>\n",
       "      <td>60009254; 60013959; 60029284; 60000481; 600281...</td>\n",
       "      <td>The automated computation of tree-level and ne...</td>\n",
       "      <td>CMS; Top quark</td>\n",
       "      <td>202300296</td>\n",
       "    </tr>\n",
       "    <tr>\n",
       "      <th>294</th>\n",
       "      <td>Search for medium effects using jets from bott...</td>\n",
       "      <td>© 2023 The Author(s)The first study of the sha...</td>\n",
       "      <td>Tumasyan A.; Adam W.; Andrejkovic J.W.; Bergau...</td>\n",
       "      <td>3106</td>\n",
       "      <td>2023-09-10</td>\n",
       "      <td>60009254; 60013959; 60029284; 60000481; 600281...</td>\n",
       "      <td>Quark gluon plasma and color glass condensate ...</td>\n",
       "      <td>b jets; Beauty quark; CMS; Heavy ion; Jet quen...</td>\n",
       "      <td>202300294</td>\n",
       "    </tr>\n",
       "    <tr>\n",
       "      <th>293</th>\n",
       "      <td>Search for new heavy resonances decaying to WW...</td>\n",
       "      <td>© 2023 The Author(s)A search for new heavy res...</td>\n",
       "      <td>Tumasyan A.; Adam W.; Andrejkovic J.W.; Bergau...</td>\n",
       "      <td>3106</td>\n",
       "      <td>2023-09-10</td>\n",
       "      <td>60009254; 60013959; 60029284; 60000481; 600281...</td>\n",
       "      <td>A large mass hierarchy from a small extra dime...</td>\n",
       "      <td>CMS; Diboson resonances; Substructure</td>\n",
       "      <td>202300293</td>\n",
       "    </tr>\n",
       "    <tr>\n",
       "      <th>292</th>\n",
       "      <td>Two-particle azimuthal correlations in γp inte...</td>\n",
       "      <td>© 2023 The Author(s)The first measurements of ...</td>\n",
       "      <td>Tumasyan A.; Adam W.; Bergauer T.; Dragicevic ...</td>\n",
       "      <td>3106</td>\n",
       "      <td>2023-09-10</td>\n",
       "      <td>60009254; 60013959; 60029284; 60000481; 600281...</td>\n",
       "      <td>Observation of long-range, near-side angular c...</td>\n",
       "      <td>CMS; Collectivity; Photon-proton</td>\n",
       "      <td>202300292</td>\n",
       "    </tr>\n",
       "  </tbody>\n",
       "</table>\n",
       "</div>"
      ],
      "text/plain": [
       "                                                  Title  \\\n",
       "2680  Mixed anomalies, two-groups, non-invertible sy...   \n",
       "2098  Simulation using representative data selection...   \n",
       "1835  Normal and quasinormal modes of holographic mu...   \n",
       "1397             Dark matter as a Weyl geometric effect   \n",
       "881            A tale of 2-groups: Dp(USp(2N)) theories   \n",
       "843   Search for long-lived particles decaying to a ...   \n",
       "840   Search for CP violation using (Formula present...   \n",
       "836   Search for top squarks in the four-body decay ...   \n",
       "835   Search for heavy resonances and quantum black ...   \n",
       "834   Search for nonresonant Higgs boson pair produc...   \n",
       "818   Observation of electroweak W+W− pair productio...   \n",
       "753   The High-Altitude Water Cherenkov (HAWC) obser...   \n",
       "673   Comments on Non-invertible Symmetries in Argyr...   \n",
       "655   Search for CP violation in t t ¯ H and tH prod...   \n",
       "653   Search for CP violating top quark couplings in...   \n",
       "616   Search for electroweak production of charginos...   \n",
       "615   Search for nonresonant Higgs boson pair produc...   \n",
       "614   Search for a massive scalar resonance decaying...   \n",
       "612   Measurement of the Bs0→μ+μ− decay properties a...   \n",
       "611   Precision measurement of the Z boson invisible...   \n",
       "610   Search for Higgs boson decays into Z and J/ψ a...   \n",
       "440   Search for a heavy composite Majorana neutrino...   \n",
       "302   Chern-Simons-Trinion theories: One-form symmet...   \n",
       "296   Evidence for four-top quark production in prot...   \n",
       "294   Search for medium effects using jets from bott...   \n",
       "293   Search for new heavy resonances decaying to WW...   \n",
       "292   Two-particle azimuthal correlations in γp inte...   \n",
       "\n",
       "                                               Abstract  \\\n",
       "2680  © 2023, The Author(s).Mixed anomalies, higher ...   \n",
       "2098  © 2023 Atomic Energy Society of Japan. All rig...   \n",
       "1835  © 2023 American Physical Society.The quadrupol...   \n",
       "1397  © 2023 American Physical Society.We investigat...   \n",
       "881   © 2023, The Author(s).A 1-form symmetry and a ...   \n",
       "843   © 2023, The Author(s).An inclusive search for ...   \n",
       "840   © 2023, The Author(s).Results are presented on...   \n",
       "836   © 2023, The Author(s).A search for the pair pr...   \n",
       "835   © 2023, The Author(s).A search is reported for...   \n",
       "834   © 2023, The Author(s).The first search for non...   \n",
       "818   © 2022 The Author(s)An observation is reported...   \n",
       "753   © 2023 Elsevier B.V.The High-Altitude Water Ch...   \n",
       "673   © 2023, The Author(s).We demonstrate the prese...   \n",
       "655   © 2023, The Author(s).The charge-parity (CP) s...   \n",
       "653   © 2023, The Author(s).Results are presented fr...   \n",
       "616   © 2022 The Author(s)This Letter presents a sea...   \n",
       "615   © 2022 The Author(s)A search for the nonresona...   \n",
       "614   © 2022 The Author(s)We search for new massive ...   \n",
       "612   © 2023 The Author(s)Measurements are presented...   \n",
       "611   © 2022 The Author(s)A precise measurement of t...   \n",
       "610   © 2022 The Author(s)Decays of the Higgs boson ...   \n",
       "440   © 2023 The Author(s)Results are presented of a...   \n",
       "302   © 2023, The Author(s).We study 3d theories con...   \n",
       "296   © 2023 The Author(s)The production of four top...   \n",
       "294   © 2023 The Author(s)The first study of the sha...   \n",
       "293   © 2023 The Author(s)A search for new heavy res...   \n",
       "292   © 2023 The Author(s)The first measurements of ...   \n",
       "\n",
       "                                                 Author Subject_Area  \\\n",
       "2680                            Mekareeya N.; Sacchi M.         3106   \n",
       "2098  Khunsrimek N.; Vechgama W.; Silva K.; Rassame ...   3106; 2104   \n",
       "1835    Ponglertsakul S.; Burikham P.; Pinkanjanarod S.         3106   \n",
       "1397    Burikham P.; Harko T.; Pimsamarn K.; Shahidi S.         3106   \n",
       "881   Carta F.; Giacomelli S.; Mekareeya N.; Mininno A.         3106   \n",
       "843   Tumasyan A.; Adam W.; Andrejkovic J.W.; Bergau...         3106   \n",
       "840   Tumasyan A.; Adam W.; Andrejkovic J.W.; Bergau...         3106   \n",
       "836   Tumasyan A.; Adam W.; Andrejkovic J.W.; Bergau...         3106   \n",
       "835   Tumasyan A.; Adam W.; Andrejkovic J.W.; Bergau...         3106   \n",
       "834   Tumasyan A.; Adam W.; Andrejkovic J.W.; Bergau...         3106   \n",
       "818   Tumasyan A.; Adam W.; Andrejkovic J.W.; Bergau...         3106   \n",
       "753   Abeysekara A.U.; Albert A.; Alfaro R.; Alvarez...   3106; 3105   \n",
       "673   Carta F.; Giacomelli S.; Mekareeya N.; Mininno A.         3106   \n",
       "655   Tumasyan A.; Adam W.; Andrejkovic J.W.; Bergau...         3106   \n",
       "653   Tumasyan A.; Adam W.; Bergauer T.; Dragicevic ...         3106   \n",
       "616   Tumasyan A.; Adam W.; Andrejkovic J.W.; Bergau...         3106   \n",
       "615   Tumasyan A.; Adam W.; Andrejkovic J.W.; Bergau...         3106   \n",
       "614   Tumasyan A.; Adam W.; Andrejkovic J.W.; Bergau...         3106   \n",
       "612   Tumasyan A.; Adam W.; Andrejkovic J.W.; Bergau...         3106   \n",
       "611   Tumasyan A.; Adam W.; Andrejkovic J.W.; Bergau...         3106   \n",
       "610   Tumasyan A.; Adam W.; Andrejkovic J.W.; Bergau...         3106   \n",
       "440   Tumasyan A.; Adam W.; Andrejkovic J.W.; Bergau...         3106   \n",
       "302                   Comi R.; Harding W.; Mekareeya N.         3106   \n",
       "296   Tumasyan A.; Adam W.; Andrejkovic J.W.; Bergau...         3106   \n",
       "294   Tumasyan A.; Adam W.; Andrejkovic J.W.; Bergau...         3106   \n",
       "293   Tumasyan A.; Adam W.; Andrejkovic J.W.; Bergau...         3106   \n",
       "292   Tumasyan A.; Adam W.; Bergauer T.; Dragicevic ...         3106   \n",
       "\n",
       "     Publication_Date                                    Affiliations_ID  \\\n",
       "2680       2023-01-01                       60026851; 60028190; 60114687   \n",
       "2098       2023-01-01            60013983; 112865691; 60250877; 60028190   \n",
       "1835       2023-01-15                       60021944; 60018809; 60028190   \n",
       "1397       2023-03-15  122396823; 60021944; 60006163; 60028190; 60007...   \n",
       "881        2023-06-01  60114687; 60022175; 60028229; 60012306; 602102...   \n",
       "843        2023-06-01  60108578; 60009254; 60013959; 60104485; 600292...   \n",
       "840        2023-06-01  60108578; 60009254; 60013959; 60104485; 600292...   \n",
       "836        2023-06-01  60108578; 60009254; 60013959; 60104485; 600292...   \n",
       "835        2023-06-01  60009254; 60013959; 60104485; 60029284; 600004...   \n",
       "834        2023-06-01  60108578; 60009254; 60013959; 60104485; 600292...   \n",
       "818        2023-06-10  60009254; 60013959; 60029284; 60000481; 600281...   \n",
       "753        2023-07-01  60002644; 60019176; 60011779; 60113231; 600172...   \n",
       "673        2023-07-01   60114687; 60022175; 60028229; 60012306; 60028190   \n",
       "655        2023-07-01  60108578; 60009254; 60013959; 60104485; 600292...   \n",
       "653        2023-07-01  60009254; 60013959; 60104485; 60029284; 600004...   \n",
       "616        2023-07-10  60009254; 60013959; 60029284; 60000481; 600281...   \n",
       "615        2023-07-10  60009254; 60013959; 60029284; 60000481; 600281...   \n",
       "614        2023-07-10  60009254; 60013959; 60029284; 60000481; 600281...   \n",
       "612        2023-07-10  60009254; 60013959; 60029284; 60000481; 600281...   \n",
       "611        2023-07-10  60009254; 60013959; 60029284; 60000481; 600281...   \n",
       "610        2023-07-10  60009254; 60013959; 60029284; 60000481; 600281...   \n",
       "440        2023-08-10  60009254; 60013959; 60029284; 60000481; 600281...   \n",
       "302        2023-09-01                       60028190; 60012306; 60114687   \n",
       "296        2023-09-10  60009254; 60013959; 60029284; 60000481; 600281...   \n",
       "294        2023-09-10  60009254; 60013959; 60029284; 60000481; 600281...   \n",
       "293        2023-09-10  60009254; 60013959; 60029284; 60000481; 600281...   \n",
       "292        2023-09-10  60009254; 60013959; 60029284; 60000481; 600281...   \n",
       "\n",
       "                                             References  \\\n",
       "2680  Coupling a QFT to a TQFT and duality; Generali...   \n",
       "2098  Atmospheric transport of 131I and 137Cs from F...   \n",
       "1835                                                NaN   \n",
       "1397                                                NaN   \n",
       "881   Coupling a QFT to a TQFT and Duality; Generali...   \n",
       "843   Phenomenology of hidden valleys at hadron coll...   \n",
       "840   CP violation in the renormalizable theory of w...   \n",
       "836   A supersymmetry primer; Supergauge transformat...   \n",
       "835   Phenomenology of the production, decay, and de...   \n",
       "834   Observation of a new particle in the search fo...   \n",
       "818   Longitudinal WW scattering in light of the “Hi...   \n",
       "753   Introduction to Particle and Astroparticle Phy...   \n",
       "673   Generalized Global Symmetries; Coupling a QFTt...   \n",
       "655   Observation of a new particle in the search fo...   \n",
       "653   Evidence for the 2π decay of the K 2 0 meson; ...   \n",
       "616   Dual theory for free fermions; Extension of th...   \n",
       "615   Observation of a new particle in the search fo...   \n",
       "614   Observation of a new particle in the search fo...   \n",
       "612   Unitary symmetry and leptonic decays; CP-viola...   \n",
       "611   Search for new particles in events with energe...   \n",
       "610   Observation of a new particle in the search fo...   \n",
       "440   Are quarks composite?; Supersymmetry at the pr...   \n",
       "302   Notes on superconformal Chern-Simons-Matter th...   \n",
       "296   The automated computation of tree-level and ne...   \n",
       "294   Quark gluon plasma and color glass condensate ...   \n",
       "293   A large mass hierarchy from a small extra dime...   \n",
       "292   Observation of long-range, near-side angular c...   \n",
       "\n",
       "                                               Keywords   Filename  \n",
       "2680  Anomalies in Field and String Theories; Chern-...  202302680  \n",
       "2098  atmospheric dispersion; meteorological data se...  202302098  \n",
       "1835                                                NaN  202301835  \n",
       "1397                                                NaN  202301397  \n",
       "881   Extended Supersymmetry; Global Symmetries; Sup...  202300881  \n",
       "843         Exotics; Hadron-Hadron Scattering; Lifetime  202300843  \n",
       "840   CP Violation; Hadron-Hadron Scattering; Top Ph...  202300840  \n",
       "836   Hadron-Hadron Scattering; Supersymmetry; Top S...  202300836  \n",
       "835     Beyond Standard Model; Hadron-Hadron Scattering  202300835  \n",
       "834             Hadron-Hadron Scattering; Higgs Physics  202300834  \n",
       "818                                   CMS; VBS; W pairs  202300818  \n",
       "753   Astrophysics; High energy physics — experiment...  202300753  \n",
       "673   Extended Supersymmetry; Global Symmetries; Sup...  202300673  \n",
       "655   CP Violation; Hadron-Hadron Scattering; Higgs ...  202300655  \n",
       "653   CP Violation; Hadron-Hadron Scattering; Top Ph...  202300653  \n",
       "616         CMS; Electroweakino; Gaugino; Supersymmetry  202300616  \n",
       "615        Bbtautau; CMS; HH; Higgs; Self-coupling; VBF  202300615  \n",
       "614        Boosted jets; CMS; Higgs; LHC; NMSSM; Scalar  202300614  \n",
       "612               BPH; CMS; Flavor physics; Rare decays  202300612  \n",
       "611                                        CMS; Z boson  202300611  \n",
       "610   CMS; Higgs boson; Rare decays; Standard model ...  202300610  \n",
       "440         CMS; Composite fermions; Heavy leptons; LHC  202300440  \n",
       "302   Anomalies in Field and String Theories; Chern-...  202300302  \n",
       "296                                      CMS; Top quark  202300296  \n",
       "294   b jets; Beauty quark; CMS; Heavy ion; Jet quen...  202300294  \n",
       "293               CMS; Diboson resonances; Substructure  202300293  \n",
       "292                    CMS; Collectivity; Photon-proton  202300292  "
      ]
     },
     "execution_count": 21,
     "metadata": {},
     "output_type": "execute_result"
    }
   ],
   "source": [
    "df2023_with_subject_area_3106.sort_values('Publication_Date', ascending=True)"
   ]
  },
  {
   "cell_type": "code",
   "execution_count": 22,
   "metadata": {},
   "outputs": [
    {
     "name": "stdout",
     "output_type": "stream",
     "text": [
      "                                            0                              1   \\\n",
      "0                          Alzheimer's disease   Hydrogel colorimetric sensor   \n",
      "1                                   Copper(II)         Hirshfeld calculations   \n",
      "2                              Ammonia removal              Carrying capacity   \n",
      "3     Anaerobic baffled biofilm–MBR (AnBB-MBR)     Membrane fouling reduction   \n",
      "4                                Contamination         Health risk assessment   \n",
      "...                                        ...                            ...   \n",
      "2885                        Long-chain olefins               Mesoporous KIT-6   \n",
      "2886                        Biological hazards               chemical hazards   \n",
      "2887                                  conflict                      Education   \n",
      "2888                        Anabas testudineus              Black soldier fly   \n",
      "2889                                  Cambodia                    consumption   \n",
      "\n",
      "                                 2                           3   \\\n",
      "0      indicator-displacement assay     PV/Cu2+-GO/Alg hydrogel   \n",
      "1                 Molecular docking        Single crystal X-ray   \n",
      "2                        Microbiome         Outdoor shrimp pond   \n",
      "3                     Microaeration         Microbial community   \n",
      "4                      Heavy metals     Marine edible organisms   \n",
      "...                             ...                         ...   \n",
      "2885                     Oleic acid   Oxidative dehydrogenation   \n",
      "2886             food contamination                 food safety   \n",
      "2887                  peacebuilding              social justice   \n",
      "2888          fish meal replacement          growth performance   \n",
      "2889                    expenditure                      Impact   \n",
      "\n",
      "                                                4                          5   \\\n",
      "0                                 Urinary cysteine                       None   \n",
      "1                                     Spectroscopy            Triethanolamine   \n",
      "2                                    Phytoplankton                       None   \n",
      "3                             Sludge recirculation   VFA and nitrogen removal   \n",
      "4                                Pondicherry coast                       None   \n",
      "...                                            ...                        ...   \n",
      "2885                                Vanadium oxide                       None   \n",
      "2886   microfluidic paper-based analytical devices                       None   \n",
      "2887                             Southern Thailand                       None   \n",
      "2888                             Hermetia illucens        larvae meal protein   \n",
      "2889                                    inequality                remittances   \n",
      "\n",
      "        6     7     8     9   ...    20    21    22    23    24    25    26  \\\n",
      "0     None  None  None  None  ...  None  None  None  None  None  None  None   \n",
      "1     None  None  None  None  ...  None  None  None  None  None  None  None   \n",
      "2     None  None  None  None  ...  None  None  None  None  None  None  None   \n",
      "3     None  None  None  None  ...  None  None  None  None  None  None  None   \n",
      "4     None  None  None  None  ...  None  None  None  None  None  None  None   \n",
      "...    ...   ...   ...   ...  ...   ...   ...   ...   ...   ...   ...   ...   \n",
      "2885  None  None  None  None  ...  None  None  None  None  None  None  None   \n",
      "2886  None  None  None  None  ...  None  None  None  None  None  None  None   \n",
      "2887  None  None  None  None  ...  None  None  None  None  None  None  None   \n",
      "2888  None  None  None  None  ...  None  None  None  None  None  None  None   \n",
      "2889  None  None  None  None  ...  None  None  None  None  None  None  None   \n",
      "\n",
      "        27    28    29  \n",
      "0     None  None  None  \n",
      "1     None  None  None  \n",
      "2     None  None  None  \n",
      "3     None  None  None  \n",
      "4     None  None  None  \n",
      "...    ...   ...   ...  \n",
      "2885  None  None  None  \n",
      "2886  None  None  None  \n",
      "2887  None  None  None  \n",
      "2888  None  None  None  \n",
      "2889  None  None  None  \n",
      "\n",
      "[2890 rows x 30 columns]\n"
     ]
    }
   ],
   "source": [
    "df_2023_keywords = df2023['Keywords'].str.split(';', expand=True)\n",
    "print(df_2023_keywords)"
   ]
  },
  {
   "cell_type": "code",
   "execution_count": 26,
   "metadata": {},
   "outputs": [
    {
     "name": "stdout",
     "output_type": "stream",
     "text": [
      "thailand            102\n",
      "covid-19             68\n",
      "machine learning     37\n",
      "sars-cov-2           31\n",
      "inflammation         27\n",
      "                   ... \n",
      "psychometrics         2\n",
      "micrornas             2\n",
      "gain of function      2\n",
      "rat model             2\n",
      "eating disorders      2\n",
      "Name: count, Length: 1347, dtype: int64\n"
     ]
    }
   ],
   "source": [
    "# df_2018_keywords.dropna(inplace=True)\n",
    "keywords_counts = df_2023_keywords.stack().str.strip()\n",
    "keywords_counts = keywords_counts.str.lower().value_counts()\n",
    "keywords_counts = keywords_counts[keywords_counts > 1]\n",
    "print(keywords_counts)"
   ]
  },
  {
   "cell_type": "code",
   "execution_count": 27,
   "metadata": {},
   "outputs": [
    {
     "name": "stdout",
     "output_type": "stream",
     "text": [
      "                 Keywords  Count\n",
      "0                thailand    102\n",
      "1                covid-19     68\n",
      "2        machine learning     37\n",
      "3              sars-cov-2     31\n",
      "4            inflammation     27\n",
      "5             antioxidant     26\n",
      "6                     hiv     17\n",
      "7           deep learning     17\n",
      "8        oxidative stress     16\n",
      "9          southeast asia     16\n",
      "10              biodiesel     16\n",
      "14      molecular docking     15\n",
      "13           neuro-immune     15\n",
      "12             depression     15\n",
      "11   corporate governance     15\n",
      "15             biomarkers     14\n",
      "16      systematic review     14\n",
      "17           optimization     14\n",
      "18              apoptosis     13\n",
      "19             adsorption     13\n",
      "20               children     12\n",
      "21                    cms     12\n",
      "22          meta-analysis     12\n",
      "23  mechanical properties     12\n",
      "27                    dft     11\n",
      "29                   asia     11\n",
      "28               chitosan     11\n",
      "26                bangkok     11\n",
      "24                vaccine     11\n",
      "25              stability     11\n"
     ]
    }
   ],
   "source": [
    "result = pd.DataFrame({\n",
    "    'Keywords': keywords_counts.index,\n",
    "    'Count': keywords_counts.values\n",
    "})\n",
    "\n",
    "# Sort the DataFrame by count in descending order\n",
    "keywords_counts_result = result.sort_values('Count', ascending=False)\n",
    "\n",
    "keywords_counts_result = keywords_counts_result[keywords_counts_result['Count'] > 10]\n",
    "print(keywords_counts_result)"
   ]
  },
  {
   "cell_type": "code",
   "execution_count": 28,
   "metadata": {},
   "outputs": [
    {
     "data": {
      "text/html": [
       "        <script type=\"text/javascript\">\n",
       "        window.PlotlyConfig = {MathJaxConfig: 'local'};\n",
       "        if (window.MathJax && window.MathJax.Hub && window.MathJax.Hub.Config) {window.MathJax.Hub.Config({SVG: {font: \"STIX-Web\"}});}\n",
       "        if (typeof require !== 'undefined') {\n",
       "        require.undef(\"plotly\");\n",
       "        requirejs.config({\n",
       "            paths: {\n",
       "                'plotly': ['https://cdn.plot.ly/plotly-2.35.2.min']\n",
       "            }\n",
       "        });\n",
       "        require(['plotly'], function(Plotly) {\n",
       "            window._Plotly = Plotly;\n",
       "        });\n",
       "        }\n",
       "        </script>\n",
       "        "
      ]
     },
     "metadata": {},
     "output_type": "display_data"
    },
    {
     "data": {
      "application/vnd.plotly.v1+json": {
       "config": {
        "linkText": "Export to plot.ly",
        "plotlyServerURL": "https://plot.ly",
        "showLink": true
       },
       "data": [
        {
         "marker": {
          "color": "rgba(255, 153, 51, 0.6)",
          "line": {
           "color": "rgba(255, 153, 51, 1.0)",
           "width": 1
          }
         },
         "name": "Count",
         "orientation": "v",
         "text": "",
         "type": "bar",
         "x": [
          "thailand",
          "covid-19",
          "machine learning",
          "sars-cov-2",
          "inflammation",
          "antioxidant",
          "hiv",
          "deep learning",
          "oxidative stress",
          "southeast asia",
          "biodiesel",
          "molecular docking",
          "neuro-immune",
          "depression",
          "corporate governance",
          "biomarkers",
          "systematic review",
          "optimization",
          "apoptosis",
          "adsorption",
          "children",
          "cms",
          "meta-analysis",
          "mechanical properties",
          "dft",
          "asia",
          "chitosan",
          "bangkok",
          "vaccine",
          "stability"
         ],
         "y": [
          102,
          68,
          37,
          31,
          27,
          26,
          17,
          17,
          16,
          16,
          16,
          15,
          15,
          15,
          15,
          14,
          14,
          14,
          13,
          13,
          12,
          12,
          12,
          12,
          11,
          11,
          11,
          11,
          11,
          11
         ]
        }
       ],
       "layout": {
        "legend": {
         "bgcolor": "#F5F6F9",
         "font": {
          "color": "#4D5663"
         }
        },
        "paper_bgcolor": "#F5F6F9",
        "plot_bgcolor": "#F5F6F9",
        "template": {
         "data": {
          "bar": [
           {
            "error_x": {
             "color": "#2a3f5f"
            },
            "error_y": {
             "color": "#2a3f5f"
            },
            "marker": {
             "line": {
              "color": "#E5ECF6",
              "width": 0.5
             },
             "pattern": {
              "fillmode": "overlay",
              "size": 10,
              "solidity": 0.2
             }
            },
            "type": "bar"
           }
          ],
          "barpolar": [
           {
            "marker": {
             "line": {
              "color": "#E5ECF6",
              "width": 0.5
             },
             "pattern": {
              "fillmode": "overlay",
              "size": 10,
              "solidity": 0.2
             }
            },
            "type": "barpolar"
           }
          ],
          "carpet": [
           {
            "aaxis": {
             "endlinecolor": "#2a3f5f",
             "gridcolor": "white",
             "linecolor": "white",
             "minorgridcolor": "white",
             "startlinecolor": "#2a3f5f"
            },
            "baxis": {
             "endlinecolor": "#2a3f5f",
             "gridcolor": "white",
             "linecolor": "white",
             "minorgridcolor": "white",
             "startlinecolor": "#2a3f5f"
            },
            "type": "carpet"
           }
          ],
          "choropleth": [
           {
            "colorbar": {
             "outlinewidth": 0,
             "ticks": ""
            },
            "type": "choropleth"
           }
          ],
          "contour": [
           {
            "colorbar": {
             "outlinewidth": 0,
             "ticks": ""
            },
            "colorscale": [
             [
              0,
              "#0d0887"
             ],
             [
              0.1111111111111111,
              "#46039f"
             ],
             [
              0.2222222222222222,
              "#7201a8"
             ],
             [
              0.3333333333333333,
              "#9c179e"
             ],
             [
              0.4444444444444444,
              "#bd3786"
             ],
             [
              0.5555555555555556,
              "#d8576b"
             ],
             [
              0.6666666666666666,
              "#ed7953"
             ],
             [
              0.7777777777777778,
              "#fb9f3a"
             ],
             [
              0.8888888888888888,
              "#fdca26"
             ],
             [
              1,
              "#f0f921"
             ]
            ],
            "type": "contour"
           }
          ],
          "contourcarpet": [
           {
            "colorbar": {
             "outlinewidth": 0,
             "ticks": ""
            },
            "type": "contourcarpet"
           }
          ],
          "heatmap": [
           {
            "colorbar": {
             "outlinewidth": 0,
             "ticks": ""
            },
            "colorscale": [
             [
              0,
              "#0d0887"
             ],
             [
              0.1111111111111111,
              "#46039f"
             ],
             [
              0.2222222222222222,
              "#7201a8"
             ],
             [
              0.3333333333333333,
              "#9c179e"
             ],
             [
              0.4444444444444444,
              "#bd3786"
             ],
             [
              0.5555555555555556,
              "#d8576b"
             ],
             [
              0.6666666666666666,
              "#ed7953"
             ],
             [
              0.7777777777777778,
              "#fb9f3a"
             ],
             [
              0.8888888888888888,
              "#fdca26"
             ],
             [
              1,
              "#f0f921"
             ]
            ],
            "type": "heatmap"
           }
          ],
          "heatmapgl": [
           {
            "colorbar": {
             "outlinewidth": 0,
             "ticks": ""
            },
            "colorscale": [
             [
              0,
              "#0d0887"
             ],
             [
              0.1111111111111111,
              "#46039f"
             ],
             [
              0.2222222222222222,
              "#7201a8"
             ],
             [
              0.3333333333333333,
              "#9c179e"
             ],
             [
              0.4444444444444444,
              "#bd3786"
             ],
             [
              0.5555555555555556,
              "#d8576b"
             ],
             [
              0.6666666666666666,
              "#ed7953"
             ],
             [
              0.7777777777777778,
              "#fb9f3a"
             ],
             [
              0.8888888888888888,
              "#fdca26"
             ],
             [
              1,
              "#f0f921"
             ]
            ],
            "type": "heatmapgl"
           }
          ],
          "histogram": [
           {
            "marker": {
             "pattern": {
              "fillmode": "overlay",
              "size": 10,
              "solidity": 0.2
             }
            },
            "type": "histogram"
           }
          ],
          "histogram2d": [
           {
            "colorbar": {
             "outlinewidth": 0,
             "ticks": ""
            },
            "colorscale": [
             [
              0,
              "#0d0887"
             ],
             [
              0.1111111111111111,
              "#46039f"
             ],
             [
              0.2222222222222222,
              "#7201a8"
             ],
             [
              0.3333333333333333,
              "#9c179e"
             ],
             [
              0.4444444444444444,
              "#bd3786"
             ],
             [
              0.5555555555555556,
              "#d8576b"
             ],
             [
              0.6666666666666666,
              "#ed7953"
             ],
             [
              0.7777777777777778,
              "#fb9f3a"
             ],
             [
              0.8888888888888888,
              "#fdca26"
             ],
             [
              1,
              "#f0f921"
             ]
            ],
            "type": "histogram2d"
           }
          ],
          "histogram2dcontour": [
           {
            "colorbar": {
             "outlinewidth": 0,
             "ticks": ""
            },
            "colorscale": [
             [
              0,
              "#0d0887"
             ],
             [
              0.1111111111111111,
              "#46039f"
             ],
             [
              0.2222222222222222,
              "#7201a8"
             ],
             [
              0.3333333333333333,
              "#9c179e"
             ],
             [
              0.4444444444444444,
              "#bd3786"
             ],
             [
              0.5555555555555556,
              "#d8576b"
             ],
             [
              0.6666666666666666,
              "#ed7953"
             ],
             [
              0.7777777777777778,
              "#fb9f3a"
             ],
             [
              0.8888888888888888,
              "#fdca26"
             ],
             [
              1,
              "#f0f921"
             ]
            ],
            "type": "histogram2dcontour"
           }
          ],
          "mesh3d": [
           {
            "colorbar": {
             "outlinewidth": 0,
             "ticks": ""
            },
            "type": "mesh3d"
           }
          ],
          "parcoords": [
           {
            "line": {
             "colorbar": {
              "outlinewidth": 0,
              "ticks": ""
             }
            },
            "type": "parcoords"
           }
          ],
          "pie": [
           {
            "automargin": true,
            "type": "pie"
           }
          ],
          "scatter": [
           {
            "fillpattern": {
             "fillmode": "overlay",
             "size": 10,
             "solidity": 0.2
            },
            "type": "scatter"
           }
          ],
          "scatter3d": [
           {
            "line": {
             "colorbar": {
              "outlinewidth": 0,
              "ticks": ""
             }
            },
            "marker": {
             "colorbar": {
              "outlinewidth": 0,
              "ticks": ""
             }
            },
            "type": "scatter3d"
           }
          ],
          "scattercarpet": [
           {
            "marker": {
             "colorbar": {
              "outlinewidth": 0,
              "ticks": ""
             }
            },
            "type": "scattercarpet"
           }
          ],
          "scattergeo": [
           {
            "marker": {
             "colorbar": {
              "outlinewidth": 0,
              "ticks": ""
             }
            },
            "type": "scattergeo"
           }
          ],
          "scattergl": [
           {
            "marker": {
             "colorbar": {
              "outlinewidth": 0,
              "ticks": ""
             }
            },
            "type": "scattergl"
           }
          ],
          "scattermapbox": [
           {
            "marker": {
             "colorbar": {
              "outlinewidth": 0,
              "ticks": ""
             }
            },
            "type": "scattermapbox"
           }
          ],
          "scatterpolar": [
           {
            "marker": {
             "colorbar": {
              "outlinewidth": 0,
              "ticks": ""
             }
            },
            "type": "scatterpolar"
           }
          ],
          "scatterpolargl": [
           {
            "marker": {
             "colorbar": {
              "outlinewidth": 0,
              "ticks": ""
             }
            },
            "type": "scatterpolargl"
           }
          ],
          "scatterternary": [
           {
            "marker": {
             "colorbar": {
              "outlinewidth": 0,
              "ticks": ""
             }
            },
            "type": "scatterternary"
           }
          ],
          "surface": [
           {
            "colorbar": {
             "outlinewidth": 0,
             "ticks": ""
            },
            "colorscale": [
             [
              0,
              "#0d0887"
             ],
             [
              0.1111111111111111,
              "#46039f"
             ],
             [
              0.2222222222222222,
              "#7201a8"
             ],
             [
              0.3333333333333333,
              "#9c179e"
             ],
             [
              0.4444444444444444,
              "#bd3786"
             ],
             [
              0.5555555555555556,
              "#d8576b"
             ],
             [
              0.6666666666666666,
              "#ed7953"
             ],
             [
              0.7777777777777778,
              "#fb9f3a"
             ],
             [
              0.8888888888888888,
              "#fdca26"
             ],
             [
              1,
              "#f0f921"
             ]
            ],
            "type": "surface"
           }
          ],
          "table": [
           {
            "cells": {
             "fill": {
              "color": "#EBF0F8"
             },
             "line": {
              "color": "white"
             }
            },
            "header": {
             "fill": {
              "color": "#C8D4E3"
             },
             "line": {
              "color": "white"
             }
            },
            "type": "table"
           }
          ]
         },
         "layout": {
          "annotationdefaults": {
           "arrowcolor": "#2a3f5f",
           "arrowhead": 0,
           "arrowwidth": 1
          },
          "autotypenumbers": "strict",
          "coloraxis": {
           "colorbar": {
            "outlinewidth": 0,
            "ticks": ""
           }
          },
          "colorscale": {
           "diverging": [
            [
             0,
             "#8e0152"
            ],
            [
             0.1,
             "#c51b7d"
            ],
            [
             0.2,
             "#de77ae"
            ],
            [
             0.3,
             "#f1b6da"
            ],
            [
             0.4,
             "#fde0ef"
            ],
            [
             0.5,
             "#f7f7f7"
            ],
            [
             0.6,
             "#e6f5d0"
            ],
            [
             0.7,
             "#b8e186"
            ],
            [
             0.8,
             "#7fbc41"
            ],
            [
             0.9,
             "#4d9221"
            ],
            [
             1,
             "#276419"
            ]
           ],
           "sequential": [
            [
             0,
             "#0d0887"
            ],
            [
             0.1111111111111111,
             "#46039f"
            ],
            [
             0.2222222222222222,
             "#7201a8"
            ],
            [
             0.3333333333333333,
             "#9c179e"
            ],
            [
             0.4444444444444444,
             "#bd3786"
            ],
            [
             0.5555555555555556,
             "#d8576b"
            ],
            [
             0.6666666666666666,
             "#ed7953"
            ],
            [
             0.7777777777777778,
             "#fb9f3a"
            ],
            [
             0.8888888888888888,
             "#fdca26"
            ],
            [
             1,
             "#f0f921"
            ]
           ],
           "sequentialminus": [
            [
             0,
             "#0d0887"
            ],
            [
             0.1111111111111111,
             "#46039f"
            ],
            [
             0.2222222222222222,
             "#7201a8"
            ],
            [
             0.3333333333333333,
             "#9c179e"
            ],
            [
             0.4444444444444444,
             "#bd3786"
            ],
            [
             0.5555555555555556,
             "#d8576b"
            ],
            [
             0.6666666666666666,
             "#ed7953"
            ],
            [
             0.7777777777777778,
             "#fb9f3a"
            ],
            [
             0.8888888888888888,
             "#fdca26"
            ],
            [
             1,
             "#f0f921"
            ]
           ]
          },
          "colorway": [
           "#636efa",
           "#EF553B",
           "#00cc96",
           "#ab63fa",
           "#FFA15A",
           "#19d3f3",
           "#FF6692",
           "#B6E880",
           "#FF97FF",
           "#FECB52"
          ],
          "font": {
           "color": "#2a3f5f"
          },
          "geo": {
           "bgcolor": "white",
           "lakecolor": "white",
           "landcolor": "#E5ECF6",
           "showlakes": true,
           "showland": true,
           "subunitcolor": "white"
          },
          "hoverlabel": {
           "align": "left"
          },
          "hovermode": "closest",
          "mapbox": {
           "style": "light"
          },
          "paper_bgcolor": "white",
          "plot_bgcolor": "#E5ECF6",
          "polar": {
           "angularaxis": {
            "gridcolor": "white",
            "linecolor": "white",
            "ticks": ""
           },
           "bgcolor": "#E5ECF6",
           "radialaxis": {
            "gridcolor": "white",
            "linecolor": "white",
            "ticks": ""
           }
          },
          "scene": {
           "xaxis": {
            "backgroundcolor": "#E5ECF6",
            "gridcolor": "white",
            "gridwidth": 2,
            "linecolor": "white",
            "showbackground": true,
            "ticks": "",
            "zerolinecolor": "white"
           },
           "yaxis": {
            "backgroundcolor": "#E5ECF6",
            "gridcolor": "white",
            "gridwidth": 2,
            "linecolor": "white",
            "showbackground": true,
            "ticks": "",
            "zerolinecolor": "white"
           },
           "zaxis": {
            "backgroundcolor": "#E5ECF6",
            "gridcolor": "white",
            "gridwidth": 2,
            "linecolor": "white",
            "showbackground": true,
            "ticks": "",
            "zerolinecolor": "white"
           }
          },
          "shapedefaults": {
           "line": {
            "color": "#2a3f5f"
           }
          },
          "ternary": {
           "aaxis": {
            "gridcolor": "white",
            "linecolor": "white",
            "ticks": ""
           },
           "baxis": {
            "gridcolor": "white",
            "linecolor": "white",
            "ticks": ""
           },
           "bgcolor": "#E5ECF6",
           "caxis": {
            "gridcolor": "white",
            "linecolor": "white",
            "ticks": ""
           }
          },
          "title": {
           "x": 0.05
          },
          "xaxis": {
           "automargin": true,
           "gridcolor": "white",
           "linecolor": "white",
           "ticks": "",
           "title": {
            "standoff": 15
           },
           "zerolinecolor": "white",
           "zerolinewidth": 2
          },
          "yaxis": {
           "automargin": true,
           "gridcolor": "white",
           "linecolor": "white",
           "ticks": "",
           "title": {
            "standoff": 15
           },
           "zerolinecolor": "white",
           "zerolinewidth": 2
          }
         }
        },
        "title": {
         "font": {
          "color": "#4D5663"
         },
         "text": "Keywords Counts in 2023"
        },
        "xaxis": {
         "gridcolor": "#E1E5ED",
         "showgrid": true,
         "tickfont": {
          "color": "#4D5663"
         },
         "title": {
          "font": {
           "color": "#4D5663"
          },
          "text": "Keywords"
         },
         "zerolinecolor": "#E1E5ED"
        },
        "yaxis": {
         "gridcolor": "#E1E5ED",
         "showgrid": true,
         "tickfont": {
          "color": "#4D5663"
         },
         "title": {
          "font": {
           "color": "#4D5663"
          },
          "text": "Count"
         },
         "zerolinecolor": "#E1E5ED"
        }
       }
      },
      "text/html": [
       "<div>                            <div id=\"3eb5e0fe-7d09-403a-8049-5cea2381565e\" class=\"plotly-graph-div\" style=\"height:525px; width:100%;\"></div>            <script type=\"text/javascript\">                require([\"plotly\"], function(Plotly) {                    window.PLOTLYENV=window.PLOTLYENV || {};\n",
       "                    window.PLOTLYENV.BASE_URL='https://plot.ly';                                    if (document.getElementById(\"3eb5e0fe-7d09-403a-8049-5cea2381565e\")) {                    Plotly.newPlot(                        \"3eb5e0fe-7d09-403a-8049-5cea2381565e\",                        [{\"marker\":{\"color\":\"rgba(255, 153, 51, 0.6)\",\"line\":{\"color\":\"rgba(255, 153, 51, 1.0)\",\"width\":1}},\"name\":\"Count\",\"orientation\":\"v\",\"text\":\"\",\"x\":[\"thailand\",\"covid-19\",\"machine learning\",\"sars-cov-2\",\"inflammation\",\"antioxidant\",\"hiv\",\"deep learning\",\"oxidative stress\",\"southeast asia\",\"biodiesel\",\"molecular docking\",\"neuro-immune\",\"depression\",\"corporate governance\",\"biomarkers\",\"systematic review\",\"optimization\",\"apoptosis\",\"adsorption\",\"children\",\"cms\",\"meta-analysis\",\"mechanical properties\",\"dft\",\"asia\",\"chitosan\",\"bangkok\",\"vaccine\",\"stability\"],\"y\":[102,68,37,31,27,26,17,17,16,16,16,15,15,15,15,14,14,14,13,13,12,12,12,12,11,11,11,11,11,11],\"type\":\"bar\"}],                        {\"legend\":{\"bgcolor\":\"#F5F6F9\",\"font\":{\"color\":\"#4D5663\"}},\"paper_bgcolor\":\"#F5F6F9\",\"plot_bgcolor\":\"#F5F6F9\",\"template\":{\"data\":{\"barpolar\":[{\"marker\":{\"line\":{\"color\":\"#E5ECF6\",\"width\":0.5},\"pattern\":{\"fillmode\":\"overlay\",\"size\":10,\"solidity\":0.2}},\"type\":\"barpolar\"}],\"bar\":[{\"error_x\":{\"color\":\"#2a3f5f\"},\"error_y\":{\"color\":\"#2a3f5f\"},\"marker\":{\"line\":{\"color\":\"#E5ECF6\",\"width\":0.5},\"pattern\":{\"fillmode\":\"overlay\",\"size\":10,\"solidity\":0.2}},\"type\":\"bar\"}],\"carpet\":[{\"aaxis\":{\"endlinecolor\":\"#2a3f5f\",\"gridcolor\":\"white\",\"linecolor\":\"white\",\"minorgridcolor\":\"white\",\"startlinecolor\":\"#2a3f5f\"},\"baxis\":{\"endlinecolor\":\"#2a3f5f\",\"gridcolor\":\"white\",\"linecolor\":\"white\",\"minorgridcolor\":\"white\",\"startlinecolor\":\"#2a3f5f\"},\"type\":\"carpet\"}],\"choropleth\":[{\"colorbar\":{\"outlinewidth\":0,\"ticks\":\"\"},\"type\":\"choropleth\"}],\"contourcarpet\":[{\"colorbar\":{\"outlinewidth\":0,\"ticks\":\"\"},\"type\":\"contourcarpet\"}],\"contour\":[{\"colorbar\":{\"outlinewidth\":0,\"ticks\":\"\"},\"colorscale\":[[0.0,\"#0d0887\"],[0.1111111111111111,\"#46039f\"],[0.2222222222222222,\"#7201a8\"],[0.3333333333333333,\"#9c179e\"],[0.4444444444444444,\"#bd3786\"],[0.5555555555555556,\"#d8576b\"],[0.6666666666666666,\"#ed7953\"],[0.7777777777777778,\"#fb9f3a\"],[0.8888888888888888,\"#fdca26\"],[1.0,\"#f0f921\"]],\"type\":\"contour\"}],\"heatmapgl\":[{\"colorbar\":{\"outlinewidth\":0,\"ticks\":\"\"},\"colorscale\":[[0.0,\"#0d0887\"],[0.1111111111111111,\"#46039f\"],[0.2222222222222222,\"#7201a8\"],[0.3333333333333333,\"#9c179e\"],[0.4444444444444444,\"#bd3786\"],[0.5555555555555556,\"#d8576b\"],[0.6666666666666666,\"#ed7953\"],[0.7777777777777778,\"#fb9f3a\"],[0.8888888888888888,\"#fdca26\"],[1.0,\"#f0f921\"]],\"type\":\"heatmapgl\"}],\"heatmap\":[{\"colorbar\":{\"outlinewidth\":0,\"ticks\":\"\"},\"colorscale\":[[0.0,\"#0d0887\"],[0.1111111111111111,\"#46039f\"],[0.2222222222222222,\"#7201a8\"],[0.3333333333333333,\"#9c179e\"],[0.4444444444444444,\"#bd3786\"],[0.5555555555555556,\"#d8576b\"],[0.6666666666666666,\"#ed7953\"],[0.7777777777777778,\"#fb9f3a\"],[0.8888888888888888,\"#fdca26\"],[1.0,\"#f0f921\"]],\"type\":\"heatmap\"}],\"histogram2dcontour\":[{\"colorbar\":{\"outlinewidth\":0,\"ticks\":\"\"},\"colorscale\":[[0.0,\"#0d0887\"],[0.1111111111111111,\"#46039f\"],[0.2222222222222222,\"#7201a8\"],[0.3333333333333333,\"#9c179e\"],[0.4444444444444444,\"#bd3786\"],[0.5555555555555556,\"#d8576b\"],[0.6666666666666666,\"#ed7953\"],[0.7777777777777778,\"#fb9f3a\"],[0.8888888888888888,\"#fdca26\"],[1.0,\"#f0f921\"]],\"type\":\"histogram2dcontour\"}],\"histogram2d\":[{\"colorbar\":{\"outlinewidth\":0,\"ticks\":\"\"},\"colorscale\":[[0.0,\"#0d0887\"],[0.1111111111111111,\"#46039f\"],[0.2222222222222222,\"#7201a8\"],[0.3333333333333333,\"#9c179e\"],[0.4444444444444444,\"#bd3786\"],[0.5555555555555556,\"#d8576b\"],[0.6666666666666666,\"#ed7953\"],[0.7777777777777778,\"#fb9f3a\"],[0.8888888888888888,\"#fdca26\"],[1.0,\"#f0f921\"]],\"type\":\"histogram2d\"}],\"histogram\":[{\"marker\":{\"pattern\":{\"fillmode\":\"overlay\",\"size\":10,\"solidity\":0.2}},\"type\":\"histogram\"}],\"mesh3d\":[{\"colorbar\":{\"outlinewidth\":0,\"ticks\":\"\"},\"type\":\"mesh3d\"}],\"parcoords\":[{\"line\":{\"colorbar\":{\"outlinewidth\":0,\"ticks\":\"\"}},\"type\":\"parcoords\"}],\"pie\":[{\"automargin\":true,\"type\":\"pie\"}],\"scatter3d\":[{\"line\":{\"colorbar\":{\"outlinewidth\":0,\"ticks\":\"\"}},\"marker\":{\"colorbar\":{\"outlinewidth\":0,\"ticks\":\"\"}},\"type\":\"scatter3d\"}],\"scattercarpet\":[{\"marker\":{\"colorbar\":{\"outlinewidth\":0,\"ticks\":\"\"}},\"type\":\"scattercarpet\"}],\"scattergeo\":[{\"marker\":{\"colorbar\":{\"outlinewidth\":0,\"ticks\":\"\"}},\"type\":\"scattergeo\"}],\"scattergl\":[{\"marker\":{\"colorbar\":{\"outlinewidth\":0,\"ticks\":\"\"}},\"type\":\"scattergl\"}],\"scattermapbox\":[{\"marker\":{\"colorbar\":{\"outlinewidth\":0,\"ticks\":\"\"}},\"type\":\"scattermapbox\"}],\"scatterpolargl\":[{\"marker\":{\"colorbar\":{\"outlinewidth\":0,\"ticks\":\"\"}},\"type\":\"scatterpolargl\"}],\"scatterpolar\":[{\"marker\":{\"colorbar\":{\"outlinewidth\":0,\"ticks\":\"\"}},\"type\":\"scatterpolar\"}],\"scatter\":[{\"fillpattern\":{\"fillmode\":\"overlay\",\"size\":10,\"solidity\":0.2},\"type\":\"scatter\"}],\"scatterternary\":[{\"marker\":{\"colorbar\":{\"outlinewidth\":0,\"ticks\":\"\"}},\"type\":\"scatterternary\"}],\"surface\":[{\"colorbar\":{\"outlinewidth\":0,\"ticks\":\"\"},\"colorscale\":[[0.0,\"#0d0887\"],[0.1111111111111111,\"#46039f\"],[0.2222222222222222,\"#7201a8\"],[0.3333333333333333,\"#9c179e\"],[0.4444444444444444,\"#bd3786\"],[0.5555555555555556,\"#d8576b\"],[0.6666666666666666,\"#ed7953\"],[0.7777777777777778,\"#fb9f3a\"],[0.8888888888888888,\"#fdca26\"],[1.0,\"#f0f921\"]],\"type\":\"surface\"}],\"table\":[{\"cells\":{\"fill\":{\"color\":\"#EBF0F8\"},\"line\":{\"color\":\"white\"}},\"header\":{\"fill\":{\"color\":\"#C8D4E3\"},\"line\":{\"color\":\"white\"}},\"type\":\"table\"}]},\"layout\":{\"annotationdefaults\":{\"arrowcolor\":\"#2a3f5f\",\"arrowhead\":0,\"arrowwidth\":1},\"autotypenumbers\":\"strict\",\"coloraxis\":{\"colorbar\":{\"outlinewidth\":0,\"ticks\":\"\"}},\"colorscale\":{\"diverging\":[[0,\"#8e0152\"],[0.1,\"#c51b7d\"],[0.2,\"#de77ae\"],[0.3,\"#f1b6da\"],[0.4,\"#fde0ef\"],[0.5,\"#f7f7f7\"],[0.6,\"#e6f5d0\"],[0.7,\"#b8e186\"],[0.8,\"#7fbc41\"],[0.9,\"#4d9221\"],[1,\"#276419\"]],\"sequential\":[[0.0,\"#0d0887\"],[0.1111111111111111,\"#46039f\"],[0.2222222222222222,\"#7201a8\"],[0.3333333333333333,\"#9c179e\"],[0.4444444444444444,\"#bd3786\"],[0.5555555555555556,\"#d8576b\"],[0.6666666666666666,\"#ed7953\"],[0.7777777777777778,\"#fb9f3a\"],[0.8888888888888888,\"#fdca26\"],[1.0,\"#f0f921\"]],\"sequentialminus\":[[0.0,\"#0d0887\"],[0.1111111111111111,\"#46039f\"],[0.2222222222222222,\"#7201a8\"],[0.3333333333333333,\"#9c179e\"],[0.4444444444444444,\"#bd3786\"],[0.5555555555555556,\"#d8576b\"],[0.6666666666666666,\"#ed7953\"],[0.7777777777777778,\"#fb9f3a\"],[0.8888888888888888,\"#fdca26\"],[1.0,\"#f0f921\"]]},\"colorway\":[\"#636efa\",\"#EF553B\",\"#00cc96\",\"#ab63fa\",\"#FFA15A\",\"#19d3f3\",\"#FF6692\",\"#B6E880\",\"#FF97FF\",\"#FECB52\"],\"font\":{\"color\":\"#2a3f5f\"},\"geo\":{\"bgcolor\":\"white\",\"lakecolor\":\"white\",\"landcolor\":\"#E5ECF6\",\"showlakes\":true,\"showland\":true,\"subunitcolor\":\"white\"},\"hoverlabel\":{\"align\":\"left\"},\"hovermode\":\"closest\",\"mapbox\":{\"style\":\"light\"},\"paper_bgcolor\":\"white\",\"plot_bgcolor\":\"#E5ECF6\",\"polar\":{\"angularaxis\":{\"gridcolor\":\"white\",\"linecolor\":\"white\",\"ticks\":\"\"},\"bgcolor\":\"#E5ECF6\",\"radialaxis\":{\"gridcolor\":\"white\",\"linecolor\":\"white\",\"ticks\":\"\"}},\"scene\":{\"xaxis\":{\"backgroundcolor\":\"#E5ECF6\",\"gridcolor\":\"white\",\"gridwidth\":2,\"linecolor\":\"white\",\"showbackground\":true,\"ticks\":\"\",\"zerolinecolor\":\"white\"},\"yaxis\":{\"backgroundcolor\":\"#E5ECF6\",\"gridcolor\":\"white\",\"gridwidth\":2,\"linecolor\":\"white\",\"showbackground\":true,\"ticks\":\"\",\"zerolinecolor\":\"white\"},\"zaxis\":{\"backgroundcolor\":\"#E5ECF6\",\"gridcolor\":\"white\",\"gridwidth\":2,\"linecolor\":\"white\",\"showbackground\":true,\"ticks\":\"\",\"zerolinecolor\":\"white\"}},\"shapedefaults\":{\"line\":{\"color\":\"#2a3f5f\"}},\"ternary\":{\"aaxis\":{\"gridcolor\":\"white\",\"linecolor\":\"white\",\"ticks\":\"\"},\"baxis\":{\"gridcolor\":\"white\",\"linecolor\":\"white\",\"ticks\":\"\"},\"bgcolor\":\"#E5ECF6\",\"caxis\":{\"gridcolor\":\"white\",\"linecolor\":\"white\",\"ticks\":\"\"}},\"title\":{\"x\":0.05},\"xaxis\":{\"automargin\":true,\"gridcolor\":\"white\",\"linecolor\":\"white\",\"ticks\":\"\",\"title\":{\"standoff\":15},\"zerolinecolor\":\"white\",\"zerolinewidth\":2},\"yaxis\":{\"automargin\":true,\"gridcolor\":\"white\",\"linecolor\":\"white\",\"ticks\":\"\",\"title\":{\"standoff\":15},\"zerolinecolor\":\"white\",\"zerolinewidth\":2}}},\"title\":{\"font\":{\"color\":\"#4D5663\"},\"text\":\"Keywords Counts in 2023\"},\"xaxis\":{\"gridcolor\":\"#E1E5ED\",\"showgrid\":true,\"tickfont\":{\"color\":\"#4D5663\"},\"title\":{\"font\":{\"color\":\"#4D5663\"},\"text\":\"Keywords\"},\"zerolinecolor\":\"#E1E5ED\"},\"yaxis\":{\"gridcolor\":\"#E1E5ED\",\"showgrid\":true,\"tickfont\":{\"color\":\"#4D5663\"},\"title\":{\"font\":{\"color\":\"#4D5663\"},\"text\":\"Count\"},\"zerolinecolor\":\"#E1E5ED\"}},                        {\"showLink\": true, \"linkText\": \"Export to plot.ly\", \"plotlyServerURL\": \"https://plot.ly\", \"responsive\": true}                    ).then(function(){\n",
       "                            \n",
       "var gd = document.getElementById('3eb5e0fe-7d09-403a-8049-5cea2381565e');\n",
       "var x = new MutationObserver(function (mutations, observer) {{\n",
       "        var display = window.getComputedStyle(gd).display;\n",
       "        if (!display || display === 'none') {{\n",
       "            console.log([gd, 'removed!']);\n",
       "            Plotly.purge(gd);\n",
       "            observer.disconnect();\n",
       "        }}\n",
       "}});\n",
       "\n",
       "// Listen for the removal of the full notebook cells\n",
       "var notebookContainer = gd.closest('#notebook-container');\n",
       "if (notebookContainer) {{\n",
       "    x.observe(notebookContainer, {childList: true});\n",
       "}}\n",
       "\n",
       "// Listen for the clearing of the current output cell\n",
       "var outputEl = gd.closest('.output');\n",
       "if (outputEl) {{\n",
       "    x.observe(outputEl, {childList: true});\n",
       "}}\n",
       "\n",
       "                        })                };                });            </script>        </div>"
      ]
     },
     "metadata": {},
     "output_type": "display_data"
    }
   ],
   "source": [
    "import cufflinks as cf\n",
    "cf.go_offline()\n",
    "cf.set_config_file(offline=False, world_readable=True)\n",
    "\n",
    "keywords_counts_result.iplot(kind='bar', x='Keywords', y='Count', xTitle='Keywords', yTitle='Count', title='Keywords Counts in 2023')\n"
   ]
  },
  {
   "cell_type": "code",
   "execution_count": 29,
   "metadata": {},
   "outputs": [],
   "source": [
    "keywords_counts_result.rename(columns={'Count': '2023_Count'}, inplace=True)\n",
    "keywords_counts_result.to_csv('ExtractedData/2023_keywords_counts.csv', index=False)"
   ]
  }
 ],
 "metadata": {
  "kernelspec": {
   "display_name": "base",
   "language": "python",
   "name": "python3"
  },
  "language_info": {
   "codemirror_mode": {
    "name": "ipython",
    "version": 3
   },
   "file_extension": ".py",
   "mimetype": "text/x-python",
   "name": "python",
   "nbconvert_exporter": "python",
   "pygments_lexer": "ipython3",
   "version": "3.11.5"
  }
 },
 "nbformat": 4,
 "nbformat_minor": 2
}
