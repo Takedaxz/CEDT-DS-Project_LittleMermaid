{
 "cells": [
  {
   "cell_type": "code",
   "execution_count": 1,
   "metadata": {},
   "outputs": [],
   "source": [
    "import numpy as np\n",
    "import pandas as pd"
   ]
  },
  {
   "cell_type": "code",
   "execution_count": 2,
   "metadata": {},
   "outputs": [],
   "source": [
    "df2021 = pd.read_csv('ExtractedData/2021.csv')"
   ]
  },
  {
   "cell_type": "code",
   "execution_count": 3,
   "metadata": {},
   "outputs": [],
   "source": [
    "df2021['Publication_Date']=pd.to_datetime(df2021['Publication_Date'])"
   ]
  },
  {
   "cell_type": "code",
   "execution_count": 4,
   "metadata": {},
   "outputs": [
    {
     "name": "stdout",
     "output_type": "stream",
     "text": [
      "        0      1      2      3     4     5     6     7     8     9     10  \\\n",
      "0     2700   None   None   None  None  None  None  None  None  None  None   \n",
      "1     3100   None   None   None  None  None  None  None  None  None  None   \n",
      "2     1105   1103   None   None  None  None  None  None  None  None  None   \n",
      "3     1105   1103   None   None  None  None  None  None  None  None  None   \n",
      "4     2200   None   None   None  None  None  None  None  None  None  None   \n",
      "...    ...    ...    ...    ...   ...   ...   ...   ...   ...   ...   ...   \n",
      "3810  2002   1407   None   None  None  None  None  None  None  None  None   \n",
      "3811  1602   1303   1110   1605  None  None  None  None  None  None  None   \n",
      "3812  3304   1201   1408   None  None  None  None  None  None  None  None   \n",
      "3813  2105   2311   None   None  None  None  None  None  None  None  None   \n",
      "3814  2735   2739   None   None  None  None  None  None  None  None  None   \n",
      "\n",
      "        11  \n",
      "0     None  \n",
      "1     None  \n",
      "2     None  \n",
      "3     None  \n",
      "4     None  \n",
      "...    ...  \n",
      "3810  None  \n",
      "3811  None  \n",
      "3812  None  \n",
      "3813  None  \n",
      "3814  None  \n",
      "\n",
      "[3815 rows x 12 columns]\n"
     ]
    }
   ],
   "source": [
    "# Get the number of rows and columns in the dataset \n",
    "df_2021_subject_areas = df2021['Subject_Area'].str.split(';', expand=True)\n",
    "print(df_2021_subject_areas)"
   ]
  },
  {
   "cell_type": "code",
   "execution_count": 5,
   "metadata": {},
   "outputs": [
    {
     "name": "stdout",
     "output_type": "stream",
     "text": [
      "1000    256\n",
      "1600    198\n",
      "2700    146\n",
      "1500    144\n",
      "2725    143\n",
      "       ... \n",
      "3613      1\n",
      "2806      1\n",
      "1905      1\n",
      "2922      1\n",
      "2906      1\n",
      "Name: count, Length: 307, dtype: int64\n"
     ]
    }
   ],
   "source": [
    "# Get the number of rows and columns\n",
    "subject_area_counts = df_2021_subject_areas.stack().str.strip().value_counts()\n",
    "print(subject_area_counts)"
   ]
  },
  {
   "cell_type": "code",
   "execution_count": 6,
   "metadata": {},
   "outputs": [
    {
     "name": "stdout",
     "output_type": "stream",
     "text": [
      "    Subject_Area  Count\n",
      "0           1000    256\n",
      "1           1600    198\n",
      "2           2700    146\n",
      "3           1500    144\n",
      "4           2725    143\n",
      "..           ...    ...\n",
      "299         2907      1\n",
      "298         1410      1\n",
      "297         1409      1\n",
      "295         2908      1\n",
      "306         2906      1\n",
      "\n",
      "[307 rows x 2 columns]\n"
     ]
    }
   ],
   "source": [
    "# Create a DataFrame from the value counts\n",
    "result = pd.DataFrame({\n",
    "    'Subject_Area': subject_area_counts.index,\n",
    "    'Count': subject_area_counts.values\n",
    "})\n",
    "\n",
    "# Sort the DataFrame by count in descending order\n",
    "subject_area_counts_result = result.sort_values('Count', ascending=False)\n",
    "\n",
    "print(subject_area_counts_result)"
   ]
  },
  {
   "cell_type": "code",
   "execution_count": 7,
   "metadata": {},
   "outputs": [
    {
     "data": {
      "text/plain": [
       "(66, 9)"
      ]
     },
     "execution_count": 7,
     "metadata": {},
     "output_type": "execute_result"
    }
   ],
   "source": [
    "df2021_with_subject_area_3106=df2021[df2021['Subject_Area'].str.contains('3106', na=False)]\n",
    "df2021_with_subject_area_3106.shape"
   ]
  },
  {
   "cell_type": "code",
   "execution_count": 8,
   "metadata": {},
   "outputs": [
    {
     "data": {
      "text/html": [
       "<div>\n",
       "<style scoped>\n",
       "    .dataframe tbody tr th:only-of-type {\n",
       "        vertical-align: middle;\n",
       "    }\n",
       "\n",
       "    .dataframe tbody tr th {\n",
       "        vertical-align: top;\n",
       "    }\n",
       "\n",
       "    .dataframe thead th {\n",
       "        text-align: right;\n",
       "    }\n",
       "</style>\n",
       "<table border=\"1\" class=\"dataframe\">\n",
       "  <thead>\n",
       "    <tr style=\"text-align: right;\">\n",
       "      <th></th>\n",
       "      <th>Title</th>\n",
       "      <th>Abstract</th>\n",
       "      <th>Author</th>\n",
       "      <th>Subject_Area</th>\n",
       "      <th>Publication_Date</th>\n",
       "      <th>Affiliations_ID</th>\n",
       "      <th>References</th>\n",
       "      <th>Keywords</th>\n",
       "      <th>Filename</th>\n",
       "    </tr>\n",
       "  </thead>\n",
       "  <tbody>\n",
       "    <tr>\n",
       "      <th>87</th>\n",
       "      <td>Measurement of the inclusive and differential ...</td>\n",
       "      <td>© 2021, The Author(s).The production cross sec...</td>\n",
       "      <td>Tumasyan A.; Adam W.; Andrejkovic J.W.; Bergau...</td>\n",
       "      <td>3106</td>\n",
       "      <td>2021-12-01</td>\n",
       "      <td>60009254; 60014966; 60013959; 60104485; 600235...</td>\n",
       "      <td>Probing electroweak top quark couplings at had...</td>\n",
       "      <td>Hadron-Hadron scattering (experiments); Top ph...</td>\n",
       "      <td>202100087</td>\n",
       "    </tr>\n",
       "    <tr>\n",
       "      <th>88</th>\n",
       "      <td>Probing effective field theory operators in th...</td>\n",
       "      <td>© 2021, The Author(s).A search for new top qua...</td>\n",
       "      <td>Tonon N.; Aarup Petersen H.; Aldaya Martin M.;...</td>\n",
       "      <td>3106</td>\n",
       "      <td>2021-12-01</td>\n",
       "      <td>60009254; 60014966; 60013959; 60104485; 600235...</td>\n",
       "      <td>Matter and antimatter in the universe; Dark ma...</td>\n",
       "      <td>Hadron-Hadron scattering (experiments); Top ph...</td>\n",
       "      <td>202100088</td>\n",
       "    </tr>\n",
       "    <tr>\n",
       "      <th>116</th>\n",
       "      <td>Measurement of the top quark mass using events...</td>\n",
       "      <td>© 2021, The Author(s).A measurement of the top...</td>\n",
       "      <td>Tumasyan A.; Adam W.; Andrejkovic J.W.; Bergau...</td>\n",
       "      <td>3106</td>\n",
       "      <td>2021-12-01</td>\n",
       "      <td>60009254; 60014966; 60013959; 60104485; 600235...</td>\n",
       "      <td>Update of the global electroweak fit and const...</td>\n",
       "      <td>Hadron-Hadron scattering (experiments); Top ph...</td>\n",
       "      <td>202100116</td>\n",
       "    </tr>\n",
       "    <tr>\n",
       "      <th>133</th>\n",
       "      <td>Search for a heavy resonance decaying to a top...</td>\n",
       "      <td>© 2021, The Author(s).A search for a heavy res...</td>\n",
       "      <td>Sirunyan A.M.; Tumasyan A.; Adam W.; Bergauer ...</td>\n",
       "      <td>3106</td>\n",
       "      <td>2021-12-01</td>\n",
       "      <td>60009254; 60014966; 60013959; 60104485; 600235...</td>\n",
       "      <td>Excited-quark and -lepton production at hadron...</td>\n",
       "      <td>Beyond Standard Model; Hadron-Hadron scatterin...</td>\n",
       "      <td>202100133</td>\n",
       "    </tr>\n",
       "    <tr>\n",
       "      <th>576</th>\n",
       "      <td>Measurement of differential t t ¯ production c...</td>\n",
       "      <td>© 2021 CERN.Measurements of differential and d...</td>\n",
       "      <td>Tumasyan A.; Adam W.; Andrejkovic J.W.; Bergau...</td>\n",
       "      <td>3106</td>\n",
       "      <td>2021-11-01</td>\n",
       "      <td>60009254; 60014966; 60013959; 60071636; 601044...</td>\n",
       "      <td>Measurement of (Equation presented) normalised...</td>\n",
       "      <td>NaN</td>\n",
       "      <td>202100576</td>\n",
       "    </tr>\n",
       "  </tbody>\n",
       "</table>\n",
       "</div>"
      ],
      "text/plain": [
       "                                                 Title  \\\n",
       "87   Measurement of the inclusive and differential ...   \n",
       "88   Probing effective field theory operators in th...   \n",
       "116  Measurement of the top quark mass using events...   \n",
       "133  Search for a heavy resonance decaying to a top...   \n",
       "576  Measurement of differential t t ¯ production c...   \n",
       "\n",
       "                                              Abstract  \\\n",
       "87   © 2021, The Author(s).The production cross sec...   \n",
       "88   © 2021, The Author(s).A search for new top qua...   \n",
       "116  © 2021, The Author(s).A measurement of the top...   \n",
       "133  © 2021, The Author(s).A search for a heavy res...   \n",
       "576  © 2021 CERN.Measurements of differential and d...   \n",
       "\n",
       "                                                Author Subject_Area  \\\n",
       "87   Tumasyan A.; Adam W.; Andrejkovic J.W.; Bergau...         3106   \n",
       "88   Tonon N.; Aarup Petersen H.; Aldaya Martin M.;...         3106   \n",
       "116  Tumasyan A.; Adam W.; Andrejkovic J.W.; Bergau...         3106   \n",
       "133  Sirunyan A.M.; Tumasyan A.; Adam W.; Bergauer ...         3106   \n",
       "576  Tumasyan A.; Adam W.; Andrejkovic J.W.; Bergau...         3106   \n",
       "\n",
       "    Publication_Date                                    Affiliations_ID  \\\n",
       "87        2021-12-01  60009254; 60014966; 60013959; 60104485; 600235...   \n",
       "88        2021-12-01  60009254; 60014966; 60013959; 60104485; 600235...   \n",
       "116       2021-12-01  60009254; 60014966; 60013959; 60104485; 600235...   \n",
       "133       2021-12-01  60009254; 60014966; 60013959; 60104485; 600235...   \n",
       "576       2021-11-01  60009254; 60014966; 60013959; 60071636; 601044...   \n",
       "\n",
       "                                            References  \\\n",
       "87   Probing electroweak top quark couplings at had...   \n",
       "88   Matter and antimatter in the universe; Dark ma...   \n",
       "116  Update of the global electroweak fit and const...   \n",
       "133  Excited-quark and -lepton production at hadron...   \n",
       "576  Measurement of (Equation presented) normalised...   \n",
       "\n",
       "                                              Keywords   Filename  \n",
       "87   Hadron-Hadron scattering (experiments); Top ph...  202100087  \n",
       "88   Hadron-Hadron scattering (experiments); Top ph...  202100088  \n",
       "116  Hadron-Hadron scattering (experiments); Top ph...  202100116  \n",
       "133  Beyond Standard Model; Hadron-Hadron scatterin...  202100133  \n",
       "576                                                NaN  202100576  "
      ]
     },
     "execution_count": 8,
     "metadata": {},
     "output_type": "execute_result"
    }
   ],
   "source": [
    "df2021_with_subject_area_3106.head()"
   ]
  },
  {
   "cell_type": "code",
   "execution_count": 9,
   "metadata": {},
   "outputs": [
    {
     "data": {
      "text/html": [
       "<div>\n",
       "<style scoped>\n",
       "    .dataframe tbody tr th:only-of-type {\n",
       "        vertical-align: middle;\n",
       "    }\n",
       "\n",
       "    .dataframe tbody tr th {\n",
       "        vertical-align: top;\n",
       "    }\n",
       "\n",
       "    .dataframe thead th {\n",
       "        text-align: right;\n",
       "    }\n",
       "</style>\n",
       "<table border=\"1\" class=\"dataframe\">\n",
       "  <thead>\n",
       "    <tr style=\"text-align: right;\">\n",
       "      <th></th>\n",
       "      <th>Title</th>\n",
       "      <th>Abstract</th>\n",
       "      <th>Author</th>\n",
       "      <th>Subject_Area</th>\n",
       "      <th>Publication_Date</th>\n",
       "      <th>Affiliations_ID</th>\n",
       "      <th>References</th>\n",
       "      <th>Keywords</th>\n",
       "      <th>Filename</th>\n",
       "    </tr>\n",
       "  </thead>\n",
       "  <tbody>\n",
       "    <tr>\n",
       "      <th>3655</th>\n",
       "      <td>Resolving Hubble tension with quintom dark ene...</td>\n",
       "      <td>© 2021 Chinese Physical Society and the Instit...</td>\n",
       "      <td>Panpanich S.; Burikham P.; Ponglertsakul S.; T...</td>\n",
       "      <td>3106; 3105; 3103</td>\n",
       "      <td>2021-01-01</td>\n",
       "      <td>60008786; 60027884; 60028190</td>\n",
       "      <td>NaN</td>\n",
       "      <td>Dark energy; Hubble tension; Quintom</td>\n",
       "      <td>202103655</td>\n",
       "    </tr>\n",
       "    <tr>\n",
       "      <th>3407</th>\n",
       "      <td>Evidence for Higgs boson decay to a pair of muons</td>\n",
       "      <td>© 2021, The Author(s).Evidence for Higgs boson...</td>\n",
       "      <td>Sirunyan A.M.; Tumasyan A.; Adam W.; Bergauer ...</td>\n",
       "      <td>3106</td>\n",
       "      <td>2021-01-01</td>\n",
       "      <td>60009254; 60014966; 60023578; 60013959; 601044...</td>\n",
       "      <td>Observation of a new particle in the search fo...</td>\n",
       "      <td>Hadron-Hadron scattering (experiments); Higgs ...</td>\n",
       "      <td>202103407</td>\n",
       "    </tr>\n",
       "    <tr>\n",
       "      <th>3646</th>\n",
       "      <td>Correlations of azimuthal anisotropy Fourier h...</td>\n",
       "      <td>© 2021 CERN.Event-by-event long-range correlat...</td>\n",
       "      <td>Sirunyan A.M.; Tumasyan A.; Adam W.; Ambrogi F...</td>\n",
       "      <td>3106</td>\n",
       "      <td>2021-01-01</td>\n",
       "      <td>60009254; 60014966; 60023578; 60013959; 600240...</td>\n",
       "      <td>What RHIC experiments and theory tell us about...</td>\n",
       "      <td>NaN</td>\n",
       "      <td>202103646</td>\n",
       "    </tr>\n",
       "    <tr>\n",
       "      <th>3624</th>\n",
       "      <td>Search for the lepton flavor violating decay τ...</td>\n",
       "      <td>© 2021, The Author(s).Results are reported fro...</td>\n",
       "      <td>Sirunyan A.M.; Tumasyan A.; Adam W.; Ambrogi F...</td>\n",
       "      <td>3106</td>\n",
       "      <td>2021-01-01</td>\n",
       "      <td>60009254; 60014966; 60023578; 60013959; 601044...</td>\n",
       "      <td>Flavor violating leptonic decays of τ and μ le...</td>\n",
       "      <td>Hadron-Hadron scattering (experiments); Lepton...</td>\n",
       "      <td>202103624</td>\n",
       "    </tr>\n",
       "    <tr>\n",
       "      <th>3488</th>\n",
       "      <td>Unimodular vs nilpotent superfield approach to...</td>\n",
       "      <td>© 2021, The Author(s).Recent progress in under...</td>\n",
       "      <td>Bansal S.; Nagy S.; Padilla A.; Zavala I.</td>\n",
       "      <td>3106</td>\n",
       "      <td>2021-01-01</td>\n",
       "      <td>60004572; 60022109; 60015138; 60028190</td>\n",
       "      <td>The super-Stückelberg procedure and dS in pure...</td>\n",
       "      <td>Space-Time Symmetries; Supergravity Models; Su...</td>\n",
       "      <td>202103488</td>\n",
       "    </tr>\n",
       "    <tr>\n",
       "      <th>...</th>\n",
       "      <td>...</td>\n",
       "      <td>...</td>\n",
       "      <td>...</td>\n",
       "      <td>...</td>\n",
       "      <td>...</td>\n",
       "      <td>...</td>\n",
       "      <td>...</td>\n",
       "      <td>...</td>\n",
       "      <td>...</td>\n",
       "    </tr>\n",
       "    <tr>\n",
       "      <th>576</th>\n",
       "      <td>Measurement of differential t t ¯ production c...</td>\n",
       "      <td>© 2021 CERN.Measurements of differential and d...</td>\n",
       "      <td>Tumasyan A.; Adam W.; Andrejkovic J.W.; Bergau...</td>\n",
       "      <td>3106</td>\n",
       "      <td>2021-11-01</td>\n",
       "      <td>60009254; 60014966; 60013959; 60071636; 601044...</td>\n",
       "      <td>Measurement of (Equation presented) normalised...</td>\n",
       "      <td>NaN</td>\n",
       "      <td>202100576</td>\n",
       "    </tr>\n",
       "    <tr>\n",
       "      <th>133</th>\n",
       "      <td>Search for a heavy resonance decaying to a top...</td>\n",
       "      <td>© 2021, The Author(s).A search for a heavy res...</td>\n",
       "      <td>Sirunyan A.M.; Tumasyan A.; Adam W.; Bergauer ...</td>\n",
       "      <td>3106</td>\n",
       "      <td>2021-12-01</td>\n",
       "      <td>60009254; 60014966; 60013959; 60104485; 600235...</td>\n",
       "      <td>Excited-quark and -lepton production at hadron...</td>\n",
       "      <td>Beyond Standard Model; Hadron-Hadron scatterin...</td>\n",
       "      <td>202100133</td>\n",
       "    </tr>\n",
       "    <tr>\n",
       "      <th>116</th>\n",
       "      <td>Measurement of the top quark mass using events...</td>\n",
       "      <td>© 2021, The Author(s).A measurement of the top...</td>\n",
       "      <td>Tumasyan A.; Adam W.; Andrejkovic J.W.; Bergau...</td>\n",
       "      <td>3106</td>\n",
       "      <td>2021-12-01</td>\n",
       "      <td>60009254; 60014966; 60013959; 60104485; 600235...</td>\n",
       "      <td>Update of the global electroweak fit and const...</td>\n",
       "      <td>Hadron-Hadron scattering (experiments); Top ph...</td>\n",
       "      <td>202100116</td>\n",
       "    </tr>\n",
       "    <tr>\n",
       "      <th>88</th>\n",
       "      <td>Probing effective field theory operators in th...</td>\n",
       "      <td>© 2021, The Author(s).A search for new top qua...</td>\n",
       "      <td>Tonon N.; Aarup Petersen H.; Aldaya Martin M.;...</td>\n",
       "      <td>3106</td>\n",
       "      <td>2021-12-01</td>\n",
       "      <td>60009254; 60014966; 60013959; 60104485; 600235...</td>\n",
       "      <td>Matter and antimatter in the universe; Dark ma...</td>\n",
       "      <td>Hadron-Hadron scattering (experiments); Top ph...</td>\n",
       "      <td>202100088</td>\n",
       "    </tr>\n",
       "    <tr>\n",
       "      <th>87</th>\n",
       "      <td>Measurement of the inclusive and differential ...</td>\n",
       "      <td>© 2021, The Author(s).The production cross sec...</td>\n",
       "      <td>Tumasyan A.; Adam W.; Andrejkovic J.W.; Bergau...</td>\n",
       "      <td>3106</td>\n",
       "      <td>2021-12-01</td>\n",
       "      <td>60009254; 60014966; 60013959; 60104485; 600235...</td>\n",
       "      <td>Probing electroweak top quark couplings at had...</td>\n",
       "      <td>Hadron-Hadron scattering (experiments); Top ph...</td>\n",
       "      <td>202100087</td>\n",
       "    </tr>\n",
       "  </tbody>\n",
       "</table>\n",
       "<p>66 rows × 9 columns</p>\n",
       "</div>"
      ],
      "text/plain": [
       "                                                  Title  \\\n",
       "3655  Resolving Hubble tension with quintom dark ene...   \n",
       "3407  Evidence for Higgs boson decay to a pair of muons   \n",
       "3646  Correlations of azimuthal anisotropy Fourier h...   \n",
       "3624  Search for the lepton flavor violating decay τ...   \n",
       "3488  Unimodular vs nilpotent superfield approach to...   \n",
       "...                                                 ...   \n",
       "576   Measurement of differential t t ¯ production c...   \n",
       "133   Search for a heavy resonance decaying to a top...   \n",
       "116   Measurement of the top quark mass using events...   \n",
       "88    Probing effective field theory operators in th...   \n",
       "87    Measurement of the inclusive and differential ...   \n",
       "\n",
       "                                               Abstract  \\\n",
       "3655  © 2021 Chinese Physical Society and the Instit...   \n",
       "3407  © 2021, The Author(s).Evidence for Higgs boson...   \n",
       "3646  © 2021 CERN.Event-by-event long-range correlat...   \n",
       "3624  © 2021, The Author(s).Results are reported fro...   \n",
       "3488  © 2021, The Author(s).Recent progress in under...   \n",
       "...                                                 ...   \n",
       "576   © 2021 CERN.Measurements of differential and d...   \n",
       "133   © 2021, The Author(s).A search for a heavy res...   \n",
       "116   © 2021, The Author(s).A measurement of the top...   \n",
       "88    © 2021, The Author(s).A search for new top qua...   \n",
       "87    © 2021, The Author(s).The production cross sec...   \n",
       "\n",
       "                                                 Author      Subject_Area  \\\n",
       "3655  Panpanich S.; Burikham P.; Ponglertsakul S.; T...  3106; 3105; 3103   \n",
       "3407  Sirunyan A.M.; Tumasyan A.; Adam W.; Bergauer ...              3106   \n",
       "3646  Sirunyan A.M.; Tumasyan A.; Adam W.; Ambrogi F...              3106   \n",
       "3624  Sirunyan A.M.; Tumasyan A.; Adam W.; Ambrogi F...              3106   \n",
       "3488          Bansal S.; Nagy S.; Padilla A.; Zavala I.              3106   \n",
       "...                                                 ...               ...   \n",
       "576   Tumasyan A.; Adam W.; Andrejkovic J.W.; Bergau...              3106   \n",
       "133   Sirunyan A.M.; Tumasyan A.; Adam W.; Bergauer ...              3106   \n",
       "116   Tumasyan A.; Adam W.; Andrejkovic J.W.; Bergau...              3106   \n",
       "88    Tonon N.; Aarup Petersen H.; Aldaya Martin M.;...              3106   \n",
       "87    Tumasyan A.; Adam W.; Andrejkovic J.W.; Bergau...              3106   \n",
       "\n",
       "     Publication_Date                                    Affiliations_ID  \\\n",
       "3655       2021-01-01                       60008786; 60027884; 60028190   \n",
       "3407       2021-01-01  60009254; 60014966; 60023578; 60013959; 601044...   \n",
       "3646       2021-01-01  60009254; 60014966; 60023578; 60013959; 600240...   \n",
       "3624       2021-01-01  60009254; 60014966; 60023578; 60013959; 601044...   \n",
       "3488       2021-01-01             60004572; 60022109; 60015138; 60028190   \n",
       "...               ...                                                ...   \n",
       "576        2021-11-01  60009254; 60014966; 60013959; 60071636; 601044...   \n",
       "133        2021-12-01  60009254; 60014966; 60013959; 60104485; 600235...   \n",
       "116        2021-12-01  60009254; 60014966; 60013959; 60104485; 600235...   \n",
       "88         2021-12-01  60009254; 60014966; 60013959; 60104485; 600235...   \n",
       "87         2021-12-01  60009254; 60014966; 60013959; 60104485; 600235...   \n",
       "\n",
       "                                             References  \\\n",
       "3655                                                NaN   \n",
       "3407  Observation of a new particle in the search fo...   \n",
       "3646  What RHIC experiments and theory tell us about...   \n",
       "3624  Flavor violating leptonic decays of τ and μ le...   \n",
       "3488  The super-Stückelberg procedure and dS in pure...   \n",
       "...                                                 ...   \n",
       "576   Measurement of (Equation presented) normalised...   \n",
       "133   Excited-quark and -lepton production at hadron...   \n",
       "116   Update of the global electroweak fit and const...   \n",
       "88    Matter and antimatter in the universe; Dark ma...   \n",
       "87    Probing electroweak top quark couplings at had...   \n",
       "\n",
       "                                               Keywords   Filename  \n",
       "3655               Dark energy; Hubble tension; Quintom  202103655  \n",
       "3407  Hadron-Hadron scattering (experiments); Higgs ...  202103407  \n",
       "3646                                                NaN  202103646  \n",
       "3624  Hadron-Hadron scattering (experiments); Lepton...  202103624  \n",
       "3488  Space-Time Symmetries; Supergravity Models; Su...  202103488  \n",
       "...                                                 ...        ...  \n",
       "576                                                 NaN  202100576  \n",
       "133   Beyond Standard Model; Hadron-Hadron scatterin...  202100133  \n",
       "116   Hadron-Hadron scattering (experiments); Top ph...  202100116  \n",
       "88    Hadron-Hadron scattering (experiments); Top ph...  202100088  \n",
       "87    Hadron-Hadron scattering (experiments); Top ph...  202100087  \n",
       "\n",
       "[66 rows x 9 columns]"
      ]
     },
     "execution_count": 9,
     "metadata": {},
     "output_type": "execute_result"
    }
   ],
   "source": [
    "df2021_with_subject_area_3106.sort_values('Publication_Date', ascending=True)"
   ]
  },
  {
   "cell_type": "code",
   "execution_count": 10,
   "metadata": {},
   "outputs": [
    {
     "name": "stdout",
     "output_type": "stream",
     "text": [
      "                             0                   1               2   \\\n",
      "0                           NaN                 NaN             NaN   \n",
      "1                           NaN                 NaN             NaN   \n",
      "2                           NaN                 NaN             NaN   \n",
      "3                           NaN                 NaN             NaN   \n",
      "4     8-bit soft microprocessor                FPGA       PicoBlaze   \n",
      "...                         ...                 ...             ...   \n",
      "3810             Adult outcomes           Childhood     Cohort data   \n",
      "3811                antioxidant   Clausena excavata            IC50   \n",
      "3812                        NaN                 NaN             NaN   \n",
      "3813                    bio-oil             biomass        charcoal   \n",
      "3814          Attention deficit          Depression   Hyperactivity   \n",
      "\n",
      "                                 3                         4   \\\n",
      "0                               NaN                       NaN   \n",
      "1                               NaN                       NaN   \n",
      "2                               NaN                       NaN   \n",
      "3                               NaN                       NaN   \n",
      "4      Software development methods   Verification techniques   \n",
      "...                             ...                       ...   \n",
      "3810              Life satisfaction                      None   \n",
      "3811                     inhibition           pyrano coumarin   \n",
      "3812                            NaN                       NaN   \n",
      "3813          Hydrilla verticillata                 Pyrolysis   \n",
      "3814             Internet addiction           Psychopathology   \n",
      "\n",
      "                   5     6     7     8     9   ...    14    15    16    17  \\\n",
      "0                 NaN   NaN   NaN   NaN   NaN  ...   NaN   NaN   NaN   NaN   \n",
      "1                 NaN   NaN   NaN   NaN   NaN  ...   NaN   NaN   NaN   NaN   \n",
      "2                 NaN   NaN   NaN   NaN   NaN  ...   NaN   NaN   NaN   NaN   \n",
      "3                 NaN   NaN   NaN   NaN   NaN  ...   NaN   NaN   NaN   NaN   \n",
      "4                None  None  None  None  None  ...  None  None  None  None   \n",
      "...               ...   ...   ...   ...   ...  ...   ...   ...   ...   ...   \n",
      "3810             None  None  None  None  None  ...  None  None  None  None   \n",
      "3811    α-glycosidase  None  None  None  None  ...  None  None  None  None   \n",
      "3812              NaN   NaN   NaN   NaN   NaN  ...   NaN   NaN   NaN   NaN   \n",
      "3813             None  None  None  None  None  ...  None  None  None  None   \n",
      "3814   Social anxiety  None  None  None  None  ...  None  None  None  None   \n",
      "\n",
      "        18    19    20    21    22    23  \n",
      "0      NaN   NaN   NaN   NaN   NaN   NaN  \n",
      "1      NaN   NaN   NaN   NaN   NaN   NaN  \n",
      "2      NaN   NaN   NaN   NaN   NaN   NaN  \n",
      "3      NaN   NaN   NaN   NaN   NaN   NaN  \n",
      "4     None  None  None  None  None  None  \n",
      "...    ...   ...   ...   ...   ...   ...  \n",
      "3810  None  None  None  None  None  None  \n",
      "3811  None  None  None  None  None  None  \n",
      "3812   NaN   NaN   NaN   NaN   NaN   NaN  \n",
      "3813  None  None  None  None  None  None  \n",
      "3814  None  None  None  None  None  None  \n",
      "\n",
      "[3815 rows x 24 columns]\n"
     ]
    }
   ],
   "source": [
    "df_2021_keywords = df2021['Keywords'].str.split(';', expand=True)\n",
    "print(df_2021_keywords)"
   ]
  },
  {
   "cell_type": "code",
   "execution_count": 11,
   "metadata": {},
   "outputs": [
    {
     "name": "stdout",
     "output_type": "stream",
     "text": [
      "thailand                                  144\n",
      "covid-19                                   83\n",
      "inflammation                               47\n",
      "sars-cov-2                                 31\n",
      "hadron-hadron scattering (experiments)     28\n",
      "                                         ... \n",
      "developing countries                        2\n",
      "cyclosporine                                2\n",
      "synovial inflammation                       2\n",
      "poly(3-hydroxybutyrate)                     2\n",
      "anthocyanin                                 2\n",
      "Name: count, Length: 1775, dtype: int64\n"
     ]
    }
   ],
   "source": [
    "# df_2018_keywords.dropna(inplace=True)\n",
    "keywords_counts = df_2021_keywords.stack().str.strip()\n",
    "keywords_counts = keywords_counts.str.lower().value_counts()\n",
    "keywords_counts = keywords_counts[keywords_counts > 1]\n",
    "print(keywords_counts)"
   ]
  },
  {
   "cell_type": "code",
   "execution_count": 12,
   "metadata": {},
   "outputs": [
    {
     "name": "stdout",
     "output_type": "stream",
     "text": [
      "                                  Keywords  Count\n",
      "0                                 thailand    144\n",
      "1                                 covid-19     83\n",
      "2                             inflammation     47\n",
      "3                               sars-cov-2     31\n",
      "4   hadron-hadron scattering (experiments)     28\n",
      "5                         machine learning     26\n",
      "6                         oxidative stress     25\n",
      "7                               depression     24\n",
      "8                               biomarkers     22\n",
      "9                            meta-analysis     20\n",
      "10                           deep learning     19\n",
      "11                                children     18\n",
      "12                          southeast asia     18\n",
      "13                               biodiesel     17\n",
      "14                             lung cancer     17\n",
      "15                              prevalence     17\n",
      "16                                     hiv     17\n",
      "19                             antioxidant     16\n",
      "18                                     cat     16\n",
      "17               density functional theory     16\n",
      "21                                     dog     14\n",
      "22                         quality of life     14\n",
      "23                            antioxidants     14\n",
      "20                              psychiatry     14\n",
      "24                               apoptosis     13\n",
      "25                                    thai     13\n",
      "26                  chronic kidney disease     13\n",
      "27                            risk factors     12\n",
      "28                           schizophrenia     12\n",
      "29                                   aging     12\n",
      "30                                 bangkok     12\n",
      "31                     acute kidney injury     12\n",
      "32                               cytokines     12\n",
      "33                               mortality     12\n",
      "37                                taxonomy     11\n",
      "38                                    asia     11\n",
      "35                            cytotoxicity     11\n",
      "36                                 bio-oil     11\n",
      "34                            epidemiology     11\n"
     ]
    }
   ],
   "source": [
    "result = pd.DataFrame({\n",
    "    'Keywords': keywords_counts.index,\n",
    "    'Count': keywords_counts.values\n",
    "})\n",
    "\n",
    "# Sort the DataFrame by count in descending order\n",
    "keywords_counts_result = result.sort_values('Count', ascending=False)\n",
    "\n",
    "keywords_counts_result = keywords_counts_result[keywords_counts_result['Count'] > 10]\n",
    "print(keywords_counts_result)"
   ]
  },
  {
   "cell_type": "code",
   "execution_count": 13,
   "metadata": {},
   "outputs": [
    {
     "data": {
      "text/html": [
       "        <script type=\"text/javascript\">\n",
       "        window.PlotlyConfig = {MathJaxConfig: 'local'};\n",
       "        if (window.MathJax && window.MathJax.Hub && window.MathJax.Hub.Config) {window.MathJax.Hub.Config({SVG: {font: \"STIX-Web\"}});}\n",
       "        if (typeof require !== 'undefined') {\n",
       "        require.undef(\"plotly\");\n",
       "        requirejs.config({\n",
       "            paths: {\n",
       "                'plotly': ['https://cdn.plot.ly/plotly-2.35.2.min']\n",
       "            }\n",
       "        });\n",
       "        require(['plotly'], function(Plotly) {\n",
       "            window._Plotly = Plotly;\n",
       "        });\n",
       "        }\n",
       "        </script>\n",
       "        "
      ]
     },
     "metadata": {},
     "output_type": "display_data"
    },
    {
     "data": {
      "application/vnd.plotly.v1+json": {
       "config": {
        "linkText": "Export to plot.ly",
        "plotlyServerURL": "https://plot.ly",
        "showLink": true
       },
       "data": [
        {
         "marker": {
          "color": "rgba(255, 153, 51, 0.6)",
          "line": {
           "color": "rgba(255, 153, 51, 1.0)",
           "width": 1
          }
         },
         "name": "Count",
         "orientation": "v",
         "text": "",
         "type": "bar",
         "x": [
          "thailand",
          "covid-19",
          "inflammation",
          "sars-cov-2",
          "hadron-hadron scattering (experiments)",
          "machine learning",
          "oxidative stress",
          "depression",
          "biomarkers",
          "meta-analysis",
          "deep learning",
          "children",
          "southeast asia",
          "biodiesel",
          "lung cancer",
          "prevalence",
          "hiv",
          "antioxidant",
          "cat",
          "density functional theory",
          "dog",
          "quality of life",
          "antioxidants",
          "psychiatry",
          "apoptosis",
          "thai",
          "chronic kidney disease",
          "risk factors",
          "schizophrenia",
          "aging",
          "bangkok",
          "acute kidney injury",
          "cytokines",
          "mortality",
          "taxonomy",
          "asia",
          "cytotoxicity",
          "bio-oil",
          "epidemiology"
         ],
         "y": [
          144,
          83,
          47,
          31,
          28,
          26,
          25,
          24,
          22,
          20,
          19,
          18,
          18,
          17,
          17,
          17,
          17,
          16,
          16,
          16,
          14,
          14,
          14,
          14,
          13,
          13,
          13,
          12,
          12,
          12,
          12,
          12,
          12,
          12,
          11,
          11,
          11,
          11,
          11
         ]
        }
       ],
       "layout": {
        "legend": {
         "bgcolor": "#F5F6F9",
         "font": {
          "color": "#4D5663"
         }
        },
        "paper_bgcolor": "#F5F6F9",
        "plot_bgcolor": "#F5F6F9",
        "template": {
         "data": {
          "bar": [
           {
            "error_x": {
             "color": "#2a3f5f"
            },
            "error_y": {
             "color": "#2a3f5f"
            },
            "marker": {
             "line": {
              "color": "#E5ECF6",
              "width": 0.5
             },
             "pattern": {
              "fillmode": "overlay",
              "size": 10,
              "solidity": 0.2
             }
            },
            "type": "bar"
           }
          ],
          "barpolar": [
           {
            "marker": {
             "line": {
              "color": "#E5ECF6",
              "width": 0.5
             },
             "pattern": {
              "fillmode": "overlay",
              "size": 10,
              "solidity": 0.2
             }
            },
            "type": "barpolar"
           }
          ],
          "carpet": [
           {
            "aaxis": {
             "endlinecolor": "#2a3f5f",
             "gridcolor": "white",
             "linecolor": "white",
             "minorgridcolor": "white",
             "startlinecolor": "#2a3f5f"
            },
            "baxis": {
             "endlinecolor": "#2a3f5f",
             "gridcolor": "white",
             "linecolor": "white",
             "minorgridcolor": "white",
             "startlinecolor": "#2a3f5f"
            },
            "type": "carpet"
           }
          ],
          "choropleth": [
           {
            "colorbar": {
             "outlinewidth": 0,
             "ticks": ""
            },
            "type": "choropleth"
           }
          ],
          "contour": [
           {
            "colorbar": {
             "outlinewidth": 0,
             "ticks": ""
            },
            "colorscale": [
             [
              0,
              "#0d0887"
             ],
             [
              0.1111111111111111,
              "#46039f"
             ],
             [
              0.2222222222222222,
              "#7201a8"
             ],
             [
              0.3333333333333333,
              "#9c179e"
             ],
             [
              0.4444444444444444,
              "#bd3786"
             ],
             [
              0.5555555555555556,
              "#d8576b"
             ],
             [
              0.6666666666666666,
              "#ed7953"
             ],
             [
              0.7777777777777778,
              "#fb9f3a"
             ],
             [
              0.8888888888888888,
              "#fdca26"
             ],
             [
              1,
              "#f0f921"
             ]
            ],
            "type": "contour"
           }
          ],
          "contourcarpet": [
           {
            "colorbar": {
             "outlinewidth": 0,
             "ticks": ""
            },
            "type": "contourcarpet"
           }
          ],
          "heatmap": [
           {
            "colorbar": {
             "outlinewidth": 0,
             "ticks": ""
            },
            "colorscale": [
             [
              0,
              "#0d0887"
             ],
             [
              0.1111111111111111,
              "#46039f"
             ],
             [
              0.2222222222222222,
              "#7201a8"
             ],
             [
              0.3333333333333333,
              "#9c179e"
             ],
             [
              0.4444444444444444,
              "#bd3786"
             ],
             [
              0.5555555555555556,
              "#d8576b"
             ],
             [
              0.6666666666666666,
              "#ed7953"
             ],
             [
              0.7777777777777778,
              "#fb9f3a"
             ],
             [
              0.8888888888888888,
              "#fdca26"
             ],
             [
              1,
              "#f0f921"
             ]
            ],
            "type": "heatmap"
           }
          ],
          "heatmapgl": [
           {
            "colorbar": {
             "outlinewidth": 0,
             "ticks": ""
            },
            "colorscale": [
             [
              0,
              "#0d0887"
             ],
             [
              0.1111111111111111,
              "#46039f"
             ],
             [
              0.2222222222222222,
              "#7201a8"
             ],
             [
              0.3333333333333333,
              "#9c179e"
             ],
             [
              0.4444444444444444,
              "#bd3786"
             ],
             [
              0.5555555555555556,
              "#d8576b"
             ],
             [
              0.6666666666666666,
              "#ed7953"
             ],
             [
              0.7777777777777778,
              "#fb9f3a"
             ],
             [
              0.8888888888888888,
              "#fdca26"
             ],
             [
              1,
              "#f0f921"
             ]
            ],
            "type": "heatmapgl"
           }
          ],
          "histogram": [
           {
            "marker": {
             "pattern": {
              "fillmode": "overlay",
              "size": 10,
              "solidity": 0.2
             }
            },
            "type": "histogram"
           }
          ],
          "histogram2d": [
           {
            "colorbar": {
             "outlinewidth": 0,
             "ticks": ""
            },
            "colorscale": [
             [
              0,
              "#0d0887"
             ],
             [
              0.1111111111111111,
              "#46039f"
             ],
             [
              0.2222222222222222,
              "#7201a8"
             ],
             [
              0.3333333333333333,
              "#9c179e"
             ],
             [
              0.4444444444444444,
              "#bd3786"
             ],
             [
              0.5555555555555556,
              "#d8576b"
             ],
             [
              0.6666666666666666,
              "#ed7953"
             ],
             [
              0.7777777777777778,
              "#fb9f3a"
             ],
             [
              0.8888888888888888,
              "#fdca26"
             ],
             [
              1,
              "#f0f921"
             ]
            ],
            "type": "histogram2d"
           }
          ],
          "histogram2dcontour": [
           {
            "colorbar": {
             "outlinewidth": 0,
             "ticks": ""
            },
            "colorscale": [
             [
              0,
              "#0d0887"
             ],
             [
              0.1111111111111111,
              "#46039f"
             ],
             [
              0.2222222222222222,
              "#7201a8"
             ],
             [
              0.3333333333333333,
              "#9c179e"
             ],
             [
              0.4444444444444444,
              "#bd3786"
             ],
             [
              0.5555555555555556,
              "#d8576b"
             ],
             [
              0.6666666666666666,
              "#ed7953"
             ],
             [
              0.7777777777777778,
              "#fb9f3a"
             ],
             [
              0.8888888888888888,
              "#fdca26"
             ],
             [
              1,
              "#f0f921"
             ]
            ],
            "type": "histogram2dcontour"
           }
          ],
          "mesh3d": [
           {
            "colorbar": {
             "outlinewidth": 0,
             "ticks": ""
            },
            "type": "mesh3d"
           }
          ],
          "parcoords": [
           {
            "line": {
             "colorbar": {
              "outlinewidth": 0,
              "ticks": ""
             }
            },
            "type": "parcoords"
           }
          ],
          "pie": [
           {
            "automargin": true,
            "type": "pie"
           }
          ],
          "scatter": [
           {
            "fillpattern": {
             "fillmode": "overlay",
             "size": 10,
             "solidity": 0.2
            },
            "type": "scatter"
           }
          ],
          "scatter3d": [
           {
            "line": {
             "colorbar": {
              "outlinewidth": 0,
              "ticks": ""
             }
            },
            "marker": {
             "colorbar": {
              "outlinewidth": 0,
              "ticks": ""
             }
            },
            "type": "scatter3d"
           }
          ],
          "scattercarpet": [
           {
            "marker": {
             "colorbar": {
              "outlinewidth": 0,
              "ticks": ""
             }
            },
            "type": "scattercarpet"
           }
          ],
          "scattergeo": [
           {
            "marker": {
             "colorbar": {
              "outlinewidth": 0,
              "ticks": ""
             }
            },
            "type": "scattergeo"
           }
          ],
          "scattergl": [
           {
            "marker": {
             "colorbar": {
              "outlinewidth": 0,
              "ticks": ""
             }
            },
            "type": "scattergl"
           }
          ],
          "scattermapbox": [
           {
            "marker": {
             "colorbar": {
              "outlinewidth": 0,
              "ticks": ""
             }
            },
            "type": "scattermapbox"
           }
          ],
          "scatterpolar": [
           {
            "marker": {
             "colorbar": {
              "outlinewidth": 0,
              "ticks": ""
             }
            },
            "type": "scatterpolar"
           }
          ],
          "scatterpolargl": [
           {
            "marker": {
             "colorbar": {
              "outlinewidth": 0,
              "ticks": ""
             }
            },
            "type": "scatterpolargl"
           }
          ],
          "scatterternary": [
           {
            "marker": {
             "colorbar": {
              "outlinewidth": 0,
              "ticks": ""
             }
            },
            "type": "scatterternary"
           }
          ],
          "surface": [
           {
            "colorbar": {
             "outlinewidth": 0,
             "ticks": ""
            },
            "colorscale": [
             [
              0,
              "#0d0887"
             ],
             [
              0.1111111111111111,
              "#46039f"
             ],
             [
              0.2222222222222222,
              "#7201a8"
             ],
             [
              0.3333333333333333,
              "#9c179e"
             ],
             [
              0.4444444444444444,
              "#bd3786"
             ],
             [
              0.5555555555555556,
              "#d8576b"
             ],
             [
              0.6666666666666666,
              "#ed7953"
             ],
             [
              0.7777777777777778,
              "#fb9f3a"
             ],
             [
              0.8888888888888888,
              "#fdca26"
             ],
             [
              1,
              "#f0f921"
             ]
            ],
            "type": "surface"
           }
          ],
          "table": [
           {
            "cells": {
             "fill": {
              "color": "#EBF0F8"
             },
             "line": {
              "color": "white"
             }
            },
            "header": {
             "fill": {
              "color": "#C8D4E3"
             },
             "line": {
              "color": "white"
             }
            },
            "type": "table"
           }
          ]
         },
         "layout": {
          "annotationdefaults": {
           "arrowcolor": "#2a3f5f",
           "arrowhead": 0,
           "arrowwidth": 1
          },
          "autotypenumbers": "strict",
          "coloraxis": {
           "colorbar": {
            "outlinewidth": 0,
            "ticks": ""
           }
          },
          "colorscale": {
           "diverging": [
            [
             0,
             "#8e0152"
            ],
            [
             0.1,
             "#c51b7d"
            ],
            [
             0.2,
             "#de77ae"
            ],
            [
             0.3,
             "#f1b6da"
            ],
            [
             0.4,
             "#fde0ef"
            ],
            [
             0.5,
             "#f7f7f7"
            ],
            [
             0.6,
             "#e6f5d0"
            ],
            [
             0.7,
             "#b8e186"
            ],
            [
             0.8,
             "#7fbc41"
            ],
            [
             0.9,
             "#4d9221"
            ],
            [
             1,
             "#276419"
            ]
           ],
           "sequential": [
            [
             0,
             "#0d0887"
            ],
            [
             0.1111111111111111,
             "#46039f"
            ],
            [
             0.2222222222222222,
             "#7201a8"
            ],
            [
             0.3333333333333333,
             "#9c179e"
            ],
            [
             0.4444444444444444,
             "#bd3786"
            ],
            [
             0.5555555555555556,
             "#d8576b"
            ],
            [
             0.6666666666666666,
             "#ed7953"
            ],
            [
             0.7777777777777778,
             "#fb9f3a"
            ],
            [
             0.8888888888888888,
             "#fdca26"
            ],
            [
             1,
             "#f0f921"
            ]
           ],
           "sequentialminus": [
            [
             0,
             "#0d0887"
            ],
            [
             0.1111111111111111,
             "#46039f"
            ],
            [
             0.2222222222222222,
             "#7201a8"
            ],
            [
             0.3333333333333333,
             "#9c179e"
            ],
            [
             0.4444444444444444,
             "#bd3786"
            ],
            [
             0.5555555555555556,
             "#d8576b"
            ],
            [
             0.6666666666666666,
             "#ed7953"
            ],
            [
             0.7777777777777778,
             "#fb9f3a"
            ],
            [
             0.8888888888888888,
             "#fdca26"
            ],
            [
             1,
             "#f0f921"
            ]
           ]
          },
          "colorway": [
           "#636efa",
           "#EF553B",
           "#00cc96",
           "#ab63fa",
           "#FFA15A",
           "#19d3f3",
           "#FF6692",
           "#B6E880",
           "#FF97FF",
           "#FECB52"
          ],
          "font": {
           "color": "#2a3f5f"
          },
          "geo": {
           "bgcolor": "white",
           "lakecolor": "white",
           "landcolor": "#E5ECF6",
           "showlakes": true,
           "showland": true,
           "subunitcolor": "white"
          },
          "hoverlabel": {
           "align": "left"
          },
          "hovermode": "closest",
          "mapbox": {
           "style": "light"
          },
          "paper_bgcolor": "white",
          "plot_bgcolor": "#E5ECF6",
          "polar": {
           "angularaxis": {
            "gridcolor": "white",
            "linecolor": "white",
            "ticks": ""
           },
           "bgcolor": "#E5ECF6",
           "radialaxis": {
            "gridcolor": "white",
            "linecolor": "white",
            "ticks": ""
           }
          },
          "scene": {
           "xaxis": {
            "backgroundcolor": "#E5ECF6",
            "gridcolor": "white",
            "gridwidth": 2,
            "linecolor": "white",
            "showbackground": true,
            "ticks": "",
            "zerolinecolor": "white"
           },
           "yaxis": {
            "backgroundcolor": "#E5ECF6",
            "gridcolor": "white",
            "gridwidth": 2,
            "linecolor": "white",
            "showbackground": true,
            "ticks": "",
            "zerolinecolor": "white"
           },
           "zaxis": {
            "backgroundcolor": "#E5ECF6",
            "gridcolor": "white",
            "gridwidth": 2,
            "linecolor": "white",
            "showbackground": true,
            "ticks": "",
            "zerolinecolor": "white"
           }
          },
          "shapedefaults": {
           "line": {
            "color": "#2a3f5f"
           }
          },
          "ternary": {
           "aaxis": {
            "gridcolor": "white",
            "linecolor": "white",
            "ticks": ""
           },
           "baxis": {
            "gridcolor": "white",
            "linecolor": "white",
            "ticks": ""
           },
           "bgcolor": "#E5ECF6",
           "caxis": {
            "gridcolor": "white",
            "linecolor": "white",
            "ticks": ""
           }
          },
          "title": {
           "x": 0.05
          },
          "xaxis": {
           "automargin": true,
           "gridcolor": "white",
           "linecolor": "white",
           "ticks": "",
           "title": {
            "standoff": 15
           },
           "zerolinecolor": "white",
           "zerolinewidth": 2
          },
          "yaxis": {
           "automargin": true,
           "gridcolor": "white",
           "linecolor": "white",
           "ticks": "",
           "title": {
            "standoff": 15
           },
           "zerolinecolor": "white",
           "zerolinewidth": 2
          }
         }
        },
        "title": {
         "font": {
          "color": "#4D5663"
         },
         "text": "Keywords Counts in 2021"
        },
        "xaxis": {
         "gridcolor": "#E1E5ED",
         "showgrid": true,
         "tickfont": {
          "color": "#4D5663"
         },
         "title": {
          "font": {
           "color": "#4D5663"
          },
          "text": "Keywords"
         },
         "zerolinecolor": "#E1E5ED"
        },
        "yaxis": {
         "gridcolor": "#E1E5ED",
         "showgrid": true,
         "tickfont": {
          "color": "#4D5663"
         },
         "title": {
          "font": {
           "color": "#4D5663"
          },
          "text": "Count"
         },
         "zerolinecolor": "#E1E5ED"
        }
       }
      },
      "text/html": [
       "<div>                            <div id=\"bfef9785-ca9a-4bff-bba1-d0d7e76424d7\" class=\"plotly-graph-div\" style=\"height:525px; width:100%;\"></div>            <script type=\"text/javascript\">                require([\"plotly\"], function(Plotly) {                    window.PLOTLYENV=window.PLOTLYENV || {};\n",
       "                    window.PLOTLYENV.BASE_URL='https://plot.ly';                                    if (document.getElementById(\"bfef9785-ca9a-4bff-bba1-d0d7e76424d7\")) {                    Plotly.newPlot(                        \"bfef9785-ca9a-4bff-bba1-d0d7e76424d7\",                        [{\"marker\":{\"color\":\"rgba(255, 153, 51, 0.6)\",\"line\":{\"color\":\"rgba(255, 153, 51, 1.0)\",\"width\":1}},\"name\":\"Count\",\"orientation\":\"v\",\"text\":\"\",\"x\":[\"thailand\",\"covid-19\",\"inflammation\",\"sars-cov-2\",\"hadron-hadron scattering (experiments)\",\"machine learning\",\"oxidative stress\",\"depression\",\"biomarkers\",\"meta-analysis\",\"deep learning\",\"children\",\"southeast asia\",\"biodiesel\",\"lung cancer\",\"prevalence\",\"hiv\",\"antioxidant\",\"cat\",\"density functional theory\",\"dog\",\"quality of life\",\"antioxidants\",\"psychiatry\",\"apoptosis\",\"thai\",\"chronic kidney disease\",\"risk factors\",\"schizophrenia\",\"aging\",\"bangkok\",\"acute kidney injury\",\"cytokines\",\"mortality\",\"taxonomy\",\"asia\",\"cytotoxicity\",\"bio-oil\",\"epidemiology\"],\"y\":[144,83,47,31,28,26,25,24,22,20,19,18,18,17,17,17,17,16,16,16,14,14,14,14,13,13,13,12,12,12,12,12,12,12,11,11,11,11,11],\"type\":\"bar\"}],                        {\"legend\":{\"bgcolor\":\"#F5F6F9\",\"font\":{\"color\":\"#4D5663\"}},\"paper_bgcolor\":\"#F5F6F9\",\"plot_bgcolor\":\"#F5F6F9\",\"template\":{\"data\":{\"barpolar\":[{\"marker\":{\"line\":{\"color\":\"#E5ECF6\",\"width\":0.5},\"pattern\":{\"fillmode\":\"overlay\",\"size\":10,\"solidity\":0.2}},\"type\":\"barpolar\"}],\"bar\":[{\"error_x\":{\"color\":\"#2a3f5f\"},\"error_y\":{\"color\":\"#2a3f5f\"},\"marker\":{\"line\":{\"color\":\"#E5ECF6\",\"width\":0.5},\"pattern\":{\"fillmode\":\"overlay\",\"size\":10,\"solidity\":0.2}},\"type\":\"bar\"}],\"carpet\":[{\"aaxis\":{\"endlinecolor\":\"#2a3f5f\",\"gridcolor\":\"white\",\"linecolor\":\"white\",\"minorgridcolor\":\"white\",\"startlinecolor\":\"#2a3f5f\"},\"baxis\":{\"endlinecolor\":\"#2a3f5f\",\"gridcolor\":\"white\",\"linecolor\":\"white\",\"minorgridcolor\":\"white\",\"startlinecolor\":\"#2a3f5f\"},\"type\":\"carpet\"}],\"choropleth\":[{\"colorbar\":{\"outlinewidth\":0,\"ticks\":\"\"},\"type\":\"choropleth\"}],\"contourcarpet\":[{\"colorbar\":{\"outlinewidth\":0,\"ticks\":\"\"},\"type\":\"contourcarpet\"}],\"contour\":[{\"colorbar\":{\"outlinewidth\":0,\"ticks\":\"\"},\"colorscale\":[[0.0,\"#0d0887\"],[0.1111111111111111,\"#46039f\"],[0.2222222222222222,\"#7201a8\"],[0.3333333333333333,\"#9c179e\"],[0.4444444444444444,\"#bd3786\"],[0.5555555555555556,\"#d8576b\"],[0.6666666666666666,\"#ed7953\"],[0.7777777777777778,\"#fb9f3a\"],[0.8888888888888888,\"#fdca26\"],[1.0,\"#f0f921\"]],\"type\":\"contour\"}],\"heatmapgl\":[{\"colorbar\":{\"outlinewidth\":0,\"ticks\":\"\"},\"colorscale\":[[0.0,\"#0d0887\"],[0.1111111111111111,\"#46039f\"],[0.2222222222222222,\"#7201a8\"],[0.3333333333333333,\"#9c179e\"],[0.4444444444444444,\"#bd3786\"],[0.5555555555555556,\"#d8576b\"],[0.6666666666666666,\"#ed7953\"],[0.7777777777777778,\"#fb9f3a\"],[0.8888888888888888,\"#fdca26\"],[1.0,\"#f0f921\"]],\"type\":\"heatmapgl\"}],\"heatmap\":[{\"colorbar\":{\"outlinewidth\":0,\"ticks\":\"\"},\"colorscale\":[[0.0,\"#0d0887\"],[0.1111111111111111,\"#46039f\"],[0.2222222222222222,\"#7201a8\"],[0.3333333333333333,\"#9c179e\"],[0.4444444444444444,\"#bd3786\"],[0.5555555555555556,\"#d8576b\"],[0.6666666666666666,\"#ed7953\"],[0.7777777777777778,\"#fb9f3a\"],[0.8888888888888888,\"#fdca26\"],[1.0,\"#f0f921\"]],\"type\":\"heatmap\"}],\"histogram2dcontour\":[{\"colorbar\":{\"outlinewidth\":0,\"ticks\":\"\"},\"colorscale\":[[0.0,\"#0d0887\"],[0.1111111111111111,\"#46039f\"],[0.2222222222222222,\"#7201a8\"],[0.3333333333333333,\"#9c179e\"],[0.4444444444444444,\"#bd3786\"],[0.5555555555555556,\"#d8576b\"],[0.6666666666666666,\"#ed7953\"],[0.7777777777777778,\"#fb9f3a\"],[0.8888888888888888,\"#fdca26\"],[1.0,\"#f0f921\"]],\"type\":\"histogram2dcontour\"}],\"histogram2d\":[{\"colorbar\":{\"outlinewidth\":0,\"ticks\":\"\"},\"colorscale\":[[0.0,\"#0d0887\"],[0.1111111111111111,\"#46039f\"],[0.2222222222222222,\"#7201a8\"],[0.3333333333333333,\"#9c179e\"],[0.4444444444444444,\"#bd3786\"],[0.5555555555555556,\"#d8576b\"],[0.6666666666666666,\"#ed7953\"],[0.7777777777777778,\"#fb9f3a\"],[0.8888888888888888,\"#fdca26\"],[1.0,\"#f0f921\"]],\"type\":\"histogram2d\"}],\"histogram\":[{\"marker\":{\"pattern\":{\"fillmode\":\"overlay\",\"size\":10,\"solidity\":0.2}},\"type\":\"histogram\"}],\"mesh3d\":[{\"colorbar\":{\"outlinewidth\":0,\"ticks\":\"\"},\"type\":\"mesh3d\"}],\"parcoords\":[{\"line\":{\"colorbar\":{\"outlinewidth\":0,\"ticks\":\"\"}},\"type\":\"parcoords\"}],\"pie\":[{\"automargin\":true,\"type\":\"pie\"}],\"scatter3d\":[{\"line\":{\"colorbar\":{\"outlinewidth\":0,\"ticks\":\"\"}},\"marker\":{\"colorbar\":{\"outlinewidth\":0,\"ticks\":\"\"}},\"type\":\"scatter3d\"}],\"scattercarpet\":[{\"marker\":{\"colorbar\":{\"outlinewidth\":0,\"ticks\":\"\"}},\"type\":\"scattercarpet\"}],\"scattergeo\":[{\"marker\":{\"colorbar\":{\"outlinewidth\":0,\"ticks\":\"\"}},\"type\":\"scattergeo\"}],\"scattergl\":[{\"marker\":{\"colorbar\":{\"outlinewidth\":0,\"ticks\":\"\"}},\"type\":\"scattergl\"}],\"scattermapbox\":[{\"marker\":{\"colorbar\":{\"outlinewidth\":0,\"ticks\":\"\"}},\"type\":\"scattermapbox\"}],\"scatterpolargl\":[{\"marker\":{\"colorbar\":{\"outlinewidth\":0,\"ticks\":\"\"}},\"type\":\"scatterpolargl\"}],\"scatterpolar\":[{\"marker\":{\"colorbar\":{\"outlinewidth\":0,\"ticks\":\"\"}},\"type\":\"scatterpolar\"}],\"scatter\":[{\"fillpattern\":{\"fillmode\":\"overlay\",\"size\":10,\"solidity\":0.2},\"type\":\"scatter\"}],\"scatterternary\":[{\"marker\":{\"colorbar\":{\"outlinewidth\":0,\"ticks\":\"\"}},\"type\":\"scatterternary\"}],\"surface\":[{\"colorbar\":{\"outlinewidth\":0,\"ticks\":\"\"},\"colorscale\":[[0.0,\"#0d0887\"],[0.1111111111111111,\"#46039f\"],[0.2222222222222222,\"#7201a8\"],[0.3333333333333333,\"#9c179e\"],[0.4444444444444444,\"#bd3786\"],[0.5555555555555556,\"#d8576b\"],[0.6666666666666666,\"#ed7953\"],[0.7777777777777778,\"#fb9f3a\"],[0.8888888888888888,\"#fdca26\"],[1.0,\"#f0f921\"]],\"type\":\"surface\"}],\"table\":[{\"cells\":{\"fill\":{\"color\":\"#EBF0F8\"},\"line\":{\"color\":\"white\"}},\"header\":{\"fill\":{\"color\":\"#C8D4E3\"},\"line\":{\"color\":\"white\"}},\"type\":\"table\"}]},\"layout\":{\"annotationdefaults\":{\"arrowcolor\":\"#2a3f5f\",\"arrowhead\":0,\"arrowwidth\":1},\"autotypenumbers\":\"strict\",\"coloraxis\":{\"colorbar\":{\"outlinewidth\":0,\"ticks\":\"\"}},\"colorscale\":{\"diverging\":[[0,\"#8e0152\"],[0.1,\"#c51b7d\"],[0.2,\"#de77ae\"],[0.3,\"#f1b6da\"],[0.4,\"#fde0ef\"],[0.5,\"#f7f7f7\"],[0.6,\"#e6f5d0\"],[0.7,\"#b8e186\"],[0.8,\"#7fbc41\"],[0.9,\"#4d9221\"],[1,\"#276419\"]],\"sequential\":[[0.0,\"#0d0887\"],[0.1111111111111111,\"#46039f\"],[0.2222222222222222,\"#7201a8\"],[0.3333333333333333,\"#9c179e\"],[0.4444444444444444,\"#bd3786\"],[0.5555555555555556,\"#d8576b\"],[0.6666666666666666,\"#ed7953\"],[0.7777777777777778,\"#fb9f3a\"],[0.8888888888888888,\"#fdca26\"],[1.0,\"#f0f921\"]],\"sequentialminus\":[[0.0,\"#0d0887\"],[0.1111111111111111,\"#46039f\"],[0.2222222222222222,\"#7201a8\"],[0.3333333333333333,\"#9c179e\"],[0.4444444444444444,\"#bd3786\"],[0.5555555555555556,\"#d8576b\"],[0.6666666666666666,\"#ed7953\"],[0.7777777777777778,\"#fb9f3a\"],[0.8888888888888888,\"#fdca26\"],[1.0,\"#f0f921\"]]},\"colorway\":[\"#636efa\",\"#EF553B\",\"#00cc96\",\"#ab63fa\",\"#FFA15A\",\"#19d3f3\",\"#FF6692\",\"#B6E880\",\"#FF97FF\",\"#FECB52\"],\"font\":{\"color\":\"#2a3f5f\"},\"geo\":{\"bgcolor\":\"white\",\"lakecolor\":\"white\",\"landcolor\":\"#E5ECF6\",\"showlakes\":true,\"showland\":true,\"subunitcolor\":\"white\"},\"hoverlabel\":{\"align\":\"left\"},\"hovermode\":\"closest\",\"mapbox\":{\"style\":\"light\"},\"paper_bgcolor\":\"white\",\"plot_bgcolor\":\"#E5ECF6\",\"polar\":{\"angularaxis\":{\"gridcolor\":\"white\",\"linecolor\":\"white\",\"ticks\":\"\"},\"bgcolor\":\"#E5ECF6\",\"radialaxis\":{\"gridcolor\":\"white\",\"linecolor\":\"white\",\"ticks\":\"\"}},\"scene\":{\"xaxis\":{\"backgroundcolor\":\"#E5ECF6\",\"gridcolor\":\"white\",\"gridwidth\":2,\"linecolor\":\"white\",\"showbackground\":true,\"ticks\":\"\",\"zerolinecolor\":\"white\"},\"yaxis\":{\"backgroundcolor\":\"#E5ECF6\",\"gridcolor\":\"white\",\"gridwidth\":2,\"linecolor\":\"white\",\"showbackground\":true,\"ticks\":\"\",\"zerolinecolor\":\"white\"},\"zaxis\":{\"backgroundcolor\":\"#E5ECF6\",\"gridcolor\":\"white\",\"gridwidth\":2,\"linecolor\":\"white\",\"showbackground\":true,\"ticks\":\"\",\"zerolinecolor\":\"white\"}},\"shapedefaults\":{\"line\":{\"color\":\"#2a3f5f\"}},\"ternary\":{\"aaxis\":{\"gridcolor\":\"white\",\"linecolor\":\"white\",\"ticks\":\"\"},\"baxis\":{\"gridcolor\":\"white\",\"linecolor\":\"white\",\"ticks\":\"\"},\"bgcolor\":\"#E5ECF6\",\"caxis\":{\"gridcolor\":\"white\",\"linecolor\":\"white\",\"ticks\":\"\"}},\"title\":{\"x\":0.05},\"xaxis\":{\"automargin\":true,\"gridcolor\":\"white\",\"linecolor\":\"white\",\"ticks\":\"\",\"title\":{\"standoff\":15},\"zerolinecolor\":\"white\",\"zerolinewidth\":2},\"yaxis\":{\"automargin\":true,\"gridcolor\":\"white\",\"linecolor\":\"white\",\"ticks\":\"\",\"title\":{\"standoff\":15},\"zerolinecolor\":\"white\",\"zerolinewidth\":2}}},\"title\":{\"font\":{\"color\":\"#4D5663\"},\"text\":\"Keywords Counts in 2021\"},\"xaxis\":{\"gridcolor\":\"#E1E5ED\",\"showgrid\":true,\"tickfont\":{\"color\":\"#4D5663\"},\"title\":{\"font\":{\"color\":\"#4D5663\"},\"text\":\"Keywords\"},\"zerolinecolor\":\"#E1E5ED\"},\"yaxis\":{\"gridcolor\":\"#E1E5ED\",\"showgrid\":true,\"tickfont\":{\"color\":\"#4D5663\"},\"title\":{\"font\":{\"color\":\"#4D5663\"},\"text\":\"Count\"},\"zerolinecolor\":\"#E1E5ED\"}},                        {\"showLink\": true, \"linkText\": \"Export to plot.ly\", \"plotlyServerURL\": \"https://plot.ly\", \"responsive\": true}                    ).then(function(){\n",
       "                            \n",
       "var gd = document.getElementById('bfef9785-ca9a-4bff-bba1-d0d7e76424d7');\n",
       "var x = new MutationObserver(function (mutations, observer) {{\n",
       "        var display = window.getComputedStyle(gd).display;\n",
       "        if (!display || display === 'none') {{\n",
       "            console.log([gd, 'removed!']);\n",
       "            Plotly.purge(gd);\n",
       "            observer.disconnect();\n",
       "        }}\n",
       "}});\n",
       "\n",
       "// Listen for the removal of the full notebook cells\n",
       "var notebookContainer = gd.closest('#notebook-container');\n",
       "if (notebookContainer) {{\n",
       "    x.observe(notebookContainer, {childList: true});\n",
       "}}\n",
       "\n",
       "// Listen for the clearing of the current output cell\n",
       "var outputEl = gd.closest('.output');\n",
       "if (outputEl) {{\n",
       "    x.observe(outputEl, {childList: true});\n",
       "}}\n",
       "\n",
       "                        })                };                });            </script>        </div>"
      ]
     },
     "metadata": {},
     "output_type": "display_data"
    }
   ],
   "source": [
    "import cufflinks as cf\n",
    "cf.go_offline()\n",
    "cf.set_config_file(offline=False, world_readable=True)\n",
    "\n",
    "keywords_counts_result.iplot(kind='bar', x='Keywords', y='Count', xTitle='Keywords', yTitle='Count', title='Keywords Counts in 2021')\n"
   ]
  },
  {
   "cell_type": "code",
   "execution_count": 14,
   "metadata": {},
   "outputs": [],
   "source": [
    "keywords_counts_result.rename(columns={'Count': '2021_Count'}, inplace=True)\n",
    "keywords_counts_result.to_csv('ExtractedData/2021_keywords_counts.csv', index=False)"
   ]
  }
 ],
 "metadata": {
  "kernelspec": {
   "display_name": "base",
   "language": "python",
   "name": "python3"
  },
  "language_info": {
   "codemirror_mode": {
    "name": "ipython",
    "version": 3
   },
   "file_extension": ".py",
   "mimetype": "text/x-python",
   "name": "python",
   "nbconvert_exporter": "python",
   "pygments_lexer": "ipython3",
   "version": "3.11.5"
  }
 },
 "nbformat": 4,
 "nbformat_minor": 2
}
