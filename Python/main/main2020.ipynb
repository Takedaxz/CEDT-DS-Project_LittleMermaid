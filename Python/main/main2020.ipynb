{
 "cells": [
  {
   "cell_type": "code",
   "execution_count": 1,
   "metadata": {},
   "outputs": [],
   "source": [
    "import numpy as np\n",
    "import pandas as pd"
   ]
  },
  {
   "cell_type": "code",
   "execution_count": 2,
   "metadata": {},
   "outputs": [],
   "source": [
    "df2020 = pd.read_csv('ExtractedData/2020.csv')"
   ]
  },
  {
   "cell_type": "code",
   "execution_count": 3,
   "metadata": {},
   "outputs": [],
   "source": [
    "df2020['Publication_Date']=pd.to_datetime(df2020['Publication_Date'])"
   ]
  },
  {
   "cell_type": "code",
   "execution_count": 4,
   "metadata": {},
   "outputs": [
    {
     "name": "stdout",
     "output_type": "stream",
     "text": [
      "        0      1      2      3     4     5     6     7     8     9     10  \\\n",
      "0     3100   None   None   None  None  None  None  None  None  None  None   \n",
      "1     3104   3110   2508   None  None  None  None  None  None  None  None   \n",
      "2     2211   2210   2506   2505  None  None  None  None  None  None  None   \n",
      "3     2211   2210   2506   2505  None  None  None  None  None  None  None   \n",
      "4     2721   None   None   None  None  None  None  None  None  None  None   \n",
      "...    ...    ...    ...    ...   ...   ...   ...   ...   ...   ...   ...   \n",
      "3388  2730   2717   None   None  None  None  None  None  None  None  None   \n",
      "3389  2003   None   None   None  None  None  None  None  None  None  None   \n",
      "3390  3300   None   None   None  None  None  None  None  None  None  None   \n",
      "3391  3300   None   None   None  None  None  None  None  None  None  None   \n",
      "3392  1600   1500   None   None  None  None  None  None  None  None  None   \n",
      "\n",
      "        11  \n",
      "0     None  \n",
      "1     None  \n",
      "2     None  \n",
      "3     None  \n",
      "4     None  \n",
      "...    ...  \n",
      "3388  None  \n",
      "3389  None  \n",
      "3390  None  \n",
      "3391  None  \n",
      "3392  None  \n",
      "\n",
      "[3393 rows x 12 columns]\n"
     ]
    }
   ],
   "source": [
    "# Get the number of rows and columns in the dataset \n",
    "df_2020_subject_areas = df2020['Subject_Area'].str.split(';', expand=True)\n",
    "print(df_2020_subject_areas)"
   ]
  },
  {
   "cell_type": "code",
   "execution_count": 5,
   "metadata": {},
   "outputs": [
    {
     "name": "stdout",
     "output_type": "stream",
     "text": [
      "2500    179\n",
      "1000    147\n",
      "1600    145\n",
      "2200    137\n",
      "2725    127\n",
      "       ... \n",
      "3616      1\n",
      "2917      1\n",
      "2806      1\n",
      "2921      1\n",
      "1211      1\n",
      "Name: count, Length: 304, dtype: int64\n"
     ]
    }
   ],
   "source": [
    "# Get the number of rows and columns\n",
    "subject_area_counts = df_2020_subject_areas.stack().str.strip().value_counts()\n",
    "print(subject_area_counts)"
   ]
  },
  {
   "cell_type": "code",
   "execution_count": 6,
   "metadata": {},
   "outputs": [
    {
     "name": "stdout",
     "output_type": "stream",
     "text": [
      "    Subject_Area  Count\n",
      "0           2500    179\n",
      "1           1000    147\n",
      "2           1600    145\n",
      "3           2200    137\n",
      "4           2725    127\n",
      "..           ...    ...\n",
      "285         2922      1\n",
      "284         1905      1\n",
      "283         2905      1\n",
      "281         2901      1\n",
      "303         1211      1\n",
      "\n",
      "[304 rows x 2 columns]\n"
     ]
    }
   ],
   "source": [
    "# Create a DataFrame from the value counts\n",
    "result = pd.DataFrame({\n",
    "    'Subject_Area': subject_area_counts.index,\n",
    "    'Count': subject_area_counts.values\n",
    "})\n",
    "\n",
    "# Sort the DataFrame by count in descending order\n",
    "subject_area_counts_result = result.sort_values('Count', ascending=False)\n",
    "\n",
    "print(subject_area_counts_result)"
   ]
  },
  {
   "cell_type": "code",
   "execution_count": 7,
   "metadata": {},
   "outputs": [
    {
     "data": {
      "text/plain": [
       "(68, 9)"
      ]
     },
     "execution_count": 7,
     "metadata": {},
     "output_type": "execute_result"
    }
   ],
   "source": [
    "df2020_with_subject_area_3106=df2020[df2020['Subject_Area'].str.contains('3106', na=False)]\n",
    "df2020_with_subject_area_3106.shape"
   ]
  },
  {
   "cell_type": "code",
   "execution_count": 8,
   "metadata": {},
   "outputs": [
    {
     "data": {
      "text/html": [
       "<div>\n",
       "<style scoped>\n",
       "    .dataframe tbody tr th:only-of-type {\n",
       "        vertical-align: middle;\n",
       "    }\n",
       "\n",
       "    .dataframe tbody tr th {\n",
       "        vertical-align: top;\n",
       "    }\n",
       "\n",
       "    .dataframe thead th {\n",
       "        text-align: right;\n",
       "    }\n",
       "</style>\n",
       "<table border=\"1\" class=\"dataframe\">\n",
       "  <thead>\n",
       "    <tr style=\"text-align: right;\">\n",
       "      <th></th>\n",
       "      <th>Title</th>\n",
       "      <th>Abstract</th>\n",
       "      <th>Author</th>\n",
       "      <th>Subject_Area</th>\n",
       "      <th>Publication_Date</th>\n",
       "      <th>Affiliations_ID</th>\n",
       "      <th>References</th>\n",
       "      <th>Keywords</th>\n",
       "      <th>Filename</th>\n",
       "    </tr>\n",
       "  </thead>\n",
       "  <tbody>\n",
       "    <tr>\n",
       "      <th>34</th>\n",
       "      <td>Observation of electroweak production of Wγ wi...</td>\n",
       "      <td>© 2020 The Author(s)A first observation is pre...</td>\n",
       "      <td>Sirunyan A.M.; Tumasyan A.; Adam W.; Ambrogi F...</td>\n",
       "      <td>3106</td>\n",
       "      <td>2020-12-10</td>\n",
       "      <td>60009254; 60023578; 60013959; 60104485; 600235...</td>\n",
       "      <td>Observation of a new particle in the search fo...</td>\n",
       "      <td>CMS; Physics; Vector boson scattering</td>\n",
       "      <td>202000034</td>\n",
       "    </tr>\n",
       "    <tr>\n",
       "      <th>40</th>\n",
       "      <td>Search for bottom-type, vectorlike quark pair ...</td>\n",
       "      <td>© 2020 CERN.A search is described for the prod...</td>\n",
       "      <td>Sirunyan A.M.; Tumasyan A.; Adam W.; Ambrogi F...</td>\n",
       "      <td>3106</td>\n",
       "      <td>2020-12-07</td>\n",
       "      <td>60009254; 60023578; 60013959; 60104485; 600235...</td>\n",
       "      <td>Naturalness, chiral symmetry, and spontaneous ...</td>\n",
       "      <td>NaN</td>\n",
       "      <td>202000040</td>\n",
       "    </tr>\n",
       "    <tr>\n",
       "      <th>96</th>\n",
       "      <td>A Deep Neural Network for Simultaneous Estimat...</td>\n",
       "      <td>© 2020, The Author(s).We describe a method to ...</td>\n",
       "      <td>Sirunyan A.M.; Tumasyan A.; Adam W.; Ambrogi F...</td>\n",
       "      <td>1712; 1701; 3106</td>\n",
       "      <td>2020-12-01</td>\n",
       "      <td>60009254; 60014966; 60023578; 60013959; 600240...</td>\n",
       "      <td>Observation of a new particle in the search fo...</td>\n",
       "      <td>b jets; CMS; Deep learning; Higgs boson; Jet e...</td>\n",
       "      <td>202000096</td>\n",
       "    </tr>\n",
       "    <tr>\n",
       "      <th>102</th>\n",
       "      <td>Dependence of inclusive jet production on the ...</td>\n",
       "      <td>© 2020, The Author(s).The dependence of inclus...</td>\n",
       "      <td>Sirunyan A.M.; Tumasyan A.; Adam W.; Ambrogi F...</td>\n",
       "      <td>3106</td>\n",
       "      <td>2020-12-01</td>\n",
       "      <td>60009254; 60014966; 60023578; 60013959; 600219...</td>\n",
       "      <td>Jets from Quantum Chromodynamics; A Model for ...</td>\n",
       "      <td>Hadron-Hadron scattering (experiments); Jets; QCD</td>\n",
       "      <td>202000102</td>\n",
       "    </tr>\n",
       "    <tr>\n",
       "      <th>105</th>\n",
       "      <td>Inclusive search for highly boosted Higgs boso...</td>\n",
       "      <td>© 2020, The Author(s).A search for standard mo...</td>\n",
       "      <td>Sirunyan A.M.; Tumasyan A.; Adam W.; Ambrogi F...</td>\n",
       "      <td>3106</td>\n",
       "      <td>2020-12-01</td>\n",
       "      <td>60009254; 60014966; 60023578; 60013959; 601044...</td>\n",
       "      <td>Observation of a new particle in the search fo...</td>\n",
       "      <td>Hadron-Hadron scattering (experiments); Higgs ...</td>\n",
       "      <td>202000105</td>\n",
       "    </tr>\n",
       "  </tbody>\n",
       "</table>\n",
       "</div>"
      ],
      "text/plain": [
       "                                                 Title  \\\n",
       "34   Observation of electroweak production of Wγ wi...   \n",
       "40   Search for bottom-type, vectorlike quark pair ...   \n",
       "96   A Deep Neural Network for Simultaneous Estimat...   \n",
       "102  Dependence of inclusive jet production on the ...   \n",
       "105  Inclusive search for highly boosted Higgs boso...   \n",
       "\n",
       "                                              Abstract  \\\n",
       "34   © 2020 The Author(s)A first observation is pre...   \n",
       "40   © 2020 CERN.A search is described for the prod...   \n",
       "96   © 2020, The Author(s).We describe a method to ...   \n",
       "102  © 2020, The Author(s).The dependence of inclus...   \n",
       "105  © 2020, The Author(s).A search for standard mo...   \n",
       "\n",
       "                                                Author      Subject_Area  \\\n",
       "34   Sirunyan A.M.; Tumasyan A.; Adam W.; Ambrogi F...              3106   \n",
       "40   Sirunyan A.M.; Tumasyan A.; Adam W.; Ambrogi F...              3106   \n",
       "96   Sirunyan A.M.; Tumasyan A.; Adam W.; Ambrogi F...  1712; 1701; 3106   \n",
       "102  Sirunyan A.M.; Tumasyan A.; Adam W.; Ambrogi F...              3106   \n",
       "105  Sirunyan A.M.; Tumasyan A.; Adam W.; Ambrogi F...              3106   \n",
       "\n",
       "    Publication_Date                                    Affiliations_ID  \\\n",
       "34        2020-12-10  60009254; 60023578; 60013959; 60104485; 600235...   \n",
       "40        2020-12-07  60009254; 60023578; 60013959; 60104485; 600235...   \n",
       "96        2020-12-01  60009254; 60014966; 60023578; 60013959; 600240...   \n",
       "102       2020-12-01  60009254; 60014966; 60023578; 60013959; 600219...   \n",
       "105       2020-12-01  60009254; 60014966; 60023578; 60013959; 601044...   \n",
       "\n",
       "                                            References  \\\n",
       "34   Observation of a new particle in the search fo...   \n",
       "40   Naturalness, chiral symmetry, and spontaneous ...   \n",
       "96   Observation of a new particle in the search fo...   \n",
       "102  Jets from Quantum Chromodynamics; A Model for ...   \n",
       "105  Observation of a new particle in the search fo...   \n",
       "\n",
       "                                              Keywords   Filename  \n",
       "34               CMS; Physics; Vector boson scattering  202000034  \n",
       "40                                                 NaN  202000040  \n",
       "96   b jets; CMS; Deep learning; Higgs boson; Jet e...  202000096  \n",
       "102  Hadron-Hadron scattering (experiments); Jets; QCD  202000102  \n",
       "105  Hadron-Hadron scattering (experiments); Higgs ...  202000105  "
      ]
     },
     "execution_count": 8,
     "metadata": {},
     "output_type": "execute_result"
    }
   ],
   "source": [
    "df2020_with_subject_area_3106.head()"
   ]
  },
  {
   "cell_type": "code",
   "execution_count": 9,
   "metadata": {},
   "outputs": [
    {
     "data": {
      "text/html": [
       "<div>\n",
       "<style scoped>\n",
       "    .dataframe tbody tr th:only-of-type {\n",
       "        vertical-align: middle;\n",
       "    }\n",
       "\n",
       "    .dataframe tbody tr th {\n",
       "        vertical-align: top;\n",
       "    }\n",
       "\n",
       "    .dataframe thead th {\n",
       "        text-align: right;\n",
       "    }\n",
       "</style>\n",
       "<table border=\"1\" class=\"dataframe\">\n",
       "  <thead>\n",
       "    <tr style=\"text-align: right;\">\n",
       "      <th></th>\n",
       "      <th>Title</th>\n",
       "      <th>Abstract</th>\n",
       "      <th>Author</th>\n",
       "      <th>Subject_Area</th>\n",
       "      <th>Publication_Date</th>\n",
       "      <th>Affiliations_ID</th>\n",
       "      <th>References</th>\n",
       "      <th>Keywords</th>\n",
       "      <th>Filename</th>\n",
       "    </tr>\n",
       "  </thead>\n",
       "  <tbody>\n",
       "    <tr>\n",
       "      <th>3247</th>\n",
       "      <td>Search for a charged Higgs boson decaying into...</td>\n",
       "      <td>© 2020, The Author(s).A search is presented fo...</td>\n",
       "      <td>Sirunyan A.M.; Tumasyan A.; Adam W.; Ambrogi F...</td>\n",
       "      <td>3106</td>\n",
       "      <td>2020-01-01</td>\n",
       "      <td>60009254; 60014966; 60023578; 60013959; 600219...</td>\n",
       "      <td>Observation of a new particle in the search fo...</td>\n",
       "      <td>Hadron-Hadron scattering (experiments); Higgs ...</td>\n",
       "      <td>202003247</td>\n",
       "    </tr>\n",
       "    <tr>\n",
       "      <th>3241</th>\n",
       "      <td>Search for electroweak production of a vector-...</td>\n",
       "      <td>© 2020, The Author(s).A search is performed fo...</td>\n",
       "      <td>Sirunyan A.M.; Tumasyan A.; Adam W.; Ambrogi F...</td>\n",
       "      <td>3106</td>\n",
       "      <td>2020-01-01</td>\n",
       "      <td>60009254; 60014966; 60023578; 60013959; 600219...</td>\n",
       "      <td>LHC signatures of vector-like quarks; Handbook...</td>\n",
       "      <td>Hadron-Hadron scattering (experiments); vector...</td>\n",
       "      <td>202003241</td>\n",
       "    </tr>\n",
       "    <tr>\n",
       "      <th>2676</th>\n",
       "      <td>W+W- boson pair production in proton-proton co...</td>\n",
       "      <td>© 2020 CERN.A measurement of the W+W- boson pa...</td>\n",
       "      <td>Sirunyan A.M.; Tumasyan A.; Adam W.; Ambrogi F...</td>\n",
       "      <td>3106</td>\n",
       "      <td>2020-01-01</td>\n",
       "      <td>60009254; 60023578; 60013959; 60104485; 600235...</td>\n",
       "      <td>Measurement of the (Equation presented) Produc...</td>\n",
       "      <td>NaN</td>\n",
       "      <td>202002676</td>\n",
       "    </tr>\n",
       "    <tr>\n",
       "      <th>2468</th>\n",
       "      <td>Measurement of the single top quark and antiqu...</td>\n",
       "      <td>© 2019 The Author(s)Measurements of the cross ...</td>\n",
       "      <td>Sirunyan A.M.; Tumasyan A.; Adam W.; Ambrogi F...</td>\n",
       "      <td>3106</td>\n",
       "      <td>2020-01-10</td>\n",
       "      <td>60009254; 60014966; 60023578; 60013959; 600240...</td>\n",
       "      <td>Top-quark physics: status and prospects; Measu...</td>\n",
       "      <td>CMS; Cross section; Physics; Single top; Top q...</td>\n",
       "      <td>202002468</td>\n",
       "    </tr>\n",
       "    <tr>\n",
       "      <th>2467</th>\n",
       "      <td>Search for light pseudoscalar boson pairs prod...</td>\n",
       "      <td>© 2019 The Author(s)A search is presented for ...</td>\n",
       "      <td>Sirunyan A.M.; Tumasyan A.; Adam W.; Ambrogi F...</td>\n",
       "      <td>3106</td>\n",
       "      <td>2020-01-10</td>\n",
       "      <td>60009254; 60014966; 60023578; 60013959; 600219...</td>\n",
       "      <td>Observation of a new particle in the search fo...</td>\n",
       "      <td>2HD+1S; CMS; Higgs boson; NMSSM; Physics</td>\n",
       "      <td>202002467</td>\n",
       "    </tr>\n",
       "    <tr>\n",
       "      <th>...</th>\n",
       "      <td>...</td>\n",
       "      <td>...</td>\n",
       "      <td>...</td>\n",
       "      <td>...</td>\n",
       "      <td>...</td>\n",
       "      <td>...</td>\n",
       "      <td>...</td>\n",
       "      <td>...</td>\n",
       "      <td>...</td>\n",
       "    </tr>\n",
       "    <tr>\n",
       "      <th>105</th>\n",
       "      <td>Inclusive search for highly boosted Higgs boso...</td>\n",
       "      <td>© 2020, The Author(s).A search for standard mo...</td>\n",
       "      <td>Sirunyan A.M.; Tumasyan A.; Adam W.; Ambrogi F...</td>\n",
       "      <td>3106</td>\n",
       "      <td>2020-12-01</td>\n",
       "      <td>60009254; 60014966; 60023578; 60013959; 601044...</td>\n",
       "      <td>Observation of a new particle in the search fo...</td>\n",
       "      <td>Hadron-Hadron scattering (experiments); Higgs ...</td>\n",
       "      <td>202000105</td>\n",
       "    </tr>\n",
       "    <tr>\n",
       "      <th>102</th>\n",
       "      <td>Dependence of inclusive jet production on the ...</td>\n",
       "      <td>© 2020, The Author(s).The dependence of inclus...</td>\n",
       "      <td>Sirunyan A.M.; Tumasyan A.; Adam W.; Ambrogi F...</td>\n",
       "      <td>3106</td>\n",
       "      <td>2020-12-01</td>\n",
       "      <td>60009254; 60014966; 60023578; 60013959; 600219...</td>\n",
       "      <td>Jets from Quantum Chromodynamics; A Model for ...</td>\n",
       "      <td>Hadron-Hadron scattering (experiments); Jets; QCD</td>\n",
       "      <td>202000102</td>\n",
       "    </tr>\n",
       "    <tr>\n",
       "      <th>96</th>\n",
       "      <td>A Deep Neural Network for Simultaneous Estimat...</td>\n",
       "      <td>© 2020, The Author(s).We describe a method to ...</td>\n",
       "      <td>Sirunyan A.M.; Tumasyan A.; Adam W.; Ambrogi F...</td>\n",
       "      <td>1712; 1701; 3106</td>\n",
       "      <td>2020-12-01</td>\n",
       "      <td>60009254; 60014966; 60023578; 60013959; 600240...</td>\n",
       "      <td>Observation of a new particle in the search fo...</td>\n",
       "      <td>b jets; CMS; Deep learning; Higgs boson; Jet e...</td>\n",
       "      <td>202000096</td>\n",
       "    </tr>\n",
       "    <tr>\n",
       "      <th>40</th>\n",
       "      <td>Search for bottom-type, vectorlike quark pair ...</td>\n",
       "      <td>© 2020 CERN.A search is described for the prod...</td>\n",
       "      <td>Sirunyan A.M.; Tumasyan A.; Adam W.; Ambrogi F...</td>\n",
       "      <td>3106</td>\n",
       "      <td>2020-12-07</td>\n",
       "      <td>60009254; 60023578; 60013959; 60104485; 600235...</td>\n",
       "      <td>Naturalness, chiral symmetry, and spontaneous ...</td>\n",
       "      <td>NaN</td>\n",
       "      <td>202000040</td>\n",
       "    </tr>\n",
       "    <tr>\n",
       "      <th>34</th>\n",
       "      <td>Observation of electroweak production of Wγ wi...</td>\n",
       "      <td>© 2020 The Author(s)A first observation is pre...</td>\n",
       "      <td>Sirunyan A.M.; Tumasyan A.; Adam W.; Ambrogi F...</td>\n",
       "      <td>3106</td>\n",
       "      <td>2020-12-10</td>\n",
       "      <td>60009254; 60023578; 60013959; 60104485; 600235...</td>\n",
       "      <td>Observation of a new particle in the search fo...</td>\n",
       "      <td>CMS; Physics; Vector boson scattering</td>\n",
       "      <td>202000034</td>\n",
       "    </tr>\n",
       "  </tbody>\n",
       "</table>\n",
       "<p>68 rows × 9 columns</p>\n",
       "</div>"
      ],
      "text/plain": [
       "                                                  Title  \\\n",
       "3247  Search for a charged Higgs boson decaying into...   \n",
       "3241  Search for electroweak production of a vector-...   \n",
       "2676  W+W- boson pair production in proton-proton co...   \n",
       "2468  Measurement of the single top quark and antiqu...   \n",
       "2467  Search for light pseudoscalar boson pairs prod...   \n",
       "...                                                 ...   \n",
       "105   Inclusive search for highly boosted Higgs boso...   \n",
       "102   Dependence of inclusive jet production on the ...   \n",
       "96    A Deep Neural Network for Simultaneous Estimat...   \n",
       "40    Search for bottom-type, vectorlike quark pair ...   \n",
       "34    Observation of electroweak production of Wγ wi...   \n",
       "\n",
       "                                               Abstract  \\\n",
       "3247  © 2020, The Author(s).A search is presented fo...   \n",
       "3241  © 2020, The Author(s).A search is performed fo...   \n",
       "2676  © 2020 CERN.A measurement of the W+W- boson pa...   \n",
       "2468  © 2019 The Author(s)Measurements of the cross ...   \n",
       "2467  © 2019 The Author(s)A search is presented for ...   \n",
       "...                                                 ...   \n",
       "105   © 2020, The Author(s).A search for standard mo...   \n",
       "102   © 2020, The Author(s).The dependence of inclus...   \n",
       "96    © 2020, The Author(s).We describe a method to ...   \n",
       "40    © 2020 CERN.A search is described for the prod...   \n",
       "34    © 2020 The Author(s)A first observation is pre...   \n",
       "\n",
       "                                                 Author      Subject_Area  \\\n",
       "3247  Sirunyan A.M.; Tumasyan A.; Adam W.; Ambrogi F...              3106   \n",
       "3241  Sirunyan A.M.; Tumasyan A.; Adam W.; Ambrogi F...              3106   \n",
       "2676  Sirunyan A.M.; Tumasyan A.; Adam W.; Ambrogi F...              3106   \n",
       "2468  Sirunyan A.M.; Tumasyan A.; Adam W.; Ambrogi F...              3106   \n",
       "2467  Sirunyan A.M.; Tumasyan A.; Adam W.; Ambrogi F...              3106   \n",
       "...                                                 ...               ...   \n",
       "105   Sirunyan A.M.; Tumasyan A.; Adam W.; Ambrogi F...              3106   \n",
       "102   Sirunyan A.M.; Tumasyan A.; Adam W.; Ambrogi F...              3106   \n",
       "96    Sirunyan A.M.; Tumasyan A.; Adam W.; Ambrogi F...  1712; 1701; 3106   \n",
       "40    Sirunyan A.M.; Tumasyan A.; Adam W.; Ambrogi F...              3106   \n",
       "34    Sirunyan A.M.; Tumasyan A.; Adam W.; Ambrogi F...              3106   \n",
       "\n",
       "     Publication_Date                                    Affiliations_ID  \\\n",
       "3247       2020-01-01  60009254; 60014966; 60023578; 60013959; 600219...   \n",
       "3241       2020-01-01  60009254; 60014966; 60023578; 60013959; 600219...   \n",
       "2676       2020-01-01  60009254; 60023578; 60013959; 60104485; 600235...   \n",
       "2468       2020-01-10  60009254; 60014966; 60023578; 60013959; 600240...   \n",
       "2467       2020-01-10  60009254; 60014966; 60023578; 60013959; 600219...   \n",
       "...               ...                                                ...   \n",
       "105        2020-12-01  60009254; 60014966; 60023578; 60013959; 601044...   \n",
       "102        2020-12-01  60009254; 60014966; 60023578; 60013959; 600219...   \n",
       "96         2020-12-01  60009254; 60014966; 60023578; 60013959; 600240...   \n",
       "40         2020-12-07  60009254; 60023578; 60013959; 60104485; 600235...   \n",
       "34         2020-12-10  60009254; 60023578; 60013959; 60104485; 600235...   \n",
       "\n",
       "                                             References  \\\n",
       "3247  Observation of a new particle in the search fo...   \n",
       "3241  LHC signatures of vector-like quarks; Handbook...   \n",
       "2676  Measurement of the (Equation presented) Produc...   \n",
       "2468  Top-quark physics: status and prospects; Measu...   \n",
       "2467  Observation of a new particle in the search fo...   \n",
       "...                                                 ...   \n",
       "105   Observation of a new particle in the search fo...   \n",
       "102   Jets from Quantum Chromodynamics; A Model for ...   \n",
       "96    Observation of a new particle in the search fo...   \n",
       "40    Naturalness, chiral symmetry, and spontaneous ...   \n",
       "34    Observation of a new particle in the search fo...   \n",
       "\n",
       "                                               Keywords   Filename  \n",
       "3247  Hadron-Hadron scattering (experiments); Higgs ...  202003247  \n",
       "3241  Hadron-Hadron scattering (experiments); vector...  202003241  \n",
       "2676                                                NaN  202002676  \n",
       "2468  CMS; Cross section; Physics; Single top; Top q...  202002468  \n",
       "2467           2HD+1S; CMS; Higgs boson; NMSSM; Physics  202002467  \n",
       "...                                                 ...        ...  \n",
       "105   Hadron-Hadron scattering (experiments); Higgs ...  202000105  \n",
       "102   Hadron-Hadron scattering (experiments); Jets; QCD  202000102  \n",
       "96    b jets; CMS; Deep learning; Higgs boson; Jet e...  202000096  \n",
       "40                                                  NaN  202000040  \n",
       "34                CMS; Physics; Vector boson scattering  202000034  \n",
       "\n",
       "[68 rows x 9 columns]"
      ]
     },
     "execution_count": 9,
     "metadata": {},
     "output_type": "execute_result"
    }
   ],
   "source": [
    "df2020_with_subject_area_3106.sort_values('Publication_Date', ascending=True)"
   ]
  },
  {
   "cell_type": "code",
   "execution_count": 10,
   "metadata": {},
   "outputs": [
    {
     "name": "stdout",
     "output_type": "stream",
     "text": [
      "                             0                                1   \\\n",
      "0     Bose-Einstein condensates                        Breathers   \n",
      "1                  Ball milling              Graphite nanosheets   \n",
      "2                Carbon nitride                           Doping   \n",
      "3                        Alloys                    High pressure   \n",
      "4                     Apoptosis                        Autophagy   \n",
      "...                         ...                              ...   \n",
      "3388               Chemotherapy   Natural killer/T cell lymphoma   \n",
      "3389              Asset pricing          Institutional ownership   \n",
      "3390         Perspective-taking                        Prejudice   \n",
      "3391     Collaborative learning                Flipped classroom   \n",
      "3392          Cyclodimerization                  Epichlorohydrin   \n",
      "\n",
      "                                 2                            3   \\\n",
      "0                      Matter waves              Nonlinear waves   \n",
      "1                           Hybrids                         MnO2   \n",
      "2                Hydrogen evolution                    Nanosheet   \n",
      "3           Metal hydride compounds                        Mg/Ca   \n",
      "4      Autophagy related protein 9A                          HBx   \n",
      "...                             ...                          ...   \n",
      "3388                 Older patients   Peripheral T cell lymphoma   \n",
      "3389           Mutual funds returns                         None   \n",
      "3390            Prejudice reduction       Relational self-esteem   \n",
      "3391            Group investigation              Online learning   \n",
      "3392                           MOFs              Oligomerization   \n",
      "\n",
      "                                               4                          5   \\\n",
      "0                                            None                       None   \n",
      "1                                   Volume change           Zinc ion battery   \n",
      "2                                   Photocatalyst                       None   \n",
      "3      Near-room-temperature critical temperature          Superconductivity   \n",
      "4                               Hepatitis B virus   Hepatocellular carcinoma   \n",
      "...                                           ...                        ...   \n",
      "3388                                         None                       None   \n",
      "3389                                         None                       None   \n",
      "3390                                         None                       None   \n",
      "3391                                Team learning                       None   \n",
      "3392         Temperature program desorption (TPD)                        ZIF   \n",
      "\n",
      "        6     7     8     9     10    11    12    13    14    15  \n",
      "0     None  None  None  None  None  None  None  None  None  None  \n",
      "1     None  None  None  None  None  None  None  None  None  None  \n",
      "2     None  None  None  None  None  None  None  None  None  None  \n",
      "3     None  None  None  None  None  None  None  None  None  None  \n",
      "4     None  None  None  None  None  None  None  None  None  None  \n",
      "...    ...   ...   ...   ...   ...   ...   ...   ...   ...   ...  \n",
      "3388  None  None  None  None  None  None  None  None  None  None  \n",
      "3389  None  None  None  None  None  None  None  None  None  None  \n",
      "3390  None  None  None  None  None  None  None  None  None  None  \n",
      "3391  None  None  None  None  None  None  None  None  None  None  \n",
      "3392  None  None  None  None  None  None  None  None  None  None  \n",
      "\n",
      "[3393 rows x 16 columns]\n"
     ]
    }
   ],
   "source": [
    "df_2020_keywords = df2020['Keywords'].str.split(';', expand=True)\n",
    "print(df_2020_keywords)"
   ]
  },
  {
   "cell_type": "code",
   "execution_count": 11,
   "metadata": {},
   "outputs": [
    {
     "name": "stdout",
     "output_type": "stream",
     "text": [
      "thailand                                  120\n",
      "covid-19                                   35\n",
      "hadron-hadron scattering (experiments)     31\n",
      "inflammation                               28\n",
      "asia                                       23\n",
      "                                         ... \n",
      "reactive oxygen species                     2\n",
      "alcohol use disorder                        2\n",
      "glutamate                                   2\n",
      "yeast-based assay                           2\n",
      "electrical conductivity                     2\n",
      "Name: count, Length: 1497, dtype: int64\n"
     ]
    }
   ],
   "source": [
    "# df_2018_keywords.dropna(inplace=True)\n",
    "keywords_counts = df_2020_keywords.stack().str.strip()\n",
    "keywords_counts = keywords_counts.str.lower().value_counts()\n",
    "keywords_counts = keywords_counts[keywords_counts > 1]\n",
    "print(keywords_counts)"
   ]
  },
  {
   "cell_type": "code",
   "execution_count": 12,
   "metadata": {},
   "outputs": [
    {
     "name": "stdout",
     "output_type": "stream",
     "text": [
      "                                  Keywords  Count\n",
      "0                                 thailand    120\n",
      "1                                 covid-19     35\n",
      "2   hadron-hadron scattering (experiments)     31\n",
      "3                             inflammation     28\n",
      "4                                     asia     23\n",
      "5                               depression     20\n",
      "6                         oxidative stress     20\n",
      "7                                      hiv     20\n",
      "8                                      cms     20\n",
      "9                            deep learning     19\n",
      "10                              sars-cov-2     18\n",
      "11                        machine learning     18\n",
      "12                              adsorption     16\n",
      "13                            cytotoxicity     15\n",
      "14                            neuro-immune     14\n",
      "15                                 physics     14\n",
      "16                            epidemiology     14\n",
      "17                                 obesity     13\n",
      "18                                children     13\n",
      "19                               apoptosis     13\n",
      "20                     hydrogen production     13\n",
      "25                                 myanmar     12\n",
      "27                           higgs physics     12\n",
      "26                         quality of life     12\n",
      "24                   mechanical properties     12\n",
      "23                             new species     12\n",
      "22                                 vaccine     12\n",
      "21                               cytokines     12\n",
      "28                          southeast asia     11\n",
      "29                     acute kidney injury     11\n",
      "30                               biomarker     11\n"
     ]
    }
   ],
   "source": [
    "result = pd.DataFrame({\n",
    "    'Keywords': keywords_counts.index,\n",
    "    'Count': keywords_counts.values\n",
    "})\n",
    "\n",
    "# Sort the DataFrame by count in descending order\n",
    "keywords_counts_result = result.sort_values('Count', ascending=False)\n",
    "\n",
    "keywords_counts_result = keywords_counts_result[keywords_counts_result['Count'] > 10]\n",
    "print(keywords_counts_result)"
   ]
  },
  {
   "cell_type": "code",
   "execution_count": 13,
   "metadata": {},
   "outputs": [
    {
     "data": {
      "text/html": [
       "        <script type=\"text/javascript\">\n",
       "        window.PlotlyConfig = {MathJaxConfig: 'local'};\n",
       "        if (window.MathJax && window.MathJax.Hub && window.MathJax.Hub.Config) {window.MathJax.Hub.Config({SVG: {font: \"STIX-Web\"}});}\n",
       "        if (typeof require !== 'undefined') {\n",
       "        require.undef(\"plotly\");\n",
       "        requirejs.config({\n",
       "            paths: {\n",
       "                'plotly': ['https://cdn.plot.ly/plotly-2.35.2.min']\n",
       "            }\n",
       "        });\n",
       "        require(['plotly'], function(Plotly) {\n",
       "            window._Plotly = Plotly;\n",
       "        });\n",
       "        }\n",
       "        </script>\n",
       "        "
      ]
     },
     "metadata": {},
     "output_type": "display_data"
    },
    {
     "data": {
      "application/vnd.plotly.v1+json": {
       "config": {
        "linkText": "Export to plot.ly",
        "plotlyServerURL": "https://plot.ly",
        "showLink": true
       },
       "data": [
        {
         "marker": {
          "color": "rgba(255, 153, 51, 0.6)",
          "line": {
           "color": "rgba(255, 153, 51, 1.0)",
           "width": 1
          }
         },
         "name": "Count",
         "orientation": "v",
         "text": "",
         "type": "bar",
         "x": [
          "thailand",
          "covid-19",
          "hadron-hadron scattering (experiments)",
          "inflammation",
          "asia",
          "depression",
          "oxidative stress",
          "hiv",
          "cms",
          "deep learning",
          "sars-cov-2",
          "machine learning",
          "adsorption",
          "cytotoxicity",
          "neuro-immune",
          "physics",
          "epidemiology",
          "obesity",
          "children",
          "apoptosis",
          "hydrogen production",
          "myanmar",
          "higgs physics",
          "quality of life",
          "mechanical properties",
          "new species",
          "vaccine",
          "cytokines",
          "southeast asia",
          "acute kidney injury",
          "biomarker"
         ],
         "y": [
          120,
          35,
          31,
          28,
          23,
          20,
          20,
          20,
          20,
          19,
          18,
          18,
          16,
          15,
          14,
          14,
          14,
          13,
          13,
          13,
          13,
          12,
          12,
          12,
          12,
          12,
          12,
          12,
          11,
          11,
          11
         ]
        }
       ],
       "layout": {
        "legend": {
         "bgcolor": "#F5F6F9",
         "font": {
          "color": "#4D5663"
         }
        },
        "paper_bgcolor": "#F5F6F9",
        "plot_bgcolor": "#F5F6F9",
        "template": {
         "data": {
          "bar": [
           {
            "error_x": {
             "color": "#2a3f5f"
            },
            "error_y": {
             "color": "#2a3f5f"
            },
            "marker": {
             "line": {
              "color": "#E5ECF6",
              "width": 0.5
             },
             "pattern": {
              "fillmode": "overlay",
              "size": 10,
              "solidity": 0.2
             }
            },
            "type": "bar"
           }
          ],
          "barpolar": [
           {
            "marker": {
             "line": {
              "color": "#E5ECF6",
              "width": 0.5
             },
             "pattern": {
              "fillmode": "overlay",
              "size": 10,
              "solidity": 0.2
             }
            },
            "type": "barpolar"
           }
          ],
          "carpet": [
           {
            "aaxis": {
             "endlinecolor": "#2a3f5f",
             "gridcolor": "white",
             "linecolor": "white",
             "minorgridcolor": "white",
             "startlinecolor": "#2a3f5f"
            },
            "baxis": {
             "endlinecolor": "#2a3f5f",
             "gridcolor": "white",
             "linecolor": "white",
             "minorgridcolor": "white",
             "startlinecolor": "#2a3f5f"
            },
            "type": "carpet"
           }
          ],
          "choropleth": [
           {
            "colorbar": {
             "outlinewidth": 0,
             "ticks": ""
            },
            "type": "choropleth"
           }
          ],
          "contour": [
           {
            "colorbar": {
             "outlinewidth": 0,
             "ticks": ""
            },
            "colorscale": [
             [
              0,
              "#0d0887"
             ],
             [
              0.1111111111111111,
              "#46039f"
             ],
             [
              0.2222222222222222,
              "#7201a8"
             ],
             [
              0.3333333333333333,
              "#9c179e"
             ],
             [
              0.4444444444444444,
              "#bd3786"
             ],
             [
              0.5555555555555556,
              "#d8576b"
             ],
             [
              0.6666666666666666,
              "#ed7953"
             ],
             [
              0.7777777777777778,
              "#fb9f3a"
             ],
             [
              0.8888888888888888,
              "#fdca26"
             ],
             [
              1,
              "#f0f921"
             ]
            ],
            "type": "contour"
           }
          ],
          "contourcarpet": [
           {
            "colorbar": {
             "outlinewidth": 0,
             "ticks": ""
            },
            "type": "contourcarpet"
           }
          ],
          "heatmap": [
           {
            "colorbar": {
             "outlinewidth": 0,
             "ticks": ""
            },
            "colorscale": [
             [
              0,
              "#0d0887"
             ],
             [
              0.1111111111111111,
              "#46039f"
             ],
             [
              0.2222222222222222,
              "#7201a8"
             ],
             [
              0.3333333333333333,
              "#9c179e"
             ],
             [
              0.4444444444444444,
              "#bd3786"
             ],
             [
              0.5555555555555556,
              "#d8576b"
             ],
             [
              0.6666666666666666,
              "#ed7953"
             ],
             [
              0.7777777777777778,
              "#fb9f3a"
             ],
             [
              0.8888888888888888,
              "#fdca26"
             ],
             [
              1,
              "#f0f921"
             ]
            ],
            "type": "heatmap"
           }
          ],
          "heatmapgl": [
           {
            "colorbar": {
             "outlinewidth": 0,
             "ticks": ""
            },
            "colorscale": [
             [
              0,
              "#0d0887"
             ],
             [
              0.1111111111111111,
              "#46039f"
             ],
             [
              0.2222222222222222,
              "#7201a8"
             ],
             [
              0.3333333333333333,
              "#9c179e"
             ],
             [
              0.4444444444444444,
              "#bd3786"
             ],
             [
              0.5555555555555556,
              "#d8576b"
             ],
             [
              0.6666666666666666,
              "#ed7953"
             ],
             [
              0.7777777777777778,
              "#fb9f3a"
             ],
             [
              0.8888888888888888,
              "#fdca26"
             ],
             [
              1,
              "#f0f921"
             ]
            ],
            "type": "heatmapgl"
           }
          ],
          "histogram": [
           {
            "marker": {
             "pattern": {
              "fillmode": "overlay",
              "size": 10,
              "solidity": 0.2
             }
            },
            "type": "histogram"
           }
          ],
          "histogram2d": [
           {
            "colorbar": {
             "outlinewidth": 0,
             "ticks": ""
            },
            "colorscale": [
             [
              0,
              "#0d0887"
             ],
             [
              0.1111111111111111,
              "#46039f"
             ],
             [
              0.2222222222222222,
              "#7201a8"
             ],
             [
              0.3333333333333333,
              "#9c179e"
             ],
             [
              0.4444444444444444,
              "#bd3786"
             ],
             [
              0.5555555555555556,
              "#d8576b"
             ],
             [
              0.6666666666666666,
              "#ed7953"
             ],
             [
              0.7777777777777778,
              "#fb9f3a"
             ],
             [
              0.8888888888888888,
              "#fdca26"
             ],
             [
              1,
              "#f0f921"
             ]
            ],
            "type": "histogram2d"
           }
          ],
          "histogram2dcontour": [
           {
            "colorbar": {
             "outlinewidth": 0,
             "ticks": ""
            },
            "colorscale": [
             [
              0,
              "#0d0887"
             ],
             [
              0.1111111111111111,
              "#46039f"
             ],
             [
              0.2222222222222222,
              "#7201a8"
             ],
             [
              0.3333333333333333,
              "#9c179e"
             ],
             [
              0.4444444444444444,
              "#bd3786"
             ],
             [
              0.5555555555555556,
              "#d8576b"
             ],
             [
              0.6666666666666666,
              "#ed7953"
             ],
             [
              0.7777777777777778,
              "#fb9f3a"
             ],
             [
              0.8888888888888888,
              "#fdca26"
             ],
             [
              1,
              "#f0f921"
             ]
            ],
            "type": "histogram2dcontour"
           }
          ],
          "mesh3d": [
           {
            "colorbar": {
             "outlinewidth": 0,
             "ticks": ""
            },
            "type": "mesh3d"
           }
          ],
          "parcoords": [
           {
            "line": {
             "colorbar": {
              "outlinewidth": 0,
              "ticks": ""
             }
            },
            "type": "parcoords"
           }
          ],
          "pie": [
           {
            "automargin": true,
            "type": "pie"
           }
          ],
          "scatter": [
           {
            "fillpattern": {
             "fillmode": "overlay",
             "size": 10,
             "solidity": 0.2
            },
            "type": "scatter"
           }
          ],
          "scatter3d": [
           {
            "line": {
             "colorbar": {
              "outlinewidth": 0,
              "ticks": ""
             }
            },
            "marker": {
             "colorbar": {
              "outlinewidth": 0,
              "ticks": ""
             }
            },
            "type": "scatter3d"
           }
          ],
          "scattercarpet": [
           {
            "marker": {
             "colorbar": {
              "outlinewidth": 0,
              "ticks": ""
             }
            },
            "type": "scattercarpet"
           }
          ],
          "scattergeo": [
           {
            "marker": {
             "colorbar": {
              "outlinewidth": 0,
              "ticks": ""
             }
            },
            "type": "scattergeo"
           }
          ],
          "scattergl": [
           {
            "marker": {
             "colorbar": {
              "outlinewidth": 0,
              "ticks": ""
             }
            },
            "type": "scattergl"
           }
          ],
          "scattermapbox": [
           {
            "marker": {
             "colorbar": {
              "outlinewidth": 0,
              "ticks": ""
             }
            },
            "type": "scattermapbox"
           }
          ],
          "scatterpolar": [
           {
            "marker": {
             "colorbar": {
              "outlinewidth": 0,
              "ticks": ""
             }
            },
            "type": "scatterpolar"
           }
          ],
          "scatterpolargl": [
           {
            "marker": {
             "colorbar": {
              "outlinewidth": 0,
              "ticks": ""
             }
            },
            "type": "scatterpolargl"
           }
          ],
          "scatterternary": [
           {
            "marker": {
             "colorbar": {
              "outlinewidth": 0,
              "ticks": ""
             }
            },
            "type": "scatterternary"
           }
          ],
          "surface": [
           {
            "colorbar": {
             "outlinewidth": 0,
             "ticks": ""
            },
            "colorscale": [
             [
              0,
              "#0d0887"
             ],
             [
              0.1111111111111111,
              "#46039f"
             ],
             [
              0.2222222222222222,
              "#7201a8"
             ],
             [
              0.3333333333333333,
              "#9c179e"
             ],
             [
              0.4444444444444444,
              "#bd3786"
             ],
             [
              0.5555555555555556,
              "#d8576b"
             ],
             [
              0.6666666666666666,
              "#ed7953"
             ],
             [
              0.7777777777777778,
              "#fb9f3a"
             ],
             [
              0.8888888888888888,
              "#fdca26"
             ],
             [
              1,
              "#f0f921"
             ]
            ],
            "type": "surface"
           }
          ],
          "table": [
           {
            "cells": {
             "fill": {
              "color": "#EBF0F8"
             },
             "line": {
              "color": "white"
             }
            },
            "header": {
             "fill": {
              "color": "#C8D4E3"
             },
             "line": {
              "color": "white"
             }
            },
            "type": "table"
           }
          ]
         },
         "layout": {
          "annotationdefaults": {
           "arrowcolor": "#2a3f5f",
           "arrowhead": 0,
           "arrowwidth": 1
          },
          "autotypenumbers": "strict",
          "coloraxis": {
           "colorbar": {
            "outlinewidth": 0,
            "ticks": ""
           }
          },
          "colorscale": {
           "diverging": [
            [
             0,
             "#8e0152"
            ],
            [
             0.1,
             "#c51b7d"
            ],
            [
             0.2,
             "#de77ae"
            ],
            [
             0.3,
             "#f1b6da"
            ],
            [
             0.4,
             "#fde0ef"
            ],
            [
             0.5,
             "#f7f7f7"
            ],
            [
             0.6,
             "#e6f5d0"
            ],
            [
             0.7,
             "#b8e186"
            ],
            [
             0.8,
             "#7fbc41"
            ],
            [
             0.9,
             "#4d9221"
            ],
            [
             1,
             "#276419"
            ]
           ],
           "sequential": [
            [
             0,
             "#0d0887"
            ],
            [
             0.1111111111111111,
             "#46039f"
            ],
            [
             0.2222222222222222,
             "#7201a8"
            ],
            [
             0.3333333333333333,
             "#9c179e"
            ],
            [
             0.4444444444444444,
             "#bd3786"
            ],
            [
             0.5555555555555556,
             "#d8576b"
            ],
            [
             0.6666666666666666,
             "#ed7953"
            ],
            [
             0.7777777777777778,
             "#fb9f3a"
            ],
            [
             0.8888888888888888,
             "#fdca26"
            ],
            [
             1,
             "#f0f921"
            ]
           ],
           "sequentialminus": [
            [
             0,
             "#0d0887"
            ],
            [
             0.1111111111111111,
             "#46039f"
            ],
            [
             0.2222222222222222,
             "#7201a8"
            ],
            [
             0.3333333333333333,
             "#9c179e"
            ],
            [
             0.4444444444444444,
             "#bd3786"
            ],
            [
             0.5555555555555556,
             "#d8576b"
            ],
            [
             0.6666666666666666,
             "#ed7953"
            ],
            [
             0.7777777777777778,
             "#fb9f3a"
            ],
            [
             0.8888888888888888,
             "#fdca26"
            ],
            [
             1,
             "#f0f921"
            ]
           ]
          },
          "colorway": [
           "#636efa",
           "#EF553B",
           "#00cc96",
           "#ab63fa",
           "#FFA15A",
           "#19d3f3",
           "#FF6692",
           "#B6E880",
           "#FF97FF",
           "#FECB52"
          ],
          "font": {
           "color": "#2a3f5f"
          },
          "geo": {
           "bgcolor": "white",
           "lakecolor": "white",
           "landcolor": "#E5ECF6",
           "showlakes": true,
           "showland": true,
           "subunitcolor": "white"
          },
          "hoverlabel": {
           "align": "left"
          },
          "hovermode": "closest",
          "mapbox": {
           "style": "light"
          },
          "paper_bgcolor": "white",
          "plot_bgcolor": "#E5ECF6",
          "polar": {
           "angularaxis": {
            "gridcolor": "white",
            "linecolor": "white",
            "ticks": ""
           },
           "bgcolor": "#E5ECF6",
           "radialaxis": {
            "gridcolor": "white",
            "linecolor": "white",
            "ticks": ""
           }
          },
          "scene": {
           "xaxis": {
            "backgroundcolor": "#E5ECF6",
            "gridcolor": "white",
            "gridwidth": 2,
            "linecolor": "white",
            "showbackground": true,
            "ticks": "",
            "zerolinecolor": "white"
           },
           "yaxis": {
            "backgroundcolor": "#E5ECF6",
            "gridcolor": "white",
            "gridwidth": 2,
            "linecolor": "white",
            "showbackground": true,
            "ticks": "",
            "zerolinecolor": "white"
           },
           "zaxis": {
            "backgroundcolor": "#E5ECF6",
            "gridcolor": "white",
            "gridwidth": 2,
            "linecolor": "white",
            "showbackground": true,
            "ticks": "",
            "zerolinecolor": "white"
           }
          },
          "shapedefaults": {
           "line": {
            "color": "#2a3f5f"
           }
          },
          "ternary": {
           "aaxis": {
            "gridcolor": "white",
            "linecolor": "white",
            "ticks": ""
           },
           "baxis": {
            "gridcolor": "white",
            "linecolor": "white",
            "ticks": ""
           },
           "bgcolor": "#E5ECF6",
           "caxis": {
            "gridcolor": "white",
            "linecolor": "white",
            "ticks": ""
           }
          },
          "title": {
           "x": 0.05
          },
          "xaxis": {
           "automargin": true,
           "gridcolor": "white",
           "linecolor": "white",
           "ticks": "",
           "title": {
            "standoff": 15
           },
           "zerolinecolor": "white",
           "zerolinewidth": 2
          },
          "yaxis": {
           "automargin": true,
           "gridcolor": "white",
           "linecolor": "white",
           "ticks": "",
           "title": {
            "standoff": 15
           },
           "zerolinecolor": "white",
           "zerolinewidth": 2
          }
         }
        },
        "title": {
         "font": {
          "color": "#4D5663"
         },
         "text": "Keywords Counts in 2020"
        },
        "xaxis": {
         "gridcolor": "#E1E5ED",
         "showgrid": true,
         "tickfont": {
          "color": "#4D5663"
         },
         "title": {
          "font": {
           "color": "#4D5663"
          },
          "text": "Keywords"
         },
         "zerolinecolor": "#E1E5ED"
        },
        "yaxis": {
         "gridcolor": "#E1E5ED",
         "showgrid": true,
         "tickfont": {
          "color": "#4D5663"
         },
         "title": {
          "font": {
           "color": "#4D5663"
          },
          "text": "Count"
         },
         "zerolinecolor": "#E1E5ED"
        }
       }
      },
      "text/html": [
       "<div>                            <div id=\"7de940b8-2edb-4f00-9c4c-6181aa6d8bc4\" class=\"plotly-graph-div\" style=\"height:525px; width:100%;\"></div>            <script type=\"text/javascript\">                require([\"plotly\"], function(Plotly) {                    window.PLOTLYENV=window.PLOTLYENV || {};\n",
       "                    window.PLOTLYENV.BASE_URL='https://plot.ly';                                    if (document.getElementById(\"7de940b8-2edb-4f00-9c4c-6181aa6d8bc4\")) {                    Plotly.newPlot(                        \"7de940b8-2edb-4f00-9c4c-6181aa6d8bc4\",                        [{\"marker\":{\"color\":\"rgba(255, 153, 51, 0.6)\",\"line\":{\"color\":\"rgba(255, 153, 51, 1.0)\",\"width\":1}},\"name\":\"Count\",\"orientation\":\"v\",\"text\":\"\",\"x\":[\"thailand\",\"covid-19\",\"hadron-hadron scattering (experiments)\",\"inflammation\",\"asia\",\"depression\",\"oxidative stress\",\"hiv\",\"cms\",\"deep learning\",\"sars-cov-2\",\"machine learning\",\"adsorption\",\"cytotoxicity\",\"neuro-immune\",\"physics\",\"epidemiology\",\"obesity\",\"children\",\"apoptosis\",\"hydrogen production\",\"myanmar\",\"higgs physics\",\"quality of life\",\"mechanical properties\",\"new species\",\"vaccine\",\"cytokines\",\"southeast asia\",\"acute kidney injury\",\"biomarker\"],\"y\":[120,35,31,28,23,20,20,20,20,19,18,18,16,15,14,14,14,13,13,13,13,12,12,12,12,12,12,12,11,11,11],\"type\":\"bar\"}],                        {\"legend\":{\"bgcolor\":\"#F5F6F9\",\"font\":{\"color\":\"#4D5663\"}},\"paper_bgcolor\":\"#F5F6F9\",\"plot_bgcolor\":\"#F5F6F9\",\"template\":{\"data\":{\"barpolar\":[{\"marker\":{\"line\":{\"color\":\"#E5ECF6\",\"width\":0.5},\"pattern\":{\"fillmode\":\"overlay\",\"size\":10,\"solidity\":0.2}},\"type\":\"barpolar\"}],\"bar\":[{\"error_x\":{\"color\":\"#2a3f5f\"},\"error_y\":{\"color\":\"#2a3f5f\"},\"marker\":{\"line\":{\"color\":\"#E5ECF6\",\"width\":0.5},\"pattern\":{\"fillmode\":\"overlay\",\"size\":10,\"solidity\":0.2}},\"type\":\"bar\"}],\"carpet\":[{\"aaxis\":{\"endlinecolor\":\"#2a3f5f\",\"gridcolor\":\"white\",\"linecolor\":\"white\",\"minorgridcolor\":\"white\",\"startlinecolor\":\"#2a3f5f\"},\"baxis\":{\"endlinecolor\":\"#2a3f5f\",\"gridcolor\":\"white\",\"linecolor\":\"white\",\"minorgridcolor\":\"white\",\"startlinecolor\":\"#2a3f5f\"},\"type\":\"carpet\"}],\"choropleth\":[{\"colorbar\":{\"outlinewidth\":0,\"ticks\":\"\"},\"type\":\"choropleth\"}],\"contourcarpet\":[{\"colorbar\":{\"outlinewidth\":0,\"ticks\":\"\"},\"type\":\"contourcarpet\"}],\"contour\":[{\"colorbar\":{\"outlinewidth\":0,\"ticks\":\"\"},\"colorscale\":[[0.0,\"#0d0887\"],[0.1111111111111111,\"#46039f\"],[0.2222222222222222,\"#7201a8\"],[0.3333333333333333,\"#9c179e\"],[0.4444444444444444,\"#bd3786\"],[0.5555555555555556,\"#d8576b\"],[0.6666666666666666,\"#ed7953\"],[0.7777777777777778,\"#fb9f3a\"],[0.8888888888888888,\"#fdca26\"],[1.0,\"#f0f921\"]],\"type\":\"contour\"}],\"heatmapgl\":[{\"colorbar\":{\"outlinewidth\":0,\"ticks\":\"\"},\"colorscale\":[[0.0,\"#0d0887\"],[0.1111111111111111,\"#46039f\"],[0.2222222222222222,\"#7201a8\"],[0.3333333333333333,\"#9c179e\"],[0.4444444444444444,\"#bd3786\"],[0.5555555555555556,\"#d8576b\"],[0.6666666666666666,\"#ed7953\"],[0.7777777777777778,\"#fb9f3a\"],[0.8888888888888888,\"#fdca26\"],[1.0,\"#f0f921\"]],\"type\":\"heatmapgl\"}],\"heatmap\":[{\"colorbar\":{\"outlinewidth\":0,\"ticks\":\"\"},\"colorscale\":[[0.0,\"#0d0887\"],[0.1111111111111111,\"#46039f\"],[0.2222222222222222,\"#7201a8\"],[0.3333333333333333,\"#9c179e\"],[0.4444444444444444,\"#bd3786\"],[0.5555555555555556,\"#d8576b\"],[0.6666666666666666,\"#ed7953\"],[0.7777777777777778,\"#fb9f3a\"],[0.8888888888888888,\"#fdca26\"],[1.0,\"#f0f921\"]],\"type\":\"heatmap\"}],\"histogram2dcontour\":[{\"colorbar\":{\"outlinewidth\":0,\"ticks\":\"\"},\"colorscale\":[[0.0,\"#0d0887\"],[0.1111111111111111,\"#46039f\"],[0.2222222222222222,\"#7201a8\"],[0.3333333333333333,\"#9c179e\"],[0.4444444444444444,\"#bd3786\"],[0.5555555555555556,\"#d8576b\"],[0.6666666666666666,\"#ed7953\"],[0.7777777777777778,\"#fb9f3a\"],[0.8888888888888888,\"#fdca26\"],[1.0,\"#f0f921\"]],\"type\":\"histogram2dcontour\"}],\"histogram2d\":[{\"colorbar\":{\"outlinewidth\":0,\"ticks\":\"\"},\"colorscale\":[[0.0,\"#0d0887\"],[0.1111111111111111,\"#46039f\"],[0.2222222222222222,\"#7201a8\"],[0.3333333333333333,\"#9c179e\"],[0.4444444444444444,\"#bd3786\"],[0.5555555555555556,\"#d8576b\"],[0.6666666666666666,\"#ed7953\"],[0.7777777777777778,\"#fb9f3a\"],[0.8888888888888888,\"#fdca26\"],[1.0,\"#f0f921\"]],\"type\":\"histogram2d\"}],\"histogram\":[{\"marker\":{\"pattern\":{\"fillmode\":\"overlay\",\"size\":10,\"solidity\":0.2}},\"type\":\"histogram\"}],\"mesh3d\":[{\"colorbar\":{\"outlinewidth\":0,\"ticks\":\"\"},\"type\":\"mesh3d\"}],\"parcoords\":[{\"line\":{\"colorbar\":{\"outlinewidth\":0,\"ticks\":\"\"}},\"type\":\"parcoords\"}],\"pie\":[{\"automargin\":true,\"type\":\"pie\"}],\"scatter3d\":[{\"line\":{\"colorbar\":{\"outlinewidth\":0,\"ticks\":\"\"}},\"marker\":{\"colorbar\":{\"outlinewidth\":0,\"ticks\":\"\"}},\"type\":\"scatter3d\"}],\"scattercarpet\":[{\"marker\":{\"colorbar\":{\"outlinewidth\":0,\"ticks\":\"\"}},\"type\":\"scattercarpet\"}],\"scattergeo\":[{\"marker\":{\"colorbar\":{\"outlinewidth\":0,\"ticks\":\"\"}},\"type\":\"scattergeo\"}],\"scattergl\":[{\"marker\":{\"colorbar\":{\"outlinewidth\":0,\"ticks\":\"\"}},\"type\":\"scattergl\"}],\"scattermapbox\":[{\"marker\":{\"colorbar\":{\"outlinewidth\":0,\"ticks\":\"\"}},\"type\":\"scattermapbox\"}],\"scatterpolargl\":[{\"marker\":{\"colorbar\":{\"outlinewidth\":0,\"ticks\":\"\"}},\"type\":\"scatterpolargl\"}],\"scatterpolar\":[{\"marker\":{\"colorbar\":{\"outlinewidth\":0,\"ticks\":\"\"}},\"type\":\"scatterpolar\"}],\"scatter\":[{\"fillpattern\":{\"fillmode\":\"overlay\",\"size\":10,\"solidity\":0.2},\"type\":\"scatter\"}],\"scatterternary\":[{\"marker\":{\"colorbar\":{\"outlinewidth\":0,\"ticks\":\"\"}},\"type\":\"scatterternary\"}],\"surface\":[{\"colorbar\":{\"outlinewidth\":0,\"ticks\":\"\"},\"colorscale\":[[0.0,\"#0d0887\"],[0.1111111111111111,\"#46039f\"],[0.2222222222222222,\"#7201a8\"],[0.3333333333333333,\"#9c179e\"],[0.4444444444444444,\"#bd3786\"],[0.5555555555555556,\"#d8576b\"],[0.6666666666666666,\"#ed7953\"],[0.7777777777777778,\"#fb9f3a\"],[0.8888888888888888,\"#fdca26\"],[1.0,\"#f0f921\"]],\"type\":\"surface\"}],\"table\":[{\"cells\":{\"fill\":{\"color\":\"#EBF0F8\"},\"line\":{\"color\":\"white\"}},\"header\":{\"fill\":{\"color\":\"#C8D4E3\"},\"line\":{\"color\":\"white\"}},\"type\":\"table\"}]},\"layout\":{\"annotationdefaults\":{\"arrowcolor\":\"#2a3f5f\",\"arrowhead\":0,\"arrowwidth\":1},\"autotypenumbers\":\"strict\",\"coloraxis\":{\"colorbar\":{\"outlinewidth\":0,\"ticks\":\"\"}},\"colorscale\":{\"diverging\":[[0,\"#8e0152\"],[0.1,\"#c51b7d\"],[0.2,\"#de77ae\"],[0.3,\"#f1b6da\"],[0.4,\"#fde0ef\"],[0.5,\"#f7f7f7\"],[0.6,\"#e6f5d0\"],[0.7,\"#b8e186\"],[0.8,\"#7fbc41\"],[0.9,\"#4d9221\"],[1,\"#276419\"]],\"sequential\":[[0.0,\"#0d0887\"],[0.1111111111111111,\"#46039f\"],[0.2222222222222222,\"#7201a8\"],[0.3333333333333333,\"#9c179e\"],[0.4444444444444444,\"#bd3786\"],[0.5555555555555556,\"#d8576b\"],[0.6666666666666666,\"#ed7953\"],[0.7777777777777778,\"#fb9f3a\"],[0.8888888888888888,\"#fdca26\"],[1.0,\"#f0f921\"]],\"sequentialminus\":[[0.0,\"#0d0887\"],[0.1111111111111111,\"#46039f\"],[0.2222222222222222,\"#7201a8\"],[0.3333333333333333,\"#9c179e\"],[0.4444444444444444,\"#bd3786\"],[0.5555555555555556,\"#d8576b\"],[0.6666666666666666,\"#ed7953\"],[0.7777777777777778,\"#fb9f3a\"],[0.8888888888888888,\"#fdca26\"],[1.0,\"#f0f921\"]]},\"colorway\":[\"#636efa\",\"#EF553B\",\"#00cc96\",\"#ab63fa\",\"#FFA15A\",\"#19d3f3\",\"#FF6692\",\"#B6E880\",\"#FF97FF\",\"#FECB52\"],\"font\":{\"color\":\"#2a3f5f\"},\"geo\":{\"bgcolor\":\"white\",\"lakecolor\":\"white\",\"landcolor\":\"#E5ECF6\",\"showlakes\":true,\"showland\":true,\"subunitcolor\":\"white\"},\"hoverlabel\":{\"align\":\"left\"},\"hovermode\":\"closest\",\"mapbox\":{\"style\":\"light\"},\"paper_bgcolor\":\"white\",\"plot_bgcolor\":\"#E5ECF6\",\"polar\":{\"angularaxis\":{\"gridcolor\":\"white\",\"linecolor\":\"white\",\"ticks\":\"\"},\"bgcolor\":\"#E5ECF6\",\"radialaxis\":{\"gridcolor\":\"white\",\"linecolor\":\"white\",\"ticks\":\"\"}},\"scene\":{\"xaxis\":{\"backgroundcolor\":\"#E5ECF6\",\"gridcolor\":\"white\",\"gridwidth\":2,\"linecolor\":\"white\",\"showbackground\":true,\"ticks\":\"\",\"zerolinecolor\":\"white\"},\"yaxis\":{\"backgroundcolor\":\"#E5ECF6\",\"gridcolor\":\"white\",\"gridwidth\":2,\"linecolor\":\"white\",\"showbackground\":true,\"ticks\":\"\",\"zerolinecolor\":\"white\"},\"zaxis\":{\"backgroundcolor\":\"#E5ECF6\",\"gridcolor\":\"white\",\"gridwidth\":2,\"linecolor\":\"white\",\"showbackground\":true,\"ticks\":\"\",\"zerolinecolor\":\"white\"}},\"shapedefaults\":{\"line\":{\"color\":\"#2a3f5f\"}},\"ternary\":{\"aaxis\":{\"gridcolor\":\"white\",\"linecolor\":\"white\",\"ticks\":\"\"},\"baxis\":{\"gridcolor\":\"white\",\"linecolor\":\"white\",\"ticks\":\"\"},\"bgcolor\":\"#E5ECF6\",\"caxis\":{\"gridcolor\":\"white\",\"linecolor\":\"white\",\"ticks\":\"\"}},\"title\":{\"x\":0.05},\"xaxis\":{\"automargin\":true,\"gridcolor\":\"white\",\"linecolor\":\"white\",\"ticks\":\"\",\"title\":{\"standoff\":15},\"zerolinecolor\":\"white\",\"zerolinewidth\":2},\"yaxis\":{\"automargin\":true,\"gridcolor\":\"white\",\"linecolor\":\"white\",\"ticks\":\"\",\"title\":{\"standoff\":15},\"zerolinecolor\":\"white\",\"zerolinewidth\":2}}},\"title\":{\"font\":{\"color\":\"#4D5663\"},\"text\":\"Keywords Counts in 2020\"},\"xaxis\":{\"gridcolor\":\"#E1E5ED\",\"showgrid\":true,\"tickfont\":{\"color\":\"#4D5663\"},\"title\":{\"font\":{\"color\":\"#4D5663\"},\"text\":\"Keywords\"},\"zerolinecolor\":\"#E1E5ED\"},\"yaxis\":{\"gridcolor\":\"#E1E5ED\",\"showgrid\":true,\"tickfont\":{\"color\":\"#4D5663\"},\"title\":{\"font\":{\"color\":\"#4D5663\"},\"text\":\"Count\"},\"zerolinecolor\":\"#E1E5ED\"}},                        {\"showLink\": true, \"linkText\": \"Export to plot.ly\", \"plotlyServerURL\": \"https://plot.ly\", \"responsive\": true}                    ).then(function(){\n",
       "                            \n",
       "var gd = document.getElementById('7de940b8-2edb-4f00-9c4c-6181aa6d8bc4');\n",
       "var x = new MutationObserver(function (mutations, observer) {{\n",
       "        var display = window.getComputedStyle(gd).display;\n",
       "        if (!display || display === 'none') {{\n",
       "            console.log([gd, 'removed!']);\n",
       "            Plotly.purge(gd);\n",
       "            observer.disconnect();\n",
       "        }}\n",
       "}});\n",
       "\n",
       "// Listen for the removal of the full notebook cells\n",
       "var notebookContainer = gd.closest('#notebook-container');\n",
       "if (notebookContainer) {{\n",
       "    x.observe(notebookContainer, {childList: true});\n",
       "}}\n",
       "\n",
       "// Listen for the clearing of the current output cell\n",
       "var outputEl = gd.closest('.output');\n",
       "if (outputEl) {{\n",
       "    x.observe(outputEl, {childList: true});\n",
       "}}\n",
       "\n",
       "                        })                };                });            </script>        </div>"
      ]
     },
     "metadata": {},
     "output_type": "display_data"
    }
   ],
   "source": [
    "import cufflinks as cf\n",
    "cf.go_offline()\n",
    "cf.set_config_file(offline=False, world_readable=True)\n",
    "\n",
    "keywords_counts_result.iplot(kind='bar', x='Keywords', y='Count', xTitle='Keywords', yTitle='Count', title='Keywords Counts in 2020')\n"
   ]
  },
  {
   "cell_type": "code",
   "execution_count": 14,
   "metadata": {},
   "outputs": [],
   "source": [
    "keywords_counts_result.rename(columns={'Count': '2020_Count'}, inplace=True)\n",
    "keywords_counts_result.to_csv('ExtractedData/2020_keywords_counts.csv', index=False)"
   ]
  }
 ],
 "metadata": {
  "kernelspec": {
   "display_name": "base",
   "language": "python",
   "name": "python3"
  },
  "language_info": {
   "codemirror_mode": {
    "name": "ipython",
    "version": 3
   },
   "file_extension": ".py",
   "mimetype": "text/x-python",
   "name": "python",
   "nbconvert_exporter": "python",
   "pygments_lexer": "ipython3",
   "version": "3.11.5"
  }
 },
 "nbformat": 4,
 "nbformat_minor": 2
}
