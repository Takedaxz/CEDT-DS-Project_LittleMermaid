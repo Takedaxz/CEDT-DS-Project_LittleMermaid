{
 "cells": [
  {
   "cell_type": "code",
   "execution_count": 45,
   "metadata": {},
   "outputs": [],
   "source": [
    "import numpy as np\n",
    "import pandas as pd"
   ]
  },
  {
   "cell_type": "code",
   "execution_count": 46,
   "metadata": {},
   "outputs": [],
   "source": [
    "df2019 = pd.read_csv('ExtractedData/2019.csv')"
   ]
  },
  {
   "cell_type": "code",
   "execution_count": 47,
   "metadata": {},
   "outputs": [
    {
     "data": {
      "text/html": [
       "<div>\n",
       "<style scoped>\n",
       "    .dataframe tbody tr th:only-of-type {\n",
       "        vertical-align: middle;\n",
       "    }\n",
       "\n",
       "    .dataframe tbody tr th {\n",
       "        vertical-align: top;\n",
       "    }\n",
       "\n",
       "    .dataframe thead th {\n",
       "        text-align: right;\n",
       "    }\n",
       "</style>\n",
       "<table border=\"1\" class=\"dataframe\">\n",
       "  <thead>\n",
       "    <tr style=\"text-align: right;\">\n",
       "      <th></th>\n",
       "      <th>Title</th>\n",
       "      <th>Abstract</th>\n",
       "      <th>Author</th>\n",
       "      <th>Subject_Area</th>\n",
       "      <th>Publication_Date</th>\n",
       "      <th>Affiliations_ID</th>\n",
       "      <th>References</th>\n",
       "      <th>Keywords</th>\n",
       "      <th>Filename</th>\n",
       "    </tr>\n",
       "  </thead>\n",
       "  <tbody>\n",
       "    <tr>\n",
       "      <th>0</th>\n",
       "      <td>Identifying nursing research priorities in Vie...</td>\n",
       "      <td>© 2019 2019 Aungsuroch et al., published by Sc...</td>\n",
       "      <td>Aungsuroch Y.; Nhu X.H.T.; Linh T.T.K.; Polsoo...</td>\n",
       "      <td>2900; 3304</td>\n",
       "      <td>2019-12-31</td>\n",
       "      <td>116658379; 60028190</td>\n",
       "      <td>Research priorities in nursing-a delphi study ...</td>\n",
       "      <td>Delphi method; nursing; research priorities; V...</td>\n",
       "      <td>201900000</td>\n",
       "    </tr>\n",
       "    <tr>\n",
       "      <th>1</th>\n",
       "      <td>Evaluation of the sciatic nerve location regar...</td>\n",
       "      <td>Copyright © 2020 Via MedicaBackground: The loc...</td>\n",
       "      <td>Wan-Ae-Loh P.; Huanmanop T.; Agthong S.; Chent...</td>\n",
       "      <td>2702; 2722</td>\n",
       "      <td>2019-12-30</td>\n",
       "      <td>60028190</td>\n",
       "      <td>Sciatic nerve and its variations: an anatomica...</td>\n",
       "      <td>Greater trochanter; Ischial tuberosity; Locali...</td>\n",
       "      <td>201900001</td>\n",
       "    </tr>\n",
       "    <tr>\n",
       "      <th>2</th>\n",
       "      <td>Breast conserving surgery versus modified radi...</td>\n",
       "      <td>NaN</td>\n",
       "      <td>Biomedicine A.</td>\n",
       "      <td>1300</td>\n",
       "      <td>2019-12-30</td>\n",
       "      <td>60028190</td>\n",
       "      <td>Should patients with early breast cancer still...</td>\n",
       "      <td>NaN</td>\n",
       "      <td>201900002</td>\n",
       "    </tr>\n",
       "    <tr>\n",
       "      <th>3</th>\n",
       "      <td>Clinical outcomes and surgical preferences for...</td>\n",
       "      <td>© 2019 Mawin Vongsaisuwon et al., published by...</td>\n",
       "      <td>Vongsaisuwon M.; Pongpirul K.; Chatamara K.</td>\n",
       "      <td>1300</td>\n",
       "      <td>2019-12-30</td>\n",
       "      <td>60006183; 60022183; 60028190</td>\n",
       "      <td>Cancer incidence and mortality worldwide: Sour...</td>\n",
       "      <td>breast-conserving surgery; mastectomy; retrosp...</td>\n",
       "      <td>201900003</td>\n",
       "    </tr>\n",
       "    <tr>\n",
       "      <th>4</th>\n",
       "      <td>Common orthopedic problems in the neonate: A c...</td>\n",
       "      <td>© 2019 Anongnart Sirisabya, et al., published ...</td>\n",
       "      <td>Sirisabya A.; Tooptakong T.; Limpaphayom N.</td>\n",
       "      <td>1300</td>\n",
       "      <td>2019-12-30</td>\n",
       "      <td>60015728; 60028190</td>\n",
       "      <td>The newborn foot; Orthopaedic conditions in th...</td>\n",
       "      <td>foot deformities; fracture; hip dysplasia; inc...</td>\n",
       "      <td>201900004</td>\n",
       "    </tr>\n",
       "  </tbody>\n",
       "</table>\n",
       "</div>"
      ],
      "text/plain": [
       "                                               Title  \\\n",
       "0  Identifying nursing research priorities in Vie...   \n",
       "1  Evaluation of the sciatic nerve location regar...   \n",
       "2  Breast conserving surgery versus modified radi...   \n",
       "3  Clinical outcomes and surgical preferences for...   \n",
       "4  Common orthopedic problems in the neonate: A c...   \n",
       "\n",
       "                                            Abstract  \\\n",
       "0  © 2019 2019 Aungsuroch et al., published by Sc...   \n",
       "1  Copyright © 2020 Via MedicaBackground: The loc...   \n",
       "2                                                NaN   \n",
       "3  © 2019 Mawin Vongsaisuwon et al., published by...   \n",
       "4  © 2019 Anongnart Sirisabya, et al., published ...   \n",
       "\n",
       "                                              Author Subject_Area  \\\n",
       "0  Aungsuroch Y.; Nhu X.H.T.; Linh T.T.K.; Polsoo...   2900; 3304   \n",
       "1  Wan-Ae-Loh P.; Huanmanop T.; Agthong S.; Chent...   2702; 2722   \n",
       "2                                     Biomedicine A.         1300   \n",
       "3        Vongsaisuwon M.; Pongpirul K.; Chatamara K.         1300   \n",
       "4        Sirisabya A.; Tooptakong T.; Limpaphayom N.         1300   \n",
       "\n",
       "  Publication_Date               Affiliations_ID  \\\n",
       "0       2019-12-31           116658379; 60028190   \n",
       "1       2019-12-30                      60028190   \n",
       "2       2019-12-30                      60028190   \n",
       "3       2019-12-30  60006183; 60022183; 60028190   \n",
       "4       2019-12-30            60015728; 60028190   \n",
       "\n",
       "                                          References  \\\n",
       "0  Research priorities in nursing-a delphi study ...   \n",
       "1  Sciatic nerve and its variations: an anatomica...   \n",
       "2  Should patients with early breast cancer still...   \n",
       "3  Cancer incidence and mortality worldwide: Sour...   \n",
       "4  The newborn foot; Orthopaedic conditions in th...   \n",
       "\n",
       "                                            Keywords   Filename  \n",
       "0  Delphi method; nursing; research priorities; V...  201900000  \n",
       "1  Greater trochanter; Ischial tuberosity; Locali...  201900001  \n",
       "2                                                NaN  201900002  \n",
       "3  breast-conserving surgery; mastectomy; retrosp...  201900003  \n",
       "4  foot deformities; fracture; hip dysplasia; inc...  201900004  "
      ]
     },
     "execution_count": 47,
     "metadata": {},
     "output_type": "execute_result"
    }
   ],
   "source": [
    "df2019.head()"
   ]
  },
  {
   "cell_type": "code",
   "execution_count": 48,
   "metadata": {},
   "outputs": [],
   "source": [
    "df2019['Publication_Date']=pd.to_datetime(df2019['Publication_Date'])"
   ]
  },
  {
   "cell_type": "code",
   "execution_count": 49,
   "metadata": {},
   "outputs": [
    {
     "name": "stdout",
     "output_type": "stream",
     "text": [
      "        0      1      2      3     4     5     6     7     8     9     10  \\\n",
      "0     2900   3304   None   None  None  None  None  None  None  None  None   \n",
      "1     2702   2722   None   None  None  None  None  None  None  None  None   \n",
      "2     1300   None   None   None  None  None  None  None  None  None  None   \n",
      "3     1300   None   None   None  None  None  None  None  None  None  None   \n",
      "4     1300   None   None   None  None  None  None  None  None  None  None   \n",
      "...    ...    ...    ...    ...   ...   ...   ...   ...   ...   ...   ...   \n",
      "3077  3300   None   None   None  None  None  None  None  None  None  None   \n",
      "3078  3300   None   None   None  None  None  None  None  None  None  None   \n",
      "3079  3300   None   None   None  None  None  None  None  None  None  None   \n",
      "3080  2735   2739   None   None  None  None  None  None  None  None  None   \n",
      "3081  2713   2730   2739   1306  None  None  None  None  None  None  None   \n",
      "\n",
      "        11  \n",
      "0     None  \n",
      "1     None  \n",
      "2     None  \n",
      "3     None  \n",
      "4     None  \n",
      "...    ...  \n",
      "3077  None  \n",
      "3078  None  \n",
      "3079  None  \n",
      "3080  None  \n",
      "3081  None  \n",
      "\n",
      "[3082 rows x 12 columns]\n"
     ]
    }
   ],
   "source": [
    "# Get the number of rows and columns in the dataset \n",
    "df_2019_subject_areas = df2019['Subject_Area'].str.split(';', expand=True)\n",
    "print(df_2019_subject_areas)"
   ]
  },
  {
   "cell_type": "code",
   "execution_count": 50,
   "metadata": {},
   "outputs": [
    {
     "name": "stdout",
     "output_type": "stream",
     "text": [
      "1705    161\n",
      "2500    134\n",
      "2208    130\n",
      "1600    118\n",
      "1500    114\n",
      "       ... \n",
      "2609      1\n",
      "3503      1\n",
      "2911      1\n",
      "1212      1\n",
      "2919      1\n",
      "Name: count, Length: 294, dtype: int64\n"
     ]
    }
   ],
   "source": [
    "# Get the number of rows and columns\n",
    "subject_area_counts = df_2019_subject_areas.stack().str.strip().value_counts()\n",
    "print(subject_area_counts)"
   ]
  },
  {
   "cell_type": "code",
   "execution_count": 51,
   "metadata": {},
   "outputs": [
    {
     "name": "stdout",
     "output_type": "stream",
     "text": [
      "    Subject_Area  Count\n",
      "0           1705    161\n",
      "1           2500    134\n",
      "2           2208    130\n",
      "3           1600    118\n",
      "4           1500    114\n",
      "..           ...    ...\n",
      "280         2501      1\n",
      "279         3201      1\n",
      "278         1905      1\n",
      "277         2921      1\n",
      "293         2919      1\n",
      "\n",
      "[294 rows x 2 columns]\n"
     ]
    }
   ],
   "source": [
    "# Create a DataFrame from the value counts\n",
    "result = pd.DataFrame({\n",
    "    'Subject_Area': subject_area_counts.index,\n",
    "    'Count': subject_area_counts.values\n",
    "})\n",
    "\n",
    "# Sort the DataFrame by count in descending order\n",
    "subject_area_counts_result = result.sort_values('Count', ascending=False)\n",
    "\n",
    "print(subject_area_counts_result)"
   ]
  },
  {
   "cell_type": "code",
   "execution_count": 52,
   "metadata": {},
   "outputs": [
    {
     "data": {
      "text/plain": [
       "(96, 9)"
      ]
     },
     "execution_count": 52,
     "metadata": {},
     "output_type": "execute_result"
    }
   ],
   "source": [
    "df2019_with_subject_area_3106=df2019[df2019['Subject_Area'].str.contains('3106', na=False)]\n",
    "df2019_with_subject_area_3106.shape"
   ]
  },
  {
   "cell_type": "code",
   "execution_count": 53,
   "metadata": {},
   "outputs": [
    {
     "data": {
      "text/html": [
       "<div>\n",
       "<style scoped>\n",
       "    .dataframe tbody tr th:only-of-type {\n",
       "        vertical-align: middle;\n",
       "    }\n",
       "\n",
       "    .dataframe tbody tr th {\n",
       "        vertical-align: top;\n",
       "    }\n",
       "\n",
       "    .dataframe thead th {\n",
       "        text-align: right;\n",
       "    }\n",
       "</style>\n",
       "<table border=\"1\" class=\"dataframe\">\n",
       "  <thead>\n",
       "    <tr style=\"text-align: right;\">\n",
       "      <th></th>\n",
       "      <th>Title</th>\n",
       "      <th>Abstract</th>\n",
       "      <th>Author</th>\n",
       "      <th>Subject_Area</th>\n",
       "      <th>Publication_Date</th>\n",
       "      <th>Affiliations_ID</th>\n",
       "      <th>References</th>\n",
       "      <th>Keywords</th>\n",
       "      <th>Filename</th>\n",
       "    </tr>\n",
       "  </thead>\n",
       "  <tbody>\n",
       "    <tr>\n",
       "      <th>14</th>\n",
       "      <td>Search for low mass vector resonances decaying...</td>\n",
       "      <td>© 2019 CERN, for the CMS Collaboration.A searc...</td>\n",
       "      <td>Sirunyan A.M.; Tumasyan A.; Adam W.; Ambrogi F...</td>\n",
       "      <td>3106</td>\n",
       "      <td>2019-12-20</td>\n",
       "      <td>60009254; 60023578; 60021910; 60013959; 601044...</td>\n",
       "      <td>Super collider physics; Excited quark producti...</td>\n",
       "      <td>NaN</td>\n",
       "      <td>201900014</td>\n",
       "    </tr>\n",
       "    <tr>\n",
       "      <th>24</th>\n",
       "      <td>Probing the chiral magnetic wave in pPb and Pb...</td>\n",
       "      <td>© 2019 CERN, for the CMS Collaboration.Charge-...</td>\n",
       "      <td>Sirunyan A.M.; Tumasyan A.; Adam W.; Ambrogi F...</td>\n",
       "      <td>3106</td>\n",
       "      <td>2019-12-18</td>\n",
       "      <td>60009254; 60014966; 60023578; 60013959; 600219...</td>\n",
       "      <td>Experimental Discovery of Weyl Semimetal TaAs;...</td>\n",
       "      <td>NaN</td>\n",
       "      <td>201900024</td>\n",
       "    </tr>\n",
       "    <tr>\n",
       "      <th>62</th>\n",
       "      <td>Pseudorapidity distributions of charged hadron...</td>\n",
       "      <td>© 2019 The Author(s)Measurements of the pseudo...</td>\n",
       "      <td>Sirunyan A.M.; Tumasyan A.; Adam W.; Ambrogi F...</td>\n",
       "      <td>3106</td>\n",
       "      <td>2019-12-10</td>\n",
       "      <td>60009254; 60014966; 60023578; 60013959; 600240...</td>\n",
       "      <td>Heavy ion collisions: the big picture, and the...</td>\n",
       "      <td>CMS; Hadrons; Multiplicity; Physics; Spectra; ...</td>\n",
       "      <td>201900062</td>\n",
       "    </tr>\n",
       "    <tr>\n",
       "      <th>77</th>\n",
       "      <td>Search for long-lived particles using delayed ...</td>\n",
       "      <td>© 2019 CERN, for the CMS Collaboration. Publis...</td>\n",
       "      <td>Sirunyan A.M.; Tumasyan A.; Adam W.; Ambrogi F...</td>\n",
       "      <td>3106</td>\n",
       "      <td>2019-12-09</td>\n",
       "      <td>60009254; 60014966; 60023578; 60013959; 600240...</td>\n",
       "      <td>Dual theory for free fermions; An interpretati...</td>\n",
       "      <td>NaN</td>\n",
       "      <td>201900077</td>\n",
       "    </tr>\n",
       "    <tr>\n",
       "      <th>85</th>\n",
       "      <td>Constraints on anomalous HVV couplings from th...</td>\n",
       "      <td>© 2019 CERN. for the CMS Collaboration. Publis...</td>\n",
       "      <td>Sirunyan A.M.; Tumasyan A.; Adam W.; Ambrogi F...</td>\n",
       "      <td>3106</td>\n",
       "      <td>2019-12-04</td>\n",
       "      <td>60009254; 60014966; 60023578; 60013959; 600219...</td>\n",
       "      <td>Observation of a new particle in the search fo...</td>\n",
       "      <td>NaN</td>\n",
       "      <td>201900085</td>\n",
       "    </tr>\n",
       "  </tbody>\n",
       "</table>\n",
       "</div>"
      ],
      "text/plain": [
       "                                                Title  \\\n",
       "14  Search for low mass vector resonances decaying...   \n",
       "24  Probing the chiral magnetic wave in pPb and Pb...   \n",
       "62  Pseudorapidity distributions of charged hadron...   \n",
       "77  Search for long-lived particles using delayed ...   \n",
       "85  Constraints on anomalous HVV couplings from th...   \n",
       "\n",
       "                                             Abstract  \\\n",
       "14  © 2019 CERN, for the CMS Collaboration.A searc...   \n",
       "24  © 2019 CERN, for the CMS Collaboration.Charge-...   \n",
       "62  © 2019 The Author(s)Measurements of the pseudo...   \n",
       "77  © 2019 CERN, for the CMS Collaboration. Publis...   \n",
       "85  © 2019 CERN. for the CMS Collaboration. Publis...   \n",
       "\n",
       "                                               Author Subject_Area  \\\n",
       "14  Sirunyan A.M.; Tumasyan A.; Adam W.; Ambrogi F...         3106   \n",
       "24  Sirunyan A.M.; Tumasyan A.; Adam W.; Ambrogi F...         3106   \n",
       "62  Sirunyan A.M.; Tumasyan A.; Adam W.; Ambrogi F...         3106   \n",
       "77  Sirunyan A.M.; Tumasyan A.; Adam W.; Ambrogi F...         3106   \n",
       "85  Sirunyan A.M.; Tumasyan A.; Adam W.; Ambrogi F...         3106   \n",
       "\n",
       "   Publication_Date                                    Affiliations_ID  \\\n",
       "14       2019-12-20  60009254; 60023578; 60021910; 60013959; 601044...   \n",
       "24       2019-12-18  60009254; 60014966; 60023578; 60013959; 600219...   \n",
       "62       2019-12-10  60009254; 60014966; 60023578; 60013959; 600240...   \n",
       "77       2019-12-09  60009254; 60014966; 60023578; 60013959; 600240...   \n",
       "85       2019-12-04  60009254; 60014966; 60023578; 60013959; 600219...   \n",
       "\n",
       "                                           References  \\\n",
       "14  Super collider physics; Excited quark producti...   \n",
       "24  Experimental Discovery of Weyl Semimetal TaAs;...   \n",
       "62  Heavy ion collisions: the big picture, and the...   \n",
       "77  Dual theory for free fermions; An interpretati...   \n",
       "85  Observation of a new particle in the search fo...   \n",
       "\n",
       "                                             Keywords   Filename  \n",
       "14                                                NaN  201900014  \n",
       "24                                                NaN  201900024  \n",
       "62  CMS; Hadrons; Multiplicity; Physics; Spectra; ...  201900062  \n",
       "77                                                NaN  201900077  \n",
       "85                                                NaN  201900085  "
      ]
     },
     "execution_count": 53,
     "metadata": {},
     "output_type": "execute_result"
    }
   ],
   "source": [
    "df2019_with_subject_area_3106.head()"
   ]
  },
  {
   "cell_type": "code",
   "execution_count": 54,
   "metadata": {},
   "outputs": [
    {
     "data": {
      "text/html": [
       "<div>\n",
       "<style scoped>\n",
       "    .dataframe tbody tr th:only-of-type {\n",
       "        vertical-align: middle;\n",
       "    }\n",
       "\n",
       "    .dataframe tbody tr th {\n",
       "        vertical-align: top;\n",
       "    }\n",
       "\n",
       "    .dataframe thead th {\n",
       "        text-align: right;\n",
       "    }\n",
       "</style>\n",
       "<table border=\"1\" class=\"dataframe\">\n",
       "  <thead>\n",
       "    <tr style=\"text-align: right;\">\n",
       "      <th></th>\n",
       "      <th>Title</th>\n",
       "      <th>Abstract</th>\n",
       "      <th>Author</th>\n",
       "      <th>Subject_Area</th>\n",
       "      <th>Publication_Date</th>\n",
       "      <th>Affiliations_ID</th>\n",
       "      <th>References</th>\n",
       "      <th>Keywords</th>\n",
       "      <th>Filename</th>\n",
       "    </tr>\n",
       "  </thead>\n",
       "  <tbody>\n",
       "    <tr>\n",
       "      <th>2983</th>\n",
       "      <td>The moduli spaces of S-fold CFTs</td>\n",
       "      <td>© 2019, The Author(s).An S-fold has played an ...</td>\n",
       "      <td>Garozzo I.; Lo Monaco G.; Mekareeya N.</td>\n",
       "      <td>3106</td>\n",
       "      <td>2019-01-01</td>\n",
       "      <td>126400021; 60012306; 60028190</td>\n",
       "      <td>Mirror symmetry in three-dimensional gauge the...</td>\n",
       "      <td>Brane Dynamics in Gauge Theories; Duality in G...</td>\n",
       "      <td>201902983</td>\n",
       "    </tr>\n",
       "    <tr>\n",
       "      <th>2946</th>\n",
       "      <td>Search for low-mass resonances decaying into b...</td>\n",
       "      <td>© 2019 CERN, for the CMS Collaboration. Publis...</td>\n",
       "      <td>Sirunyan A.M.; Tumasyan A.; Adam W.; Ambrogi F...</td>\n",
       "      <td>3106</td>\n",
       "      <td>2019-01-01</td>\n",
       "      <td>60009254; 60014966; 60023578; 60013959; 600219...</td>\n",
       "      <td>Scalar simplified models for dark matter; Cons...</td>\n",
       "      <td>NaN</td>\n",
       "      <td>201902946</td>\n",
       "    </tr>\n",
       "    <tr>\n",
       "      <th>2947</th>\n",
       "      <td>Search for pair-produced three-jet resonances ...</td>\n",
       "      <td>© 2019 CERN, for the CMS Collaboration. Publis...</td>\n",
       "      <td>Sirunyan A.M.; Tumasyan A.; Adam W.; Ambrogi F...</td>\n",
       "      <td>3106</td>\n",
       "      <td>2019-01-01</td>\n",
       "      <td>60009254; 60014966; 60023578; 60013959; 600219...</td>\n",
       "      <td>Grand unified theory with heavy color; Exotic ...</td>\n",
       "      <td>NaN</td>\n",
       "      <td>201902947</td>\n",
       "    </tr>\n",
       "    <tr>\n",
       "      <th>2948</th>\n",
       "      <td>Search for production of Higgs boson pairs in ...</td>\n",
       "      <td>© 2019, The Author(s).A search is presented fo...</td>\n",
       "      <td>Sirunyan A.M.; Tumasyan A.; Adam W.; Ambrogi F...</td>\n",
       "      <td>3106</td>\n",
       "      <td>2019-01-01</td>\n",
       "      <td>60009254; 60014966; 60023578; 60013959; 600219...</td>\n",
       "      <td>Observation of a new particle in the search fo...</td>\n",
       "      <td>Beyond Standard Model; Hadron-Hadron scatterin...</td>\n",
       "      <td>201902948</td>\n",
       "    </tr>\n",
       "    <tr>\n",
       "      <th>2966</th>\n",
       "      <td>Search for heavy Majorana neutrinos in same-si...</td>\n",
       "      <td>© 2019, The Author(s).A search is performed fo...</td>\n",
       "      <td>Sirunyan A.M.; Tumasyan A.; Adam W.; Ambrogi F...</td>\n",
       "      <td>3106</td>\n",
       "      <td>2019-01-01</td>\n",
       "      <td>60009254; 60014966; 60023578; 60013959; 600219...</td>\n",
       "      <td>Particle Data Group collaboration, Review of p...</td>\n",
       "      <td>Beyond Standard Model; Hadron-Hadron scatterin...</td>\n",
       "      <td>201902966</td>\n",
       "    </tr>\n",
       "    <tr>\n",
       "      <th>...</th>\n",
       "      <td>...</td>\n",
       "      <td>...</td>\n",
       "      <td>...</td>\n",
       "      <td>...</td>\n",
       "      <td>...</td>\n",
       "      <td>...</td>\n",
       "      <td>...</td>\n",
       "      <td>...</td>\n",
       "      <td>...</td>\n",
       "    </tr>\n",
       "    <tr>\n",
       "      <th>85</th>\n",
       "      <td>Constraints on anomalous HVV couplings from th...</td>\n",
       "      <td>© 2019 CERN. for the CMS Collaboration. Publis...</td>\n",
       "      <td>Sirunyan A.M.; Tumasyan A.; Adam W.; Ambrogi F...</td>\n",
       "      <td>3106</td>\n",
       "      <td>2019-12-04</td>\n",
       "      <td>60009254; 60014966; 60023578; 60013959; 600219...</td>\n",
       "      <td>Observation of a new particle in the search fo...</td>\n",
       "      <td>NaN</td>\n",
       "      <td>201900085</td>\n",
       "    </tr>\n",
       "    <tr>\n",
       "      <th>77</th>\n",
       "      <td>Search for long-lived particles using delayed ...</td>\n",
       "      <td>© 2019 CERN, for the CMS Collaboration. Publis...</td>\n",
       "      <td>Sirunyan A.M.; Tumasyan A.; Adam W.; Ambrogi F...</td>\n",
       "      <td>3106</td>\n",
       "      <td>2019-12-09</td>\n",
       "      <td>60009254; 60014966; 60023578; 60013959; 600240...</td>\n",
       "      <td>Dual theory for free fermions; An interpretati...</td>\n",
       "      <td>NaN</td>\n",
       "      <td>201900077</td>\n",
       "    </tr>\n",
       "    <tr>\n",
       "      <th>62</th>\n",
       "      <td>Pseudorapidity distributions of charged hadron...</td>\n",
       "      <td>© 2019 The Author(s)Measurements of the pseudo...</td>\n",
       "      <td>Sirunyan A.M.; Tumasyan A.; Adam W.; Ambrogi F...</td>\n",
       "      <td>3106</td>\n",
       "      <td>2019-12-10</td>\n",
       "      <td>60009254; 60014966; 60023578; 60013959; 600240...</td>\n",
       "      <td>Heavy ion collisions: the big picture, and the...</td>\n",
       "      <td>CMS; Hadrons; Multiplicity; Physics; Spectra; ...</td>\n",
       "      <td>201900062</td>\n",
       "    </tr>\n",
       "    <tr>\n",
       "      <th>24</th>\n",
       "      <td>Probing the chiral magnetic wave in pPb and Pb...</td>\n",
       "      <td>© 2019 CERN, for the CMS Collaboration.Charge-...</td>\n",
       "      <td>Sirunyan A.M.; Tumasyan A.; Adam W.; Ambrogi F...</td>\n",
       "      <td>3106</td>\n",
       "      <td>2019-12-18</td>\n",
       "      <td>60009254; 60014966; 60023578; 60013959; 600219...</td>\n",
       "      <td>Experimental Discovery of Weyl Semimetal TaAs;...</td>\n",
       "      <td>NaN</td>\n",
       "      <td>201900024</td>\n",
       "    </tr>\n",
       "    <tr>\n",
       "      <th>14</th>\n",
       "      <td>Search for low mass vector resonances decaying...</td>\n",
       "      <td>© 2019 CERN, for the CMS Collaboration.A searc...</td>\n",
       "      <td>Sirunyan A.M.; Tumasyan A.; Adam W.; Ambrogi F...</td>\n",
       "      <td>3106</td>\n",
       "      <td>2019-12-20</td>\n",
       "      <td>60009254; 60023578; 60021910; 60013959; 601044...</td>\n",
       "      <td>Super collider physics; Excited quark producti...</td>\n",
       "      <td>NaN</td>\n",
       "      <td>201900014</td>\n",
       "    </tr>\n",
       "  </tbody>\n",
       "</table>\n",
       "<p>96 rows × 9 columns</p>\n",
       "</div>"
      ],
      "text/plain": [
       "                                                  Title  \\\n",
       "2983                   The moduli spaces of S-fold CFTs   \n",
       "2946  Search for low-mass resonances decaying into b...   \n",
       "2947  Search for pair-produced three-jet resonances ...   \n",
       "2948  Search for production of Higgs boson pairs in ...   \n",
       "2966  Search for heavy Majorana neutrinos in same-si...   \n",
       "...                                                 ...   \n",
       "85    Constraints on anomalous HVV couplings from th...   \n",
       "77    Search for long-lived particles using delayed ...   \n",
       "62    Pseudorapidity distributions of charged hadron...   \n",
       "24    Probing the chiral magnetic wave in pPb and Pb...   \n",
       "14    Search for low mass vector resonances decaying...   \n",
       "\n",
       "                                               Abstract  \\\n",
       "2983  © 2019, The Author(s).An S-fold has played an ...   \n",
       "2946  © 2019 CERN, for the CMS Collaboration. Publis...   \n",
       "2947  © 2019 CERN, for the CMS Collaboration. Publis...   \n",
       "2948  © 2019, The Author(s).A search is presented fo...   \n",
       "2966  © 2019, The Author(s).A search is performed fo...   \n",
       "...                                                 ...   \n",
       "85    © 2019 CERN. for the CMS Collaboration. Publis...   \n",
       "77    © 2019 CERN, for the CMS Collaboration. Publis...   \n",
       "62    © 2019 The Author(s)Measurements of the pseudo...   \n",
       "24    © 2019 CERN, for the CMS Collaboration.Charge-...   \n",
       "14    © 2019 CERN, for the CMS Collaboration.A searc...   \n",
       "\n",
       "                                                 Author Subject_Area  \\\n",
       "2983             Garozzo I.; Lo Monaco G.; Mekareeya N.         3106   \n",
       "2946  Sirunyan A.M.; Tumasyan A.; Adam W.; Ambrogi F...         3106   \n",
       "2947  Sirunyan A.M.; Tumasyan A.; Adam W.; Ambrogi F...         3106   \n",
       "2948  Sirunyan A.M.; Tumasyan A.; Adam W.; Ambrogi F...         3106   \n",
       "2966  Sirunyan A.M.; Tumasyan A.; Adam W.; Ambrogi F...         3106   \n",
       "...                                                 ...          ...   \n",
       "85    Sirunyan A.M.; Tumasyan A.; Adam W.; Ambrogi F...         3106   \n",
       "77    Sirunyan A.M.; Tumasyan A.; Adam W.; Ambrogi F...         3106   \n",
       "62    Sirunyan A.M.; Tumasyan A.; Adam W.; Ambrogi F...         3106   \n",
       "24    Sirunyan A.M.; Tumasyan A.; Adam W.; Ambrogi F...         3106   \n",
       "14    Sirunyan A.M.; Tumasyan A.; Adam W.; Ambrogi F...         3106   \n",
       "\n",
       "     Publication_Date                                    Affiliations_ID  \\\n",
       "2983       2019-01-01                      126400021; 60012306; 60028190   \n",
       "2946       2019-01-01  60009254; 60014966; 60023578; 60013959; 600219...   \n",
       "2947       2019-01-01  60009254; 60014966; 60023578; 60013959; 600219...   \n",
       "2948       2019-01-01  60009254; 60014966; 60023578; 60013959; 600219...   \n",
       "2966       2019-01-01  60009254; 60014966; 60023578; 60013959; 600219...   \n",
       "...               ...                                                ...   \n",
       "85         2019-12-04  60009254; 60014966; 60023578; 60013959; 600219...   \n",
       "77         2019-12-09  60009254; 60014966; 60023578; 60013959; 600240...   \n",
       "62         2019-12-10  60009254; 60014966; 60023578; 60013959; 600240...   \n",
       "24         2019-12-18  60009254; 60014966; 60023578; 60013959; 600219...   \n",
       "14         2019-12-20  60009254; 60023578; 60021910; 60013959; 601044...   \n",
       "\n",
       "                                             References  \\\n",
       "2983  Mirror symmetry in three-dimensional gauge the...   \n",
       "2946  Scalar simplified models for dark matter; Cons...   \n",
       "2947  Grand unified theory with heavy color; Exotic ...   \n",
       "2948  Observation of a new particle in the search fo...   \n",
       "2966  Particle Data Group collaboration, Review of p...   \n",
       "...                                                 ...   \n",
       "85    Observation of a new particle in the search fo...   \n",
       "77    Dual theory for free fermions; An interpretati...   \n",
       "62    Heavy ion collisions: the big picture, and the...   \n",
       "24    Experimental Discovery of Weyl Semimetal TaAs;...   \n",
       "14    Super collider physics; Excited quark producti...   \n",
       "\n",
       "                                               Keywords   Filename  \n",
       "2983  Brane Dynamics in Gauge Theories; Duality in G...  201902983  \n",
       "2946                                                NaN  201902946  \n",
       "2947                                                NaN  201902947  \n",
       "2948  Beyond Standard Model; Hadron-Hadron scatterin...  201902948  \n",
       "2966  Beyond Standard Model; Hadron-Hadron scatterin...  201902966  \n",
       "...                                                 ...        ...  \n",
       "85                                                  NaN  201900085  \n",
       "77                                                  NaN  201900077  \n",
       "62    CMS; Hadrons; Multiplicity; Physics; Spectra; ...  201900062  \n",
       "24                                                  NaN  201900024  \n",
       "14                                                  NaN  201900014  \n",
       "\n",
       "[96 rows x 9 columns]"
      ]
     },
     "execution_count": 54,
     "metadata": {},
     "output_type": "execute_result"
    }
   ],
   "source": [
    "df2019_with_subject_area_3106.sort_values('Publication_Date', ascending=True)"
   ]
  },
  {
   "cell_type": "code",
   "execution_count": 55,
   "metadata": {},
   "outputs": [
    {
     "name": "stdout",
     "output_type": "stream",
     "text": [
      "                                   0                      1   \\\n",
      "0                       Delphi method                nursing   \n",
      "1                  Greater trochanter     Ischial tuberosity   \n",
      "2                                 NaN                    NaN   \n",
      "3           breast-conserving surgery             mastectomy   \n",
      "4                    foot deformities               fracture   \n",
      "...                               ...                    ...   \n",
      "3077                Equilibrium price   Equilibrium quantity   \n",
      "3078                 Gini coefficient      Income inequality   \n",
      "3079  Aesthetic experience, awareness          Contemplative   \n",
      "3080                          Anxiety             Body image   \n",
      "3081               gallbladder cancer              incidence   \n",
      "\n",
      "                        2                       3   \\\n",
      "0      research priorities                 Vietnam   \n",
      "1             Localisation       Piriformis muscle   \n",
      "2                      NaN                     NaN   \n",
      "3      retrospective study                    None   \n",
      "4            hip dysplasia               incidence   \n",
      "...                    ...                     ...   \n",
      "3077        Natural rubber   Simultaneous equation   \n",
      "3078   Pareto distribution        Top-income share   \n",
      "3079       Early childhood    Second-year students   \n",
      "3080      Late adolescence                Thailand   \n",
      "3081                  race    socioeconomic factor   \n",
      "\n",
      "                                   4               5     6     7     8     9   \\\n",
      "0                                None            None  None  None  None  None   \n",
      "1      Posterior superior iliac spine   Sciatic nerve  None  None  None  None   \n",
      "2                                 NaN             NaN   NaN   NaN   NaN   NaN   \n",
      "3                                None            None  None  None  None  None   \n",
      "4                             newborn            None  None  None  None  None   \n",
      "...                               ...             ...   ...   ...   ...   ...   \n",
      "3077                             None            None  None  None  None  None   \n",
      "3078                             None            None  None  None  None  None   \n",
      "3079                             None            None  None  None  None  None   \n",
      "3080                             None            None  None  None  None  None   \n",
      "3081                         survival            None  None  None  None  None   \n",
      "\n",
      "        10    11    12    13    14    15    16    17    18  \n",
      "0     None  None  None  None  None  None  None  None  None  \n",
      "1     None  None  None  None  None  None  None  None  None  \n",
      "2      NaN   NaN   NaN   NaN   NaN   NaN   NaN   NaN   NaN  \n",
      "3     None  None  None  None  None  None  None  None  None  \n",
      "4     None  None  None  None  None  None  None  None  None  \n",
      "...    ...   ...   ...   ...   ...   ...   ...   ...   ...  \n",
      "3077  None  None  None  None  None  None  None  None  None  \n",
      "3078  None  None  None  None  None  None  None  None  None  \n",
      "3079  None  None  None  None  None  None  None  None  None  \n",
      "3080  None  None  None  None  None  None  None  None  None  \n",
      "3081  None  None  None  None  None  None  None  None  None  \n",
      "\n",
      "[3082 rows x 19 columns]\n"
     ]
    }
   ],
   "source": [
    "df_2019_keywords = df2019['Keywords'].str.split(';', expand=True)\n",
    "print(df_2019_keywords)"
   ]
  },
  {
   "cell_type": "code",
   "execution_count": 56,
   "metadata": {},
   "outputs": [
    {
     "name": "stdout",
     "output_type": "stream",
     "text": [
      "thailand                                  115\n",
      "hadron-hadron scattering (experiments)     35\n",
      "inflammation                               30\n",
      "cms                                        22\n",
      "hiv                                        21\n",
      "                                         ... \n",
      "chronic hepatitis b                         2\n",
      "coleoptera                                  2\n",
      "magnetic                                    2\n",
      "unionidae                                   2\n",
      "line flow analysis                          2\n",
      "Name: count, Length: 1286, dtype: int64\n"
     ]
    }
   ],
   "source": [
    "# df_2018_keywords.dropna(inplace=True)\n",
    "keywords_counts = df_2019_keywords.stack().str.strip()\n",
    "keywords_counts = keywords_counts.str.lower().value_counts()\n",
    "keywords_counts = keywords_counts[keywords_counts > 1]\n",
    "print(keywords_counts)"
   ]
  },
  {
   "cell_type": "code",
   "execution_count": 57,
   "metadata": {},
   "outputs": [
    {
     "name": "stdout",
     "output_type": "stream",
     "text": [
      "                                  Keywords  Count\n",
      "0                                 thailand    115\n",
      "1   hadron-hadron scattering (experiments)     35\n",
      "2                             inflammation     30\n",
      "3                                      cms     22\n",
      "4                                      hiv     21\n",
      "5                         oxidative stress     19\n",
      "6                         machine learning     18\n",
      "7                               adsorption     18\n",
      "8                          quality of life     17\n",
      "9                            deep learning     17\n",
      "11                            cytotoxicity     16\n",
      "10                                 physics     16\n",
      "12                   beyond standard model     15\n",
      "13                            epidemiology     15\n",
      "14                           meta-analysis     14\n",
      "15                            supply chain     14\n",
      "16                             antioxidant     13\n",
      "17                               apoptosis     13\n",
      "18                          natural rubber     13\n",
      "19                               cytokines     13\n",
      "20                              depression     13\n",
      "21                           schizophrenia     13\n",
      "22                          southeast asia     12\n",
      "23                                    asia     11\n",
      "25                                 obesity     11\n",
      "24                       systematic review     11\n"
     ]
    }
   ],
   "source": [
    "result = pd.DataFrame({\n",
    "    'Keywords': keywords_counts.index,\n",
    "    'Count': keywords_counts.values\n",
    "})\n",
    "\n",
    "# Sort the DataFrame by count in descending order\n",
    "keywords_counts_result = result.sort_values('Count', ascending=False)\n",
    "\n",
    "keywords_counts_result = keywords_counts_result[keywords_counts_result['Count'] > 10]\n",
    "print(keywords_counts_result)"
   ]
  },
  {
   "cell_type": "code",
   "execution_count": 58,
   "metadata": {},
   "outputs": [
    {
     "data": {
      "text/html": [
       "        <script type=\"text/javascript\">\n",
       "        window.PlotlyConfig = {MathJaxConfig: 'local'};\n",
       "        if (window.MathJax && window.MathJax.Hub && window.MathJax.Hub.Config) {window.MathJax.Hub.Config({SVG: {font: \"STIX-Web\"}});}\n",
       "        if (typeof require !== 'undefined') {\n",
       "        require.undef(\"plotly\");\n",
       "        requirejs.config({\n",
       "            paths: {\n",
       "                'plotly': ['https://cdn.plot.ly/plotly-2.35.2.min']\n",
       "            }\n",
       "        });\n",
       "        require(['plotly'], function(Plotly) {\n",
       "            window._Plotly = Plotly;\n",
       "        });\n",
       "        }\n",
       "        </script>\n",
       "        "
      ]
     },
     "metadata": {},
     "output_type": "display_data"
    },
    {
     "data": {
      "application/vnd.plotly.v1+json": {
       "config": {
        "linkText": "Export to plot.ly",
        "plotlyServerURL": "https://plot.ly",
        "showLink": true
       },
       "data": [
        {
         "marker": {
          "color": "rgba(255, 153, 51, 0.6)",
          "line": {
           "color": "rgba(255, 153, 51, 1.0)",
           "width": 1
          }
         },
         "name": "Count",
         "orientation": "v",
         "text": "",
         "type": "bar",
         "x": [
          "thailand",
          "hadron-hadron scattering (experiments)",
          "inflammation",
          "cms",
          "hiv",
          "oxidative stress",
          "machine learning",
          "adsorption",
          "quality of life",
          "deep learning",
          "cytotoxicity",
          "physics",
          "beyond standard model",
          "epidemiology",
          "meta-analysis",
          "supply chain",
          "antioxidant",
          "apoptosis",
          "natural rubber",
          "cytokines",
          "depression",
          "schizophrenia",
          "southeast asia",
          "asia",
          "obesity",
          "systematic review"
         ],
         "y": [
          115,
          35,
          30,
          22,
          21,
          19,
          18,
          18,
          17,
          17,
          16,
          16,
          15,
          15,
          14,
          14,
          13,
          13,
          13,
          13,
          13,
          13,
          12,
          11,
          11,
          11
         ]
        }
       ],
       "layout": {
        "legend": {
         "bgcolor": "#F5F6F9",
         "font": {
          "color": "#4D5663"
         }
        },
        "paper_bgcolor": "#F5F6F9",
        "plot_bgcolor": "#F5F6F9",
        "template": {
         "data": {
          "bar": [
           {
            "error_x": {
             "color": "#2a3f5f"
            },
            "error_y": {
             "color": "#2a3f5f"
            },
            "marker": {
             "line": {
              "color": "#E5ECF6",
              "width": 0.5
             },
             "pattern": {
              "fillmode": "overlay",
              "size": 10,
              "solidity": 0.2
             }
            },
            "type": "bar"
           }
          ],
          "barpolar": [
           {
            "marker": {
             "line": {
              "color": "#E5ECF6",
              "width": 0.5
             },
             "pattern": {
              "fillmode": "overlay",
              "size": 10,
              "solidity": 0.2
             }
            },
            "type": "barpolar"
           }
          ],
          "carpet": [
           {
            "aaxis": {
             "endlinecolor": "#2a3f5f",
             "gridcolor": "white",
             "linecolor": "white",
             "minorgridcolor": "white",
             "startlinecolor": "#2a3f5f"
            },
            "baxis": {
             "endlinecolor": "#2a3f5f",
             "gridcolor": "white",
             "linecolor": "white",
             "minorgridcolor": "white",
             "startlinecolor": "#2a3f5f"
            },
            "type": "carpet"
           }
          ],
          "choropleth": [
           {
            "colorbar": {
             "outlinewidth": 0,
             "ticks": ""
            },
            "type": "choropleth"
           }
          ],
          "contour": [
           {
            "colorbar": {
             "outlinewidth": 0,
             "ticks": ""
            },
            "colorscale": [
             [
              0,
              "#0d0887"
             ],
             [
              0.1111111111111111,
              "#46039f"
             ],
             [
              0.2222222222222222,
              "#7201a8"
             ],
             [
              0.3333333333333333,
              "#9c179e"
             ],
             [
              0.4444444444444444,
              "#bd3786"
             ],
             [
              0.5555555555555556,
              "#d8576b"
             ],
             [
              0.6666666666666666,
              "#ed7953"
             ],
             [
              0.7777777777777778,
              "#fb9f3a"
             ],
             [
              0.8888888888888888,
              "#fdca26"
             ],
             [
              1,
              "#f0f921"
             ]
            ],
            "type": "contour"
           }
          ],
          "contourcarpet": [
           {
            "colorbar": {
             "outlinewidth": 0,
             "ticks": ""
            },
            "type": "contourcarpet"
           }
          ],
          "heatmap": [
           {
            "colorbar": {
             "outlinewidth": 0,
             "ticks": ""
            },
            "colorscale": [
             [
              0,
              "#0d0887"
             ],
             [
              0.1111111111111111,
              "#46039f"
             ],
             [
              0.2222222222222222,
              "#7201a8"
             ],
             [
              0.3333333333333333,
              "#9c179e"
             ],
             [
              0.4444444444444444,
              "#bd3786"
             ],
             [
              0.5555555555555556,
              "#d8576b"
             ],
             [
              0.6666666666666666,
              "#ed7953"
             ],
             [
              0.7777777777777778,
              "#fb9f3a"
             ],
             [
              0.8888888888888888,
              "#fdca26"
             ],
             [
              1,
              "#f0f921"
             ]
            ],
            "type": "heatmap"
           }
          ],
          "heatmapgl": [
           {
            "colorbar": {
             "outlinewidth": 0,
             "ticks": ""
            },
            "colorscale": [
             [
              0,
              "#0d0887"
             ],
             [
              0.1111111111111111,
              "#46039f"
             ],
             [
              0.2222222222222222,
              "#7201a8"
             ],
             [
              0.3333333333333333,
              "#9c179e"
             ],
             [
              0.4444444444444444,
              "#bd3786"
             ],
             [
              0.5555555555555556,
              "#d8576b"
             ],
             [
              0.6666666666666666,
              "#ed7953"
             ],
             [
              0.7777777777777778,
              "#fb9f3a"
             ],
             [
              0.8888888888888888,
              "#fdca26"
             ],
             [
              1,
              "#f0f921"
             ]
            ],
            "type": "heatmapgl"
           }
          ],
          "histogram": [
           {
            "marker": {
             "pattern": {
              "fillmode": "overlay",
              "size": 10,
              "solidity": 0.2
             }
            },
            "type": "histogram"
           }
          ],
          "histogram2d": [
           {
            "colorbar": {
             "outlinewidth": 0,
             "ticks": ""
            },
            "colorscale": [
             [
              0,
              "#0d0887"
             ],
             [
              0.1111111111111111,
              "#46039f"
             ],
             [
              0.2222222222222222,
              "#7201a8"
             ],
             [
              0.3333333333333333,
              "#9c179e"
             ],
             [
              0.4444444444444444,
              "#bd3786"
             ],
             [
              0.5555555555555556,
              "#d8576b"
             ],
             [
              0.6666666666666666,
              "#ed7953"
             ],
             [
              0.7777777777777778,
              "#fb9f3a"
             ],
             [
              0.8888888888888888,
              "#fdca26"
             ],
             [
              1,
              "#f0f921"
             ]
            ],
            "type": "histogram2d"
           }
          ],
          "histogram2dcontour": [
           {
            "colorbar": {
             "outlinewidth": 0,
             "ticks": ""
            },
            "colorscale": [
             [
              0,
              "#0d0887"
             ],
             [
              0.1111111111111111,
              "#46039f"
             ],
             [
              0.2222222222222222,
              "#7201a8"
             ],
             [
              0.3333333333333333,
              "#9c179e"
             ],
             [
              0.4444444444444444,
              "#bd3786"
             ],
             [
              0.5555555555555556,
              "#d8576b"
             ],
             [
              0.6666666666666666,
              "#ed7953"
             ],
             [
              0.7777777777777778,
              "#fb9f3a"
             ],
             [
              0.8888888888888888,
              "#fdca26"
             ],
             [
              1,
              "#f0f921"
             ]
            ],
            "type": "histogram2dcontour"
           }
          ],
          "mesh3d": [
           {
            "colorbar": {
             "outlinewidth": 0,
             "ticks": ""
            },
            "type": "mesh3d"
           }
          ],
          "parcoords": [
           {
            "line": {
             "colorbar": {
              "outlinewidth": 0,
              "ticks": ""
             }
            },
            "type": "parcoords"
           }
          ],
          "pie": [
           {
            "automargin": true,
            "type": "pie"
           }
          ],
          "scatter": [
           {
            "fillpattern": {
             "fillmode": "overlay",
             "size": 10,
             "solidity": 0.2
            },
            "type": "scatter"
           }
          ],
          "scatter3d": [
           {
            "line": {
             "colorbar": {
              "outlinewidth": 0,
              "ticks": ""
             }
            },
            "marker": {
             "colorbar": {
              "outlinewidth": 0,
              "ticks": ""
             }
            },
            "type": "scatter3d"
           }
          ],
          "scattercarpet": [
           {
            "marker": {
             "colorbar": {
              "outlinewidth": 0,
              "ticks": ""
             }
            },
            "type": "scattercarpet"
           }
          ],
          "scattergeo": [
           {
            "marker": {
             "colorbar": {
              "outlinewidth": 0,
              "ticks": ""
             }
            },
            "type": "scattergeo"
           }
          ],
          "scattergl": [
           {
            "marker": {
             "colorbar": {
              "outlinewidth": 0,
              "ticks": ""
             }
            },
            "type": "scattergl"
           }
          ],
          "scattermapbox": [
           {
            "marker": {
             "colorbar": {
              "outlinewidth": 0,
              "ticks": ""
             }
            },
            "type": "scattermapbox"
           }
          ],
          "scatterpolar": [
           {
            "marker": {
             "colorbar": {
              "outlinewidth": 0,
              "ticks": ""
             }
            },
            "type": "scatterpolar"
           }
          ],
          "scatterpolargl": [
           {
            "marker": {
             "colorbar": {
              "outlinewidth": 0,
              "ticks": ""
             }
            },
            "type": "scatterpolargl"
           }
          ],
          "scatterternary": [
           {
            "marker": {
             "colorbar": {
              "outlinewidth": 0,
              "ticks": ""
             }
            },
            "type": "scatterternary"
           }
          ],
          "surface": [
           {
            "colorbar": {
             "outlinewidth": 0,
             "ticks": ""
            },
            "colorscale": [
             [
              0,
              "#0d0887"
             ],
             [
              0.1111111111111111,
              "#46039f"
             ],
             [
              0.2222222222222222,
              "#7201a8"
             ],
             [
              0.3333333333333333,
              "#9c179e"
             ],
             [
              0.4444444444444444,
              "#bd3786"
             ],
             [
              0.5555555555555556,
              "#d8576b"
             ],
             [
              0.6666666666666666,
              "#ed7953"
             ],
             [
              0.7777777777777778,
              "#fb9f3a"
             ],
             [
              0.8888888888888888,
              "#fdca26"
             ],
             [
              1,
              "#f0f921"
             ]
            ],
            "type": "surface"
           }
          ],
          "table": [
           {
            "cells": {
             "fill": {
              "color": "#EBF0F8"
             },
             "line": {
              "color": "white"
             }
            },
            "header": {
             "fill": {
              "color": "#C8D4E3"
             },
             "line": {
              "color": "white"
             }
            },
            "type": "table"
           }
          ]
         },
         "layout": {
          "annotationdefaults": {
           "arrowcolor": "#2a3f5f",
           "arrowhead": 0,
           "arrowwidth": 1
          },
          "autotypenumbers": "strict",
          "coloraxis": {
           "colorbar": {
            "outlinewidth": 0,
            "ticks": ""
           }
          },
          "colorscale": {
           "diverging": [
            [
             0,
             "#8e0152"
            ],
            [
             0.1,
             "#c51b7d"
            ],
            [
             0.2,
             "#de77ae"
            ],
            [
             0.3,
             "#f1b6da"
            ],
            [
             0.4,
             "#fde0ef"
            ],
            [
             0.5,
             "#f7f7f7"
            ],
            [
             0.6,
             "#e6f5d0"
            ],
            [
             0.7,
             "#b8e186"
            ],
            [
             0.8,
             "#7fbc41"
            ],
            [
             0.9,
             "#4d9221"
            ],
            [
             1,
             "#276419"
            ]
           ],
           "sequential": [
            [
             0,
             "#0d0887"
            ],
            [
             0.1111111111111111,
             "#46039f"
            ],
            [
             0.2222222222222222,
             "#7201a8"
            ],
            [
             0.3333333333333333,
             "#9c179e"
            ],
            [
             0.4444444444444444,
             "#bd3786"
            ],
            [
             0.5555555555555556,
             "#d8576b"
            ],
            [
             0.6666666666666666,
             "#ed7953"
            ],
            [
             0.7777777777777778,
             "#fb9f3a"
            ],
            [
             0.8888888888888888,
             "#fdca26"
            ],
            [
             1,
             "#f0f921"
            ]
           ],
           "sequentialminus": [
            [
             0,
             "#0d0887"
            ],
            [
             0.1111111111111111,
             "#46039f"
            ],
            [
             0.2222222222222222,
             "#7201a8"
            ],
            [
             0.3333333333333333,
             "#9c179e"
            ],
            [
             0.4444444444444444,
             "#bd3786"
            ],
            [
             0.5555555555555556,
             "#d8576b"
            ],
            [
             0.6666666666666666,
             "#ed7953"
            ],
            [
             0.7777777777777778,
             "#fb9f3a"
            ],
            [
             0.8888888888888888,
             "#fdca26"
            ],
            [
             1,
             "#f0f921"
            ]
           ]
          },
          "colorway": [
           "#636efa",
           "#EF553B",
           "#00cc96",
           "#ab63fa",
           "#FFA15A",
           "#19d3f3",
           "#FF6692",
           "#B6E880",
           "#FF97FF",
           "#FECB52"
          ],
          "font": {
           "color": "#2a3f5f"
          },
          "geo": {
           "bgcolor": "white",
           "lakecolor": "white",
           "landcolor": "#E5ECF6",
           "showlakes": true,
           "showland": true,
           "subunitcolor": "white"
          },
          "hoverlabel": {
           "align": "left"
          },
          "hovermode": "closest",
          "mapbox": {
           "style": "light"
          },
          "paper_bgcolor": "white",
          "plot_bgcolor": "#E5ECF6",
          "polar": {
           "angularaxis": {
            "gridcolor": "white",
            "linecolor": "white",
            "ticks": ""
           },
           "bgcolor": "#E5ECF6",
           "radialaxis": {
            "gridcolor": "white",
            "linecolor": "white",
            "ticks": ""
           }
          },
          "scene": {
           "xaxis": {
            "backgroundcolor": "#E5ECF6",
            "gridcolor": "white",
            "gridwidth": 2,
            "linecolor": "white",
            "showbackground": true,
            "ticks": "",
            "zerolinecolor": "white"
           },
           "yaxis": {
            "backgroundcolor": "#E5ECF6",
            "gridcolor": "white",
            "gridwidth": 2,
            "linecolor": "white",
            "showbackground": true,
            "ticks": "",
            "zerolinecolor": "white"
           },
           "zaxis": {
            "backgroundcolor": "#E5ECF6",
            "gridcolor": "white",
            "gridwidth": 2,
            "linecolor": "white",
            "showbackground": true,
            "ticks": "",
            "zerolinecolor": "white"
           }
          },
          "shapedefaults": {
           "line": {
            "color": "#2a3f5f"
           }
          },
          "ternary": {
           "aaxis": {
            "gridcolor": "white",
            "linecolor": "white",
            "ticks": ""
           },
           "baxis": {
            "gridcolor": "white",
            "linecolor": "white",
            "ticks": ""
           },
           "bgcolor": "#E5ECF6",
           "caxis": {
            "gridcolor": "white",
            "linecolor": "white",
            "ticks": ""
           }
          },
          "title": {
           "x": 0.05
          },
          "xaxis": {
           "automargin": true,
           "gridcolor": "white",
           "linecolor": "white",
           "ticks": "",
           "title": {
            "standoff": 15
           },
           "zerolinecolor": "white",
           "zerolinewidth": 2
          },
          "yaxis": {
           "automargin": true,
           "gridcolor": "white",
           "linecolor": "white",
           "ticks": "",
           "title": {
            "standoff": 15
           },
           "zerolinecolor": "white",
           "zerolinewidth": 2
          }
         }
        },
        "title": {
         "font": {
          "color": "#4D5663"
         },
         "text": "Keywords Counts in 2019"
        },
        "xaxis": {
         "gridcolor": "#E1E5ED",
         "showgrid": true,
         "tickfont": {
          "color": "#4D5663"
         },
         "title": {
          "font": {
           "color": "#4D5663"
          },
          "text": "Keywords"
         },
         "zerolinecolor": "#E1E5ED"
        },
        "yaxis": {
         "gridcolor": "#E1E5ED",
         "showgrid": true,
         "tickfont": {
          "color": "#4D5663"
         },
         "title": {
          "font": {
           "color": "#4D5663"
          },
          "text": "Count"
         },
         "zerolinecolor": "#E1E5ED"
        }
       }
      },
      "text/html": [
       "<div>                            <div id=\"3dcdd8bd-5bbb-47d3-a2b8-49619dbfcf13\" class=\"plotly-graph-div\" style=\"height:525px; width:100%;\"></div>            <script type=\"text/javascript\">                require([\"plotly\"], function(Plotly) {                    window.PLOTLYENV=window.PLOTLYENV || {};\n",
       "                    window.PLOTLYENV.BASE_URL='https://plot.ly';                                    if (document.getElementById(\"3dcdd8bd-5bbb-47d3-a2b8-49619dbfcf13\")) {                    Plotly.newPlot(                        \"3dcdd8bd-5bbb-47d3-a2b8-49619dbfcf13\",                        [{\"marker\":{\"color\":\"rgba(255, 153, 51, 0.6)\",\"line\":{\"color\":\"rgba(255, 153, 51, 1.0)\",\"width\":1}},\"name\":\"Count\",\"orientation\":\"v\",\"text\":\"\",\"x\":[\"thailand\",\"hadron-hadron scattering (experiments)\",\"inflammation\",\"cms\",\"hiv\",\"oxidative stress\",\"machine learning\",\"adsorption\",\"quality of life\",\"deep learning\",\"cytotoxicity\",\"physics\",\"beyond standard model\",\"epidemiology\",\"meta-analysis\",\"supply chain\",\"antioxidant\",\"apoptosis\",\"natural rubber\",\"cytokines\",\"depression\",\"schizophrenia\",\"southeast asia\",\"asia\",\"obesity\",\"systematic review\"],\"y\":[115,35,30,22,21,19,18,18,17,17,16,16,15,15,14,14,13,13,13,13,13,13,12,11,11,11],\"type\":\"bar\"}],                        {\"legend\":{\"bgcolor\":\"#F5F6F9\",\"font\":{\"color\":\"#4D5663\"}},\"paper_bgcolor\":\"#F5F6F9\",\"plot_bgcolor\":\"#F5F6F9\",\"template\":{\"data\":{\"barpolar\":[{\"marker\":{\"line\":{\"color\":\"#E5ECF6\",\"width\":0.5},\"pattern\":{\"fillmode\":\"overlay\",\"size\":10,\"solidity\":0.2}},\"type\":\"barpolar\"}],\"bar\":[{\"error_x\":{\"color\":\"#2a3f5f\"},\"error_y\":{\"color\":\"#2a3f5f\"},\"marker\":{\"line\":{\"color\":\"#E5ECF6\",\"width\":0.5},\"pattern\":{\"fillmode\":\"overlay\",\"size\":10,\"solidity\":0.2}},\"type\":\"bar\"}],\"carpet\":[{\"aaxis\":{\"endlinecolor\":\"#2a3f5f\",\"gridcolor\":\"white\",\"linecolor\":\"white\",\"minorgridcolor\":\"white\",\"startlinecolor\":\"#2a3f5f\"},\"baxis\":{\"endlinecolor\":\"#2a3f5f\",\"gridcolor\":\"white\",\"linecolor\":\"white\",\"minorgridcolor\":\"white\",\"startlinecolor\":\"#2a3f5f\"},\"type\":\"carpet\"}],\"choropleth\":[{\"colorbar\":{\"outlinewidth\":0,\"ticks\":\"\"},\"type\":\"choropleth\"}],\"contourcarpet\":[{\"colorbar\":{\"outlinewidth\":0,\"ticks\":\"\"},\"type\":\"contourcarpet\"}],\"contour\":[{\"colorbar\":{\"outlinewidth\":0,\"ticks\":\"\"},\"colorscale\":[[0.0,\"#0d0887\"],[0.1111111111111111,\"#46039f\"],[0.2222222222222222,\"#7201a8\"],[0.3333333333333333,\"#9c179e\"],[0.4444444444444444,\"#bd3786\"],[0.5555555555555556,\"#d8576b\"],[0.6666666666666666,\"#ed7953\"],[0.7777777777777778,\"#fb9f3a\"],[0.8888888888888888,\"#fdca26\"],[1.0,\"#f0f921\"]],\"type\":\"contour\"}],\"heatmapgl\":[{\"colorbar\":{\"outlinewidth\":0,\"ticks\":\"\"},\"colorscale\":[[0.0,\"#0d0887\"],[0.1111111111111111,\"#46039f\"],[0.2222222222222222,\"#7201a8\"],[0.3333333333333333,\"#9c179e\"],[0.4444444444444444,\"#bd3786\"],[0.5555555555555556,\"#d8576b\"],[0.6666666666666666,\"#ed7953\"],[0.7777777777777778,\"#fb9f3a\"],[0.8888888888888888,\"#fdca26\"],[1.0,\"#f0f921\"]],\"type\":\"heatmapgl\"}],\"heatmap\":[{\"colorbar\":{\"outlinewidth\":0,\"ticks\":\"\"},\"colorscale\":[[0.0,\"#0d0887\"],[0.1111111111111111,\"#46039f\"],[0.2222222222222222,\"#7201a8\"],[0.3333333333333333,\"#9c179e\"],[0.4444444444444444,\"#bd3786\"],[0.5555555555555556,\"#d8576b\"],[0.6666666666666666,\"#ed7953\"],[0.7777777777777778,\"#fb9f3a\"],[0.8888888888888888,\"#fdca26\"],[1.0,\"#f0f921\"]],\"type\":\"heatmap\"}],\"histogram2dcontour\":[{\"colorbar\":{\"outlinewidth\":0,\"ticks\":\"\"},\"colorscale\":[[0.0,\"#0d0887\"],[0.1111111111111111,\"#46039f\"],[0.2222222222222222,\"#7201a8\"],[0.3333333333333333,\"#9c179e\"],[0.4444444444444444,\"#bd3786\"],[0.5555555555555556,\"#d8576b\"],[0.6666666666666666,\"#ed7953\"],[0.7777777777777778,\"#fb9f3a\"],[0.8888888888888888,\"#fdca26\"],[1.0,\"#f0f921\"]],\"type\":\"histogram2dcontour\"}],\"histogram2d\":[{\"colorbar\":{\"outlinewidth\":0,\"ticks\":\"\"},\"colorscale\":[[0.0,\"#0d0887\"],[0.1111111111111111,\"#46039f\"],[0.2222222222222222,\"#7201a8\"],[0.3333333333333333,\"#9c179e\"],[0.4444444444444444,\"#bd3786\"],[0.5555555555555556,\"#d8576b\"],[0.6666666666666666,\"#ed7953\"],[0.7777777777777778,\"#fb9f3a\"],[0.8888888888888888,\"#fdca26\"],[1.0,\"#f0f921\"]],\"type\":\"histogram2d\"}],\"histogram\":[{\"marker\":{\"pattern\":{\"fillmode\":\"overlay\",\"size\":10,\"solidity\":0.2}},\"type\":\"histogram\"}],\"mesh3d\":[{\"colorbar\":{\"outlinewidth\":0,\"ticks\":\"\"},\"type\":\"mesh3d\"}],\"parcoords\":[{\"line\":{\"colorbar\":{\"outlinewidth\":0,\"ticks\":\"\"}},\"type\":\"parcoords\"}],\"pie\":[{\"automargin\":true,\"type\":\"pie\"}],\"scatter3d\":[{\"line\":{\"colorbar\":{\"outlinewidth\":0,\"ticks\":\"\"}},\"marker\":{\"colorbar\":{\"outlinewidth\":0,\"ticks\":\"\"}},\"type\":\"scatter3d\"}],\"scattercarpet\":[{\"marker\":{\"colorbar\":{\"outlinewidth\":0,\"ticks\":\"\"}},\"type\":\"scattercarpet\"}],\"scattergeo\":[{\"marker\":{\"colorbar\":{\"outlinewidth\":0,\"ticks\":\"\"}},\"type\":\"scattergeo\"}],\"scattergl\":[{\"marker\":{\"colorbar\":{\"outlinewidth\":0,\"ticks\":\"\"}},\"type\":\"scattergl\"}],\"scattermapbox\":[{\"marker\":{\"colorbar\":{\"outlinewidth\":0,\"ticks\":\"\"}},\"type\":\"scattermapbox\"}],\"scatterpolargl\":[{\"marker\":{\"colorbar\":{\"outlinewidth\":0,\"ticks\":\"\"}},\"type\":\"scatterpolargl\"}],\"scatterpolar\":[{\"marker\":{\"colorbar\":{\"outlinewidth\":0,\"ticks\":\"\"}},\"type\":\"scatterpolar\"}],\"scatter\":[{\"fillpattern\":{\"fillmode\":\"overlay\",\"size\":10,\"solidity\":0.2},\"type\":\"scatter\"}],\"scatterternary\":[{\"marker\":{\"colorbar\":{\"outlinewidth\":0,\"ticks\":\"\"}},\"type\":\"scatterternary\"}],\"surface\":[{\"colorbar\":{\"outlinewidth\":0,\"ticks\":\"\"},\"colorscale\":[[0.0,\"#0d0887\"],[0.1111111111111111,\"#46039f\"],[0.2222222222222222,\"#7201a8\"],[0.3333333333333333,\"#9c179e\"],[0.4444444444444444,\"#bd3786\"],[0.5555555555555556,\"#d8576b\"],[0.6666666666666666,\"#ed7953\"],[0.7777777777777778,\"#fb9f3a\"],[0.8888888888888888,\"#fdca26\"],[1.0,\"#f0f921\"]],\"type\":\"surface\"}],\"table\":[{\"cells\":{\"fill\":{\"color\":\"#EBF0F8\"},\"line\":{\"color\":\"white\"}},\"header\":{\"fill\":{\"color\":\"#C8D4E3\"},\"line\":{\"color\":\"white\"}},\"type\":\"table\"}]},\"layout\":{\"annotationdefaults\":{\"arrowcolor\":\"#2a3f5f\",\"arrowhead\":0,\"arrowwidth\":1},\"autotypenumbers\":\"strict\",\"coloraxis\":{\"colorbar\":{\"outlinewidth\":0,\"ticks\":\"\"}},\"colorscale\":{\"diverging\":[[0,\"#8e0152\"],[0.1,\"#c51b7d\"],[0.2,\"#de77ae\"],[0.3,\"#f1b6da\"],[0.4,\"#fde0ef\"],[0.5,\"#f7f7f7\"],[0.6,\"#e6f5d0\"],[0.7,\"#b8e186\"],[0.8,\"#7fbc41\"],[0.9,\"#4d9221\"],[1,\"#276419\"]],\"sequential\":[[0.0,\"#0d0887\"],[0.1111111111111111,\"#46039f\"],[0.2222222222222222,\"#7201a8\"],[0.3333333333333333,\"#9c179e\"],[0.4444444444444444,\"#bd3786\"],[0.5555555555555556,\"#d8576b\"],[0.6666666666666666,\"#ed7953\"],[0.7777777777777778,\"#fb9f3a\"],[0.8888888888888888,\"#fdca26\"],[1.0,\"#f0f921\"]],\"sequentialminus\":[[0.0,\"#0d0887\"],[0.1111111111111111,\"#46039f\"],[0.2222222222222222,\"#7201a8\"],[0.3333333333333333,\"#9c179e\"],[0.4444444444444444,\"#bd3786\"],[0.5555555555555556,\"#d8576b\"],[0.6666666666666666,\"#ed7953\"],[0.7777777777777778,\"#fb9f3a\"],[0.8888888888888888,\"#fdca26\"],[1.0,\"#f0f921\"]]},\"colorway\":[\"#636efa\",\"#EF553B\",\"#00cc96\",\"#ab63fa\",\"#FFA15A\",\"#19d3f3\",\"#FF6692\",\"#B6E880\",\"#FF97FF\",\"#FECB52\"],\"font\":{\"color\":\"#2a3f5f\"},\"geo\":{\"bgcolor\":\"white\",\"lakecolor\":\"white\",\"landcolor\":\"#E5ECF6\",\"showlakes\":true,\"showland\":true,\"subunitcolor\":\"white\"},\"hoverlabel\":{\"align\":\"left\"},\"hovermode\":\"closest\",\"mapbox\":{\"style\":\"light\"},\"paper_bgcolor\":\"white\",\"plot_bgcolor\":\"#E5ECF6\",\"polar\":{\"angularaxis\":{\"gridcolor\":\"white\",\"linecolor\":\"white\",\"ticks\":\"\"},\"bgcolor\":\"#E5ECF6\",\"radialaxis\":{\"gridcolor\":\"white\",\"linecolor\":\"white\",\"ticks\":\"\"}},\"scene\":{\"xaxis\":{\"backgroundcolor\":\"#E5ECF6\",\"gridcolor\":\"white\",\"gridwidth\":2,\"linecolor\":\"white\",\"showbackground\":true,\"ticks\":\"\",\"zerolinecolor\":\"white\"},\"yaxis\":{\"backgroundcolor\":\"#E5ECF6\",\"gridcolor\":\"white\",\"gridwidth\":2,\"linecolor\":\"white\",\"showbackground\":true,\"ticks\":\"\",\"zerolinecolor\":\"white\"},\"zaxis\":{\"backgroundcolor\":\"#E5ECF6\",\"gridcolor\":\"white\",\"gridwidth\":2,\"linecolor\":\"white\",\"showbackground\":true,\"ticks\":\"\",\"zerolinecolor\":\"white\"}},\"shapedefaults\":{\"line\":{\"color\":\"#2a3f5f\"}},\"ternary\":{\"aaxis\":{\"gridcolor\":\"white\",\"linecolor\":\"white\",\"ticks\":\"\"},\"baxis\":{\"gridcolor\":\"white\",\"linecolor\":\"white\",\"ticks\":\"\"},\"bgcolor\":\"#E5ECF6\",\"caxis\":{\"gridcolor\":\"white\",\"linecolor\":\"white\",\"ticks\":\"\"}},\"title\":{\"x\":0.05},\"xaxis\":{\"automargin\":true,\"gridcolor\":\"white\",\"linecolor\":\"white\",\"ticks\":\"\",\"title\":{\"standoff\":15},\"zerolinecolor\":\"white\",\"zerolinewidth\":2},\"yaxis\":{\"automargin\":true,\"gridcolor\":\"white\",\"linecolor\":\"white\",\"ticks\":\"\",\"title\":{\"standoff\":15},\"zerolinecolor\":\"white\",\"zerolinewidth\":2}}},\"title\":{\"font\":{\"color\":\"#4D5663\"},\"text\":\"Keywords Counts in 2019\"},\"xaxis\":{\"gridcolor\":\"#E1E5ED\",\"showgrid\":true,\"tickfont\":{\"color\":\"#4D5663\"},\"title\":{\"font\":{\"color\":\"#4D5663\"},\"text\":\"Keywords\"},\"zerolinecolor\":\"#E1E5ED\"},\"yaxis\":{\"gridcolor\":\"#E1E5ED\",\"showgrid\":true,\"tickfont\":{\"color\":\"#4D5663\"},\"title\":{\"font\":{\"color\":\"#4D5663\"},\"text\":\"Count\"},\"zerolinecolor\":\"#E1E5ED\"}},                        {\"showLink\": true, \"linkText\": \"Export to plot.ly\", \"plotlyServerURL\": \"https://plot.ly\", \"responsive\": true}                    ).then(function(){\n",
       "                            \n",
       "var gd = document.getElementById('3dcdd8bd-5bbb-47d3-a2b8-49619dbfcf13');\n",
       "var x = new MutationObserver(function (mutations, observer) {{\n",
       "        var display = window.getComputedStyle(gd).display;\n",
       "        if (!display || display === 'none') {{\n",
       "            console.log([gd, 'removed!']);\n",
       "            Plotly.purge(gd);\n",
       "            observer.disconnect();\n",
       "        }}\n",
       "}});\n",
       "\n",
       "// Listen for the removal of the full notebook cells\n",
       "var notebookContainer = gd.closest('#notebook-container');\n",
       "if (notebookContainer) {{\n",
       "    x.observe(notebookContainer, {childList: true});\n",
       "}}\n",
       "\n",
       "// Listen for the clearing of the current output cell\n",
       "var outputEl = gd.closest('.output');\n",
       "if (outputEl) {{\n",
       "    x.observe(outputEl, {childList: true});\n",
       "}}\n",
       "\n",
       "                        })                };                });            </script>        </div>"
      ]
     },
     "metadata": {},
     "output_type": "display_data"
    }
   ],
   "source": [
    "import cufflinks as cf\n",
    "cf.go_offline()\n",
    "cf.set_config_file(offline=False, world_readable=True)\n",
    "\n",
    "keywords_counts_result.iplot(kind='bar', x='Keywords', y='Count', xTitle='Keywords', yTitle='Count', title='Keywords Counts in 2019')\n"
   ]
  },
  {
   "cell_type": "code",
   "execution_count": 60,
   "metadata": {},
   "outputs": [],
   "source": [
    "keywords_counts_result.rename(columns={'Count': '2019_Count'}, inplace=True)\n",
    "keywords_counts_result.to_csv('ExtractedData/2019_keywords_counts.csv', index=False)"
   ]
  }
 ],
 "metadata": {
  "kernelspec": {
   "display_name": "base",
   "language": "python",
   "name": "python3"
  },
  "language_info": {
   "codemirror_mode": {
    "name": "ipython",
    "version": 3
   },
   "file_extension": ".py",
   "mimetype": "text/x-python",
   "name": "python",
   "nbconvert_exporter": "python",
   "pygments_lexer": "ipython3",
   "version": "3.11.5"
  }
 },
 "nbformat": 4,
 "nbformat_minor": 2
}
