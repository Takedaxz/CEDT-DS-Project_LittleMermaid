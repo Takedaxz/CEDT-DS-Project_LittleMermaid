{
 "cells": [
  {
   "cell_type": "code",
   "execution_count": 3,
   "metadata": {},
   "outputs": [],
   "source": [
    "import numpy as np\n",
    "import pandas as pd"
   ]
  },
  {
   "cell_type": "code",
   "execution_count": 4,
   "metadata": {},
   "outputs": [],
   "source": [
    "df2018 = pd.read_csv('ExtractedData/2018.csv')"
   ]
  },
  {
   "cell_type": "code",
   "execution_count": 5,
   "metadata": {},
   "outputs": [
    {
     "data": {
      "text/html": [
       "<div>\n",
       "<style scoped>\n",
       "    .dataframe tbody tr th:only-of-type {\n",
       "        vertical-align: middle;\n",
       "    }\n",
       "\n",
       "    .dataframe tbody tr th {\n",
       "        vertical-align: top;\n",
       "    }\n",
       "\n",
       "    .dataframe thead th {\n",
       "        text-align: right;\n",
       "    }\n",
       "</style>\n",
       "<table border=\"1\" class=\"dataframe\">\n",
       "  <thead>\n",
       "    <tr style=\"text-align: right;\">\n",
       "      <th></th>\n",
       "      <th>Title</th>\n",
       "      <th>Abstract</th>\n",
       "      <th>Author</th>\n",
       "      <th>Subject_Area</th>\n",
       "      <th>Publication_Date</th>\n",
       "      <th>Affiliations_ID</th>\n",
       "      <th>References</th>\n",
       "      <th>Keywords</th>\n",
       "      <th>Filename</th>\n",
       "    </tr>\n",
       "  </thead>\n",
       "  <tbody>\n",
       "    <tr>\n",
       "      <th>0</th>\n",
       "      <td>Public health and international epidemiology f...</td>\n",
       "      <td>NaN</td>\n",
       "      <td>Pongpirul K.; Lungren M.P.</td>\n",
       "      <td>2700</td>\n",
       "      <td>2018-12-31</td>\n",
       "      <td>60020543; 60012708; 60006183; 60028190; 600156...</td>\n",
       "      <td>The untilled fields of public health; Committe...</td>\n",
       "      <td>NaN</td>\n",
       "      <td>201800000</td>\n",
       "    </tr>\n",
       "    <tr>\n",
       "      <th>1</th>\n",
       "      <td>Flexible Printed Active Antenna for Digital Te...</td>\n",
       "      <td>© 2018 The Institute of Electronics, Informati...</td>\n",
       "      <td>Pratumsiri T.; Janpugdee P.</td>\n",
       "      <td>2208; 2504</td>\n",
       "      <td>2018-12-31</td>\n",
       "      <td>60028190</td>\n",
       "      <td>Development of built-in low-profile antenna fo...</td>\n",
       "      <td>NaN</td>\n",
       "      <td>201800001</td>\n",
       "    </tr>\n",
       "    <tr>\n",
       "      <th>2</th>\n",
       "      <td>Parametric study of hydrogen production via so...</td>\n",
       "      <td>© 2018 Elsevier LtdComputational fluid dynamic...</td>\n",
       "      <td>Phuakpunk K.; Chalermsinsuwan B.; Putivisutisa...</td>\n",
       "      <td>1600; 1500; 2209</td>\n",
       "      <td>2018-12-31</td>\n",
       "      <td>60028190</td>\n",
       "      <td>Capture of CO2from combustion gases in a fluid...</td>\n",
       "      <td>Circulating fluidized bed; Computational fluid...</td>\n",
       "      <td>201800002</td>\n",
       "    </tr>\n",
       "    <tr>\n",
       "      <th>3</th>\n",
       "      <td>Superhydrophobic coating from fluoroalkylsilan...</td>\n",
       "      <td>© 2018 Elsevier B.V. A superhydrophobic/supero...</td>\n",
       "      <td>Saengkaew J.; Le D.; Samart C.; Sawada H.; Nis...</td>\n",
       "      <td>1600; 3104; 3100; 3110; 2508</td>\n",
       "      <td>2018-12-31</td>\n",
       "      <td>109168253; 60033085; 60009417; 112649034; 6002...</td>\n",
       "      <td>Ceramic membrane performance in microfiltratio...</td>\n",
       "      <td>Encapsulation; Fluoroalkylsilane; Natural rubb...</td>\n",
       "      <td>201800003</td>\n",
       "    </tr>\n",
       "    <tr>\n",
       "      <th>4</th>\n",
       "      <td>Electrochemical impedance-based DNA sensor usi...</td>\n",
       "      <td>© 2018 Elsevier B.V. A label-free electrochemi...</td>\n",
       "      <td>Teengam P.; Siangproh W.; Tuantranont A.; Vila...</td>\n",
       "      <td>1602; 1303; 2304; 1607</td>\n",
       "      <td>2018-12-31</td>\n",
       "      <td>60009226; 60011525; 60000316; 60028190</td>\n",
       "      <td>The diagnosis and misdiagnosis of tuberculosis...</td>\n",
       "      <td>acpcPNA; Electrochemical impedance spectroscop...</td>\n",
       "      <td>201800004</td>\n",
       "    </tr>\n",
       "  </tbody>\n",
       "</table>\n",
       "</div>"
      ],
      "text/plain": [
       "                                               Title  \\\n",
       "0  Public health and international epidemiology f...   \n",
       "1  Flexible Printed Active Antenna for Digital Te...   \n",
       "2  Parametric study of hydrogen production via so...   \n",
       "3  Superhydrophobic coating from fluoroalkylsilan...   \n",
       "4  Electrochemical impedance-based DNA sensor usi...   \n",
       "\n",
       "                                            Abstract  \\\n",
       "0                                                NaN   \n",
       "1  © 2018 The Institute of Electronics, Informati...   \n",
       "2  © 2018 Elsevier LtdComputational fluid dynamic...   \n",
       "3  © 2018 Elsevier B.V. A superhydrophobic/supero...   \n",
       "4  © 2018 Elsevier B.V. A label-free electrochemi...   \n",
       "\n",
       "                                              Author  \\\n",
       "0                         Pongpirul K.; Lungren M.P.   \n",
       "1                        Pratumsiri T.; Janpugdee P.   \n",
       "2  Phuakpunk K.; Chalermsinsuwan B.; Putivisutisa...   \n",
       "3  Saengkaew J.; Le D.; Samart C.; Sawada H.; Nis...   \n",
       "4  Teengam P.; Siangproh W.; Tuantranont A.; Vila...   \n",
       "\n",
       "                   Subject_Area Publication_Date  \\\n",
       "0                          2700       2018-12-31   \n",
       "1                    2208; 2504       2018-12-31   \n",
       "2              1600; 1500; 2209       2018-12-31   \n",
       "3  1600; 3104; 3100; 3110; 2508       2018-12-31   \n",
       "4        1602; 1303; 2304; 1607       2018-12-31   \n",
       "\n",
       "                                     Affiliations_ID  \\\n",
       "0  60020543; 60012708; 60006183; 60028190; 600156...   \n",
       "1                                           60028190   \n",
       "2                                           60028190   \n",
       "3  109168253; 60033085; 60009417; 112649034; 6002...   \n",
       "4             60009226; 60011525; 60000316; 60028190   \n",
       "\n",
       "                                          References  \\\n",
       "0  The untilled fields of public health; Committe...   \n",
       "1  Development of built-in low-profile antenna fo...   \n",
       "2  Capture of CO2from combustion gases in a fluid...   \n",
       "3  Ceramic membrane performance in microfiltratio...   \n",
       "4  The diagnosis and misdiagnosis of tuberculosis...   \n",
       "\n",
       "                                            Keywords   Filename  \n",
       "0                                                NaN  201800000  \n",
       "1                                                NaN  201800001  \n",
       "2  Circulating fluidized bed; Computational fluid...  201800002  \n",
       "3  Encapsulation; Fluoroalkylsilane; Natural rubb...  201800003  \n",
       "4  acpcPNA; Electrochemical impedance spectroscop...  201800004  "
      ]
     },
     "execution_count": 5,
     "metadata": {},
     "output_type": "execute_result"
    }
   ],
   "source": [
    "df2018.head()"
   ]
  },
  {
   "cell_type": "code",
   "execution_count": 6,
   "metadata": {},
   "outputs": [],
   "source": [
    "df2018['Publication_Date']=pd.to_datetime(df2018['Publication_Date'])"
   ]
  },
  {
   "cell_type": "code",
   "execution_count": 7,
   "metadata": {},
   "outputs": [
    {
     "name": "stdout",
     "output_type": "stream",
     "text": [
      "         0      1      2      3      4     5     6     7\n",
      "0     2700   None   None   None   None  None  None  None\n",
      "1     2208   2504   None   None   None  None  None  None\n",
      "2     1600   1500   2209   None   None  None  None  None\n",
      "3     1600   3104   3100   3110   2508  None  None  None\n",
      "4     1602   1303   2304   1607   None  None  None  None\n",
      "...    ...    ...    ...    ...    ...   ...   ...   ...\n",
      "2787  2745   None   None   None   None  None  None  None\n",
      "2788  2311   2211   None   None   None  None  None  None\n",
      "2789  3202   2739   None   None   None  None  None  None\n",
      "2790  2305   1909   1111   None   None  None  None  None\n",
      "2791  3300   None   None   None   None  None  None  None\n",
      "\n",
      "[2792 rows x 8 columns]\n"
     ]
    }
   ],
   "source": [
    "# Get the number of rows and columns in the dataset \n",
    "df_2018_subject_areas = df2018['Subject_Area'].str.split(';', expand=True)\n",
    "print(df_2018_subject_areas)"
   ]
  },
  {
   "cell_type": "code",
   "execution_count": 8,
   "metadata": {},
   "outputs": [
    {
     "name": "stdout",
     "output_type": "stream",
     "text": [
      "2500    169\n",
      "1600    137\n",
      "3106    115\n",
      "1500    110\n",
      "2739    101\n",
      "       ... \n",
      "1800      1\n",
      "1201      1\n",
      "1804      1\n",
      "2914      1\n",
      "3206      1\n",
      "Name: count, Length: 293, dtype: int64\n"
     ]
    }
   ],
   "source": [
    "# Get the number of rows and columns\n",
    "subject_area_counts = df_2018_subject_areas.stack().str.strip().value_counts()\n",
    "print(subject_area_counts)"
   ]
  },
  {
   "cell_type": "code",
   "execution_count": 9,
   "metadata": {},
   "outputs": [
    {
     "name": "stdout",
     "output_type": "stream",
     "text": [
      "    Subject_Area  Count\n",
      "0           2500    169\n",
      "1           1600    137\n",
      "2           3106    115\n",
      "3           1500    110\n",
      "4           2739    101\n",
      "..           ...    ...\n",
      "277         2216      1\n",
      "276         2903      1\n",
      "275         1913      1\n",
      "274         2911      1\n",
      "292         3206      1\n",
      "\n",
      "[293 rows x 2 columns]\n"
     ]
    }
   ],
   "source": [
    "# Create a DataFrame from the value counts\n",
    "result = pd.DataFrame({\n",
    "    'Subject_Area': subject_area_counts.index,\n",
    "    'Count': subject_area_counts.values\n",
    "})\n",
    "\n",
    "# Sort the DataFrame by count in descending order\n",
    "subject_area_counts_result = result.sort_values('Count', ascending=False)\n",
    "\n",
    "print(subject_area_counts_result)"
   ]
  },
  {
   "cell_type": "code",
   "execution_count": 10,
   "metadata": {},
   "outputs": [
    {
     "data": {
      "text/plain": [
       "(115, 9)"
      ]
     },
     "execution_count": 10,
     "metadata": {},
     "output_type": "execute_result"
    }
   ],
   "source": [
    "df2018_with_subject_area_3106=df2018[df2018['Subject_Area'].str.contains('3106', na=False)]\n",
    "df2018_with_subject_area_3106.shape"
   ]
  },
  {
   "cell_type": "code",
   "execution_count": 11,
   "metadata": {},
   "outputs": [
    {
     "data": {
      "text/html": [
       "<div>\n",
       "<style scoped>\n",
       "    .dataframe tbody tr th:only-of-type {\n",
       "        vertical-align: middle;\n",
       "    }\n",
       "\n",
       "    .dataframe tbody tr th {\n",
       "        vertical-align: top;\n",
       "    }\n",
       "\n",
       "    .dataframe thead th {\n",
       "        text-align: right;\n",
       "    }\n",
       "</style>\n",
       "<table border=\"1\" class=\"dataframe\">\n",
       "  <thead>\n",
       "    <tr style=\"text-align: right;\">\n",
       "      <th></th>\n",
       "      <th>Title</th>\n",
       "      <th>Abstract</th>\n",
       "      <th>Author</th>\n",
       "      <th>Subject_Area</th>\n",
       "      <th>Publication_Date</th>\n",
       "      <th>Affiliations_ID</th>\n",
       "      <th>References</th>\n",
       "      <th>Keywords</th>\n",
       "      <th>Filename</th>\n",
       "    </tr>\n",
       "  </thead>\n",
       "  <tbody>\n",
       "    <tr>\n",
       "      <th>110</th>\n",
       "      <td>Angular analysis of the decay B+ →k+μ+μ- in pr...</td>\n",
       "      <td>© 2018 CERN.The angular distribution of the fl...</td>\n",
       "      <td>Sirunyan A.M.; Tumasyan A.; Adam W.; Ambrogi F...</td>\n",
       "      <td>3106</td>\n",
       "      <td>2018-12-01</td>\n",
       "      <td>60009254; 60014966; 60023578; 60013959; 600219...</td>\n",
       "      <td>Angular distributions of (Equation presented) ...</td>\n",
       "      <td>NaN</td>\n",
       "      <td>201800110</td>\n",
       "    </tr>\n",
       "    <tr>\n",
       "      <th>111</th>\n",
       "      <td>Search for pair-produced resonances decaying t...</td>\n",
       "      <td>© 2018 CERN.A general search for the pair prod...</td>\n",
       "      <td>Sirunyan A.M.; Tumasyan A.; Adam W.; Ambrogi F...</td>\n",
       "      <td>3106</td>\n",
       "      <td>2018-12-01</td>\n",
       "      <td>60009254; 60023578; 60021910; 60013959; 600235...</td>\n",
       "      <td>Colored resonances at the Tevatron: Phenomenol...</td>\n",
       "      <td>NaN</td>\n",
       "      <td>201800111</td>\n",
       "    </tr>\n",
       "    <tr>\n",
       "      <th>118</th>\n",
       "      <td>Event shape variables measured using multijet ...</td>\n",
       "      <td>© 2018, The Author(s).The study of global even...</td>\n",
       "      <td>Sirunyan A.M.; Tumasyan A.; Adam W.; Ambrogi F...</td>\n",
       "      <td>3106</td>\n",
       "      <td>2018-12-01</td>\n",
       "      <td>60009254; 60014966; 60023578; 60013959; 600219...</td>\n",
       "      <td>Resummed event shapes at hadron-hadron collide...</td>\n",
       "      <td>Hadron-Hadron scattering (experiments); Jet ph...</td>\n",
       "      <td>201800118</td>\n",
       "    </tr>\n",
       "    <tr>\n",
       "      <th>119</th>\n",
       "      <td>A nonrelativistic limit for AdS perturbations</td>\n",
       "      <td>© 2018, The Author(s).The familiar c → ∞ nonre...</td>\n",
       "      <td>Bizoń P.; Evnin O.; Ficek F.</td>\n",
       "      <td>3106</td>\n",
       "      <td>2018-12-01</td>\n",
       "      <td>60070009; 60021361; 60028190</td>\n",
       "      <td>On weakly turbulent instability of anti-de Sit...</td>\n",
       "      <td>AdS-CFT Correspondence; Classical Theories of ...</td>\n",
       "      <td>201800119</td>\n",
       "    </tr>\n",
       "    <tr>\n",
       "      <th>306</th>\n",
       "      <td>Metal Artifact Reduction by Mapping MR into CT...</td>\n",
       "      <td>© 2018 IEEE.One of the fundamental noise in Co...</td>\n",
       "      <td>Shevaruangroj T.; Auethavekiat S.; Sa-Ing V.</td>\n",
       "      <td>2741; 3106</td>\n",
       "      <td>2018-11-01</td>\n",
       "      <td>60023366; 60028190</td>\n",
       "      <td>Medical image registration using mutual inform...</td>\n",
       "      <td>NaN</td>\n",
       "      <td>201800306</td>\n",
       "    </tr>\n",
       "  </tbody>\n",
       "</table>\n",
       "</div>"
      ],
      "text/plain": [
       "                                                 Title  \\\n",
       "110  Angular analysis of the decay B+ →k+μ+μ- in pr...   \n",
       "111  Search for pair-produced resonances decaying t...   \n",
       "118  Event shape variables measured using multijet ...   \n",
       "119      A nonrelativistic limit for AdS perturbations   \n",
       "306  Metal Artifact Reduction by Mapping MR into CT...   \n",
       "\n",
       "                                              Abstract  \\\n",
       "110  © 2018 CERN.The angular distribution of the fl...   \n",
       "111  © 2018 CERN.A general search for the pair prod...   \n",
       "118  © 2018, The Author(s).The study of global even...   \n",
       "119  © 2018, The Author(s).The familiar c → ∞ nonre...   \n",
       "306  © 2018 IEEE.One of the fundamental noise in Co...   \n",
       "\n",
       "                                                Author Subject_Area  \\\n",
       "110  Sirunyan A.M.; Tumasyan A.; Adam W.; Ambrogi F...         3106   \n",
       "111  Sirunyan A.M.; Tumasyan A.; Adam W.; Ambrogi F...         3106   \n",
       "118  Sirunyan A.M.; Tumasyan A.; Adam W.; Ambrogi F...         3106   \n",
       "119                       Bizoń P.; Evnin O.; Ficek F.         3106   \n",
       "306       Shevaruangroj T.; Auethavekiat S.; Sa-Ing V.   2741; 3106   \n",
       "\n",
       "    Publication_Date                                    Affiliations_ID  \\\n",
       "110       2018-12-01  60009254; 60014966; 60023578; 60013959; 600219...   \n",
       "111       2018-12-01  60009254; 60023578; 60021910; 60013959; 600235...   \n",
       "118       2018-12-01  60009254; 60014966; 60023578; 60013959; 600219...   \n",
       "119       2018-12-01                       60070009; 60021361; 60028190   \n",
       "306       2018-11-01                                 60023366; 60028190   \n",
       "\n",
       "                                            References  \\\n",
       "110  Angular distributions of (Equation presented) ...   \n",
       "111  Colored resonances at the Tevatron: Phenomenol...   \n",
       "118  Resummed event shapes at hadron-hadron collide...   \n",
       "119  On weakly turbulent instability of anti-de Sit...   \n",
       "306  Medical image registration using mutual inform...   \n",
       "\n",
       "                                              Keywords   Filename  \n",
       "110                                                NaN  201800110  \n",
       "111                                                NaN  201800111  \n",
       "118  Hadron-Hadron scattering (experiments); Jet ph...  201800118  \n",
       "119  AdS-CFT Correspondence; Classical Theories of ...  201800119  \n",
       "306                                                NaN  201800306  "
      ]
     },
     "execution_count": 11,
     "metadata": {},
     "output_type": "execute_result"
    }
   ],
   "source": [
    "df2018_with_subject_area_3106.head()"
   ]
  },
  {
   "cell_type": "code",
   "execution_count": 12,
   "metadata": {},
   "outputs": [
    {
     "data": {
      "text/html": [
       "<div>\n",
       "<style scoped>\n",
       "    .dataframe tbody tr th:only-of-type {\n",
       "        vertical-align: middle;\n",
       "    }\n",
       "\n",
       "    .dataframe tbody tr th {\n",
       "        vertical-align: top;\n",
       "    }\n",
       "\n",
       "    .dataframe thead th {\n",
       "        text-align: right;\n",
       "    }\n",
       "</style>\n",
       "<table border=\"1\" class=\"dataframe\">\n",
       "  <thead>\n",
       "    <tr style=\"text-align: right;\">\n",
       "      <th></th>\n",
       "      <th>Title</th>\n",
       "      <th>Abstract</th>\n",
       "      <th>Author</th>\n",
       "      <th>Subject_Area</th>\n",
       "      <th>Publication_Date</th>\n",
       "      <th>Affiliations_ID</th>\n",
       "      <th>References</th>\n",
       "      <th>Keywords</th>\n",
       "      <th>Filename</th>\n",
       "    </tr>\n",
       "  </thead>\n",
       "  <tbody>\n",
       "    <tr>\n",
       "      <th>2684</th>\n",
       "      <td>Search for resonant and nonresonant Higgs boso...</td>\n",
       "      <td>© 2018, The Author(s).Searches for resonant an...</td>\n",
       "      <td>Sirunyan A.M.; Tumasyan A.; Adam W.; Ambrogi F...</td>\n",
       "      <td>3106</td>\n",
       "      <td>2018-01-01</td>\n",
       "      <td>60009254; 60023578; 60021910; 60013959; 601044...</td>\n",
       "      <td>Broken symmetry and the mass of gauge vector m...</td>\n",
       "      <td>Hadron-Hadron scattering (experiments); Higgs ...</td>\n",
       "      <td>201802684</td>\n",
       "    </tr>\n",
       "    <tr>\n",
       "      <th>2200</th>\n",
       "      <td>Search for the flavor-changing neutral current...</td>\n",
       "      <td>© 2018, Springer Verlag. All rights reserved.A...</td>\n",
       "      <td>Sirunyan A.M.; Tumasyan A.; Adam W.; Ambrogi F...</td>\n",
       "      <td>3106</td>\n",
       "      <td>2018-01-01</td>\n",
       "      <td>60009254; 60014966; 60023578; 60013959; 600219...</td>\n",
       "      <td>Observation of a new particle in the search fo...</td>\n",
       "      <td>FCNC Interaction; Hadron-Hadron scattering (ex...</td>\n",
       "      <td>201802200</td>\n",
       "    </tr>\n",
       "    <tr>\n",
       "      <th>2496</th>\n",
       "      <td>Search for tth production in the all-jet final...</td>\n",
       "      <td>© 2018, Springer Verlag. All rights reserved.A...</td>\n",
       "      <td>Sirunyan A.M.; Tumasyan A.; Adam W.; Ambrogi F...</td>\n",
       "      <td>3106</td>\n",
       "      <td>2018-01-01</td>\n",
       "      <td>60009254; 60014966; 60023578; 60013959; 600219...</td>\n",
       "      <td>Observation of a new particle in the search fo...</td>\n",
       "      <td>Hadron-Hadron scattering (experiments); Higgs ...</td>\n",
       "      <td>201802496</td>\n",
       "    </tr>\n",
       "    <tr>\n",
       "      <th>2523</th>\n",
       "      <td>Combination of inclusive and differential tt¯ ...</td>\n",
       "      <td>© CERN, for the benefit of the ATLAS-CMS Colla...</td>\n",
       "      <td>Sirunyan A.M.; Tumasyan A.; Adam W.; Ambrogi F...</td>\n",
       "      <td>3106</td>\n",
       "      <td>2018-01-01</td>\n",
       "      <td>60011666; 60023578; 60021910; 60013959; 601044...</td>\n",
       "      <td>Measurement of the top quark forward-backward ...</td>\n",
       "      <td>Hadron-Hadron scattering (experiments); Top ph...</td>\n",
       "      <td>201802523</td>\n",
       "    </tr>\n",
       "    <tr>\n",
       "      <th>2682</th>\n",
       "      <td>Pseudorapidity distributions of charged hadron...</td>\n",
       "      <td>© 2018, The Author(s).The pseudorapidity distr...</td>\n",
       "      <td>Sirunyan A.M.; Tumasyan A.; Adam W.; Ambrogi F...</td>\n",
       "      <td>3106</td>\n",
       "      <td>2018-01-01</td>\n",
       "      <td>60009254; 60014966; 60023578; 60013959; 600219...</td>\n",
       "      <td>Review of experimental data on hadron-nucleus ...</td>\n",
       "      <td>Hadron-Hadron scattering (experiments); Heavy-...</td>\n",
       "      <td>201802682</td>\n",
       "    </tr>\n",
       "    <tr>\n",
       "      <th>...</th>\n",
       "      <td>...</td>\n",
       "      <td>...</td>\n",
       "      <td>...</td>\n",
       "      <td>...</td>\n",
       "      <td>...</td>\n",
       "      <td>...</td>\n",
       "      <td>...</td>\n",
       "      <td>...</td>\n",
       "      <td>...</td>\n",
       "    </tr>\n",
       "    <tr>\n",
       "      <th>340</th>\n",
       "      <td>Search for supersymmetry in events with a τ le...</td>\n",
       "      <td>© 2018, The Author(s).A search for the electro...</td>\n",
       "      <td>Sirunyan A.M.; Tumasyan A.; Adam W.; Ambrogi F...</td>\n",
       "      <td>3106</td>\n",
       "      <td>2018-11-01</td>\n",
       "      <td>60009254; 60014966; 60023578; 60013959; 600219...</td>\n",
       "      <td>Dual Theory for Free Fermions; Extension of th...</td>\n",
       "      <td>Hadron-Hadron scattering (experiments); Supers...</td>\n",
       "      <td>201800340</td>\n",
       "    </tr>\n",
       "    <tr>\n",
       "      <th>119</th>\n",
       "      <td>A nonrelativistic limit for AdS perturbations</td>\n",
       "      <td>© 2018, The Author(s).The familiar c → ∞ nonre...</td>\n",
       "      <td>Bizoń P.; Evnin O.; Ficek F.</td>\n",
       "      <td>3106</td>\n",
       "      <td>2018-12-01</td>\n",
       "      <td>60070009; 60021361; 60028190</td>\n",
       "      <td>On weakly turbulent instability of anti-de Sit...</td>\n",
       "      <td>AdS-CFT Correspondence; Classical Theories of ...</td>\n",
       "      <td>201800119</td>\n",
       "    </tr>\n",
       "    <tr>\n",
       "      <th>118</th>\n",
       "      <td>Event shape variables measured using multijet ...</td>\n",
       "      <td>© 2018, The Author(s).The study of global even...</td>\n",
       "      <td>Sirunyan A.M.; Tumasyan A.; Adam W.; Ambrogi F...</td>\n",
       "      <td>3106</td>\n",
       "      <td>2018-12-01</td>\n",
       "      <td>60009254; 60014966; 60023578; 60013959; 600219...</td>\n",
       "      <td>Resummed event shapes at hadron-hadron collide...</td>\n",
       "      <td>Hadron-Hadron scattering (experiments); Jet ph...</td>\n",
       "      <td>201800118</td>\n",
       "    </tr>\n",
       "    <tr>\n",
       "      <th>111</th>\n",
       "      <td>Search for pair-produced resonances decaying t...</td>\n",
       "      <td>© 2018 CERN.A general search for the pair prod...</td>\n",
       "      <td>Sirunyan A.M.; Tumasyan A.; Adam W.; Ambrogi F...</td>\n",
       "      <td>3106</td>\n",
       "      <td>2018-12-01</td>\n",
       "      <td>60009254; 60023578; 60021910; 60013959; 600235...</td>\n",
       "      <td>Colored resonances at the Tevatron: Phenomenol...</td>\n",
       "      <td>NaN</td>\n",
       "      <td>201800111</td>\n",
       "    </tr>\n",
       "    <tr>\n",
       "      <th>110</th>\n",
       "      <td>Angular analysis of the decay B+ →k+μ+μ- in pr...</td>\n",
       "      <td>© 2018 CERN.The angular distribution of the fl...</td>\n",
       "      <td>Sirunyan A.M.; Tumasyan A.; Adam W.; Ambrogi F...</td>\n",
       "      <td>3106</td>\n",
       "      <td>2018-12-01</td>\n",
       "      <td>60009254; 60014966; 60023578; 60013959; 600219...</td>\n",
       "      <td>Angular distributions of (Equation presented) ...</td>\n",
       "      <td>NaN</td>\n",
       "      <td>201800110</td>\n",
       "    </tr>\n",
       "  </tbody>\n",
       "</table>\n",
       "<p>115 rows × 9 columns</p>\n",
       "</div>"
      ],
      "text/plain": [
       "                                                  Title  \\\n",
       "2684  Search for resonant and nonresonant Higgs boso...   \n",
       "2200  Search for the flavor-changing neutral current...   \n",
       "2496  Search for tth production in the all-jet final...   \n",
       "2523  Combination of inclusive and differential tt¯ ...   \n",
       "2682  Pseudorapidity distributions of charged hadron...   \n",
       "...                                                 ...   \n",
       "340   Search for supersymmetry in events with a τ le...   \n",
       "119       A nonrelativistic limit for AdS perturbations   \n",
       "118   Event shape variables measured using multijet ...   \n",
       "111   Search for pair-produced resonances decaying t...   \n",
       "110   Angular analysis of the decay B+ →k+μ+μ- in pr...   \n",
       "\n",
       "                                               Abstract  \\\n",
       "2684  © 2018, The Author(s).Searches for resonant an...   \n",
       "2200  © 2018, Springer Verlag. All rights reserved.A...   \n",
       "2496  © 2018, Springer Verlag. All rights reserved.A...   \n",
       "2523  © CERN, for the benefit of the ATLAS-CMS Colla...   \n",
       "2682  © 2018, The Author(s).The pseudorapidity distr...   \n",
       "...                                                 ...   \n",
       "340   © 2018, The Author(s).A search for the electro...   \n",
       "119   © 2018, The Author(s).The familiar c → ∞ nonre...   \n",
       "118   © 2018, The Author(s).The study of global even...   \n",
       "111   © 2018 CERN.A general search for the pair prod...   \n",
       "110   © 2018 CERN.The angular distribution of the fl...   \n",
       "\n",
       "                                                 Author Subject_Area  \\\n",
       "2684  Sirunyan A.M.; Tumasyan A.; Adam W.; Ambrogi F...         3106   \n",
       "2200  Sirunyan A.M.; Tumasyan A.; Adam W.; Ambrogi F...         3106   \n",
       "2496  Sirunyan A.M.; Tumasyan A.; Adam W.; Ambrogi F...         3106   \n",
       "2523  Sirunyan A.M.; Tumasyan A.; Adam W.; Ambrogi F...         3106   \n",
       "2682  Sirunyan A.M.; Tumasyan A.; Adam W.; Ambrogi F...         3106   \n",
       "...                                                 ...          ...   \n",
       "340   Sirunyan A.M.; Tumasyan A.; Adam W.; Ambrogi F...         3106   \n",
       "119                        Bizoń P.; Evnin O.; Ficek F.         3106   \n",
       "118   Sirunyan A.M.; Tumasyan A.; Adam W.; Ambrogi F...         3106   \n",
       "111   Sirunyan A.M.; Tumasyan A.; Adam W.; Ambrogi F...         3106   \n",
       "110   Sirunyan A.M.; Tumasyan A.; Adam W.; Ambrogi F...         3106   \n",
       "\n",
       "     Publication_Date                                    Affiliations_ID  \\\n",
       "2684       2018-01-01  60009254; 60023578; 60021910; 60013959; 601044...   \n",
       "2200       2018-01-01  60009254; 60014966; 60023578; 60013959; 600219...   \n",
       "2496       2018-01-01  60009254; 60014966; 60023578; 60013959; 600219...   \n",
       "2523       2018-01-01  60011666; 60023578; 60021910; 60013959; 601044...   \n",
       "2682       2018-01-01  60009254; 60014966; 60023578; 60013959; 600219...   \n",
       "...               ...                                                ...   \n",
       "340        2018-11-01  60009254; 60014966; 60023578; 60013959; 600219...   \n",
       "119        2018-12-01                       60070009; 60021361; 60028190   \n",
       "118        2018-12-01  60009254; 60014966; 60023578; 60013959; 600219...   \n",
       "111        2018-12-01  60009254; 60023578; 60021910; 60013959; 600235...   \n",
       "110        2018-12-01  60009254; 60014966; 60023578; 60013959; 600219...   \n",
       "\n",
       "                                             References  \\\n",
       "2684  Broken symmetry and the mass of gauge vector m...   \n",
       "2200  Observation of a new particle in the search fo...   \n",
       "2496  Observation of a new particle in the search fo...   \n",
       "2523  Measurement of the top quark forward-backward ...   \n",
       "2682  Review of experimental data on hadron-nucleus ...   \n",
       "...                                                 ...   \n",
       "340   Dual Theory for Free Fermions; Extension of th...   \n",
       "119   On weakly turbulent instability of anti-de Sit...   \n",
       "118   Resummed event shapes at hadron-hadron collide...   \n",
       "111   Colored resonances at the Tevatron: Phenomenol...   \n",
       "110   Angular distributions of (Equation presented) ...   \n",
       "\n",
       "                                               Keywords   Filename  \n",
       "2684  Hadron-Hadron scattering (experiments); Higgs ...  201802684  \n",
       "2200  FCNC Interaction; Hadron-Hadron scattering (ex...  201802200  \n",
       "2496  Hadron-Hadron scattering (experiments); Higgs ...  201802496  \n",
       "2523  Hadron-Hadron scattering (experiments); Top ph...  201802523  \n",
       "2682  Hadron-Hadron scattering (experiments); Heavy-...  201802682  \n",
       "...                                                 ...        ...  \n",
       "340   Hadron-Hadron scattering (experiments); Supers...  201800340  \n",
       "119   AdS-CFT Correspondence; Classical Theories of ...  201800119  \n",
       "118   Hadron-Hadron scattering (experiments); Jet ph...  201800118  \n",
       "111                                                 NaN  201800111  \n",
       "110                                                 NaN  201800110  \n",
       "\n",
       "[115 rows x 9 columns]"
      ]
     },
     "execution_count": 12,
     "metadata": {},
     "output_type": "execute_result"
    }
   ],
   "source": [
    "df2018_with_subject_area_3106.sort_values('Publication_Date', ascending=True)"
   ]
  },
  {
   "cell_type": "code",
   "execution_count": 13,
   "metadata": {},
   "outputs": [
    {
     "name": "stdout",
     "output_type": "stream",
     "text": [
      "                             0                                        1   \\\n",
      "0                           NaN                                      NaN   \n",
      "1                           NaN                                      NaN   \n",
      "2     Circulating fluidized bed             Computational fluid dynamics   \n",
      "3                 Encapsulation                        Fluoroalkylsilane   \n",
      "4                       acpcPNA   Electrochemical impedance spectroscopy   \n",
      "...                         ...                                      ...   \n",
      "2787               angiogenesis                                cytokines   \n",
      "2788       Alkali pre-treatment                      Anaerobic digestion   \n",
      "2789                   Bullying               Cognitive appraisal theory   \n",
      "2790             Finite element                          General loading   \n",
      "2791                        NaN                                      NaN   \n",
      "\n",
      "                               2   \\\n",
      "0                             NaN   \n",
      "1                             NaN   \n",
      "2          Multiphase flow models   \n",
      "3                  Natural rubber   \n",
      "4      Mycobacterium tuberculosis   \n",
      "...                           ...   \n",
      "2787               osteoarthritis   \n",
      "2788     Biodiesel waste glycerin   \n",
      "2789                       Coping   \n",
      "2790           Numerical analysis   \n",
      "2791                          NaN   \n",
      "\n",
      "                                                     3   \\\n",
      "0                                                   NaN   \n",
      "1                                                   NaN   \n",
      "2                                                 Riser   \n",
      "3      Oil/water separation superhydrophobic/superol...   \n",
      "4             Paper-based electrochemical DNA biosensor   \n",
      "...                                                 ...   \n",
      "2787                         real-time quantitative PCR   \n",
      "2788                                       Co-digestion   \n",
      "2789                                               None   \n",
      "2790                                       Plane strain   \n",
      "2791                                                NaN   \n",
      "\n",
      "                                              4     5     6     7     8   \\\n",
      "0                                            NaN   NaN   NaN   NaN   NaN   \n",
      "1                                            NaN   NaN   NaN   NaN   NaN   \n",
      "2      Sorption enhanced steam methane reforming  None  None  None  None   \n",
      "3                                           None  None  None  None  None   \n",
      "4                                           None  None  None  None  None   \n",
      "...                                          ...   ...   ...   ...   ...   \n",
      "2787                             telomere length  None  None  None  None   \n",
      "2788                                       OPEFB  None  None  None  None   \n",
      "2789                                        None  None  None  None  None   \n",
      "2790                               Strip footing  None  None  None  None   \n",
      "2791                                         NaN   NaN   NaN   NaN   NaN   \n",
      "\n",
      "        9     10    11    12    13    14    15    16  \n",
      "0      NaN   NaN   NaN   NaN   NaN   NaN   NaN   NaN  \n",
      "1      NaN   NaN   NaN   NaN   NaN   NaN   NaN   NaN  \n",
      "2     None  None  None  None  None  None  None  None  \n",
      "3     None  None  None  None  None  None  None  None  \n",
      "4     None  None  None  None  None  None  None  None  \n",
      "...    ...   ...   ...   ...   ...   ...   ...   ...  \n",
      "2787  None  None  None  None  None  None  None  None  \n",
      "2788  None  None  None  None  None  None  None  None  \n",
      "2789  None  None  None  None  None  None  None  None  \n",
      "2790  None  None  None  None  None  None  None  None  \n",
      "2791   NaN   NaN   NaN   NaN   NaN   NaN   NaN   NaN  \n",
      "\n",
      "[2792 rows x 17 columns]\n"
     ]
    }
   ],
   "source": [
    "df_2018_keywords = df2018['Keywords'].str.split(';', expand=True)\n",
    "print(df_2018_keywords)"
   ]
  },
  {
   "cell_type": "code",
   "execution_count": 14,
   "metadata": {},
   "outputs": [
    {
     "name": "stdout",
     "output_type": "stream",
     "text": [
      "thailand                                  108\n",
      "hadron-hadron scattering (experiments)     58\n",
      "inflammation                               29\n",
      "cms                                        27\n",
      "physics                                    25\n",
      "                                         ... \n",
      "bacteremia                                  2\n",
      "paediatric dentistry                        2\n",
      "text similarity                             2\n",
      "crystallization                             2\n",
      "mangrove sediment                           2\n",
      "Name: count, Length: 1135, dtype: int64\n"
     ]
    }
   ],
   "source": [
    "# df_2018_keywords.dropna(inplace=True)\n",
    "keywords_counts = df_2018_keywords.stack().str.strip()\n",
    "keywords_counts = keywords_counts.str.lower().value_counts()\n",
    "keywords_counts = keywords_counts[keywords_counts > 1]\n",
    "print(keywords_counts)"
   ]
  },
  {
   "cell_type": "code",
   "execution_count": 15,
   "metadata": {},
   "outputs": [
    {
     "name": "stdout",
     "output_type": "stream",
     "text": [
      "                                  Keywords  Count\n",
      "0                                 thailand    108\n",
      "1   hadron-hadron scattering (experiments)     58\n",
      "2                             inflammation     29\n",
      "3                                      cms     27\n",
      "4                                  physics     25\n",
      "5                    beyond standard model     22\n",
      "6                               depression     21\n",
      "7                                      hiv     20\n",
      "9                            meta-analysis     17\n",
      "8                             cytotoxicity     17\n",
      "10                               cytokines     15\n",
      "11                                children     15\n",
      "12                                 myanmar     15\n",
      "13                                chitosan     14\n",
      "14                           higgs physics     14\n",
      "15                                     dog     14\n",
      "16                        oxidative stress     14\n",
      "17                                  immune     13\n",
      "18                           supersymmetry     13\n",
      "20                              adsorption     12\n",
      "19                         quality of life     12\n",
      "22                         penaeus monodon     11\n",
      "23                       poly(lactic acid)     11\n",
      "24                                 elderly     11\n",
      "25                               apoptosis     11\n",
      "21                                    asia     11\n"
     ]
    }
   ],
   "source": [
    "result = pd.DataFrame({\n",
    "    'Keywords': keywords_counts.index,\n",
    "    'Count': keywords_counts.values\n",
    "})\n",
    "\n",
    "# Sort the DataFrame by count in descending order\n",
    "keywords_counts_result = result.sort_values('Count', ascending=False)\n",
    "\n",
    "keywords_counts_result = keywords_counts_result[keywords_counts_result['Count'] > 10]\n",
    "print(keywords_counts_result)"
   ]
  },
  {
   "cell_type": "code",
   "execution_count": 16,
   "metadata": {},
   "outputs": [
    {
     "data": {
      "text/html": [
       "        <script type=\"text/javascript\">\n",
       "        window.PlotlyConfig = {MathJaxConfig: 'local'};\n",
       "        if (window.MathJax && window.MathJax.Hub && window.MathJax.Hub.Config) {window.MathJax.Hub.Config({SVG: {font: \"STIX-Web\"}});}\n",
       "        if (typeof require !== 'undefined') {\n",
       "        require.undef(\"plotly\");\n",
       "        requirejs.config({\n",
       "            paths: {\n",
       "                'plotly': ['https://cdn.plot.ly/plotly-2.35.2.min']\n",
       "            }\n",
       "        });\n",
       "        require(['plotly'], function(Plotly) {\n",
       "            window._Plotly = Plotly;\n",
       "        });\n",
       "        }\n",
       "        </script>\n",
       "        "
      ]
     },
     "metadata": {},
     "output_type": "display_data"
    },
    {
     "data": {
      "application/vnd.plotly.v1+json": {
       "config": {
        "linkText": "Export to plot.ly",
        "plotlyServerURL": "https://plot.ly",
        "showLink": true
       },
       "data": [
        {
         "marker": {
          "color": "rgba(255, 153, 51, 0.6)",
          "line": {
           "color": "rgba(255, 153, 51, 1.0)",
           "width": 1
          }
         },
         "name": "Count",
         "orientation": "v",
         "text": "",
         "type": "bar",
         "x": [
          "thailand",
          "hadron-hadron scattering (experiments)",
          "inflammation",
          "cms",
          "physics",
          "beyond standard model",
          "depression",
          "hiv",
          "meta-analysis",
          "cytotoxicity",
          "cytokines",
          "children",
          "myanmar",
          "chitosan",
          "higgs physics",
          "dog",
          "oxidative stress",
          "immune",
          "supersymmetry",
          "adsorption",
          "quality of life",
          "penaeus monodon",
          "poly(lactic acid)",
          "elderly",
          "apoptosis",
          "asia"
         ],
         "y": [
          108,
          58,
          29,
          27,
          25,
          22,
          21,
          20,
          17,
          17,
          15,
          15,
          15,
          14,
          14,
          14,
          14,
          13,
          13,
          12,
          12,
          11,
          11,
          11,
          11,
          11
         ]
        }
       ],
       "layout": {
        "legend": {
         "bgcolor": "#F5F6F9",
         "font": {
          "color": "#4D5663"
         }
        },
        "paper_bgcolor": "#F5F6F9",
        "plot_bgcolor": "#F5F6F9",
        "template": {
         "data": {
          "bar": [
           {
            "error_x": {
             "color": "#2a3f5f"
            },
            "error_y": {
             "color": "#2a3f5f"
            },
            "marker": {
             "line": {
              "color": "#E5ECF6",
              "width": 0.5
             },
             "pattern": {
              "fillmode": "overlay",
              "size": 10,
              "solidity": 0.2
             }
            },
            "type": "bar"
           }
          ],
          "barpolar": [
           {
            "marker": {
             "line": {
              "color": "#E5ECF6",
              "width": 0.5
             },
             "pattern": {
              "fillmode": "overlay",
              "size": 10,
              "solidity": 0.2
             }
            },
            "type": "barpolar"
           }
          ],
          "carpet": [
           {
            "aaxis": {
             "endlinecolor": "#2a3f5f",
             "gridcolor": "white",
             "linecolor": "white",
             "minorgridcolor": "white",
             "startlinecolor": "#2a3f5f"
            },
            "baxis": {
             "endlinecolor": "#2a3f5f",
             "gridcolor": "white",
             "linecolor": "white",
             "minorgridcolor": "white",
             "startlinecolor": "#2a3f5f"
            },
            "type": "carpet"
           }
          ],
          "choropleth": [
           {
            "colorbar": {
             "outlinewidth": 0,
             "ticks": ""
            },
            "type": "choropleth"
           }
          ],
          "contour": [
           {
            "colorbar": {
             "outlinewidth": 0,
             "ticks": ""
            },
            "colorscale": [
             [
              0,
              "#0d0887"
             ],
             [
              0.1111111111111111,
              "#46039f"
             ],
             [
              0.2222222222222222,
              "#7201a8"
             ],
             [
              0.3333333333333333,
              "#9c179e"
             ],
             [
              0.4444444444444444,
              "#bd3786"
             ],
             [
              0.5555555555555556,
              "#d8576b"
             ],
             [
              0.6666666666666666,
              "#ed7953"
             ],
             [
              0.7777777777777778,
              "#fb9f3a"
             ],
             [
              0.8888888888888888,
              "#fdca26"
             ],
             [
              1,
              "#f0f921"
             ]
            ],
            "type": "contour"
           }
          ],
          "contourcarpet": [
           {
            "colorbar": {
             "outlinewidth": 0,
             "ticks": ""
            },
            "type": "contourcarpet"
           }
          ],
          "heatmap": [
           {
            "colorbar": {
             "outlinewidth": 0,
             "ticks": ""
            },
            "colorscale": [
             [
              0,
              "#0d0887"
             ],
             [
              0.1111111111111111,
              "#46039f"
             ],
             [
              0.2222222222222222,
              "#7201a8"
             ],
             [
              0.3333333333333333,
              "#9c179e"
             ],
             [
              0.4444444444444444,
              "#bd3786"
             ],
             [
              0.5555555555555556,
              "#d8576b"
             ],
             [
              0.6666666666666666,
              "#ed7953"
             ],
             [
              0.7777777777777778,
              "#fb9f3a"
             ],
             [
              0.8888888888888888,
              "#fdca26"
             ],
             [
              1,
              "#f0f921"
             ]
            ],
            "type": "heatmap"
           }
          ],
          "heatmapgl": [
           {
            "colorbar": {
             "outlinewidth": 0,
             "ticks": ""
            },
            "colorscale": [
             [
              0,
              "#0d0887"
             ],
             [
              0.1111111111111111,
              "#46039f"
             ],
             [
              0.2222222222222222,
              "#7201a8"
             ],
             [
              0.3333333333333333,
              "#9c179e"
             ],
             [
              0.4444444444444444,
              "#bd3786"
             ],
             [
              0.5555555555555556,
              "#d8576b"
             ],
             [
              0.6666666666666666,
              "#ed7953"
             ],
             [
              0.7777777777777778,
              "#fb9f3a"
             ],
             [
              0.8888888888888888,
              "#fdca26"
             ],
             [
              1,
              "#f0f921"
             ]
            ],
            "type": "heatmapgl"
           }
          ],
          "histogram": [
           {
            "marker": {
             "pattern": {
              "fillmode": "overlay",
              "size": 10,
              "solidity": 0.2
             }
            },
            "type": "histogram"
           }
          ],
          "histogram2d": [
           {
            "colorbar": {
             "outlinewidth": 0,
             "ticks": ""
            },
            "colorscale": [
             [
              0,
              "#0d0887"
             ],
             [
              0.1111111111111111,
              "#46039f"
             ],
             [
              0.2222222222222222,
              "#7201a8"
             ],
             [
              0.3333333333333333,
              "#9c179e"
             ],
             [
              0.4444444444444444,
              "#bd3786"
             ],
             [
              0.5555555555555556,
              "#d8576b"
             ],
             [
              0.6666666666666666,
              "#ed7953"
             ],
             [
              0.7777777777777778,
              "#fb9f3a"
             ],
             [
              0.8888888888888888,
              "#fdca26"
             ],
             [
              1,
              "#f0f921"
             ]
            ],
            "type": "histogram2d"
           }
          ],
          "histogram2dcontour": [
           {
            "colorbar": {
             "outlinewidth": 0,
             "ticks": ""
            },
            "colorscale": [
             [
              0,
              "#0d0887"
             ],
             [
              0.1111111111111111,
              "#46039f"
             ],
             [
              0.2222222222222222,
              "#7201a8"
             ],
             [
              0.3333333333333333,
              "#9c179e"
             ],
             [
              0.4444444444444444,
              "#bd3786"
             ],
             [
              0.5555555555555556,
              "#d8576b"
             ],
             [
              0.6666666666666666,
              "#ed7953"
             ],
             [
              0.7777777777777778,
              "#fb9f3a"
             ],
             [
              0.8888888888888888,
              "#fdca26"
             ],
             [
              1,
              "#f0f921"
             ]
            ],
            "type": "histogram2dcontour"
           }
          ],
          "mesh3d": [
           {
            "colorbar": {
             "outlinewidth": 0,
             "ticks": ""
            },
            "type": "mesh3d"
           }
          ],
          "parcoords": [
           {
            "line": {
             "colorbar": {
              "outlinewidth": 0,
              "ticks": ""
             }
            },
            "type": "parcoords"
           }
          ],
          "pie": [
           {
            "automargin": true,
            "type": "pie"
           }
          ],
          "scatter": [
           {
            "fillpattern": {
             "fillmode": "overlay",
             "size": 10,
             "solidity": 0.2
            },
            "type": "scatter"
           }
          ],
          "scatter3d": [
           {
            "line": {
             "colorbar": {
              "outlinewidth": 0,
              "ticks": ""
             }
            },
            "marker": {
             "colorbar": {
              "outlinewidth": 0,
              "ticks": ""
             }
            },
            "type": "scatter3d"
           }
          ],
          "scattercarpet": [
           {
            "marker": {
             "colorbar": {
              "outlinewidth": 0,
              "ticks": ""
             }
            },
            "type": "scattercarpet"
           }
          ],
          "scattergeo": [
           {
            "marker": {
             "colorbar": {
              "outlinewidth": 0,
              "ticks": ""
             }
            },
            "type": "scattergeo"
           }
          ],
          "scattergl": [
           {
            "marker": {
             "colorbar": {
              "outlinewidth": 0,
              "ticks": ""
             }
            },
            "type": "scattergl"
           }
          ],
          "scattermapbox": [
           {
            "marker": {
             "colorbar": {
              "outlinewidth": 0,
              "ticks": ""
             }
            },
            "type": "scattermapbox"
           }
          ],
          "scatterpolar": [
           {
            "marker": {
             "colorbar": {
              "outlinewidth": 0,
              "ticks": ""
             }
            },
            "type": "scatterpolar"
           }
          ],
          "scatterpolargl": [
           {
            "marker": {
             "colorbar": {
              "outlinewidth": 0,
              "ticks": ""
             }
            },
            "type": "scatterpolargl"
           }
          ],
          "scatterternary": [
           {
            "marker": {
             "colorbar": {
              "outlinewidth": 0,
              "ticks": ""
             }
            },
            "type": "scatterternary"
           }
          ],
          "surface": [
           {
            "colorbar": {
             "outlinewidth": 0,
             "ticks": ""
            },
            "colorscale": [
             [
              0,
              "#0d0887"
             ],
             [
              0.1111111111111111,
              "#46039f"
             ],
             [
              0.2222222222222222,
              "#7201a8"
             ],
             [
              0.3333333333333333,
              "#9c179e"
             ],
             [
              0.4444444444444444,
              "#bd3786"
             ],
             [
              0.5555555555555556,
              "#d8576b"
             ],
             [
              0.6666666666666666,
              "#ed7953"
             ],
             [
              0.7777777777777778,
              "#fb9f3a"
             ],
             [
              0.8888888888888888,
              "#fdca26"
             ],
             [
              1,
              "#f0f921"
             ]
            ],
            "type": "surface"
           }
          ],
          "table": [
           {
            "cells": {
             "fill": {
              "color": "#EBF0F8"
             },
             "line": {
              "color": "white"
             }
            },
            "header": {
             "fill": {
              "color": "#C8D4E3"
             },
             "line": {
              "color": "white"
             }
            },
            "type": "table"
           }
          ]
         },
         "layout": {
          "annotationdefaults": {
           "arrowcolor": "#2a3f5f",
           "arrowhead": 0,
           "arrowwidth": 1
          },
          "autotypenumbers": "strict",
          "coloraxis": {
           "colorbar": {
            "outlinewidth": 0,
            "ticks": ""
           }
          },
          "colorscale": {
           "diverging": [
            [
             0,
             "#8e0152"
            ],
            [
             0.1,
             "#c51b7d"
            ],
            [
             0.2,
             "#de77ae"
            ],
            [
             0.3,
             "#f1b6da"
            ],
            [
             0.4,
             "#fde0ef"
            ],
            [
             0.5,
             "#f7f7f7"
            ],
            [
             0.6,
             "#e6f5d0"
            ],
            [
             0.7,
             "#b8e186"
            ],
            [
             0.8,
             "#7fbc41"
            ],
            [
             0.9,
             "#4d9221"
            ],
            [
             1,
             "#276419"
            ]
           ],
           "sequential": [
            [
             0,
             "#0d0887"
            ],
            [
             0.1111111111111111,
             "#46039f"
            ],
            [
             0.2222222222222222,
             "#7201a8"
            ],
            [
             0.3333333333333333,
             "#9c179e"
            ],
            [
             0.4444444444444444,
             "#bd3786"
            ],
            [
             0.5555555555555556,
             "#d8576b"
            ],
            [
             0.6666666666666666,
             "#ed7953"
            ],
            [
             0.7777777777777778,
             "#fb9f3a"
            ],
            [
             0.8888888888888888,
             "#fdca26"
            ],
            [
             1,
             "#f0f921"
            ]
           ],
           "sequentialminus": [
            [
             0,
             "#0d0887"
            ],
            [
             0.1111111111111111,
             "#46039f"
            ],
            [
             0.2222222222222222,
             "#7201a8"
            ],
            [
             0.3333333333333333,
             "#9c179e"
            ],
            [
             0.4444444444444444,
             "#bd3786"
            ],
            [
             0.5555555555555556,
             "#d8576b"
            ],
            [
             0.6666666666666666,
             "#ed7953"
            ],
            [
             0.7777777777777778,
             "#fb9f3a"
            ],
            [
             0.8888888888888888,
             "#fdca26"
            ],
            [
             1,
             "#f0f921"
            ]
           ]
          },
          "colorway": [
           "#636efa",
           "#EF553B",
           "#00cc96",
           "#ab63fa",
           "#FFA15A",
           "#19d3f3",
           "#FF6692",
           "#B6E880",
           "#FF97FF",
           "#FECB52"
          ],
          "font": {
           "color": "#2a3f5f"
          },
          "geo": {
           "bgcolor": "white",
           "lakecolor": "white",
           "landcolor": "#E5ECF6",
           "showlakes": true,
           "showland": true,
           "subunitcolor": "white"
          },
          "hoverlabel": {
           "align": "left"
          },
          "hovermode": "closest",
          "mapbox": {
           "style": "light"
          },
          "paper_bgcolor": "white",
          "plot_bgcolor": "#E5ECF6",
          "polar": {
           "angularaxis": {
            "gridcolor": "white",
            "linecolor": "white",
            "ticks": ""
           },
           "bgcolor": "#E5ECF6",
           "radialaxis": {
            "gridcolor": "white",
            "linecolor": "white",
            "ticks": ""
           }
          },
          "scene": {
           "xaxis": {
            "backgroundcolor": "#E5ECF6",
            "gridcolor": "white",
            "gridwidth": 2,
            "linecolor": "white",
            "showbackground": true,
            "ticks": "",
            "zerolinecolor": "white"
           },
           "yaxis": {
            "backgroundcolor": "#E5ECF6",
            "gridcolor": "white",
            "gridwidth": 2,
            "linecolor": "white",
            "showbackground": true,
            "ticks": "",
            "zerolinecolor": "white"
           },
           "zaxis": {
            "backgroundcolor": "#E5ECF6",
            "gridcolor": "white",
            "gridwidth": 2,
            "linecolor": "white",
            "showbackground": true,
            "ticks": "",
            "zerolinecolor": "white"
           }
          },
          "shapedefaults": {
           "line": {
            "color": "#2a3f5f"
           }
          },
          "ternary": {
           "aaxis": {
            "gridcolor": "white",
            "linecolor": "white",
            "ticks": ""
           },
           "baxis": {
            "gridcolor": "white",
            "linecolor": "white",
            "ticks": ""
           },
           "bgcolor": "#E5ECF6",
           "caxis": {
            "gridcolor": "white",
            "linecolor": "white",
            "ticks": ""
           }
          },
          "title": {
           "x": 0.05
          },
          "xaxis": {
           "automargin": true,
           "gridcolor": "white",
           "linecolor": "white",
           "ticks": "",
           "title": {
            "standoff": 15
           },
           "zerolinecolor": "white",
           "zerolinewidth": 2
          },
          "yaxis": {
           "automargin": true,
           "gridcolor": "white",
           "linecolor": "white",
           "ticks": "",
           "title": {
            "standoff": 15
           },
           "zerolinecolor": "white",
           "zerolinewidth": 2
          }
         }
        },
        "title": {
         "font": {
          "color": "#4D5663"
         },
         "text": "Keywords Counts in 2018"
        },
        "xaxis": {
         "gridcolor": "#E1E5ED",
         "showgrid": true,
         "tickfont": {
          "color": "#4D5663"
         },
         "title": {
          "font": {
           "color": "#4D5663"
          },
          "text": "Keywords"
         },
         "zerolinecolor": "#E1E5ED"
        },
        "yaxis": {
         "gridcolor": "#E1E5ED",
         "showgrid": true,
         "tickfont": {
          "color": "#4D5663"
         },
         "title": {
          "font": {
           "color": "#4D5663"
          },
          "text": "Count"
         },
         "zerolinecolor": "#E1E5ED"
        }
       }
      },
      "text/html": [
       "<div>                            <div id=\"a0f263a9-a395-432d-9e22-59036bea7dc3\" class=\"plotly-graph-div\" style=\"height:525px; width:100%;\"></div>            <script type=\"text/javascript\">                require([\"plotly\"], function(Plotly) {                    window.PLOTLYENV=window.PLOTLYENV || {};\n",
       "                    window.PLOTLYENV.BASE_URL='https://plot.ly';                                    if (document.getElementById(\"a0f263a9-a395-432d-9e22-59036bea7dc3\")) {                    Plotly.newPlot(                        \"a0f263a9-a395-432d-9e22-59036bea7dc3\",                        [{\"marker\":{\"color\":\"rgba(255, 153, 51, 0.6)\",\"line\":{\"color\":\"rgba(255, 153, 51, 1.0)\",\"width\":1}},\"name\":\"Count\",\"orientation\":\"v\",\"text\":\"\",\"x\":[\"thailand\",\"hadron-hadron scattering (experiments)\",\"inflammation\",\"cms\",\"physics\",\"beyond standard model\",\"depression\",\"hiv\",\"meta-analysis\",\"cytotoxicity\",\"cytokines\",\"children\",\"myanmar\",\"chitosan\",\"higgs physics\",\"dog\",\"oxidative stress\",\"immune\",\"supersymmetry\",\"adsorption\",\"quality of life\",\"penaeus monodon\",\"poly(lactic acid)\",\"elderly\",\"apoptosis\",\"asia\"],\"y\":[108,58,29,27,25,22,21,20,17,17,15,15,15,14,14,14,14,13,13,12,12,11,11,11,11,11],\"type\":\"bar\"}],                        {\"legend\":{\"bgcolor\":\"#F5F6F9\",\"font\":{\"color\":\"#4D5663\"}},\"paper_bgcolor\":\"#F5F6F9\",\"plot_bgcolor\":\"#F5F6F9\",\"template\":{\"data\":{\"barpolar\":[{\"marker\":{\"line\":{\"color\":\"#E5ECF6\",\"width\":0.5},\"pattern\":{\"fillmode\":\"overlay\",\"size\":10,\"solidity\":0.2}},\"type\":\"barpolar\"}],\"bar\":[{\"error_x\":{\"color\":\"#2a3f5f\"},\"error_y\":{\"color\":\"#2a3f5f\"},\"marker\":{\"line\":{\"color\":\"#E5ECF6\",\"width\":0.5},\"pattern\":{\"fillmode\":\"overlay\",\"size\":10,\"solidity\":0.2}},\"type\":\"bar\"}],\"carpet\":[{\"aaxis\":{\"endlinecolor\":\"#2a3f5f\",\"gridcolor\":\"white\",\"linecolor\":\"white\",\"minorgridcolor\":\"white\",\"startlinecolor\":\"#2a3f5f\"},\"baxis\":{\"endlinecolor\":\"#2a3f5f\",\"gridcolor\":\"white\",\"linecolor\":\"white\",\"minorgridcolor\":\"white\",\"startlinecolor\":\"#2a3f5f\"},\"type\":\"carpet\"}],\"choropleth\":[{\"colorbar\":{\"outlinewidth\":0,\"ticks\":\"\"},\"type\":\"choropleth\"}],\"contourcarpet\":[{\"colorbar\":{\"outlinewidth\":0,\"ticks\":\"\"},\"type\":\"contourcarpet\"}],\"contour\":[{\"colorbar\":{\"outlinewidth\":0,\"ticks\":\"\"},\"colorscale\":[[0.0,\"#0d0887\"],[0.1111111111111111,\"#46039f\"],[0.2222222222222222,\"#7201a8\"],[0.3333333333333333,\"#9c179e\"],[0.4444444444444444,\"#bd3786\"],[0.5555555555555556,\"#d8576b\"],[0.6666666666666666,\"#ed7953\"],[0.7777777777777778,\"#fb9f3a\"],[0.8888888888888888,\"#fdca26\"],[1.0,\"#f0f921\"]],\"type\":\"contour\"}],\"heatmapgl\":[{\"colorbar\":{\"outlinewidth\":0,\"ticks\":\"\"},\"colorscale\":[[0.0,\"#0d0887\"],[0.1111111111111111,\"#46039f\"],[0.2222222222222222,\"#7201a8\"],[0.3333333333333333,\"#9c179e\"],[0.4444444444444444,\"#bd3786\"],[0.5555555555555556,\"#d8576b\"],[0.6666666666666666,\"#ed7953\"],[0.7777777777777778,\"#fb9f3a\"],[0.8888888888888888,\"#fdca26\"],[1.0,\"#f0f921\"]],\"type\":\"heatmapgl\"}],\"heatmap\":[{\"colorbar\":{\"outlinewidth\":0,\"ticks\":\"\"},\"colorscale\":[[0.0,\"#0d0887\"],[0.1111111111111111,\"#46039f\"],[0.2222222222222222,\"#7201a8\"],[0.3333333333333333,\"#9c179e\"],[0.4444444444444444,\"#bd3786\"],[0.5555555555555556,\"#d8576b\"],[0.6666666666666666,\"#ed7953\"],[0.7777777777777778,\"#fb9f3a\"],[0.8888888888888888,\"#fdca26\"],[1.0,\"#f0f921\"]],\"type\":\"heatmap\"}],\"histogram2dcontour\":[{\"colorbar\":{\"outlinewidth\":0,\"ticks\":\"\"},\"colorscale\":[[0.0,\"#0d0887\"],[0.1111111111111111,\"#46039f\"],[0.2222222222222222,\"#7201a8\"],[0.3333333333333333,\"#9c179e\"],[0.4444444444444444,\"#bd3786\"],[0.5555555555555556,\"#d8576b\"],[0.6666666666666666,\"#ed7953\"],[0.7777777777777778,\"#fb9f3a\"],[0.8888888888888888,\"#fdca26\"],[1.0,\"#f0f921\"]],\"type\":\"histogram2dcontour\"}],\"histogram2d\":[{\"colorbar\":{\"outlinewidth\":0,\"ticks\":\"\"},\"colorscale\":[[0.0,\"#0d0887\"],[0.1111111111111111,\"#46039f\"],[0.2222222222222222,\"#7201a8\"],[0.3333333333333333,\"#9c179e\"],[0.4444444444444444,\"#bd3786\"],[0.5555555555555556,\"#d8576b\"],[0.6666666666666666,\"#ed7953\"],[0.7777777777777778,\"#fb9f3a\"],[0.8888888888888888,\"#fdca26\"],[1.0,\"#f0f921\"]],\"type\":\"histogram2d\"}],\"histogram\":[{\"marker\":{\"pattern\":{\"fillmode\":\"overlay\",\"size\":10,\"solidity\":0.2}},\"type\":\"histogram\"}],\"mesh3d\":[{\"colorbar\":{\"outlinewidth\":0,\"ticks\":\"\"},\"type\":\"mesh3d\"}],\"parcoords\":[{\"line\":{\"colorbar\":{\"outlinewidth\":0,\"ticks\":\"\"}},\"type\":\"parcoords\"}],\"pie\":[{\"automargin\":true,\"type\":\"pie\"}],\"scatter3d\":[{\"line\":{\"colorbar\":{\"outlinewidth\":0,\"ticks\":\"\"}},\"marker\":{\"colorbar\":{\"outlinewidth\":0,\"ticks\":\"\"}},\"type\":\"scatter3d\"}],\"scattercarpet\":[{\"marker\":{\"colorbar\":{\"outlinewidth\":0,\"ticks\":\"\"}},\"type\":\"scattercarpet\"}],\"scattergeo\":[{\"marker\":{\"colorbar\":{\"outlinewidth\":0,\"ticks\":\"\"}},\"type\":\"scattergeo\"}],\"scattergl\":[{\"marker\":{\"colorbar\":{\"outlinewidth\":0,\"ticks\":\"\"}},\"type\":\"scattergl\"}],\"scattermapbox\":[{\"marker\":{\"colorbar\":{\"outlinewidth\":0,\"ticks\":\"\"}},\"type\":\"scattermapbox\"}],\"scatterpolargl\":[{\"marker\":{\"colorbar\":{\"outlinewidth\":0,\"ticks\":\"\"}},\"type\":\"scatterpolargl\"}],\"scatterpolar\":[{\"marker\":{\"colorbar\":{\"outlinewidth\":0,\"ticks\":\"\"}},\"type\":\"scatterpolar\"}],\"scatter\":[{\"fillpattern\":{\"fillmode\":\"overlay\",\"size\":10,\"solidity\":0.2},\"type\":\"scatter\"}],\"scatterternary\":[{\"marker\":{\"colorbar\":{\"outlinewidth\":0,\"ticks\":\"\"}},\"type\":\"scatterternary\"}],\"surface\":[{\"colorbar\":{\"outlinewidth\":0,\"ticks\":\"\"},\"colorscale\":[[0.0,\"#0d0887\"],[0.1111111111111111,\"#46039f\"],[0.2222222222222222,\"#7201a8\"],[0.3333333333333333,\"#9c179e\"],[0.4444444444444444,\"#bd3786\"],[0.5555555555555556,\"#d8576b\"],[0.6666666666666666,\"#ed7953\"],[0.7777777777777778,\"#fb9f3a\"],[0.8888888888888888,\"#fdca26\"],[1.0,\"#f0f921\"]],\"type\":\"surface\"}],\"table\":[{\"cells\":{\"fill\":{\"color\":\"#EBF0F8\"},\"line\":{\"color\":\"white\"}},\"header\":{\"fill\":{\"color\":\"#C8D4E3\"},\"line\":{\"color\":\"white\"}},\"type\":\"table\"}]},\"layout\":{\"annotationdefaults\":{\"arrowcolor\":\"#2a3f5f\",\"arrowhead\":0,\"arrowwidth\":1},\"autotypenumbers\":\"strict\",\"coloraxis\":{\"colorbar\":{\"outlinewidth\":0,\"ticks\":\"\"}},\"colorscale\":{\"diverging\":[[0,\"#8e0152\"],[0.1,\"#c51b7d\"],[0.2,\"#de77ae\"],[0.3,\"#f1b6da\"],[0.4,\"#fde0ef\"],[0.5,\"#f7f7f7\"],[0.6,\"#e6f5d0\"],[0.7,\"#b8e186\"],[0.8,\"#7fbc41\"],[0.9,\"#4d9221\"],[1,\"#276419\"]],\"sequential\":[[0.0,\"#0d0887\"],[0.1111111111111111,\"#46039f\"],[0.2222222222222222,\"#7201a8\"],[0.3333333333333333,\"#9c179e\"],[0.4444444444444444,\"#bd3786\"],[0.5555555555555556,\"#d8576b\"],[0.6666666666666666,\"#ed7953\"],[0.7777777777777778,\"#fb9f3a\"],[0.8888888888888888,\"#fdca26\"],[1.0,\"#f0f921\"]],\"sequentialminus\":[[0.0,\"#0d0887\"],[0.1111111111111111,\"#46039f\"],[0.2222222222222222,\"#7201a8\"],[0.3333333333333333,\"#9c179e\"],[0.4444444444444444,\"#bd3786\"],[0.5555555555555556,\"#d8576b\"],[0.6666666666666666,\"#ed7953\"],[0.7777777777777778,\"#fb9f3a\"],[0.8888888888888888,\"#fdca26\"],[1.0,\"#f0f921\"]]},\"colorway\":[\"#636efa\",\"#EF553B\",\"#00cc96\",\"#ab63fa\",\"#FFA15A\",\"#19d3f3\",\"#FF6692\",\"#B6E880\",\"#FF97FF\",\"#FECB52\"],\"font\":{\"color\":\"#2a3f5f\"},\"geo\":{\"bgcolor\":\"white\",\"lakecolor\":\"white\",\"landcolor\":\"#E5ECF6\",\"showlakes\":true,\"showland\":true,\"subunitcolor\":\"white\"},\"hoverlabel\":{\"align\":\"left\"},\"hovermode\":\"closest\",\"mapbox\":{\"style\":\"light\"},\"paper_bgcolor\":\"white\",\"plot_bgcolor\":\"#E5ECF6\",\"polar\":{\"angularaxis\":{\"gridcolor\":\"white\",\"linecolor\":\"white\",\"ticks\":\"\"},\"bgcolor\":\"#E5ECF6\",\"radialaxis\":{\"gridcolor\":\"white\",\"linecolor\":\"white\",\"ticks\":\"\"}},\"scene\":{\"xaxis\":{\"backgroundcolor\":\"#E5ECF6\",\"gridcolor\":\"white\",\"gridwidth\":2,\"linecolor\":\"white\",\"showbackground\":true,\"ticks\":\"\",\"zerolinecolor\":\"white\"},\"yaxis\":{\"backgroundcolor\":\"#E5ECF6\",\"gridcolor\":\"white\",\"gridwidth\":2,\"linecolor\":\"white\",\"showbackground\":true,\"ticks\":\"\",\"zerolinecolor\":\"white\"},\"zaxis\":{\"backgroundcolor\":\"#E5ECF6\",\"gridcolor\":\"white\",\"gridwidth\":2,\"linecolor\":\"white\",\"showbackground\":true,\"ticks\":\"\",\"zerolinecolor\":\"white\"}},\"shapedefaults\":{\"line\":{\"color\":\"#2a3f5f\"}},\"ternary\":{\"aaxis\":{\"gridcolor\":\"white\",\"linecolor\":\"white\",\"ticks\":\"\"},\"baxis\":{\"gridcolor\":\"white\",\"linecolor\":\"white\",\"ticks\":\"\"},\"bgcolor\":\"#E5ECF6\",\"caxis\":{\"gridcolor\":\"white\",\"linecolor\":\"white\",\"ticks\":\"\"}},\"title\":{\"x\":0.05},\"xaxis\":{\"automargin\":true,\"gridcolor\":\"white\",\"linecolor\":\"white\",\"ticks\":\"\",\"title\":{\"standoff\":15},\"zerolinecolor\":\"white\",\"zerolinewidth\":2},\"yaxis\":{\"automargin\":true,\"gridcolor\":\"white\",\"linecolor\":\"white\",\"ticks\":\"\",\"title\":{\"standoff\":15},\"zerolinecolor\":\"white\",\"zerolinewidth\":2}}},\"title\":{\"font\":{\"color\":\"#4D5663\"},\"text\":\"Keywords Counts in 2018\"},\"xaxis\":{\"gridcolor\":\"#E1E5ED\",\"showgrid\":true,\"tickfont\":{\"color\":\"#4D5663\"},\"title\":{\"font\":{\"color\":\"#4D5663\"},\"text\":\"Keywords\"},\"zerolinecolor\":\"#E1E5ED\"},\"yaxis\":{\"gridcolor\":\"#E1E5ED\",\"showgrid\":true,\"tickfont\":{\"color\":\"#4D5663\"},\"title\":{\"font\":{\"color\":\"#4D5663\"},\"text\":\"Count\"},\"zerolinecolor\":\"#E1E5ED\"}},                        {\"showLink\": true, \"linkText\": \"Export to plot.ly\", \"plotlyServerURL\": \"https://plot.ly\", \"responsive\": true}                    ).then(function(){\n",
       "                            \n",
       "var gd = document.getElementById('a0f263a9-a395-432d-9e22-59036bea7dc3');\n",
       "var x = new MutationObserver(function (mutations, observer) {{\n",
       "        var display = window.getComputedStyle(gd).display;\n",
       "        if (!display || display === 'none') {{\n",
       "            console.log([gd, 'removed!']);\n",
       "            Plotly.purge(gd);\n",
       "            observer.disconnect();\n",
       "        }}\n",
       "}});\n",
       "\n",
       "// Listen for the removal of the full notebook cells\n",
       "var notebookContainer = gd.closest('#notebook-container');\n",
       "if (notebookContainer) {{\n",
       "    x.observe(notebookContainer, {childList: true});\n",
       "}}\n",
       "\n",
       "// Listen for the clearing of the current output cell\n",
       "var outputEl = gd.closest('.output');\n",
       "if (outputEl) {{\n",
       "    x.observe(outputEl, {childList: true});\n",
       "}}\n",
       "\n",
       "                        })                };                });            </script>        </div>"
      ]
     },
     "metadata": {},
     "output_type": "display_data"
    }
   ],
   "source": [
    "import cufflinks as cf\n",
    "cf.go_offline()\n",
    "cf.set_config_file(offline=False, world_readable=True)\n",
    "\n",
    "keywords_counts_result.iplot(kind='bar', x='Keywords', y='Count', xTitle='Keywords', yTitle='Count', title='Keywords Counts in 2018')\n"
   ]
  },
  {
   "cell_type": "code",
   "execution_count": 20,
   "metadata": {},
   "outputs": [],
   "source": [
    "keywords_counts_result.rename(columns={'Count': '2018_Count'}, inplace=True)\n",
    "keywords_counts_result.to_csv('ExtractedData/2018_keywords_counts.csv', index=False)"
   ]
  }
 ],
 "metadata": {
  "kernelspec": {
   "display_name": "base",
   "language": "python",
   "name": "python3"
  },
  "language_info": {
   "codemirror_mode": {
    "name": "ipython",
    "version": 3
   },
   "file_extension": ".py",
   "mimetype": "text/x-python",
   "name": "python",
   "nbconvert_exporter": "python",
   "pygments_lexer": "ipython3",
   "version": "3.11.5"
  }
 },
 "nbformat": 4,
 "nbformat_minor": 2
}
